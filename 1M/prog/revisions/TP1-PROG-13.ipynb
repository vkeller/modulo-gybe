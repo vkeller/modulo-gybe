{
 "cells": [
  {
   "cell_type": "markdown",
   "id": "2424abe0-c64c-463f-b4b0-4bb00cce4bae",
   "metadata": {},
   "source": [
    "![logo](images/logo-beaulieu.jpg)\n",
    "\n",
    "# TP1-PROG-13 : TP supplémentaire prog 1M"
   ]
  },
  {
   "cell_type": "markdown",
   "id": "91011b3a-e79e-453b-94ad-f2aff3751497",
   "metadata": {},
   "source": [
    "## Objectifs pédagogiques\n",
    "\n",
    "- Créer des petits programmes Python à partir d'algorigrammes en utilisant les constructions \n",
    "    - boucles `for` et `while`\n",
    "    - tests conditionnels\n",
    "    - variables (types)\n",
    "- Construire un algorigramme à partir d'un code Python donné"
   ]
  },
  {
   "cell_type": "markdown",
   "id": "5f4eff8b-5e74-42f2-b3cb-193576c215f9",
   "metadata": {},
   "source": [
    "## Exercice 1 : de l'algorigramme au code Python\n",
    "\n",
    "1. Lire et comprendre l'algorigramme\n",
    "1. Coder l'algorigramme en Python\n",
    "1. Répondre aux questions de l'enseignant\n",
    "\n",
    "![prix-promo](images/prix-promo.png)"
   ]
  },
  {
   "cell_type": "markdown",
   "id": "c9afa12e-0df6-4e32-a6f4-eec61a5ba7b7",
   "metadata": {},
   "source": [
    "## Exercice 2 : du code Python à l'algorigramme\n",
    "\n",
    "1. Lire et comprendre le code Python fourni\n",
    "1. Dessiner l'algorigramme correspondant\n",
    "1. Répondre aux questions de l'enseignant"
   ]
  },
  {
   "cell_type": "code",
   "execution_count": 1,
   "id": "fea979d6-4c11-4980-b0fc-f557a7b402e7",
   "metadata": {},
   "outputs": [
    {
     "name": "stdout",
     "output_type": "stream",
     "text": [
      "Il y a 4 nombres négatifs\n",
      "Il y a 1 zéros\n",
      "Il y a 5 nombres positifs\n"
     ]
    }
   ],
   "source": [
    "nombres = [10, -5, 3, -1, 20, -8, 7, 0, -12, 15]\n",
    "positifs = []\n",
    "negatifs = []\n",
    "neutres = []\n",
    "\n",
    "for i in range(len(nombres)):\n",
    "    nombre = nombres[i]\n",
    "    if nombre > 0:\n",
    "        positifs.append(nombre)\n",
    "    elif nombre < 0 :\n",
    "        negatifs.append(nombre)\n",
    "    else :\n",
    "        neutres.append(nombre)\n",
    "\n",
    "print(\"Il y a\", len(negatifs),\"nombres négatifs\")\n",
    "print(\"Il y a\", len(neutres),\"zéros\")\n",
    "print(\"Il y a\", len(positifs),\"nombres positifs\")"
   ]
  },
  {
   "cell_type": "markdown",
   "id": "427eb3e5-8530-4f6b-9b36-8eb8204e73a8",
   "metadata": {},
   "source": [
    "## Exercice 3 (pour aller plus loin) : Problème à résoudre\n",
    "\n",
    "Construire un algorithme qui permet de calculer le bilan carbone d'un transport:\n",
    "\n",
    "1. **Entrées** : \n",
    "    1. un **moyen de transport** (variable `moyen`) à choisir dans une liste sous la forme d'une chaîne de caractères ( `[\"vélo\",\"train\",\"pieds\",\"voiture\",\"camion\",\"avion\",\"bus\",\"cycle\"]`\n",
    "    1. le **nombre de kilomètres** (variable `km`) à parcourir\n",
    "1. **Sortie**`: une liste des moyens de transports plus écologiques que celui choisi par l'utilisateur.\n",
    "1. Est considéré comme moyen de transport écologique :\n",
    "    - `pieds` ou `marche` (0 gramme de $CO_{2}$ par kilomètre\n",
    "    - `vélo` ou `cycle` (0 gramme de $CO_{2}$ par kilomètre\n",
    "    - `train` (7 gramme de $CO_{2}$ par kilomètre\n",
    "1. Est considéré comme moyen de transport peu écologique :\n",
    "    - `bus`  (70 gramme de $CO_{2}$ par kilomètre\n",
    "1. Est considéré comme moyen de transport pas du tout écologique :\n",
    "    - `avion`  (140 gramme de $CO_{2}$ par kilomètre\n",
    "    - `voiture`  (160 gramme de $CO_{2}$ par kilomètre\n",
    "    - `camion`  (200 gramme de $CO_{2}$ par kilomètre\n",
    "1. Calculer le bilan carbone du transport choisi et le comparer avec tous les autres.\n",
    "\n",
    "**Consigne**\n",
    "\n",
    "- Dessiner l'algorigramme correspondant\n",
    "- Programmer en Python"
   ]
  },
  {
   "cell_type": "code",
   "execution_count": null,
   "id": "024a71fb-4b34-4bfe-94b4-9ffdb3132bf8",
   "metadata": {},
   "outputs": [],
   "source": []
  }
 ],
 "metadata": {
  "kernelspec": {
   "display_name": "Python 3 (ipykernel)",
   "language": "python",
   "name": "python3"
  },
  "language_info": {
   "codemirror_mode": {
    "name": "ipython",
    "version": 3
   },
   "file_extension": ".py",
   "mimetype": "text/x-python",
   "name": "python",
   "nbconvert_exporter": "python",
   "pygments_lexer": "ipython3",
   "version": "3.9.2"
  }
 },
 "nbformat": 4,
 "nbformat_minor": 5
}
