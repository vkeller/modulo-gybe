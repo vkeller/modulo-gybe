{
 "cells": [
  {
   "cell_type": "markdown",
   "id": "613248b6",
   "metadata": {},
   "source": [
    "![fonctions](fonction.png \"Une fonction\")\n",
    "\n",
    "# TP1-PROG-02 - Introduction : les fonctions"
   ]
  },
  {
   "cell_type": "markdown",
   "id": "103270ec",
   "metadata": {},
   "source": [
    "**Objectifs** : introduire le concept de fonction. Ecrire sa première fonction. "
   ]
  },
  {
   "cell_type": "markdown",
   "id": "81fe89df",
   "metadata": {},
   "source": [
    "Peut-être avez-vous remarqué que nous avons plusieurs fois effectué des opérations très proches et qui variaient peu :\n",
    "\n",
    "1. dessiner un carré\n",
    "1. dessiner un carré rouge/vert/bleu\n",
    "1. dessiner un carré rouge/vert/bleu de 100/200/300 de côté\n",
    "1. dessiner un carré rouge/vert/bleu de 100/200/300 de côté et d’épaisseur 3/4/5 pixels\n",
    "\n",
    "Peut-on s’économiser du temps (et de l’argent) ? Parce qu’un carré, c’est toujours 4 côtés de longueur identique à angle droit. La couleur, la longueur, l’épaisseur, ne sont que des caractéristiques de la même forme. \n",
    "\n",
    "La réponse est **OUI**. Cela s’appelle **une fonction**. "
   ]
  },
  {
   "cell_type": "markdown",
   "id": "b9e2106d",
   "metadata": {},
   "source": [
    "## Fonction\n",
    "\n",
    "Les fonctions sont très utiles pour réaliser plusieurs fois les mêmes opérations au sein d'un programme informatique. Elles rendent également le code plus lisible et plus clair en le fractionnant en blocs logiques (modules)."
   ]
  },
  {
   "cell_type": "markdown",
   "id": "465cb1d1",
   "metadata": {},
   "source": [
    "### Définition\n",
    "\n",
    "Pour définir une fonction, il s'agit de respecter la signature suivante. On commence par le mot-clef `def` suivi du nom de la fonction (sans accents) puis de deux points `:`. Le contenu de la fonction (les opérations qui seront répétées) doivent **impérativement** être écrites avec une indentation sur **la droite**.\n",
    "\n",
    "Par exemple :\n",
    "\n",
    "```\n",
    "def nomDeLaFonction(arg):\n",
    "   operation1\n",
    "   operation2\n",
    "   etc..\n",
    "```"
   ]
  },
  {
   "cell_type": "markdown",
   "id": "d1a1a9bc",
   "metadata": {},
   "source": [
    "### Fonction sans argument \n",
    "\n",
    "Une fonction sans argument qui écrit `Bonjour` a la forme suivante :"
   ]
  },
  {
   "cell_type": "code",
   "execution_count": 18,
   "id": "8e962923",
   "metadata": {},
   "outputs": [],
   "source": [
    "def hello():\n",
    "    print(\"Bonjour !\")"
   ]
  },
  {
   "cell_type": "markdown",
   "id": "759e70b1",
   "metadata": {},
   "source": [
    "Que l'on peut appeler dans le **programme principal**"
   ]
  },
  {
   "cell_type": "code",
   "execution_count": 19,
   "id": "f6266539",
   "metadata": {},
   "outputs": [
    {
     "name": "stdout",
     "output_type": "stream",
     "text": [
      "Bonjour !\n"
     ]
    }
   ],
   "source": [
    "hello()"
   ]
  },
  {
   "cell_type": "markdown",
   "id": "3948d64b",
   "metadata": {},
   "source": [
    "On peut l'appeler plusieurs fois dans le programme principal"
   ]
  },
  {
   "cell_type": "code",
   "execution_count": 20,
   "id": "d67aee80",
   "metadata": {},
   "outputs": [
    {
     "name": "stdout",
     "output_type": "stream",
     "text": [
      "Bonjour !\n",
      "Bonjour !\n",
      "Bonjour !\n"
     ]
    }
   ],
   "source": [
    "hello()\n",
    "hello()\n",
    "hello()"
   ]
  },
  {
   "cell_type": "markdown",
   "id": "c8386201",
   "metadata": {},
   "source": [
    "### Fonction avec argument\n",
    "\n",
    "Une fonction peut avoir un ou des arguments séparés par une virgule `,`. Ces arguments peuvent ensuite être utilisés dans les opérations effectuées dans le corps de la fonction.\n",
    "\n",
    "Par exemple une fonction qui élève un nombre `x` au cube a la forme suivante ;"
   ]
  },
  {
   "cell_type": "code",
   "execution_count": 21,
   "id": "51fc1c35",
   "metadata": {},
   "outputs": [],
   "source": [
    "def cube(x):\n",
    "    return x*x*x"
   ]
  },
  {
   "cell_type": "markdown",
   "id": "10984a9c",
   "metadata": {},
   "source": [
    "On peut ensuite appeler cette fonction dans le **programme principal**"
   ]
  },
  {
   "cell_type": "code",
   "execution_count": 22,
   "id": "94ca8c56",
   "metadata": {
    "scrolled": true
   },
   "outputs": [
    {
     "name": "stdout",
     "output_type": "stream",
     "text": [
      "64\n"
     ]
    }
   ],
   "source": [
    "print(cube(4))"
   ]
  },
  {
   "cell_type": "markdown",
   "id": "87cb5494",
   "metadata": {},
   "source": [
    "## Dessiner des carrés avec la tortue\n",
    "\n",
    "Dans l’exemple du carré, nous avons 3 caractéristiques :\n",
    "\n",
    "- la couleur\n",
    "- la longueur d’un côté\n",
    "- l’épaisseur du trait\n",
    "\n",
    "Une fonction qui dessine un carré s'écrit :"
   ]
  },
  {
   "cell_type": "code",
   "execution_count": 23,
   "id": "1ccedc42",
   "metadata": {},
   "outputs": [],
   "source": [
    "from turtle import *"
   ]
  },
  {
   "cell_type": "code",
   "execution_count": 26,
   "id": "e24989ac",
   "metadata": {},
   "outputs": [],
   "source": [
    "def carre():\n",
    "    t.pencolor('red')\n",
    "    t.pensize(3)\n",
    "    t.forward(100)\n",
    "    t.left(90)\n",
    "    t.forward(100)\n",
    "    t.left(90)\n",
    "    t.forward(100)\n",
    "    t.left(90)\n",
    "    t.forward(100)\n",
    "    t.left(90)    "
   ]
  },
  {
   "cell_type": "markdown",
   "id": "2ad7c363",
   "metadata": {},
   "source": [
    "que l'on appelle dans le programme principal :"
   ]
  },
  {
   "cell_type": "code",
   "execution_count": 27,
   "id": "66709653",
   "metadata": {},
   "outputs": [],
   "source": [
    "t = Turtle()\n",
    "carre()"
   ]
  },
  {
   "cell_type": "markdown",
   "id": "353797b9",
   "metadata": {},
   "source": [
    "Pour changer la taille, la couleur et l'épaisseur du trait on peut passer les paramètres en argument de la fonction :"
   ]
  },
  {
   "cell_type": "code",
   "execution_count": 28,
   "id": "96ab872b",
   "metadata": {},
   "outputs": [],
   "source": [
    "def carre2(longueur, couleur, epaisseur) :\n",
    "    t.pencolor(couleur)\n",
    "    t.pensize(epaisseur)\n",
    "    t.forward(longueur)\n",
    "    t.left(90)\n",
    "    t.forward(longueur)\n",
    "    t.left(90)\n",
    "    t.forward(longueur)\n",
    "    t.left(90)\n",
    "    t.forward(longueur)\n",
    "    t.left(90)        "
   ]
  },
  {
   "cell_type": "markdown",
   "id": "1fd26071",
   "metadata": {},
   "source": [
    "que l'on appelle ensuite dans le programme principal :"
   ]
  },
  {
   "cell_type": "code",
   "execution_count": 29,
   "id": "926870fb",
   "metadata": {},
   "outputs": [],
   "source": [
    "carre2(150,'blue',4)"
   ]
  },
  {
   "cell_type": "markdown",
   "id": "c2e43511",
   "metadata": {},
   "source": [
    "## Exercice 1\n",
    "\n",
    "Ecrivez une fonction `losange` qui dessine un losange (angle de 60°) et qui prend les paramètres suivants :\n",
    "\n",
    "- la couleur\n",
    "- la longueur du côté du l\n"
   ]
  },
  {
   "cell_type": "markdown",
   "id": "09569e5d",
   "metadata": {},
   "source": [
    "## Exercice 2 (appel d'une fonction dans une fonction)\n",
    "\n",
    "A l'aide des fonctions `penup()` et `pendown()` qui permettent de lever et d'abaisser le crayon, écrivez une fonction qui dessine une maison.\n",
    "\n",
    "Il s'agit d'écrire trois fonctions :\n",
    "\n",
    "1. `triangle()` qui dessine le toit\n",
    "1. `carre()`qui dessine la maison\n",
    "1. `maison()` qui appelle les deux"
   ]
  }
 ],
 "metadata": {
  "kernelspec": {
   "display_name": "Python 3 (ipykernel)",
   "language": "python",
   "name": "python3"
  },
  "language_info": {
   "codemirror_mode": {
    "name": "ipython",
    "version": 3
   },
   "file_extension": ".py",
   "mimetype": "text/x-python",
   "name": "python",
   "nbconvert_exporter": "python",
   "pygments_lexer": "ipython3",
   "version": "3.9.2"
  }
 },
 "nbformat": 4,
 "nbformat_minor": 5
}
