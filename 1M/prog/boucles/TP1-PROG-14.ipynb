{
 "cells": [
  {
   "cell_type": "markdown",
   "id": "ca62e889",
   "metadata": {},
   "source": [
    "![rollercoaster](images/grandhuit.jpg \"Roller coaster\")\n",
    "\n",
    "# TP1-PROG-03 - La boucle `for`"
   ]
  },
  {
   "cell_type": "markdown",
   "id": "92a115ea-9073-4070-a895-c9018c27c916",
   "metadata": {},
   "source": [
    "## Objectifs\n",
    "\n",
    "- Introduction du concept de boucles dans un programme"
   ]
  },
  {
   "cell_type": "markdown",
   "id": "c9ccd14a",
   "metadata": {},
   "source": [
    "## Définition\n",
    "\n",
    "Lorsque nous devons répéter plusieurs fois la ou les mêmes opérations, il est utile de le dire à l’ordinateur. C’est le concept de boucle."
   ]
  },
  {
   "cell_type": "markdown",
   "id": "bf2d0aff",
   "metadata": {},
   "source": [
    "## Exemple : dessiner un triangle équilatéral\n",
    "\n",
    "Les instructions pour dessiner un triangle équilatéral sont :\n",
    "\n",
    "```\n",
    "t.forward(100)\n",
    "t.left(120)\n",
    "t.forward(100)\n",
    "t.left(120)\n",
    "t.forward(100)\n",
    "t.left(120)\n",
    "```"
   ]
  },
  {
   "cell_type": "markdown",
   "id": "2725fd47",
   "metadata": {},
   "source": [
    "On observe qu’on a 3 fois deux instructions identiques :\n",
    "\n",
    "```\n",
    "t.forward(100)\n",
    "t.left(120)\n",
    "```"
   ]
  },
  {
   "cell_type": "markdown",
   "id": "cb5b37cd",
   "metadata": {},
   "source": [
    "On peut transformer ces trois instructions identiques en une boucle qui les appelerait les trois à la suite :\n",
    "\n",
    "```\n",
    "pour i = 0, 1, 2 faire:\n",
    "   t.forward(100)\n",
    "   t.left(120)\n",
    "```\n",
    "\n",
    "En Python, une boucle s'écrit en utilisant le mot-clef `for`, suivi d'une variable nommée **itérateur**, par convention on la nomme `i`, puis des deux mot-clefs `in range(x)` où la valeur de `x` est la portée de l'intervalle.\n",
    "\n",
    "Ainsi les instructions pour dessiner un triangle deviennent :\n",
    "\n",
    "```\n",
    "for i in range(3):\n",
    "    t.forward(100)\n",
    "    t.left(120)\n",
    "```"
   ]
  },
  {
   "cell_type": "markdown",
   "id": "79949b88",
   "metadata": {},
   "source": [
    "## Exercice 1\n",
    "\n",
    "- Ecrivez des programmes qui utilisent une boucle `for` \n",
    "    - dessiner un carré de côté 100 et\n",
    "    - dessiner un pentagone de côté 100\n",
    "    - dessiner un losange de côté 100"
   ]
  },
  {
   "cell_type": "markdown",
   "id": "027c6acf",
   "metadata": {},
   "source": [
    "## Observation\n",
    "\n",
    "On observe que :\n",
    "\n",
    "- Triangle : 3 fois avancer et tourner de 120° (3 x 12° = 360°)\n",
    "- Carré : 4 fois avancer et tourner de 90° (4 x 90° = 360°)\n",
    "- Pentagone : 5 fois avancer et tourner de 72° (5 x 72° = 360°)\n",
    "\n",
    "Est-il possible de généraliser et dessiner n'importe quel polygone de côté 100 avec une boucle ?"
   ]
  },
  {
   "cell_type": "markdown",
   "id": "7138fe06",
   "metadata": {},
   "source": [
    "## Exercice 2\n",
    "\n",
    "Ecrivez un programme qui fixe le nombre de côté du polygone `cotes` et qui le dessine..\n",
    "\n",
    "**Hint** : utiliser une nouvelle **variable** qui contient le nombre de côtés du polygone. Par exemple : `cotes = 5` pour un pentagone, `cotes = 8`pour un octogone"
   ]
  },
  {
   "cell_type": "markdown",
   "id": "ba610f59-29ce-432d-a478-6b3e30665d1d",
   "metadata": {},
   "source": [
    "## Exercice 3\n",
    "\n",
    "Quelle est la forme géométrique de votre programme si le nombre de côtés est `100` (en réduisant la taille du côté du polygone à `2`) ? Testez !"
   ]
  },
  {
   "cell_type": "markdown",
   "id": "85bd0765-8517-4979-a2ed-384a6df06613",
   "metadata": {},
   "source": [
    "## Exercice 4\n",
    "\n",
    "Utilisez votre programme `polygone.py` pour dessiner les polygones de 3 (triangle) à 12 (dodécagone) côtés.\n",
    "\n",
    "**Hint** : observez les instructions qui se répètent et placez-les dans une boucle. La fonction `range` peut prendre deux arguments : la borne inférieure (par exemple `bi`) et la borne supérieure (par exemple `bs`) : `for i in range(bi,bs) :`"
   ]
  },
  {
   "cell_type": "code",
   "execution_count": null,
   "id": "29f06163-1ee3-44f0-a0b0-0436bf2ec7c6",
   "metadata": {},
   "outputs": [],
   "source": []
  }
 ],
 "metadata": {
  "kernelspec": {
   "display_name": "Python 3 (ipykernel)",
   "language": "python",
   "name": "python3"
  },
  "language_info": {
   "codemirror_mode": {
    "name": "ipython",
    "version": 3
   },
   "file_extension": ".py",
   "mimetype": "text/x-python",
   "name": "python",
   "nbconvert_exporter": "python",
   "pygments_lexer": "ipython3",
   "version": "3.9.2"
  }
 },
 "nbformat": 4,
 "nbformat_minor": 5
}
