{
 "cells": [
  {
   "cell_type": "markdown",
   "id": "7d78dfc8-4c6b-416e-b14b-3c974638f3fc",
   "metadata": {},
   "source": [
    "![if-then-else](age.jpg \"If ... then ... else\")\n",
    "\n",
    "# TP1-PROG-05-Turtle - Les tests conditionnels\n"
   ]
  },
  {
   "cell_type": "markdown",
   "id": "c0be75ce-df2d-4d32-bd58-f8f3dc38e3f2",
   "metadata": {},
   "source": [
    "## Instruction conditionnelle\n",
    "\n",
    "En programmation, on a parfois envie d'exécuter une instruction seulement sous une **certaine condition**. C'est ce que l'on appelle une **instruction conditionnelle**. \n",
    "\n",
    "Par exemple : on souhaite donner accès à une partie d'un site web seulement si l'internaute est âgé de 18 ans ou plus. \n",
    "\n",
    "la structure est la suivante : SI ... ALORS ... SINON\n",
    "\n",
    "En python :\n",
    "\n",
    "```\n",
    "if condition :\n",
    "   instruction1\n",
    "else:\n",
    "   instruction2\n",
    "```\n",
    "La condition est un test. Un test compare deux valeurs et retourne VRAI ou FAUX. Par exemple :\n",
    "\n",
    "- si la variable a est plus grand que 18 alors ...\n",
    "\n",
    "Que l'on traduit en Python par :\n",
    "\n",
    "```\n",
    "if a > 18 :\n",
    "```\n",
    "Attention à la notation, le mot en français \"ALORS\" se traduit par les deux points.\n",
    "\n",
    "**La condition est l'expression `a > 18`**\n",
    "\n",
    "Si un test est vrai, alors il existe son opposé qui est faux. Et vice-versa !\n",
    "\n",
    "- le test \"si la variable a est plus grand que 18\" est vrai, alors l'opposé est \"la variable a est plus petite ou égale à 18\"\n",
    "\n",
    "En python cela se traduit par le mot-clef `else`.\n",
    "\n",
    "```\n",
    "if a > 18:\n",
    "   instruction...\n",
    "else:\n",
    "   autre instruction\n",
    "```\n",
    "Il est possible d'imbriquer plusieurs tests\n",
    "\n",
    "**Et si notre tortue décidait quoi dessiner en fonction d'une condiation ?**"
   ]
  },
  {
   "cell_type": "markdown",
   "id": "def9b546-db1b-49bb-80db-f7e0a0a1062d",
   "metadata": {},
   "source": [
    "## Exercice 1 : Choisir la couleur de la tortue\n",
    "\n",
    "Ecrire un programme qui :\n",
    "\n",
    "1. Initiatlise une variable à une couleur. Par exemple `couleur = \"red\"`\n",
    "1. Dessine un triangle rouge si la couleur est `red`, en bleu si la couleur est `blue`\n",
    "\n",
    "Modifier le variable `couleur` est observer le résultat"
   ]
  },
  {
   "cell_type": "markdown",
   "id": "08bbdb88-946e-45d9-bf78-577ed1246aad",
   "metadata": {},
   "source": [
    "## Exercice 2 : Dessiner une forme\n",
    "\n",
    "Ecrire un programme qui\n",
    "\n",
    "1. Initialise une variable `forme` à une forme en français (par exemple `\"carré\"`\n",
    "1. Dessine la forme en utilisant une boucle\n",
    "\n",
    "Tester le programme avec différentes formes"
   ]
  },
  {
   "cell_type": "markdown",
   "id": "400b2c95-647e-4de5-9cb8-ac32df1b1cf5",
   "metadata": {},
   "source": [
    "## Exercice 3 : Taille de la forme\n",
    "\n",
    "Ecrire un programme qui : \n",
    "\n",
    "1. Intialise une variable `taille` à une certaine valeur (par exemple `50`)\n",
    "1. Dessine un triangle de côté `taille` si la taille est plus petite ou égale à 100, un carré de 150 de côté sinon\n",
    "\n",
    "Tester avec différentes valeurs de `taille`"
   ]
  },
  {
   "cell_type": "markdown",
   "id": "b3c9ca81-1f42-4c79-9041-936dcc1f6655",
   "metadata": {},
   "source": [
    "## Mini projet final\n",
    "\n",
    "Créer un programme qui :\n",
    "\n",
    "1. Définit une forme (carré, triangle, hexagone).\n",
    "1. Définit une taille (taille).\n",
    "1. Définit une couleur (rouge ou bleu).\n",
    "1. Dessine la forme avec la couleur et la taille définies.\n",
    "1. **Bonus** : si la taille > 150, la tortue dessine aussi un cercle autour."
   ]
  },
  {
   "cell_type": "code",
   "execution_count": null,
   "id": "713ab46e-b294-4aa4-97b4-4a681494be0f",
   "metadata": {},
   "outputs": [],
   "source": []
  }
 ],
 "metadata": {
  "kernelspec": {
   "display_name": "Python 3 (ipykernel)",
   "language": "python",
   "name": "python3"
  },
  "language_info": {
   "codemirror_mode": {
    "name": "ipython",
    "version": 3
   },
   "file_extension": ".py",
   "mimetype": "text/x-python",
   "name": "python",
   "nbconvert_exporter": "python",
   "pygments_lexer": "ipython3",
   "version": "3.11.2"
  }
 },
 "nbformat": 4,
 "nbformat_minor": 5
}
