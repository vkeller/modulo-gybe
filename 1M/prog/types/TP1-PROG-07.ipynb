{
 "cells": [
  {
   "cell_type": "markdown",
   "id": "afbd4fb2-101c-4c2b-87e4-904d55e68ae7",
   "metadata": {},
   "source": [
    "![datatypes](datatypes.png \"Types en Python\")\n",
    "\n",
    "# TP1-PROG-07 - Les variables en Python"
   ]
  },
  {
   "cell_type": "markdown",
   "id": "fe11e391-4547-4463-b905-43e76d3c9774",
   "metadata": {},
   "source": [
    "## Objectifs pédagogiques\n",
    "\n",
    "- comprendre la mise en oeuvre d'une variable dans le langage de programmation Python\n",
    "- connaître les 4 principales caractéristiques d'une variable\n",
    "- connaître les types primitifs de variables et savoir utiliser le casting\n",
    "- connaître la structure de donnée `list`\n",
    "- implémenter quelques exercices mettant en oeuvre les concepts de types, de nom et de valeur des variables"
   ]
  },
  {
   "cell_type": "markdown",
   "id": "5e9f5b20-7a81-43cf-89b5-4c1aa96eac21",
   "metadata": {},
   "source": [
    "## Variable : définition\n",
    "\n",
    "Une **variable**, dans un langage impératif tel que Python est un **espace mémoire élémentaire** qui possède les quatre caractéristiques principales suivantes :\n",
    "\n",
    "1. son **nom** : comment je l'identifie dans le programme\n",
    "1. sa **valeur** : ce qu'elle vaut au moment où je la lis dans le programme\n",
    "1. son **type** : quelle est la représentation de sa valeur\n",
    "1. son **adresse** : où est-elle stockée dans la mémoire\n",
    "\n",
    "On pourrait faire l'analogie avec un paquet postal : il a un nom : **paquet postal**, il a une valeur : **son contenu**, il a un type : **la nature de son contenu** et il a une adresse : son **destinataire** (la boîte aux lettres dans laquelle il faut le mettre)\n",
    "\n",
    "![variable](images/variable.png \"variable analogie\")"
   ]
  },
  {
   "cell_type": "markdown",
   "id": "00e1c936-b86d-46fe-afd3-5e0923c4763a",
   "metadata": {},
   "source": [
    "### Nom d'une variable\n",
    "\n",
    "Le nom de la variable est choisi par la programmeuse ou le programmeur. Il n'y a que très peu de règles qui permettent d'en choisir un. En Python, les **règles et conventions de nommage** (simplifiées) sont les suivantes :\n",
    "\n",
    "- le nom doit commencer par une lettre (majuscule ou minuscule)\n",
    "- il ne doit pas y avoir le signe tiret `-`, d'espace dans le nom\n",
    "- le nom ne doit pas être un mot-clef du langage (comme ```True``` ou ```import``` par exemple)\n",
    "- le nom ne devrait pas contenir de lettres accentuées\n",
    "\n",
    "Dans le monde professionnel, lorsque plusieurs personnes travaillent sur le même code, il est d'usage de préciser les règles et conventions de nommage dans un document concomitant au projet : les **Coding rules**"
   ]
  },
  {
   "cell_type": "markdown",
   "id": "bd9beb2c-2dd9-4ec1-af22-b4bb6468a22f",
   "metadata": {},
   "source": [
    "### La valeur et le type d'une variable\n",
    "\n",
    "La valeur de la variable est son contenu. Cette valeur est liée au type de cette valeur. Il existe 5 types primitifs en Python :\n",
    "\n",
    "1. les chaînes de caractères : **str** (pour *string*)\n",
    "1. les entiers : **int** (pour *integer*)\n",
    "1. les booléens : **bool** (pour *boolean*)\n",
    "1. les nombres en virgule flottante : **float** (pour *floating point*)\n",
    "1. les nombres complexes **complex** (pour *complex number*)\n",
    "\n",
    "Ainsi la valeur de la variable doit être représentée par son type. La variable `a` et la variable `b` suivantes ne sont pas du même type :\n",
    "\n",
    "```\n",
    "a = '1234'\n",
    "b = 1234\n",
    "```\n",
    "\n",
    "La variable `a` représente la chaîne de caractères (str) `\"1234\"` alors que la variable `b` représente l'entier `1234` (mille deux cent trente quatre)."
   ]
  },
  {
   "cell_type": "markdown",
   "id": "aa635596-272e-40cd-9300-b8d93bebe129",
   "metadata": {},
   "source": [
    "### L'adresse d'une variable\n",
    "\n",
    "L'adresse d'une variable représente sa localisation physique dans la **mémoire vive de l'ordinateur**. Cette adresse (aussi nommée **adresse mémoire** est une valeur représentée par un nombre hexadécimal et correspond à une \"case\" dans la mémoire de l'ordinateur. Lorsqu'on affecte ou que l'on modifie (lecture ou écriture) la valeur d'une variable, la valeur est effectivement écrite à cette position mémoire.\n",
    "\n",
    "A noter que si l'on exécute plusieurs fois le même programme, une même variable ne sera pas écrite forcément à la même position mémoire. Ceci est dû aux divers programmes et logiciels qui partagent le temps de calcul du processeur."
   ]
  },
  {
   "cell_type": "markdown",
   "id": "7b2958e3-9c12-455f-8f3f-cb87a84b2155",
   "metadata": {},
   "source": [
    "## Casting\n",
    "\n",
    "Il est tout à fait possible de modifier le type d'une variable au cours d'un programme. C'est le **casting**. Le casting doit cependant respecter quelques règles notamment lorsqu'on passe d'une chaîne de caractères à un entier (ou un flottant) : la chaîne de caractères doit être formée uniquement de chiffres (et d'un point dans le cas d'un flottant).\n",
    "\n",
    "Trois fonctions de casting existent en Python :\n",
    "\n",
    "1. `int()` : construit un entier avec une chaîne de caractères ou un flottant\n",
    "1. `float()`: construit un flottant avec une chaîne de caractères ou un entier\n",
    "1. `str()` : construit une chaîne de caractère à partir de n'importe quel type\n",
    "\n",
    "Par exemple :\n",
    "\n",
    "```\n",
    "x = int(1)   # x vaut 1\n",
    "y = int(2.8) # y vaut 2\n",
    "z = int(\"3\") # z vaut 3\n",
    "```\n",
    "\n",
    "**Rappel** : le type de retour de la fonction `input()` est une chaîne de caractères, il est obligatoire de la caster si l'on veut l'utiliser comme un entier ou un flottant."
   ]
  },
  {
   "cell_type": "markdown",
   "id": "efcf6b6c-57e9-44ab-aeee-5cb5c8187804",
   "metadata": {},
   "source": [
    "## Exercice 1\n",
    "\n",
    "Est-ce que le programme suivant fonctionne (calcule votre fortune dans 365 jours à un taux de 2%) :\n",
    "\n",
    "```\n",
    "compte = input(\"Valeur de votre compte en banque (en CHF) \")\n",
    "compte365 = compte + (compte *0.02)\n",
    "print(\"Dans un an, vous aurez \",compte365)\n",
    "```\n",
    "\n",
    "Modifiez le programme pour qu'il fonctionne"
   ]
  },
  {
   "cell_type": "markdown",
   "id": "7c0afaba-6649-4601-8a5d-c2d8a8a61ac4",
   "metadata": {},
   "source": [
    "## Exercice 2\n",
    "\n",
    "Quel est le type de chacune des variables suivantes :\n",
    "\n",
    "```\n",
    "a = 10\n",
    "b = 1.234\n",
    "c = True\n",
    "d = \"Hello\"\n",
    "e = '1'\n",
    "couleurs = ['red','blue','green']\n",
    "f = 2 + 3j\n",
    "```\n",
    "\n",
    "Pour déterminer les types de ces variables, vous pouvez utiliser la fonction `type()` our alors l'inspecteur d'objets et le listeur de variables sous Thonny (`Affichage -> Variables` et `Affichage > Inspecteur d'objets`sélectionnés)"
   ]
  },
  {
   "cell_type": "markdown",
   "id": "a4c1b0cc-db07-41c5-812c-890d83afdaab",
   "metadata": {},
   "source": [
    "### Exercice 3.1\n",
    "\n",
    "- sous thonny, créer un nouveau fichier source Python `variables.py`\n",
    "- écrire un programme qui déclare :\n",
    "   - en entier (`int`)\n",
    "   - une chaîne de caractères (`str`)\n",
    "   - un booléen (`bool`)\n",
    "- modifiez les valeurs assignées \n",
    "- Observer les modifications dans l'**explorateur de variables** et l'**inspecteur d'objets** "
   ]
  },
  {
   "cell_type": "code",
   "execution_count": null,
   "id": "23c10282-f0c7-4832-8224-7056511c8cc1",
   "metadata": {
    "tags": []
   },
   "outputs": [],
   "source": [
    "a = 4\n",
    "b = \"4\"\n",
    "c = True\n",
    "d = 4.0\n",
    "print(a,b,c,d)"
   ]
  },
  {
   "cell_type": "markdown",
   "id": "64e841d1-74ac-4dc5-b77b-56241f8b6846",
   "metadata": {},
   "source": [
    "Modifiez le code pour que les types des variables `a,b,c,d` soient : \n",
    "\n",
    "```\n",
    "a de type chaîne de caractères\n",
    "b de type flottant\n",
    "c de type chaîne de caractières\n",
    "d de type entier\n",
    "```"
   ]
  },
  {
   "cell_type": "code",
   "execution_count": null,
   "id": "c08d1409-45af-467f-a441-853d3fa80d18",
   "metadata": {},
   "outputs": [],
   "source": []
  },
  {
   "cell_type": "markdown",
   "id": "1e1ae096-47d7-4ad8-84cd-2b8952c3dff3",
   "metadata": {},
   "source": [
    "## Exercice 3\n",
    "\n",
    "Programmez une calculette qui multiplie deux nombres entiers entrés par l'utilisateur avec la fonction input()"
   ]
  },
  {
   "cell_type": "markdown",
   "id": "2cfff263-6370-4401-9d3e-5da4c659112f",
   "metadata": {},
   "source": [
    "## Exercice 4\n",
    "\n",
    "Est-ce que votre calculette fonctionne avec des chiffres à virgule (float) ? Que faut-il modifier au programme pour qu'il accepte les nombres à virgule ?"
   ]
  },
  {
   "cell_type": "markdown",
   "id": "294bdab3-eab3-4366-83a9-b2a61ba1e9cf",
   "metadata": {},
   "source": [
    "## Exercice 5 : calculette\n",
    "\n",
    "Codez maintenant une calculatrice capable d'exécuter les 4 opérations de base (addition, soustraction, multiplication, division). Attention aux valeurs \"interdites\" (par exemple : une division par 0).\n",
    "\n",
    "Voici un algorigramme simplifié :\n",
    "\n",
    "![calculette](schemas/calculatrice.png \"Calculette\")"
   ]
  },
  {
   "cell_type": "markdown",
   "id": "7b72f0cc-3234-4ebc-93c4-6f10b3731a4d",
   "metadata": {},
   "source": [
    "## Exercice 6 : Equations du deuxième degré\n",
    "\n",
    "Ecrivez un programme qui résoud une équation du deuxième degré du type $a x^2 + b x + c = 0$.\n",
    "\n",
    "Votre code est-il capable de calculer le résultat de $x^2 = -1$ ? Sinon, que faut-il modifier ? "
   ]
  },
  {
   "cell_type": "markdown",
   "id": "33b66d0b-e933-47f1-a9ec-35323b2510da",
   "metadata": {},
   "source": [
    "## Exercice 7 : ma moyenne\n",
    "\n",
    "Écrivez un programme Python qui demande à l'utilisateur de saisir trois notes, stocke ces notes dans une liste, calcule la moyenne des notes à l'aide de la liste, puis affiche la moyenne avec deux décimales.\n",
    "Instructions :\n",
    "\n",
    "- Demandez à l'utilisateur de saisir les notes d'une discipline depuis le début de l'année.\n",
    "- Stockez ces notes dans une liste.\n",
    "- Calculez la moyenne des notes en utilisant la liste.\n",
    "- Affichez la moyenne avec deux décimales."
   ]
  },
  {
   "cell_type": "markdown",
   "id": "1bd9f205-6f20-43d3-8a5e-97bf0be5d8ac",
   "metadata": {},
   "source": [
    "## Exercice 8 (pour aller plus loin)\n",
    "\n",
    "Même donnée que l'exercice 6 mais avec toutes les disciplines. Vous devez obtenir la moyenne de chaque branche et la moyenne générale."
   ]
  },
  {
   "cell_type": "markdown",
   "id": "336d7f97-4616-4198-a30c-03c18cbdb59b",
   "metadata": {},
   "source": [
    "## Exercice 9 (pour aller encore plus loin)\n",
    "\n",
    "Implémentez l'algorithme dit de \"Promotion en 2M\" décrit lors du [cours d'algorithmique](https://vkeller.github.io/modulo-gybe/1M/algo/cours/Cours11.html) à votre calculateur de moyenne de l'exercice 6."
   ]
  },
  {
   "cell_type": "code",
   "execution_count": null,
   "id": "213f0f79-51ae-4221-9661-9884de2e502a",
   "metadata": {},
   "outputs": [],
   "source": []
  }
 ],
 "metadata": {
  "kernelspec": {
   "display_name": "Python 3 (ipykernel)",
   "language": "python",
   "name": "python3"
  },
  "language_info": {
   "codemirror_mode": {
    "name": "ipython",
    "version": 3
   },
   "file_extension": ".py",
   "mimetype": "text/x-python",
   "name": "python",
   "nbconvert_exporter": "python",
   "pygments_lexer": "ipython3",
   "version": "3.9.2"
  }
 },
 "nbformat": 4,
 "nbformat_minor": 5
}
