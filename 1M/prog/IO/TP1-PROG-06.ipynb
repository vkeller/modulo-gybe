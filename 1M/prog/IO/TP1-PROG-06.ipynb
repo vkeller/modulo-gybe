{
 "cells": [
  {
   "cell_type": "markdown",
   "id": "8e5576fa-7875-4ba1-a9d3-616183182caf",
   "metadata": {},
   "source": [
    "![io](images/io.png \"Entrées-Sorties\")\n",
    "\n",
    "# TP1-PROG-06: Les entrées-sorties"
   ]
  },
  {
   "cell_type": "markdown",
   "id": "5410ff39-b5e7-445c-92f9-a6f372d36cd3",
   "metadata": {},
   "source": [
    "## Objectifs pédagogiques:\n",
    "\n",
    "- approfondir les entrées sorties en Python\n",
    "- appliquer sur des problèmes simples"
   ]
  },
  {
   "cell_type": "markdown",
   "id": "5abc1080-8554-4bc6-8c1b-3a90bd20ebeb",
   "metadata": {},
   "source": [
    "## Entrées et sorties dans un algorithme\n",
    "\n",
    "Un algorithme possède des entrées et des sorties. \n",
    "\n",
    "### Entrées\n",
    "\n",
    "Une entrée d'un algorithme est une donnée qui sera utilisée durant l'exécution de l'algorithme. \n",
    "\n",
    "### Sorties\n",
    "\n",
    "Une sortie d'un algorithme est un résultat donné par l'algorithme\n",
    "\n",
    "### Les entrées et sorties dans un algorigramme\n",
    "\n",
    "Une entrée ou une sortie est symbolisée dans un algorigramme par :\n",
    "\n",
    "![io2](images/io-algo.png \"algorigramme io\")"
   ]
  },
  {
   "cell_type": "markdown",
   "id": "3666e1dc-aeb1-46ca-9a39-9baa8579e72e",
   "metadata": {},
   "source": [
    "## Entrées et sorties dans un ordinateur\n",
    "\n",
    "Il existe deux principaux dispositifs permettant de fournir des données à l'ordinateur : **le clavier** et **la souris**. On dit que ce sont des *input devices*. \n",
    "\n",
    "Il existe un principal dispositif permettant à l'ordinateur de fournir un résultat : **l'écran**\n",
    "\n",
    "On remarquera que les trois dispositifs sont regroupés dans un seul sur un smartphone : **l'écran tactile** "
   ]
  },
  {
   "cell_type": "markdown",
   "id": "71bc3ad6-7630-489c-8cff-f644c52831c8",
   "metadata": {},
   "source": [
    "## Programme Python\n",
    "\n",
    "Le shéma d'entrées-sorties dans un programme Python peut être vu comme :\n",
    "\n",
    "![io-ico](images/io-icone.png \"Schema\")\n",
    "\n",
    "### Les sorties Python \n",
    "\n",
    "On utilise la fonction `print()` dont l'argument ou les arguments sont décrits dans la parenthèse:\n",
    "\n",
    "```\n",
    "print(\"Bonjour\")\n",
    "```\n",
    "\n",
    "### Les entrées Python\n",
    "\n",
    "On utilise la fonction `input()`. Cette fonction **retourne une valeur** qui doit être assignée à une variable.\n",
    "\n",
    "```\n",
    "N = input()\n",
    "```\n",
    "\n",
    "**Attention** : le type retourné par la fonction `input()` est une **chaîne de caractères** !!! Cela signifie que la variable `N` est de type `str`(chaîne de caractères)"
   ]
  },
  {
   "cell_type": "markdown",
   "id": "fc40cf4b-8d14-4a45-91d2-4b52935632d0",
   "metadata": {
    "tags": []
   },
   "source": [
    "## Exercice 1\n",
    "\n",
    "Ecrivez un programme qui demande un prénom, stocke l'entrée dans la variable `prenom` et affiche des salutations (du type `Bonjour Caroline`"
   ]
  },
  {
   "cell_type": "markdown",
   "id": "67425e7d-93ab-46a7-854e-03907d59641f",
   "metadata": {},
   "source": [
    "## Type de variable\n",
    "\n",
    "Dans ce TP, nous allons travailler avec deux types de variables :\n",
    "\n",
    "1. les **chaînes de caractères** ou `str`(qui signifie *string*)\n",
    "1. les **nombres entiers** ou `int` (qui signifie *integer*)\n",
    "\n",
    "## Affichage des types dans Thonny\n",
    "\n",
    "Il est possible de connaître le type d'une variable en affichant deux fenêtres supplémentaires dans l'IDE Thonny :\n",
    "\n",
    "- `Affichage -> Variables`\n",
    "- `Affichage -> Inspecteur d'objets`\n",
    "\n",
    "En cliquant dans la fenêtre d'exploration sur une variable, apparaît dans l'inspecteur d'objets le type (`int` ou `str`)\n",
    "\n",
    "### Passage d'un type à l'autre (casting)\n",
    "\n",
    "Il est possible de changer le type d'une variable. C'est le **casting**. Par exemple :\n",
    "\n",
    "```\n",
    "N = input(\"Entrez le nombre de places disponibles : \")\n",
    "N = int(N)\n",
    "```"
   ]
  },
  {
   "cell_type": "markdown",
   "id": "47929409-934e-432d-b776-1250bcfdf2df",
   "metadata": {},
   "source": [
    "## Exercice 2\n",
    "\n",
    "Ecrivez un programme qui demande un chiffre à l'utilisateur, le double, puis affiche le résultat"
   ]
  },
  {
   "cell_type": "markdown",
   "id": "12fac6b3-a366-48fa-abba-d973dd17f663",
   "metadata": {},
   "source": [
    "## Exercice 3\n",
    "\n",
    "Ecrivez un programme qui demande le prénom et l'âge de l'utilisateur et affiche `Bonjour Caroline, vous êtes née en 1974`"
   ]
  },
  {
   "cell_type": "markdown",
   "id": "4a65e60b-8c93-4af5-9a9f-8ed300103a88",
   "metadata": {},
   "source": [
    "## Exercice 4\n",
    "\n",
    "Reprenez l'[exercice 1 du TP1-PROG-03](https://vkeller.github.io/modulo-gybe/1M/prog/boucles/TP1-PROG-03.html) ou le corrigé qui suit. Voici un code qui permet de dessiner un carré rouge de côté `100` avec un stylo de taille `3` pixels :"
   ]
  },
  {
   "cell_type": "code",
   "execution_count": 1,
   "id": "3b402eda-bbbb-4931-8bf0-a38c5ee73d56",
   "metadata": {},
   "outputs": [],
   "source": [
    "from turtle import *\n",
    "\n",
    "t = Turtle()\n",
    "t.pencolor('red')\n",
    "t.pensize(3)\n",
    "\n",
    "for i in range(4):\n",
    "    t.forward(100)\n",
    "    t.left(90)"
   ]
  },
  {
   "cell_type": "markdown",
   "id": "b9f7c6aa-600a-475d-a537-8f734a0029e5",
   "metadata": {},
   "source": [
    "Modifiez votre programme pour que l'utilisateur/utilisatrice puisse dessiner un carré :\n",
    "\n",
    "- de n'importe quelle taille\n",
    "- de n'importe quelle épaisseur\n",
    "\n",
    "ATTENTION à l'ordre des instructions !!"
   ]
  },
  {
   "cell_type": "markdown",
   "id": "0a966b3f-56eb-41e4-950f-2cec6dc9c993",
   "metadata": {},
   "source": [
    "## Exercice 5\n",
    "\n",
    "Reprenez votre programme de l'exercice 4 et ajoutez des entrées permettant à votre programme de dessiner un carré :\n",
    "\n",
    "- de n'importe quelle taille\n",
    "- de n'importe quelle épaisseur\n",
    "- de n'importe quelle couleur"
   ]
  },
  {
   "cell_type": "markdown",
   "id": "a8cc09fe-b10c-4a8f-b5f2-a9ee95cd5d23",
   "metadata": {},
   "source": [
    "## Exercice 6 (pour aller plus loin)\n",
    "\n",
    "Reprenez votre programme de l'exercice 3 et modifiez-le pour que le texte soit accordé en fonction du genre de la personne (`h` ou `f`).\n",
    "\n",
    "Pour réaliser cela, il faut ajouter un **test** :\n",
    "\n",
    "```\n",
    "if condition :\n",
    "    instructions\n",
    "else:\n",
    "    instructions\n",
    "```"
   ]
  },
  {
   "cell_type": "markdown",
   "id": "acac22e2-d804-4822-8a77-4d2d6386aa56",
   "metadata": {},
   "source": [
    "## Exercice 7 (pour aller plus loin)\n",
    "\n",
    "Le passage d'une température en degrés Farenheit ($T_{Farenheit}$) vers la température en degrés Celsius ($T_{Celsius}$) se calcule avec l'équation suivante :\n",
    "\n",
    "$$T_{Celsius} = (T_{Farenheit} * \\frac{9}{5}) + 32$$\n",
    "\n",
    "Le passage d'une température en degrés Celsius ($T_{Celsius}$) vers la température en degrés Farenheit ($T_{Farenheit}$) se calcule avec l'équation suivante :\n",
    "\n",
    "$$T_{Farenheit} = (T_{Celsius} - 32) * \\frac{5}{9}$$\n",
    "\n",
    "Ecrivez un programme qui :\n",
    "\n",
    "1. Demande à l'utilisateur une température\n",
    "1. Demande à l'utilisateur si cette température est en Celsius (`C`) ou Farenheit (`F`)\n",
    "1. Convertir la température dans l'autre unité (`C` vers `F` ou `F` vers `C`)"
   ]
  },
  {
   "cell_type": "code",
   "execution_count": null,
   "id": "a845e53c-5615-43d1-b4eb-7032f0cc393d",
   "metadata": {},
   "outputs": [],
   "source": []
  }
 ],
 "metadata": {
  "kernelspec": {
   "display_name": "Python 3 (ipykernel)",
   "language": "python",
   "name": "python3"
  },
  "language_info": {
   "codemirror_mode": {
    "name": "ipython",
    "version": 3
   },
   "file_extension": ".py",
   "mimetype": "text/x-python",
   "name": "python",
   "nbconvert_exporter": "python",
   "pygments_lexer": "ipython3",
   "version": "3.9.2"
  }
 },
 "nbformat": 4,
 "nbformat_minor": 5
}
