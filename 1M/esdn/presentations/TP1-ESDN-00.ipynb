{
 "cells": [
  {
   "cell_type": "markdown",
   "id": "27cf295e-5b59-43e9-94cb-b95591e8694b",
   "metadata": {},
   "source": [
    "![presenter](presenter.png \"Presentation powerpoint\")\n",
    "\n",
    "# TP1-ESDN-00 : Présentations Enjeux sociaux du Numérique\n",
    "\n",
    "## Objectifs (rappels)\n",
    "\n",
    "- connaître les contenus théoriques abordés dans le cours ;\n",
    "- acquérir un vocabulaire informatique ;\n",
    "- mener une réflexion en s’appuyant sur les concepts informatiques étudiés ;\n",
    "- développer une pensée critique argumentative ;\n",
    "- prendre de la distance par rapport à un certain nombre d’idées reçues ;\n",
    "- différencier ce qui relève d’une science informatique d’une informatique non scientifique ou populaire (« pensée magique »);;\n",
    "- examiner le vécu quotidien en se référant aux éléments théoriques abordés lors des cours"
   ]
  },
  {
   "cell_type": "markdown",
   "id": "2ea9bac1-a5a3-4204-b537-cff3115a2782",
   "metadata": {},
   "source": [
    "## Format\n",
    "\n",
    "1. Une présentation PDF/Powerpoint est autorisée mais pas obligatoire\n",
    "1. **AUCUNE NOTE PENDANT LA PRÉSENTATION**\n",
    "1. Durée : **10 minutes** (à partager équitablement) puis réponses aux questions et discussion **10 minutes**\n",
    "\n",
    "## Déroulement\n",
    "\n",
    "1. Choisir un sujet dans la liste par groupe d'élèves (2 ou 3)\n",
    "1. Pour chaque sujet, des liens et des documents sont fournis. A vous de faire des recherches supplémentaires\n",
    "1. Les questions seront posée par **les élèves qui ne présentent pas et prennent des notes** et par l'enseignant\n",
    "1. Le support de présentation éventuel est envoyé à l'enseignant **la veille de la présentation à 20h** avec une délimitation **claire** des parties individuelles\n",
    "\n",
    "## Evaluation\n",
    "\n",
    "1. environ 75 % sur les objectifs (y compris la liste de sources)\n",
    "1. environ 25 % sur la forme (expression, français, etc..)\n",
    "\n",
    "Voir la [grille d'évaluation](https://raw.githubusercontent.com/vkeller/modulo-gybe/main/1M/esdn/presentations/Grille2.pdf)"
   ]
  },
  {
   "cell_type": "markdown",
   "id": "3842e7e2-b438-4059-bd79-91992cbdd688",
   "metadata": {},
   "source": [
    "## Liste de sujets\n",
    "\n",
    "Ci-après un certain nombre de sujets proposé.\n",
    "\n",
    "### Informatique et société\n",
    "\n",
    "| Sujet  | Enjeux sociaux abordé  | Documents mis à disposition  |\n",
    "|---|---|---|\n",
    "| Impact environnemental du numérique  | - Environnement<br>- Ecologie  | [Lien](https://www.apprendre-en-ligne.net/societe/pollution/index.html)  |\n",
    "| GAFAM  | - Contrôle de l'information<br>- Influence  | [Lien](https://www.apprendre-en-ligne.net/societe/GAFAM/index.html)  |\n",
    "| Marketing et E-commerce  | - Influence<br>- Marketing  | [Lien](https://www.apprendre-en-ligne.net/societe/marketing/index.html)  |\n",
    "| Reconnaissance faciale  | - Vie privée<br>- Sécurité  | [Lien](https://www.apprendre-en-ligne.net/societe/faciale/index.html)  |\n",
    "| Arts et création  | - Droits d'auteur<br>- Menaces sur les métiers de l'Art  | [Lien](https://www.apprendre-en-ligne.net/societe/arts/index.html)  |\n",
    "| Médecine  | - Confiance<br>- Monétisation  | [Lien](https://www.apprendre-en-ligne.net/societe/medecine/index.html) |\n",
    "| Fake news  | - Politique<br> - Influence<br> - Economique  | [Lien](https://www.apprendre-en-ligne.net/societe/fake/index.html)  |\n",
    "\n",
    "\n",
    "### Réseaux sociaux\n",
    "\n",
    "| Sujet  | Enjeux sociaux abordé  | Documents mis à disposition  |\n",
    "|---|---|---|\n",
    "| Général  | - Vie privée<br>- Environnement<br>- Ecologie<br>- Manipulation de masse<br>- Economie  | [Lien](https://www.apprendre-en-ligne.net/societe/reseaux/index.html)  |\n",
    "| Modération  | - Liberté d'expression<br>- Bulles  | [Lien](https://www.apprendre-en-ligne.net/societe/moderation/index.html)  |\n",
    "| Droit et jutice  | - Législation<br>- Disparition de l'humain ?  | [Lien](https://www.apprendre-en-ligne.net/societe/droit/index.html)  |\n",
    "| Deepfake  | - Influence<br>- Politque<br> - Economie  | [Lien](https://www.apprendre-en-ligne.net/societe/deepfake/index.html)  |\n",
    "| Cyberviolences  |   | [Lien](https://www.apprendre-en-ligne.net/societe/cyberharcelement/index.html)  |\n",
    "\n",
    "### Intelligence artificielle et robotique\n",
    "\n",
    "| Sujet  | Enjeux sociaux abordé  | Documents mis à disposition  |\n",
    "|---|---|---|\n",
    "| ChatGPT  | - Métiers menacés<br> - Enseignement  | [Lien](https://www.apprendre-en-ligne.net/societe/ChatGPT/index.html)  |\n",
    "| Big Data  | - Ecologie<br>- Travail précaire au Sud<br>- Vie privée  | [Lien](https://www.apprendre-en-ligne.net/societe/bigdata/index.html)  |\n",
    "\n",
    "\n",
    "### Futur \n",
    "\n",
    "| Sujet  | Enjeux sociaux abordé  | Documents mis à disposition  |\n",
    "|---|---|---|\n",
    "| Travail  | - Disparition de la notion de travail ?<br>- liens sociaux<br>- Apparition de nouveaux métiers ?<br>- Formation  | [Lien](https://www.apprendre-en-ligne.net/societe/travail/index.html)  |\n",
    "| Réalité virtuelle  | - Influence<br>- Manipulation<br>-  Politique  | [Lien](https://www.apprendre-en-ligne.net/societe/VR/index.html)  |"
   ]
  },
  {
   "cell_type": "markdown",
   "id": "7a23769d-9a6c-43ad-9bfc-16825ca5c335",
   "metadata": {},
   "source": [
    "## Sources\n",
    "\n",
    "- Les premiers documents proviennent du cours d'un collègue professeur d'informatique du Jura, Monsieur Didier Müller\n",
    "- Les sources que vous trouverez par vous-même doivent être citées"
   ]
  },
  {
   "cell_type": "markdown",
   "id": "a1be8f71-5c5c-499a-b5d4-e57ab9e4180d",
   "metadata": {},
   "source": [
    "## Support de présentation (PDF\n",
    "\n",
    "- Max 5 slides\n",
    "- chaque conférencier se partage 1/3 des slides\n",
    "- Le dernier slide doit contenir l'ensemble des sources que vous avez utilisé\n",
    "- Forme :\n",
    "    - 1 slide de titre\n",
    "    - pas de slide final \"Merci\", \"Questions ?\", etc..\n",
    "    - Pas d'animation, transition, etc..\n",
    "    - style autorisé\n",
    "- **A envoyer à l'enseignant au plus tard la veille de la présentation à 20h (CET)**"
   ]
  },
  {
   "cell_type": "code",
   "execution_count": null,
   "id": "9daecd15-d524-4e2e-a624-cce59e54a2c5",
   "metadata": {},
   "outputs": [],
   "source": []
  }
 ],
 "metadata": {
  "kernelspec": {
   "display_name": "Python 3 (ipykernel)",
   "language": "python",
   "name": "python3"
  },
  "language_info": {
   "codemirror_mode": {
    "name": "ipython",
    "version": 3
   },
   "file_extension": ".py",
   "mimetype": "text/x-python",
   "name": "python",
   "nbconvert_exporter": "python",
   "pygments_lexer": "ipython3",
   "version": "3.9.2"
  }
 },
 "nbformat": 4,
 "nbformat_minor": 5
}
