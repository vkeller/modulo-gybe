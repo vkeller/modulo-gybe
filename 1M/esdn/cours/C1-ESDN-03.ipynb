{
 "cells": [
  {
   "cell_type": "markdown",
   "id": "4e8f6058-8738-4483-b8e8-26ef538cc726",
   "metadata": {},
   "source": [
    "![Zuboff](images/zuboff.jpg \"Shoshana Zuboff\")\n",
    "\n",
    "# C1-ESDN-03 : Le capitalisme de surveillance\n",
    "\n",
    "**Shoshona Zuboff** née en 1951, est universitaire, professeure émérite à Harvard, sociologue et femme de lettres américaine. Elle est l'auteur du livre [L'âge du capitalisme de surveillance](https://www.monde-diplomatique.fr/2019/01/ZUBOFF/59443) où elle y décrit l'impact du Big Data dans le capitalisme et qui vise à prédire et modifier le comportement humain dans le but de générer des revenus pour les entreprises qui mettent en place cette surveillance"
   ]
  },
  {
   "cell_type": "markdown",
   "id": "5157e214-7621-41eb-95e2-f52ec6f8ccd3",
   "metadata": {},
   "source": [
    "## Objectifs pédagogiques"
   ]
  },
  {
   "cell_type": "markdown",
   "id": "ee539e53-cd04-438d-b03e-e962028b6278",
   "metadata": {},
   "source": [
    "## Contexte"
   ]
  },
  {
   "cell_type": "markdown",
   "id": "eaa58c3f-7361-4d5e-9105-1bbc80816662",
   "metadata": {},
   "source": [
    "## Références\n",
    "\n",
    "- Shoshona Zuboff, *The Age of Surveillance Capitalism: The Fight for a Human Future at the New Frontier of Power* {cite}`zuboff2010`"
   ]
  },
  {
   "cell_type": "code",
   "execution_count": null,
   "id": "3777dd16-4933-4278-9631-170faa861aab",
   "metadata": {},
   "outputs": [],
   "source": []
  }
 ],
 "metadata": {
  "kernelspec": {
   "display_name": "Python 3 (ipykernel)",
   "language": "python",
   "name": "python3"
  },
  "language_info": {
   "codemirror_mode": {
    "name": "ipython",
    "version": 3
   },
   "file_extension": ".py",
   "mimetype": "text/x-python",
   "name": "python",
   "nbconvert_exporter": "python",
   "pygments_lexer": "ipython3",
   "version": "3.9.2"
  }
 },
 "nbformat": 4,
 "nbformat_minor": 5
}
