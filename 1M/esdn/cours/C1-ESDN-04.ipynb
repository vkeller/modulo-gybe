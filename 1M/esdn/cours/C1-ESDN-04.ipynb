{
 "cells": [
  {
   "cell_type": "markdown",
   "id": "225ba029-bb05-4dfb-8b65-c11e842d76cc",
   "metadata": {},
   "source": [
    "![snowden](images/snowden.jpg \"Ed Snowden\")\n",
    "\n",
    "# C1-ESDN-04 : Edward Snowden et la surveillance de masse"
   ]
  },
  {
   "cell_type": "markdown",
   "id": "a1dd5cdf-43bd-4be6-9140-80a96ea03ed4",
   "metadata": {},
   "source": [
    "## Objectifs pédagogiques\n",
    "\n",
    "- aborder le concept de surveillance de masse\n",
    "- saisir les apports d'Edward Snowden comme whistleblower\n",
    "- questionner sa pratique sur les réseaux. "
   ]
  },
  {
   "cell_type": "markdown",
   "id": "e312fdc3-c5ce-4628-b37d-b29ba0896657",
   "metadata": {},
   "source": [
    "## Watergate 1972\n",
    "\n",
    "L'année 1972 est une année d'élection présidentielle. Le Président américain en poste est le Républicain Richard Nixon. Il est opposé au Démocrate George MacGovern. L'équipe de Nixon - Président des Etats-Unis - installe un système électronique de surveillance de son adversaire, le parti démocarate dans l'immeuble dit du Watergate à Washington DC.  \n",
    "\n",
    "![watergate](images/watergate.jpg \"Wategate\")\n",
    "\n",
    "Ce scandale qui a été révélé par des journalistes de deux journaux nationaux : le *Washington Post* et le *New York Times*. Richard Nixon, élu en 1972 pour un nouveau mandat est contraint à la démission en août 1974.\n",
    "\n",
    "L'affaire dite du *Watergate*, ou *scandale du Watergate* n'est pas restée sans conséquences."
   ]
  },
  {
   "cell_type": "markdown",
   "id": "20792322-ff74-4ac3-a0f0-cf25a98464f1",
   "metadata": {},
   "source": [
    "## 9/11 New York City, Arlington, Shanksville 2001\n",
    "\n",
    "Le 11 septembre 2001, quatre avions détournés au départs des deux aéroports américains *Washington Dulles* et *Boston Logan* s'écrasent dans les deux tours jumelles de New York, dans l'aile ouest du bâtiment du Pentagone à Arlington et dans un champs à Shanksville en Pennsylvanie.\n",
    "\n",
    "![911](images/911.jpg \"Attaques du 11 Septmbre\")\n",
    "\n",
    "Ces attentats ont entraîné la mort directe de 2977 morts et 6291 blessés. Ce sont les attentats les plus meurtriers de l'Histoire.\n",
    "\n",
    "Les conséquences ont été majeures. **Aussi bien pour les citoyens américains que pour les citoyens du monde entier**"
   ]
  },
  {
   "cell_type": "markdown",
   "id": "25c66060-f500-4be2-8b4b-ff16436b890d",
   "metadata": {},
   "source": [
    "## USA PATRIOT ACT \n",
    "\n",
    "Cette loi (qui signifie *Uniting and Strengthening America by Providing Appropriate Tools Required to Intercept and Obstruct Terrorism Act*, adoptée quelques mois après les attentats par le Congrès des Etats-Unis. L'objectif de la loi est de permettre au gouvernement américain de détenir des personnes étrangères soupçonnées de terrorisme sans limite et sans inculpation.\n",
    "\n",
    "Le USA Patriot act autorise surtout une surveillance d'Etat des citoyens américains ou ailleurs dans le monde et qui utilisent des systèmes informatiques américains. \n",
    "\n",
    "C'est le point de départ **légal** de la **surveillance de masse**"
   ]
  },
  {
   "cell_type": "markdown",
   "id": "56751a80-095f-4ad6-a663-56d359e3bba4",
   "metadata": {},
   "source": [
    "## Foreign Intelligence Surveillance Act 1978 - 2008 - 2024\n",
    "\n",
    "Cette loi permet au gouvernement américain de surveiller physiquement et électroniquement des individus, des états et des entreprises aussi bien américaines qu'étrangères. Elle a été amendée en 2008 pour permettre l'utilisation des programmes de surveillance de masse **PRISM** et **Upstream**.\n",
    "\n",
    "La loi fait toujours foi"
   ]
  },
  {
   "cell_type": "markdown",
   "id": "03755a52-a5f2-4839-8d2a-0c11c82366fc",
   "metadata": {},
   "source": [
    "## CLOUD ACT 2018\n",
    "\n",
    "Cette loi (qui signifie *Clarifying Lawful Overseas Use of Data Act*) a été adoptée en 2018 par le congrès américain. Elle autorise le troisième pouvoir américain (la justice) à forcer les fournisseurs de services sur le cloud (notamment les grands groupes américains GAFAM) à fournir les données électroniques relatives aux citoyens américains **n'importe où sur la Terre**\n",
    "\n",
    "Cette loi entre en contradiction complète avec le RGPD Européen"
   ]
  },
  {
   "cell_type": "markdown",
   "id": "d683f1f5-0221-42b5-a4d3-6d59218d5b71",
   "metadata": {},
   "source": [
    "## A la manoeuvre : la NSA\n",
    "\n",
    "![NSA_logo](images/NSA_logo.png \"logo de la NSA\")\n",
    "\n",
    "C'est l'agence américaine **NSA** (*National Security Agency*) qui est chargée de mettre en oeuvre la volonté du gouvernement américain des activités de surveillance de masse.\n",
    "\n",
    "![NSA](images/NSA.jpg)\n",
    "\n",
    "Les deux missions principales :\n",
    "\n",
    "1. SIGINT : *Signal Intelligence* (renseignement d'origine électronique)\n",
    "1. IA : *Information Assurance* (sécurité des systèmes de communications)\n",
    "\n",
    "Ce sont des dizaines de milliers d'employés qui travaillent pour la NSA. Dont une grande partie sont sous-traitants : ils sont employés d'une société tierce travaillant pour la NSA. C'est le cas d'Edward Snowden"
   ]
  },
  {
   "cell_type": "markdown",
   "id": "ba1b2ba1-84d6-4ee9-9df8-6f357ce47d3d",
   "metadata": {},
   "source": [
    "## Qui est Edward Snowden\n",
    "\n",
    "![snowden2](images/snowden2013.jpg \"Snowden lors de son interview de 2013\")\n",
    "\n",
    "Edward Snowden est un ingénieur brillant travaillant pour l'entreprise **Booz Allen Hamilton**, une société contractant pour la NSA comme **ingénieur système** à Hawaï, l'un des hub de surveillance de masse de la NSA (SIGINT). C'est durant son séjour à Hawaï qu'il récupère et copie sur des clefs USB les documents top secrets (voir références) décrivant l'entier du système de surveillance de masse américain.\n",
    "\n",
    "Une fois les documents enregistrés, il déménage à Hong Kong en 2013. Il s'apprète à devenir un **whistleblower**, un **lanceur d'alerte** en contactant par email crypté, la journaliste **Laura Poitras** et le journaliste **Glenn Greenwald** sous le pseudo **CITIZENFOUR**."
   ]
  },
  {
   "cell_type": "markdown",
   "id": "1af3d96d-8d53-410b-960a-3621aab2b3f5",
   "metadata": {},
   "source": [
    "## La révélation des documents TOP-SECRET\n",
    "\n",
    "Edward Snowden a révélé au monde entier, par les voix et les articles de Laura Poitras et Glenn Greenwald, la surveillance de masse à l'échelle du monde entier par les gouvernements de l'alliance dites des **FIVE EYES** (USA, Royaumes Unis, Australie, Canada et Nouvelle-Zélande) sur l'ensemble des citoyens du monde.\n",
    "\n",
    "Trois principaux logiciels sont dévoilés :\n",
    "\n",
    "1. PRISM (collecte de renseignements SIGINT)\n",
    "1. XKeycore (collecte, structure, sauvegarde et recherche de renseignements SIGINT)\n",
    "1. Upstream (espionnage des canaux de communications terrestres et aériens)\n",
    "\n",
    "![prism](images/prism.png \"Programme PRISM\")\n",
    "\n",
    "![prism2](images/prism2.png \"Programme PRISM 2\")\n",
    "\n",
    "![upstream](images/upstream.png \"Programme upstream\")\n",
    "\n",
    "Edward Snowden a aussi dévoilé l'interception et l'espionnage des communications de diverses personnalités politiques comme l'ancienne chancelière allemande Angela Merkel."
   ]
  },
  {
   "cell_type": "markdown",
   "id": "9f9ecd35-ca2b-4cca-987e-5906ebf914f3",
   "metadata": {},
   "source": [
    "## Raisons de dévoiler ces informations\n",
    "\n",
    "Edward Snowden dit qu'il a dévoilé ces informations parce que les prérogatives de la NSA et des gouvernements impliqués allaient trop loin. Il a souhaité alerter l'opinion publique du changement de paradigme : d'une surveillance individuelle de cibles dangereuses on est passé à une **surveillance de masse** : tout le monde était concerné.\n",
    "\n",
    "> These programs were never about terrorism: they're about economic spying, social control, and diplomatic manipulation. They're about power."
   ]
  },
  {
   "cell_type": "markdown",
   "id": "834d30f7-b5a9-4953-bfde-5d7cc2578f9f",
   "metadata": {},
   "source": [
    "## Conséquences pour Edward Snowden\n",
    "\n",
    "Edward Snowden a été inculpé aux USA pour espionnage, vol de données, violation du secret professionnel. Il est considéré comme un traître par le gouvernement américain mais comme un héro pour celles et ceux qui militent pour la liberté, la souverainté et l'anonymat sur le réseau des réseaux. \n",
    "\n",
    "Obligé de s'exhiler, il a choisi la Russie où il est citoyen Russe depuis 2022. "
   ]
  },
  {
   "cell_type": "markdown",
   "id": "63b69450-f821-4c65-a0af-d23e00b09745",
   "metadata": {},
   "source": [
    "## Conséquences des révélations\n",
    "\n",
    "La NSA n'a jamais cessé d'espionner le reste du monde. Malgré quelques modifications légales américaines, la surveillance de masse continue probablement à exister. \n",
    "\n",
    "Les grandes entreprises américaines dont nous dépendons (Google, Apple, Meta, X, Amazon, Microsoft, etc..) étaient - et sont toujours probablement - complices de cette surveillance de masse. \n",
    "\n",
    "L'Europe a profité des révélations de 2013 pour faire adopter le RGPD (*Réglement Général sur la Protection des Données*) à l'ensemble des pays européens en 2018. La Suisse ne l'a pas ratifié mais est obligée de le respecter si elle traite des données d'entreprises Européennes.\n",
    "\n",
    "Le concept de **souveraineté numérique** émerge peu à peu dans les sphères politiques, même si elle peine à faire sa place dans les sphères techniques "
   ]
  },
  {
   "cell_type": "markdown",
   "id": "d9e85dd4-53ab-42ff-a4c2-1fa4ee4eb835",
   "metadata": {},
   "source": [
    "## Film CITIZENFOUR\n",
    "\n",
    "Visionner une dizaine de minutes avec un extrait d’une conférence donnée par William Binney, ex-employé de la NSA et vétéran, spécialiste du chiffrement et de l’analyse de données.\n",
    "\n",
    "### Quel événement a provoqué le programme de surveillance de masse aux États-Unis ?\n",
    "\n",
    "<details>\n",
    "  <summary>Réponse</summary>\n",
    "  \n",
    "Binney insiste sur le fait que le programme a été lancé quelques jours seulement après les attentats terroristes du 11 septembre 2001, sous l’égide du président George W. Bush.\n",
    "    \n",
    "</details>\n",
    "\n",
    "### Pourquoi le gouvernement a-t-il fait appel à William Binney? \n",
    "\n",
    "<details>\n",
    "  <summary>Réponse</summary>\n",
    "  \n",
    "En 2001, il était l’une des seules personnes qui travaillait sur l’analyse de données massives à la NSA. Il y développait un programme d’analyse automatisée de métadonnées qui suscita l’intérêt du gouvernement dans le cadre de la mise en place d’une surveillance de la population, suite aux attentats du 11 septembre\n",
    "    \n",
    "</details>\n",
    "\n",
    "### Par quelles instances le programme Stellar Wind aurait-il été autorisé ?\n",
    "\n",
    "<details>\n",
    "  <summary>Réponse</summary>\n",
    "  \n",
    "Le programme Stellar Wind, qui comprenait notamment la surveillance des citoyens américains via les données des principales entreprises de télécommunications (dont AT&T), a été autorisé par la direction de la NSA, de la CIA et le Département de la Justice. Bon nombre d’intervenants en haut lieu étaient au courant de l’existence du programme de surveillance de masse.\n",
    "    \n",
    "</details>\n",
    "\n",
    "\n",
    "### William Binney et trois autres de ses confrères à la CIA donnent deux raisons à leurs efforts d’attirer l’attention de leur hiérarchie sur ce programme : lesquelles ?\n",
    "\n",
    "<details>\n",
    "  <summary>Réponse</summary>\n",
    "\n",
    "    D’une part, cette surveillance est anticonstitutionnelle ; d’autre part, ce programme est supervisé par le Département de la justice.\n",
    "    \n",
    "</details>\n",
    "\n",
    "\n",
    "### Quelles ont été les réponses données par la hiérarchie à ces démarches d’objection de la part de Binney et ses collègues?\n",
    "\n",
    "<details>\n",
    "  <summary>Réponse</summary>\n",
    "  \n",
    "Ils ont été menacés et sommés de se taire    \n",
    "\n",
    "</details>\n",
    "\n"
   ]
  },
  {
   "cell_type": "markdown",
   "id": "e4cc72e5-0e08-4f84-91d7-1c29cc9727c1",
   "metadata": {},
   "source": [
    "## Références\n",
    "\n",
    "- L. Poitras, *Citizenfour*, 2015, {cite}`citizenfour`\n",
    "- The *Edward Snowden Archives* : [voir l'entier des documents révélés par Ed Snowden](https://archive-it.org/collections/5840)"
   ]
  },
  {
   "cell_type": "markdown",
   "id": "532c9fb4-26e7-4bd7-a22d-4f8368dc1f95",
   "metadata": {},
   "source": [
    "*Libremenet inspiré de [modulo VD](https://enseigner.modulo-info.ch/enjx1/fiches-complementaires/affaire-snowden.html)*"
   ]
  },
  {
   "cell_type": "code",
   "execution_count": null,
   "id": "7c1347dc-c350-4ebf-846d-7187753cc9c9",
   "metadata": {},
   "outputs": [],
   "source": []
  }
 ],
 "metadata": {
  "kernelspec": {
   "display_name": "Python 3 (ipykernel)",
   "language": "python",
   "name": "python3"
  },
  "language_info": {
   "codemirror_mode": {
    "name": "ipython",
    "version": 3
   },
   "file_extension": ".py",
   "mimetype": "text/x-python",
   "name": "python",
   "nbconvert_exporter": "python",
   "pygments_lexer": "ipython3",
   "version": "3.9.2"
  }
 },
 "nbformat": 4,
 "nbformat_minor": 5
}
