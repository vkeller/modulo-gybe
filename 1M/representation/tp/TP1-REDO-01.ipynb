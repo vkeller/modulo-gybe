{
 "cells": [
  {
   "cell_type": "markdown",
   "id": "d25f3357",
   "metadata": {},
   "source": [
    "![pixels](images/pixelized-image.jpg \"Image pixelisée\")\n",
    "\n",
    "# TP1-REDO-01 : les images matricielles"
   ]
  },
  {
   "cell_type": "markdown",
   "id": "574aacbb",
   "metadata": {},
   "source": [
    "## Objectifs pédagogiques\n",
    "\n",
    "1. appliquer la représentation de l'information au monde des images numériques matricielles\n",
    "1. connaître la définition d'un pixel N/B et d'un pixel couleur\n",
    "1. connaître les caractéristiques d'une image matricielle\n",
    "1. créer une image matricielle N/B, en niveaux de gris et en couleur avec les formats PGM et PPM"
   ]
  },
  {
   "cell_type": "markdown",
   "id": "36ab9358",
   "metadata": {},
   "source": [
    "## Définition d'un pixel\n",
    "\n",
    "**Définition :** un **pixel** (de l'anglais *picture element*) est l'unité de base d'une image numérique matricielle. \n",
    "\n",
    "On la présente habituellement comme un élément de surface."
   ]
  },
  {
   "cell_type": "markdown",
   "id": "bdebe1c7",
   "metadata": {},
   "source": [
    "## Le codage RGB\n",
    "\n",
    "Le système de codage couleur (représentation de l'information *couleur*) est le **système RGB** ou système Rouge-Vert-Bleu (de l'anglais *Red-Green-Blue*). \n",
    "\n",
    "![RGB](images/RGB.png \"Systeme RGB\")\n",
    "\n",
    "Le **couleur** est représentée par **trois valeurs** : une partie Rouge, une partie Verte et une partie Bleue. Il est d'usage d'utiliser un byte par couleur primaire, donc 3 bytes par pixel.\n",
    "\n",
    "**ATTENTION :** les trois couleurs primaires sont décrite dans l'ordre ROUGE, VERT puis BLEU.\n",
    "\n",
    "Voici quelques couleurs (ou valeurs) aux limites :\n",
    "\n",
    "| Valeur du <span style=\"color:red\">ROUGE</span> | Valeur du <span style=\"color:green\">VERT</span> | Valeur du <span style=\"color:blue\">BLEU</span> | Résultat |\n",
    "| :-----: | :-----: | :-----: | :-----: |\n",
    "| ```255``` | ```0``` | ```0``` | rouge |\n",
    "| ```0``` | ```255``` | ```0``` | vert |\n",
    "| ```0``` | ```0``` | ```255``` | bleu |\n",
    "| ```0``` | ```0``` | ```0``` | noir |\n",
    "| ```255``` | ```255``` | ```255``` | blanc |\n",
    "| ```125``` | ```125``` | ```125``` | gris intermédiaire |\n"
   ]
  },
  {
   "cell_type": "markdown",
   "id": "cc0af891",
   "metadata": {},
   "source": [
    "## Exercice 1 : Valeurs de RGB\n",
    "\n",
    "Jouez avec des valeurs RGB online sur [le site w3schools.net](https://www.w3schools.com/colors/colors_rgb.asp)\n",
    "\n",
    "1. Quelles sont les valeurs RGB des couleurs:\n",
    "    - Jaune\n",
    "    - Cyan\n",
    "    - Magenta"
   ]
  },
  {
   "cell_type": "markdown",
   "id": "2c60a600",
   "metadata": {},
   "source": [
    "## Définition : image matricielle\n",
    "\n",
    "**Définition :** une **image matricielle** est un tableau (une grille) de pixels (de l'objet mathématique *matrice*) classé sous la forme d'une carte (de l'anglais *bitmap*). Chaque pixel de l'image matricielle possède 2 caractéristiques : (1) sa **position** dans le tableau et (2) sa **couleur**\n",
    "\n",
    "![bitmap](images/bitmap.png \"bitmap exemple\")"
   ]
  },
  {
   "cell_type": "markdown",
   "id": "728982df",
   "metadata": {},
   "source": [
    "## Le format PGM/PPM\n",
    "\n",
    "Les formats **PGM** (de l'anglais *Portable Graymap*) pour les images **noir et blanc (N/B)** et **PPM** (de l'anglais *Portable Pixmap*) pour les images **couleur** sont des formats de fichiers graphiques premettant de décrire simplement une image matricielle. \n",
    "\n",
    "Dans ce travail pratique, nous allons utiliser la forme la plus simple de ces deux formats: le format texte.\n",
    "\n",
    "#### Composition d'un fichier PGM/PPM\n",
    "\n",
    "Les deux formats sont constitués de la même base : \n",
    "\n",
    "- un **en-tête** (de l'anglais *header*) qui permet de décrire les caractéristiques de l'images\n",
    "    - un mot magique (```P1``` pour les images noir/blanc, ```P2``` pour les images en niveaux de gris, ```P3``` pour les images couleur \n",
    "    - la taille de l'image en pixels (colonnes x lignes)\n",
    "    - le nombre de niveaux maximum par pixel (par ex: nombre de niveaux de gris, ou couleurs. de 2 à 255)\n",
    "- l'**image** elle-même décrite pixel par pixel\n",
    "    - les valeurs des pixels de l'image du coin en haut à gauche vers le coin en bas à droite\n",
    "\n"
   ]
  },
  {
   "cell_type": "markdown",
   "id": "0baf70e8",
   "metadata": {},
   "source": [
    "## Image N/B\n",
    "\n",
    "Dans une image noir et blanc, on utilise le mot-magique ```P1``` et chaque pixel est décrit par un ```0``` pour du blanc, un ```1``` pour du noir. \n",
    "\n",
    "\n",
    "```\n",
    "P1\n",
    "# Un exemple bitmap de la lettre \"J\"\n",
    "7 10\n",
    "0 0 0 0 0 0 0\n",
    "0 0 0 0 0 1 0\n",
    "0 0 0 0 0 1 0\n",
    "0 0 0 0 0 1 0\n",
    "0 0 0 0 0 1 0\n",
    "0 0 0 0 0 1 0\n",
    "0 0 0 0 0 1 0\n",
    "0 1 0 0 0 1 0\n",
    "0 0 1 1 1 0 0\n",
    "0 0 0 0 0 0 0\n",
    "```\n",
    "\n",
    "Ce qui donne :\n",
    "\n",
    "![J](images/j.png \"lettre J\")\n",
    "\n"
   ]
  },
  {
   "cell_type": "markdown",
   "id": "e052c112",
   "metadata": {},
   "source": [
    "## Exercice 2 : Création d'une image N/B\n",
    "\n",
    "1. Ouvrez l'éditeur de texte **Pulsar**\n",
    "1. Précisez que le format sera du texte pur : **Format -> Make Plain Text**\n",
    "1. Créez une images noir et blanc\n",
    "1. Sauvez votre fichier sous le nom **image1.pgm** sur votre volume **Enseignement > nom_utilisateur**\n",
    "1. Ouvrez le finder et double-cliquez sur le fichier créé. La combinaison de touches OPTION + SHIFT + ```+```\n",
    "\n",
    "Choisissez votre [spaceinvader](https://documents.epfl.ch/users/l/le/lebret/www/Space%20Invader%20%26%20Spaceramik.pdf) et reproduisez-le. La dimension de l'image doit être de ```9 x 9``` pixels soit ```81```.\n",
    "\n",
    "![spaceinvader](images/spaceinvaders.jpg \"space invaders\")\n"
   ]
  },
  {
   "cell_type": "markdown",
   "id": "e462b830",
   "metadata": {},
   "source": [
    "## Image en niveaux de gris\n",
    "\n",
    "En niveau de gris, on utilise le mot magique ```P2``` et on précise la valeur maximale du nombre de niveaux de gris avant la description de l'image (nombre de niveaux de gris : de ```2``` à ```255```). Ainsi `15` représente la valeur maximale. Les 16 valeurs de gris vont de noir `0` et blanc `15` donc 16 valeurs.\n",
    "\n",
    "```\n",
    "P2\n",
    "# Affiche le mot \"FEEP\" (exemple de la page principale de Netpbm à propos de PGM)\n",
    "24 7\n",
    "# Valeur maximale du nombre de niveaux de gris (valeurs entre noir 0 et blanc 15)\n",
    "15\n",
    "0  0  0  0  0  0  0  0  0  0  0  0  0  0  0  0  0  0  0  0  0  0  0  0\n",
    "0  3  3  3  3  0  0  7  7  7  7  0  0 11 11 11 11  0  0 15 15 15 15  0\n",
    "0  3  0  0  0  0  0  7  0  0  0  0  0 11  0  0  0  0  0 15  0  0 15  0\n",
    "0  3  3  3  0  0  0  7  7  7  0  0  0 11 11 11  0  0  0 15 15 15 15  0\n",
    "0  3  0  0  0  0  0  7  0  0  0  0  0 11  0  0  0  0  0 15  0  0  0  0\n",
    "0  3  0  0  0  0  0  7  7  7  7  0  0 11 11 11 11  0  0 15  0  0  0  0\n",
    "0  0  0  0  0  0  0  0  0  0  0  0  0  0  0  0  0  0  0  0  0  0  0  0\n",
    "```\n",
    "\n",
    "Ce qui donne :\n",
    "\n",
    "![feep](images/feep.png \"logo feep\")\n",
    "\n",
    "\n"
   ]
  },
  {
   "cell_type": "markdown",
   "id": "0a2e0e15",
   "metadata": {},
   "source": [
    "## Exercice 3 : Création d'une image en niveaux de gris\n",
    "\n",
    "1. Même procédure qu'à l'exercice 2\n",
    "1. Créez votre prénom avec un dégradé de gris"
   ]
  },
  {
   "cell_type": "markdown",
   "id": "8f1f0dd4",
   "metadata": {},
   "source": [
    "## Image en couleurs RGB\n",
    "\n",
    "En couleur, on utilise le mot magique ```P3``` et chaque pixel de couleur est décrit par la valeur de rouge, de vert et de bleu. \n",
    "\n",
    "```\n",
    "P3\n",
    "# Le P3 signifie que les couleurs sont en ASCII, et qu'elles sont en RGB.\n",
    "# Par 5 colonnes et 5 lignes:\n",
    "5 5\n",
    "# Ayant 255 pour valeur maximum:\n",
    "255\n",
    "\n",
    "255 0 0\n",
    "255 0 0\n",
    "255 0 0\n",
    "255 0 0\n",
    "255 0 0\n",
    "255 0 0\n",
    "255 0 0\n",
    "255 255 255\n",
    "255 0 0\n",
    "255 0 0\n",
    "255 0 0\n",
    "255 255 255\n",
    "255 255 255\n",
    "255 255 255\n",
    "255 0 0\n",
    "255 0 0\n",
    "255 0 0\n",
    "255 255 255\n",
    "255 0 0\n",
    "255 0 0\n",
    "255 0 0\n",
    "255 0 0\n",
    "255 0 0\n",
    "255 0 0\n",
    "255 0 0\n",
    "```\n",
    "Ce qui donne :\n",
    "\n",
    "![suisse](images/suisse.png \"drapeau suisse\")\n",
    "\n",
    "\n"
   ]
  },
  {
   "cell_type": "markdown",
   "id": "7864899f",
   "metadata": {},
   "source": [
    "## Exercice 4 : Création d'une image couleur\n",
    "\n",
    "1. Même procédure qu'à l'exercice 2\n",
    "1. Créez les drapeaux de l'**ITALIE**, de l'**ALLEMAGNE** et de la **FRANCE** en choisissant une taille de grille adéquate\n",
    "1. Enregistrez votre fichier avec l'extension **.ppm** (exemple : **france.ppm**)\n",
    "\n",
    "![IT](images/IT.png \"Italie\")\n",
    "\n",
    "![DE](images/DE.png \"Allemagne\")\n",
    "\n",
    "![FR](images/FR.png \"France\")\n"
   ]
  },
  {
   "cell_type": "markdown",
   "id": "5b57969c-3d38-4810-813c-877f2d097eb6",
   "metadata": {},
   "source": [
    "## Exercice 5 (pour aller plus loin)\n",
    "\n",
    "Il est aussi possible de créer des images plus compliquées, comme des drapeaux de pays plus complexes en termes de graphisme.\n",
    "\n",
    "![USA](images/USA.jpg \"United States of America\")\n",
    "\n",
    "Image : 2025, Mathilde Laurent, 1M04"
   ]
  },
  {
   "cell_type": "markdown",
   "id": "1d51dbed-64ad-4ac3-ae61-d6efa9464335",
   "metadata": {},
   "source": [
    "## Exercice 6 (pour aller encore plus loin)\n",
    "\n",
    "Dès le début des années 1980 jusqu'à la fin des années 1990, la technologie et les techniques de programmation de jeux vidéo étaient devenues assez puissantes pour proposer des graphismes et des sons de qualité. Les jeux vidéos dits **jeux d'arcade** étaient alors installés dans des **bornes d'arcade** et placés dans les commerces à des fins d'amusement. Ils ont progressivement remplacés les jeux mécaniques (**flippers**). \n",
    "\n",
    "![arcade](images/arcade.png \"Borne d'arcade\")\n",
    "\n",
    "La technologie informatique était limitée par (1) la longueur des bytes traités par l'ordinateur et (2) les limites physiques des écrans cathodiques. Il a fallu donc créer des **polices de caractères** simples. Ce sont les fameuses **polices de caractères dits 8 bits**. En voici un exemple.\n",
    "\n",
    "- Reproduisez quelques lettres de l'alphabet\n",
    "- Est-ce possible de créer le drapeau Vaudois avec toute ce que vous avez vu dans ce TP. Essayez !\n",
    "\n",
    "![bitmap](images/oldgamefont.jpg \"Police de caractères 8 bits\")\n",
    "\n",
    "(Source : https://www.dreamstime.com/arcade-game-machine-buttons-joystick-set-vector-illustration-arcade-game-machine-buttons-joystick-set-vector-image126551354)"
   ]
  },
  {
   "cell_type": "code",
   "execution_count": null,
   "id": "a72c63e1-bca1-4d1e-924c-5e45c318bed3",
   "metadata": {},
   "outputs": [],
   "source": [
    "                    "
   ]
  }
 ],
 "metadata": {
  "kernelspec": {
   "display_name": "Python 3 (ipykernel)",
   "language": "python",
   "name": "python3"
  },
  "language_info": {
   "codemirror_mode": {
    "name": "ipython",
    "version": 3
   },
   "file_extension": ".py",
   "mimetype": "text/x-python",
   "name": "python",
   "nbconvert_exporter": "python",
   "pygments_lexer": "ipython3",
   "version": "3.11.2"
  }
 },
 "nbformat": 4,
 "nbformat_minor": 5
}
