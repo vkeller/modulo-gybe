{
 "cells": [
  {
   "cell_type": "markdown",
   "id": "efa43a6d-84cb-4272-b64a-943b06ba6792",
   "metadata": {},
   "source": [
    "![binaryWorld](images/binary.jpg \"A world of bits\")\n",
    "\n",
    "# C1-REDO-01 : Du monde physique au monde numérique\n"
   ]
  },
  {
   "cell_type": "markdown",
   "id": "107c20b5-a3ee-4dcf-a60f-29423cd8714e",
   "metadata": {},
   "source": [
    "## Objectifs pédagogiques\n",
    "\n",
    "1. Comprendre le concept de discrétisation\n",
    "1. Comprendre les étapes de la numérisation\n",
    "1. Appliquer sur un exemple concret durant un TP"
   ]
  },
  {
   "cell_type": "markdown",
   "id": "1e202070-9de4-450b-b78d-47dc3f61fecd",
   "metadata": {},
   "source": [
    "## Définition : Physique (ou la science physique)\n",
    "\n",
    "Selon [wikipedia](https://fr.wikipedia.org/wiki/Physique) : \"la **Physique** (ou **la science physique**) est la science qui essaie de comprendre, de modéliser, et d'expliquer les phénomènes naturels de l'Univers. Elle correspond à l'étude du monde qui nous entoure sous toutes ses formes, des lois de ses variations et de leur évolution.\" "
   ]
  },
  {
   "cell_type": "markdown",
   "id": "774c791b-80ad-41fb-8dd4-c591eee14430",
   "metadata": {},
   "source": [
    "## Le monde tel que nous le percevons\n",
    "\n",
    "Nous percevons le monde à travers **nos sens** (ouïe, vue, goût, etc..). Nos sens sont malheureusement **très approximatifs** et **subjectifs** puisqu'ils sont conditionnés par notre propre histoire depuis le moment où ces sens sont suffisamment développés pour enregistrer quelque chose. Ce *moment* est toujours en discussion parmi la communauté scientifique (médicale et philosophique)"
   ]
  },
  {
   "cell_type": "markdown",
   "id": "ed3d2a22-c734-4339-a0a2-3ebfb5b4304c",
   "metadata": {},
   "source": [
    "### Illusion d'optique\n",
    "\n",
    "![Illusion 1](images/illusion_optique1.png \"Illusion 1\")\n",
    "\n",
    "Les traits horizontaux sont tous parallèles\n",
    "\n",
    "![Illusion 2](images/illusion_optique2.png \"Illusion 2\")\n",
    "\n",
    "Les segments AB et BC ont la même longueur\n",
    "\n",
    "![Illusion 3](images/illusion_optique3.png \"Illusion 3\")\n",
    "\n",
    "La barre centrale est d'un gris uniforme sur toute sa longueur"
   ]
  },
  {
   "cell_type": "markdown",
   "id": "d1e43131-6951-4ee0-af6d-f25335dfb3a1",
   "metadata": {},
   "source": [
    "### Illusion auditive\n",
    "\n",
    "Le site [wikipedia](https://fr.wikipedia.org/wiki/Illusion_auditive) décrit un certain nombre de ces illusions. Parmi lesquelles, citons :\n",
    "\n",
    "- l'effet Doppler où une source en mouvement produit un son identique (ambulance)\n",
    "- l'effet de continuité (une suite de sons purs identiques séparés par des silences se perçoit comme un ensemble d'événements sonors différents)\n",
    "- l'illusion de completion (en écoutant une mélodie ou de la parole et qu'un bruit remplace une petite partie, nous avons tendance à remplacer la partie masquée par ce que nous nous attendons à entendre à cet endroit)\n",
    "- le Paradoxe de Shepard où une gamme montante de plusieurs intervalles de notes est jouée à l'infini et donne l'impression d'une montée dans les aigüs infinie.\n",
    "\n",
    "[Une vidéo Youtube avec 10 illusions auditives](https://www.youtube.com/watch?v=2EUFiSlv8jU)"
   ]
  },
  {
   "cell_type": "markdown",
   "id": "66291c37-347d-4b5d-b953-906eed9a772d",
   "metadata": {},
   "source": [
    "### Illusion olfactive et gustative\n",
    "\n",
    "Ce type d'illusion est souvent mené auprès de jeunes enfants. Imaginez vous le goût d'une pizza dont la pâte serait rose, les tomates bleues et la mozzarella noire. Il est tout à fait possible d'effectuer l'expérience à la maison avec des colorants alimentaires inodores et sans goût.\n",
    "\n",
    "A noter que lors des dégustations de vin à l'aveugle, seuls les oenologues professionnels sont capables de reconnaître un vin rouge d'un vin blanc, son cépage et son millésime si le verre servi est noir et mat.\n",
    "\n",
    "![verredegust](images/verre-noir.jpg \"Verre de dégustation noir\")\n",
    "\n",
    "*Verre noir de dégustation, Univerre Pro UVA, SA*"
   ]
  },
  {
   "cell_type": "markdown",
   "id": "6db57371-2413-45cf-af0b-f7115c4b997a",
   "metadata": {},
   "source": [
    "### Illusion tactile\n",
    "\n",
    "L'illusion tactile se manifeste par exemple lors d'une amputation. La personne amputée \"sentira\" encore de nombreuses années son membre coupé. C'est le principe du \"membre fantôme\".\n",
    "\n",
    "![venus](images/venus.jpg \"Venus de Milo\")\n",
    "\n",
    "*Venus de Milo, image Wikipedia*"
   ]
  },
  {
   "cell_type": "markdown",
   "id": "895ecd4b-0860-4d7f-acdb-962961749b13",
   "metadata": {},
   "source": [
    "## Le monde tel que nous le comprenons (ou essayons de le comprendre)\n",
    "\n",
    "Appliquer un modèle physique, donc mathématique, sur un monde réel perçu a de tout temps été source de débats et une passion des êtres humains. \n",
    "\n",
    "![Stonehenge](images/stonehenge.jpg \"Stonehenge, wikipedia\")\n",
    "\n",
    "*Stonehange, image Wikipedia*\n",
    "\n",
    "Depuis le calendrier de Stonehenge de la préhistoire au grand accélérateur de hadrons du CERN (LHC) du XXIème siècle, des théories ont émergé, ont été confirmées ou infirmées et ont permis de continuer à construire une représentation du monde. Un modèle qui permet de prédire des phénomènes observés\n",
    "\n",
    "![LHC](images/CERN.jpg \"CERN, wikipedia\")\n",
    "\n",
    "*Large Hadron Collider, CERN*"
   ]
  },
  {
   "cell_type": "markdown",
   "id": "71ad32f2-ca18-4eef-8d64-94e1d556f5ab",
   "metadata": {},
   "source": [
    "## Définition : grandeur continue et discrète\n",
    "\n",
    "Une grandeur (ou variable) **continue** est une grandeur qui peut prendre une **infinité** de valeurs, une grandeur **dicrète** a une quantité **finie** de valeurs possibles"
   ]
  },
  {
   "cell_type": "markdown",
   "id": "6711cfea-273d-4445-bbf3-ff474e6361d7",
   "metadata": {},
   "source": [
    "## Définition : signal\n",
    "\n",
    "Un **signal** est un phénomène physique (par exemple : une tension électrique, un courant électrique, un champ électromagnétique, une onde sonore ou une onde lumineuse, une température, etc..) qui transmet une information\n",
    "\n",
    "Un **signal analogique** est un signal **continu dans le temps**\n",
    "\n",
    "![analogique](images/analogique.png \"Signal analogique\")\n"
   ]
  },
  {
   "cell_type": "markdown",
   "id": "6d27784d-f978-4561-99d4-183c6eac1028",
   "metadata": {},
   "source": [
    "## Le monde tel qu'il est vu par un ordinateur\n",
    "\n",
    "Un ordinateur ne comprend que des **valeurs discrètes**. \n",
    "\n",
    "Par exemple, lorsqu'on veut prévoir la météo, on construit un sous-ensemble du monde physique en appliquant une grille (en Suisse : 1.1 x 1.1 km2) dans lequel on applique un modèle\n",
    "\n",
    "![cosmo](images/cosmo.png \"Cosmo model\")"
   ]
  },
  {
   "cell_type": "markdown",
   "id": "fcf53038-d2fe-436b-a474-1faedf8c65ad",
   "metadata": {},
   "source": [
    "## Définition : numérisation\n",
    "\n",
    "Le **processus** qui passe d'un signal continu à un signal discret s'appelle **numérisation**. La numérisation consiste en 3 étapes:\n",
    "\n",
    "1. **Echantillonnage** : C'est l'étape qui passe du monde continu au monde discret : des valeurs du signal continu sont enregistrés à intervalles réguliers\n",
    "1. **Quantification** : Lorsqu'on a l'ensemble des valeurs discrètes, il s'agit de les arrondir à des valeurs prises dans un ensemble fini\n",
    "1. **Encodage** : Finalement chacune de ces valeurs est reliée à un code numérique\n",
    "\n",
    "Pratiquement, l'appareil électronique qui transforme un signal continu en un signal numérisé s'appelle un **convertisseur analogique vers le numérique** (de l'anglais *Analog-to-digital converter*). Il en existe pour le son (entre un micro et l'enregistrement numérique), pour l'image (après une caméra vidéo numérique) et pour la plupart des autres signaux numérisables (courant, température, etc..)"
   ]
  },
  {
   "cell_type": "markdown",
   "id": "fabf2257-e2be-411d-93e5-0cd63faeb03b",
   "metadata": {},
   "source": [
    "## 0. Exemple introductif : Dessiner une montagne\n",
    "\n",
    "On souhaite numériser la silouette du Matterhorn (4634 m.)\n",
    "\n",
    "![cervin0](images/cervin_echantillonnage0.png \"Cervin0\")\n",
    "\n",
    "### A. Echantillonnage\n",
    "\n",
    "On commence par placer une ligne de temps et *mesurer la hauteur en partant de la gauche vers la droite*\n",
    "\n",
    "![cervin1](images/cervin_echantillonnage1.png \"Cervin1\")\n",
    "\n",
    "Cela nous sonne l'**échantillonnage** suivant :\n",
    "\n",
    "![cervin2](images/cervin_echantillonnage2.png \"Cervin2\")\n",
    "\n",
    "### B. Quantification\n",
    "\n",
    "Une fois les valeurs exactes des hauteurs, on souhaite arrondir ces valeurs de hauteurs pour avoir à stocker moins d'information. Nous allons arrondir à la centaine de mètres.\n",
    "\n",
    "![cervin3](images/cervin_quantification1.png \"Cervin3\")\n",
    "\n",
    "De ces valeurs, nous ne gardons plus que la valeur de la centaine et du milier. C'est la **quantification**\n",
    "\n",
    "![cervin3](images/cervin_quantification2.png \"Cervin3\")\n",
    "\n",
    "### B. Encodage\n",
    "\n",
    "Une fois les valeurs fixées, il faut les convertir en langage machine (les `1` et les `0`). En choisissant 6 bits (nous verrons pourquoi plus tard). \n",
    "\n",
    "| valeur quantifiée    | valeur encodée |\n",
    "| -------- | ------- |\n",
    "|  30 |  111100  |\n",
    "|  29 |  111010  |\n",
    "|  32 |  100000  |\n",
    "|  36 |  100100  |\n",
    "|  39 |  100111  |\n",
    "|  43 |  101011  |\n",
    "|  46 |  101110  |\n",
    "|  46 |  101110  |\n",
    "|  45 |  101101  |\n",
    "|  38 |  100110  |\n",
    "|  36 |  100100  |\n",
    "|  34 |  100010  |\n",
    "|  33 |  100001  |\n",
    "|  35 |  100011  |\n",
    "\n",
    "Ce qui nous donne finalement la suite binaire : `111100111010100000100100100111101011101110101110101101100110100100100010100001100011` qui pourrait être le fichier final `cervin.png`\n"
   ]
  },
  {
   "cell_type": "markdown",
   "id": "3e471fdc-f300-4295-adba-acef30b597a5",
   "metadata": {},
   "source": [
    "## DISCLAIMER : l'espace et le temps : des grandeurs discrètes ou continues ?\n",
    "\n",
    "Cette question est toujours ouverte aujourd'hui. La physique Newtonienne (dite *classique*) considère que ces deux grandeurs sont continues, la physique d'Einstein (dite *relativiste*) considère que les deux grandeurs sont liées, la physique quantique considère qu'elles sont discrètes. D'autres enfin, dans des tentatives de réponses qui relève plus de la philosophie métaphysique : l'espace et le temps ne sont peut-être finalement que des manifestations d'un concept plus profond et encore inconnu. \n",
    "\n",
    "Dans la suite de ce cours, **nous considérerons que les signaux du monde réel que nous voulons numériser sont continus**.\n",
    "\n",
    "Il ne fait pas le moindre doute que la représentation numérique de n'importe quel signal est **discret**. "
   ]
  }
 ],
 "metadata": {
  "kernelspec": {
   "display_name": "Python 3 (ipykernel)",
   "language": "python",
   "name": "python3"
  },
  "language_info": {
   "codemirror_mode": {
    "name": "ipython",
    "version": 3
   },
   "file_extension": ".py",
   "mimetype": "text/x-python",
   "name": "python",
   "nbconvert_exporter": "python",
   "pygments_lexer": "ipython3",
   "version": "3.11.2"
  }
 },
 "nbformat": 4,
 "nbformat_minor": 5
}
