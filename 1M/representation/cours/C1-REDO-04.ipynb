{
 "cells": [
  {
   "cell_type": "markdown",
   "id": "03e43ca3",
   "metadata": {},
   "source": [
    "![ascii art](images/zebra.jpg \"Zebre en ASCII Art\")\n",
    "\n",
    "# C1-REDO-04 : codage de caractères\n",
    "\n",
    "## Objectifs pédagogiques:\n",
    "\n",
    "1. Comprendre la représentation numérique des caractères\n",
    "1. Comprendre qu'il faut se mettre d'accord sur un alphabet commun\n",
    "1. Appliquer sur une communication réussie dans l'aviation\n",
    "1. Comprendre et appliquer le codage ASCII\n",
    "1. Déduire l'alphabet UniCODE de l'alphabet ASCII"
   ]
  },
  {
   "cell_type": "markdown",
   "id": "ddc8bb6f",
   "metadata": {},
   "source": [
    "## Introduction\n",
    "\n",
    "Un fichier informatique n'est finalement rien d'autre qu'une suite d'octets. Historiquement, il a fallu trouver une convention afin que les différents ordinateurs qui ont commencé à communiquer puissent s'entendre.\n",
    "\n",
    "- [ATC Live LSGG](https://www.liveatc.net/hlisten.php?mount=lsgg_afdt&icao=lsgg \"ATC live LSGG\")\n",
    "- [Flightradar24 around LSGG](https://www.flightradar24.com/46.25,5.99/10 \"LSGG Live radar\")\n",
    "\n",
    "## Questions\n",
    "\n",
    "`````{admonition} Questions🔌\n",
    ":class: note\n",
    "\n",
    "1 - qu'est-ce qu'on écoute ? \n",
    "\n",
    "````{admonition} Réponse\n",
    ":class: hint\n",
    "```{dropdown} <span style=\"color:grey\">Cliquer ici pour voir la réponse</span>\n",
    ":animate: fade-in-slide-down\n",
    "Il s'agit des communications en direct entre les contrôleurs aériens de l'aéroport international de Genève (LSGG) et les pilotes des avions en approche et au départ.\n",
    "````\n",
    "\n",
    "2 - Que disent-ils ?\n",
    "\n",
    "````{admonition} Réponse\n",
    ":class: hint\n",
    "```{dropdown} <span style=\"color:grey\">Cliquer ici pour voir la réponse</span>\n",
    ":animate: fade-in-slide-down\n",
    "Les contrôleurs indiquent aux pilotes où ils doivent aller, comment ils doivent le faire (à quelle altitude, quelle vitesse), etc..\n",
    "````\n",
    "\n",
    "\n",
    "3 - Y a-t-il des mots qui arrivent souvent ?\n",
    "````{admonition} Réponse\n",
    "```{dropdown} <span style=\"color:grey\">Cliquer ici pour voir la réponse</span>\n",
    ":animate: fade-in-slide-down\n",
    "On entend les indicatifs des aéronefs, et des mots tels que *Alpha*, *Bravo*, *Charlie*. Les chiffres sont donnés en noeuds (*knots\") et en pieds (*feet*).\n",
    "````\n",
    "\n",
    "4 - Comment les intervenants se comprennent-ils ? \n",
    "````{admonition} Réponse\n",
    "```{dropdown} <span style=\"color:grey\">Cliquer ici pour voir la réponse</span>\n",
    ":animate: fade-in-slide-down\n",
    "Ils se sont mis d'accord sur un alphabet commun et une façon de communiquer commune.\n",
    "````\n",
    "``````\n",
    "\n",
    "\n",
    "Il y a un indicatif de l'émetteur, un indicatif du récepteur, un alphabet commun, des métriques communes"
   ]
  },
  {
   "cell_type": "markdown",
   "id": "52b25f95",
   "metadata": {},
   "source": [
    "## Exemple introductif : alphabet de l'aviation\n",
    "\n",
    "L'alphabet radiophonique international est utilisé pour transmettre des messages quelque soit les possibles interférences, incompréhensions entre locuteurs ou mode de transmission.\n",
    "\n",
    "Il consiste à transmettre un mot *acrophonique*, c'est-à-dire dont la première lettre représente la lettre transmise.\n",
    "\n",
    "Voici le code de l'OACI (Organisation de l'Aviation Civile Internationale) :\n",
    "\n",
    "![AlphabetOTAN](images/otan_alphabet.png \"Alphabet OTAN\")\n",
    "\n",
    "Chaque code a été réfléchi afin que si une partie seulement de celui-ci est transmise, il soit possible de comprendre l'entier du message.\n",
    "\n",
    "### Utilisation\n",
    "\n",
    "1. Indicatif de l'émetteur\n",
    "1. Indicatif du récepteur\n",
    "1. Message\n",
    "1. Fin\n",
    "\n",
    "**Exemples**\n",
    "\n",
    "L'avion long-courrier immatriculé PT-FSB est autorisé au décollage\n",
    "\n",
    "*...Fox-trot Sierra Bravo, heavy, runway two-two, clearance allowed, wind three-ten-zero, eight knots*\n",
    "\n",
    "\n",
    "Il existe des situations où toute communication est levée : **l'urgence absolue**. Exemple, l'avion immatriculé HB-CDF demande l'urgence absolue :\n",
    "\n",
    "*... Mayday, mayday, mayday, Hotel, Bravo, Charlie, Delta, Fox, mayday, mayday, mayday. Fire on board. Request to land immediately*"
   ]
  },
  {
   "cell_type": "markdown",
   "id": "6d57f4f0",
   "metadata": {},
   "source": [
    "### Exercice : transmettre un message\n",
    "\n",
    "- Transmettez par oral votre prénom en utilisant l'alphabet de l'OACI\n",
    "\n",
    "### Exercice : transmettre un message partiellement\n",
    "\n",
    "- Simulez un problème de communication et transmettez votre prénom par oral en utilisant que la moitié du mot de l'alphabet de l'OACI"
   ]
  },
  {
   "cell_type": "markdown",
   "id": "bc4d0fbe",
   "metadata": {},
   "source": [
    "## Communication entre ordinateurs\n",
    "\n",
    "Dans un réseau, comme Internet, deux ordinateurs doivent aussi \"se mettre d'accord\" pour communiquer dans de bonnes conditions. \n",
    "\n",
    "Historiquement, c'est **du texte qui a été transmis entre deux ordinateurs** pour la première fois.\n",
    "\n",
    "Il s'agit notamment d'établir un code pour qu'une lettre envoyée soit décodée correctement par le récepteur. "
   ]
  },
  {
   "cell_type": "markdown",
   "id": "cd8f0807",
   "metadata": {},
   "source": [
    "## Le codage ASCII\n",
    "\n",
    "Le code ASCII pour **American Standard Code for Information Interchange** est né dans les années 1960 aux USA. La table est basée sur un encodage sur 7 bits.\n",
    "\n",
    "![table codage ASCII](images/ASCII.png \"Table ASCII\")"
   ]
  },
  {
   "cell_type": "markdown",
   "id": "ad80b4e4",
   "metadata": {},
   "source": [
    "## Définition : nombre entier hexadécimal\n",
    "\n",
    "Un nombre entier hexadécimal est un nombre entier qui s'écrit uniquement avec les **seize** symboles **0, 1, 2, 3, 4, 5, 6, 7, 8, 9, A, B, C, D, E** et **F** \n"
   ]
  },
  {
   "cell_type": "markdown",
   "id": "3311e6db",
   "metadata": {},
   "source": [
    "## Conversion d'un nombre entier binaire en hexadécimal (base 2 à base 16)\n",
    "\n",
    "Il suffit de regrouper les bits par paquets de 4, quitte à rajouter des 0 sur les bits de poids fort (à gauche)\n",
    "\n",
    "Exemple : \n",
    "\n",
    "1. $101001000011_{2}$ en base 2\n",
    "1. $1010_{2} , 0100_{2}, 0011_{2}$ toujours en base 2\n",
    "1. $1010_{2} = A_{16}$, $0100_{2} = 4_{16}$, $0011_{2} = 3_{16}$\n",
    "1. En base 16 : A43"
   ]
  },
  {
   "cell_type": "markdown",
   "id": "c9f06e07",
   "metadata": {},
   "source": [
    "## Exercice 1\n",
    "\n",
    "Ecrivez le code binaire pour les caractères suivants :\n",
    "\n",
    "- A\n",
    "- a\n",
    "- 0"
   ]
  },
  {
   "cell_type": "markdown",
   "id": "f7251096",
   "metadata": {},
   "source": [
    "## Exercice 2\n",
    "\n",
    "Quel est le texte encodé par les caractères suivants :\n",
    "\n",
    "- $42_{16}, 6F_{16}, 6E_{16}, 6A_{16}, 6F_{16}, 75_{16}, 72_{16}$\n",
    "- $1000010_{2}, 1001001_{2}, 1100101_{2}, 1101110_{2}, 1110110_{2}, 1100101_{2}, 1101110_{2}, 1110101_{2}, 1100101_{2}$\n",
    "- $49_{10}, 57_{10}, 55_{10}, 53_{10}$"
   ]
  },
  {
   "cell_type": "markdown",
   "id": "30c5af1b-d2d7-451b-bbba-740a08d442f3",
   "metadata": {},
   "source": [
    "## ASCII Art\n",
    "\n",
    "Dans les jeunes années de l'informatique, il a été trouvé des moyens de communiquer des images sous la forme d'arrangements des symboles de l'alphabet ASCII. C'est ce que on appelle **ASCII Art**\n",
    "\n",
    "[Voir quelques exemples d'ASCII art](https://www.asciiart.eu/ \"ASCII art\")"
   ]
  },
  {
   "cell_type": "markdown",
   "id": "9a91200f",
   "metadata": {},
   "source": [
    "## Exercice 3 (pour aller plus loin)\n",
    "\n",
    "Comment faire la différence entre un octet qui représente un nombre entier et un octet qui représente un encodage en ASCII (pour autant que le bit de poid le plus fort soit mis à 0) ?"
   ]
  },
  {
   "cell_type": "markdown",
   "id": "e80e2295",
   "metadata": {},
   "source": [
    "## Le codage Unicode\n",
    "\n",
    "Le codage ASCII ne permet pas d'écrire des caractères accentués ou des symboles provenant d'autres langues. C'est par exemple le cas du chinois, de l'arabe ou du grec mais aussi les hiéroglyphes égyptiens ou les émojis par exemple.\n",
    "\n",
    "Pour ce faire, il a fallu étendre le codage à plus de bits. Unicode est le standard le plus accepté. Il est possible de coder des caractères en utilisant 32 bits au maximum. \n",
    "\n",
    "Cela signifie qu'il est possible de coder $2^{32}$ caractères différents, soit plus de 4 milliards (4'294'967'296) ce qui devrait suffir pour les besoins actuels et futurs de l'ensemble des codages de la planète."
   ]
  },
  {
   "cell_type": "markdown",
   "id": "b101844e",
   "metadata": {},
   "source": [
    "## Outils externes\n",
    "\n",
    "- [convertisseur base 2, 10 et 16 online](https://www.rapidtables.org/fr/convert/number/hex-to-binary.html)"
   ]
  }
 ],
 "metadata": {
  "kernelspec": {
   "display_name": "Python 3 (ipykernel)",
   "language": "python",
   "name": "python3"
  },
  "language_info": {
   "codemirror_mode": {
    "name": "ipython",
    "version": 3
   },
   "file_extension": ".py",
   "mimetype": "text/x-python",
   "name": "python",
   "nbconvert_exporter": "python",
   "pygments_lexer": "ipython3",
   "version": "3.11.2"
  }
 },
 "nbformat": 4,
 "nbformat_minor": 5
}
