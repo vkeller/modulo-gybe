{
 "cells": [
  {
   "cell_type": "markdown",
   "id": "07de859e",
   "metadata": {},
   "source": [
    "# Environnement de développement"
   ]
  },
  {
   "cell_type": "markdown",
   "id": "d059a42e",
   "metadata": {},
   "source": [
    "Un **environnement de développement** (*Integrated Development Environment* en anglais) est un ensemble logiciel permettant de :\n",
    "\n",
    "1. programmer dans un ou plusieurs languages de programmation\n",
    "1. compiler et exécuter un code source\n",
    "1. débugguer un code source\n",
    "\n"
   ]
  },
  {
   "cell_type": "markdown",
   "id": "d06343d9",
   "metadata": {},
   "source": [
    "## Langage de programmation"
   ]
  },
  {
   "cell_type": "markdown",
   "id": "0a5bbf1c",
   "metadata": {},
   "source": [
    "Un langage de programmation est un language de haut niveau permettant d'interagir avec l'ordinateur qui lui ne comprend que 0 et 1. Une bonne définition est la suivante (https://www.techno-science.net):\n",
    "\n",
    "> Un langage de programmation est un langage informatique, permettant à un être humain d'écrire un code source qui sera analysé par une machine, généralement un ordinateur. Le code source subit ensuite une transformation ou une évaluation dans une forme exploitable par la machine, ce qui permet d'obtenir un programme. Les langages permettent souvent de faire abstraction des mécanismes de bas niveau de la machine, de sorte que le code source représentant une solution puisse être écrit et compris par un être humain."
   ]
  },
  {
   "cell_type": "markdown",
   "id": "d7caf7da",
   "metadata": {},
   "source": [
    "Il existe des milliers de langages de programmation. Il existe un site web qui en répertorie près de 1500 : https://99-bottles-of-beer.net"
   ]
  },
  {
   "cell_type": "markdown",
   "id": "9dfb613e",
   "metadata": {},
   "source": [
    "## Choix du langage de programmation"
   ]
  },
  {
   "cell_type": "markdown",
   "id": "f595c820",
   "metadata": {},
   "source": [
    "Ce cours sera basé sur [Python 3](https://www.python.org)."
   ]
  },
  {
   "cell_type": "markdown",
   "id": "3b36a7a4",
   "metadata": {},
   "source": [
    "## Installation d'un IDE"
   ]
  },
  {
   "cell_type": "markdown",
   "id": "5f4d1bc2",
   "metadata": {},
   "source": [
    "Il en existe des dizaines, deux seront utilisé :\n",
    "\n",
    "1. Thonny : en environnement de développement pour débutants\n",
    "1. jupyter-lab : un module spécifique de Python qui permet d'écrire des programmes dans un navigateur"
   ]
  },
  {
   "cell_type": "markdown",
   "id": "784e4c69",
   "metadata": {},
   "source": [
    "### Thonny"
   ]
  },
  {
   "cell_type": "markdown",
   "id": "b903c6a8",
   "metadata": {},
   "source": [
    "Thonny est un environnement de développement en sources ouvertes (*open source software* en anglais) et gratuit.\n",
    "\n",
    "[Télécharger Thonny sur le site](https://thonny.org/) pour la version de son système d'exploitation (MacOS, Windows ou Linux) et suivre les instructions de l'installateur"
   ]
  },
  {
   "cell_type": "markdown",
   "id": "428913fd",
   "metadata": {},
   "source": [
    "### jupyter-lab"
   ]
  },
  {
   "cell_type": "markdown",
   "id": "d69d84af",
   "metadata": {},
   "source": [
    "L'installation de Jupyter-lab est un peu plus ardue que celle de Thonny. Il requiert l'installation préalable de Pyhton sur la machine hote. \n",
    "\n",
    "[Télécharger l'environnement jupyter](https://jupyter.org/install) et suivre les instructions."
   ]
  },
  {
   "cell_type": "code",
   "execution_count": null,
   "id": "a51cd3e3",
   "metadata": {},
   "outputs": [],
   "source": []
  }
 ],
 "metadata": {
  "kernelspec": {
   "display_name": "Python 3 (ipykernel)",
   "language": "python",
   "name": "python3"
  },
  "language_info": {
   "codemirror_mode": {
    "name": "ipython",
    "version": 3
   },
   "file_extension": ".py",
   "mimetype": "text/x-python",
   "name": "python",
   "nbconvert_exporter": "python",
   "pygments_lexer": "ipython3",
   "version": "3.9.2"
  }
 },
 "nbformat": 4,
 "nbformat_minor": 5
}
