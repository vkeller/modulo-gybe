{
 "cells": [
  {
   "cell_type": "markdown",
   "id": "a351832d-e8c3-41ee-a51b-50f442e0c83e",
   "metadata": {},
   "source": [
    "![www](images/www.png \"Workd Wide Web\")\n",
    "\n",
    "# TP2-ARCH-04 : Services réseau"
   ]
  },
  {
   "cell_type": "markdown",
   "id": "bcc4d0d7-ae6b-47c1-9a20-fa28ce33c3ef",
   "metadata": {},
   "source": [
    "## Objectifs\n",
    "\n",
    "- Faire d'un simple Raspberry Pi un point d'accès Wifi\n",
    "- Installer et configurer un serveur web\n",
    "- Créer une page HTML\n",
    "- Accéder aux pages des autres élèves"
   ]
  },
  {
   "cell_type": "markdown",
   "id": "2501ead2-4cb2-47d7-a210-3dc9aa2a7852",
   "metadata": {},
   "source": [
    "## Partie 1 : Point d'accès Wifi\n",
    "\n",
    "On va faire du réseau de Raspberry Pi des **points d'accès Wifi**. Voici le schéma du projet :\n",
    "\n",
    "![AP](images/AP.png \"Access point wifi\")\n",
    "\n",
    "Le Raspberry Pi va permettre à n'importe quel appareil (tablette, laptop, téléphone portable) de pouvoir accéder au réseau privé constitué de tous les Raspberry Pi."
   ]
  },
  {
   "cell_type": "markdown",
   "id": "1a07c9bf-fdaa-4833-adeb-c665e43d41c7",
   "metadata": {},
   "source": [
    "### Configuration d'un *Access Point Wifi*\n",
    "\n",
    "La configuration d'un point d'accès (*Access Point*) n'est pas compliquée, c'est exactement ce qui a été fait pour le Raspberry Pi Prof. Pour ce faire, votre Raspberry Pi devra être à le fois :\n",
    "\n",
    "1. Un **routeur** (passerelle) entre le réseau filaire des RPi et les appareils connectés en Wifi\n",
    "1. Un **serveur DHCP** pour permettre aux appareils connectés de posséder une adresse IP (réseau LAN privé)\n",
    "1. Un **serveur DNS** pour traiter les requêtes **Adresse IP -> Nom de machine**"
   ]
  },
  {
   "cell_type": "markdown",
   "id": "2ccc6d4c-a751-4c71-b59e-2ec1a7a96d9d",
   "metadata": {},
   "source": [
    "## Marche à suivre\n",
    "\n",
    "Il faut d'abord configurer l'interface `wlan0` (wifi) pour qu'elle se trouve en Suisse.\n",
    "\n",
    "![country](images/country.png \"rasp-config\")\n",
    "\n",
    "[Source de l'image et procédure complète](https://raspberrytips.fr/point-acces-wifi-raspberry-pi/)"
   ]
  },
  {
   "cell_type": "markdown",
   "id": "aba947c0-f0ef-4864-a0d0-a4f220134dd2",
   "metadata": {},
   "source": [
    "## Configuration du hotspot\n",
    "\n",
    "Vous pouvez ajouter une interface hostspot depuis le menu réseau (double flèches en haut à droite). En suivant les éléments ci-dessous\n",
    "\n",
    "Dans les paramètres de l'interface graphique des connexions réseau (icône \"flèches\" en haut à droite), vous devriez avoir la configuration qui ressemble à :\n",
    "\n",
    "![wifi1](images/wifi1.png \"Config réseau\")\n",
    "\n",
    "et à :\n",
    "\n",
    "![wifi2](images/wifi2.png \"Config réseau\")\n",
    "\n",
    "Testez ensuite avec votre téléphone que vous pouvez vous connecter au wifi !\n",
    "\n",
    "Quelle configuration réseau avez-vous sur votre téléphone ? Adresse IP, masque ?"
   ]
  },
  {
   "cell_type": "markdown",
   "id": "dc407138-2aa0-446a-bffe-7f9654fd892a",
   "metadata": {},
   "source": [
    "## Partie 2 : Serveur Web\n",
    "\n",
    "Cette seconde partie permet d'installer, de configurer et de modifier un **serveur HTTP** (ou **serveur web**. Nous utiliserons [apache](https://httpd.apache.org/) qui est le serveur utilisé sur près [d'un tiers des serveurs web du monde](https://w3techs.com/technologies/history_overview/web_server). C'est un logiciel open source et gratuit. "
   ]
  },
  {
   "cell_type": "markdown",
   "id": "0cf6d3bd-b9c4-47db-8e41-5480bfe49712",
   "metadata": {},
   "source": [
    "### Installation Apache\n",
    "\n",
    "\n",
    "1. On commence par vérifier s'il y a des mises à jour avec `sudo apt update`\n",
    "1. On installe Apache avec `sudo apt install apache2`\n",
    "1. Et on démarre le serveur avec `sudo systemctl start apache2`\n",
    "1. Depuis le Raspberry Pi, ouvrez un navigateur, puis l'adresse \"localhost\", vous devriez voir une page d'accueil standard d'Apache ! Mieux encore, vous pouvez le faire depuis votre téléphone ! Comment ? avec l'adresse IP de votre Raspberry Pi!\n",
    "1. Pour voir l'adresse de votre Raspberry Pi, tapez `ifconfig`"
   ]
  },
  {
   "cell_type": "markdown",
   "id": "eca54997-cdc7-4010-b44f-11c14b06a3c9",
   "metadata": {},
   "source": [
    "## Partie 3 : Modifier le serveur web\n",
    "\n",
    "L'idée de cette dernière partie est de modifier la page d'accueil de notre serveur web\n",
    "\n",
    "\n",
    "1. Allons d'abord dans le dossier qui nous intéresse, la racine de notre site web, avec `cd /var/www/html`\n",
    "1. Puis on regarde ce qu'il y a ici avec `ls`. Le dossier ne contient qu'un fichier : `index.html`. C'est celui que vous pouvez lire en page d'accueil\n",
    "1. On va en garder une copie au cas où, on fait `sudo mv index.html index.html2`\n",
    "1. Enfin, cette simple commande va créer un nouveau fichier d'accueil du site. Vous n'avez pas le choix du nom du fichier `sudo touch index.html`\n",
    "1. Enfin, pour ouvrir le fichier avec un éditeur, faites `sudo geany index.html`\n",
    "1. Dans Geany, écrivez une phrase qui vous identifie, par exemple `<h1>Bienvenue sur le site de Xenia et Nadia</h1>`\n",
    "1. Enregistrez et affichez votre page sur votre téléphone !\n",
    "1. Accédez à la page d'accueil de vos camarades !\n",
    "\n",
    "Le fichier est en HTML (*Hypertext Markup Langage*). C'est un langage de description par balises (par exemple `<h1>` et `</h1>` permettent de mettre du texte en très gros). Le HTML est le seul langage utilisé sur les pages web des sites du monde entier puisque le seul accepté, compris et traduits par les navigateurs (comme `firefox`)"
   ]
  },
  {
   "cell_type": "markdown",
   "id": "22d086ae-e344-4a3c-a5fb-2da04ecce0f3",
   "metadata": {},
   "source": [
    "## Partie 4 : Attaque du serveur HTTP\n",
    "\n",
    "Une attaque par déni de service, ou DDOS, c'est bombarder un serveur de requêtes réseau pour le paralyser. Ce genre d'attaque est l'une des plus anciennes à avoir été utilisée sur le WWW.\n",
    "\n",
    "Il existe quantité de logiciels pour ce faire. Utilisons un logiciel open source et gratuit [disponible ici](https://github.com/codingplanets/Overload-DoS)\n",
    "\n",
    "Paralysez donc le RPi de vos camarades !"
   ]
  },
  {
   "cell_type": "code",
   "execution_count": null,
   "id": "6a70a82d-3947-4532-a0e2-bb3ecbf70b0e",
   "metadata": {},
   "outputs": [],
   "source": []
  }
 ],
 "metadata": {
  "kernelspec": {
   "display_name": "Python 3 (ipykernel)",
   "language": "python",
   "name": "python3"
  },
  "language_info": {
   "codemirror_mode": {
    "name": "ipython",
    "version": 3
   },
   "file_extension": ".py",
   "mimetype": "text/x-python",
   "name": "python",
   "nbconvert_exporter": "python",
   "pygments_lexer": "ipython3",
   "version": "3.9.2"
  }
 },
 "nbformat": 4,
 "nbformat_minor": 5
}
