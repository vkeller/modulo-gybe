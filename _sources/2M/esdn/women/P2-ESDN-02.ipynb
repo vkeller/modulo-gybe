{
 "cells": [
  {
   "cell_type": "markdown",
   "id": "145fed84-2399-4c8a-a899-9cf87a9b9324",
   "metadata": {},
   "source": [
    "![woman](images/womanai.jpeg \"Woman in computing\")\n",
    "\n",
    "# P2-ESDN-02 : Femmes dans l'informatique"
   ]
  },
  {
   "cell_type": "markdown",
   "id": "fb54be60-e508-4fe9-aa98-45b3c1799595",
   "metadata": {},
   "source": [
    "## Objectifs\n",
    "\n",
    "- Liste d'informaticiennes à choix pour les élèves\n",
    "- Les élèves reçoivent une informaticienne  :\n",
    "    - comprendre les enjeux sociaux cachés derrière l'informaticienne\n",
    "    - préparer un exposé sur la personne en suivant le plan proposé"
   ]
  },
  {
   "cell_type": "markdown",
   "id": "4bac7755-4ca7-4452-b547-6961a9e68189",
   "metadata": {},
   "source": [
    "## Format\n",
    "\n",
    "1. Une présentation au format Powerpoint/PDF de 5 slides max + 1 slide avec les sources\n",
    "1. **AUCUNE NOTE N'EST AUTORISÉ PENDANT lA PRÉSENTATION**\n",
    "1. **10 minutes de passage + 5 minutes de questions/réponses**\n",
    "\n",
    "Votre présentation doit se concentrer sur **l'enjeu social** pas sur la **personne**. Elle doit permettre à l'ensemble de la classe de pouvoir se forger un avis éclairé. Chaque élément de votre présentation doit être sourcé.\n",
    "\n",
    "### Ce que ne DOIT PAS être la présentation\n",
    "\n",
    "- une biographie\n",
    "- une liste de faits et/ou de dates en lien avec la personne\n",
    "\n",
    "### Ce que DOIT être la présentation\n",
    "\n",
    "- Identifier l'enjeu social principal en lien avec la personne\n",
    "- Mettre cet enjeu social en perspective avec les développements du numérique\n",
    "- Mobiliser les concepts techniques en jeu (par exemple : réseau, cryptologie, etc...)\n",
    "- Rechercher le ou les références scientifiques de l'enjeu social considéré\n",
    "    - [google scholar](https://scholar.google.com/)\n",
    "    - Bibliothèque du gymnase\n",
    "\n",
    "### A rendre sur Moodle\n",
    "\n",
    "- Présentation powerpoint/PDF"
   ]
  },
  {
   "cell_type": "markdown",
   "id": "a3a3a81c-fbbc-4c5d-8353-c7192520bbab",
   "metadata": {},
   "source": [
    "## Liste des informaticiennes, hacktivistes, cybermilitantes et cyberféministes\n",
    "\n",
    "L'**hacktivisme** (*mot-valise* formé de **hacker** et **activisme**) est une forme d'engagement collectif ou individuel dans un but collectif utilisant les compétences en **piratage informatique** dans le but d'influencer certaines politiques ou choix sociétaux. Un ou une **hacktiviste** est une personne qui se revendique de l'hacktivisme et qui agit seule ou en groupe  "
   ]
  },
  {
   "cell_type": "markdown",
   "id": "d4378b0c-d6aa-4b83-9a8b-252ba05d51f2",
   "metadata": {},
   "source": [
    "### Alexandra Elbakyan\n",
    "\n",
    "![elbakyan](../hacktivists/images/elbakyan.png \"Alexandra Elbakyan\")\n",
    "\n",
    "*Scientific knowledge belongs to humanity*\n",
    "\n",
    "(*La connaissance scientifique appartient à l'Humanité*)"
   ]
  },
  {
   "cell_type": "markdown",
   "id": "c9dd57c4-682f-41ea-a698-8c94b2bf60b0",
   "metadata": {},
   "source": [
    "### Jude Milhon\n",
    "\n",
    "![milhon](../hacktivists/images/milhon.jpg \"Jude, protecter of the hackers\")\n",
    "\n",
    "*When you’re in cyberspace no one knows what your sex is*\n",
    "\n",
    "(*Lorsque vous êtes dans le cyber espace, personne ne connaît votre sexe*)"
   ]
  },
  {
   "cell_type": "markdown",
   "id": "27dbf94a-f252-494b-9882-1c63b2aad924",
   "metadata": {},
   "source": [
    "### Sarah Jane Plant (Sadie Plant)\n",
    "\n",
    "![plant](../hacktivists/images/plant.jpg \"Sadie Plant\")\n",
    "\n",
    "*When computers were vast systems of transistors and valves which needed to be coaxed into action, it was women who turned them on. When computers became the miniaturized circuits of silicon chips, it was women who assembled them . . . when computers were virtually real machines, women wrote the software on which they ran. And when computer was a term applied to flesh and blood workers, the bodies which composed them were female.*\n",
    "\n",
    "(*Lorsque les ordinateurs étaient d'immenses systèmes de transistors et de tubes à vide qu'il fallait convaincre à fonctionner, ce sont les femmes qui les ont mis en marche. Quand les ordinateurs sont devenus des circuits miniaturisés de puces de silicium, ce sont les femmes qui les ont assemblés... quand les ordinateurs étaient pratiquement de vraies machines, ce sont les femmes qui ont écrit les logiciels sur lesquels ils fonctionnaient. Et quand l'ordinateur était un terme appliqué aux travailleurs en chair et en os, les corps qui les composaient étaient féminins.*)"
   ]
  },
  {
   "cell_type": "markdown",
   "id": "59628d1c-bb8d-4a96-ad40-52714f4d55bd",
   "metadata": {},
   "source": [
    "### Judy Wajcman\n",
    "\n",
    "![wajcman](../hacktivists/images/wajcman.jpg \"Judy Wajcman\")\n",
    "\n",
    "*Zeros now have a place, and they displace the phallic order of ones.*\n",
    "\n",
    "(*Les zéros on désormais leur place, et ils remplacent l'ordre phallique des uns*)"
   ]
  },
  {
   "cell_type": "markdown",
   "id": "5f396efb-5d00-4234-8900-7849a694a863",
   "metadata": {},
   "source": [
    "### Soeur Mary Kenneth Keller\n",
    "\n",
    "![keller](../hacktivists/images/Keller.png \"Sister Keller\")\n",
    "\n",
    "*We’re having an information explosion, and it’s certainly obvious that information is of no use unless it’s available.*\n",
    "\n",
    "(*Nous sommes en train d'assister à une explosion d'information, et il est évident que l'information n'est d'aucune utilité à moins d'être disponible*)"
   ]
  },
  {
   "cell_type": "code",
   "execution_count": null,
   "id": "89f2cf0f-69a7-4ffc-9123-af43dcefd073",
   "metadata": {},
   "outputs": [],
   "source": []
  }
 ],
 "metadata": {
  "kernelspec": {
   "display_name": "Python 3 (ipykernel)",
   "language": "python",
   "name": "python3"
  },
  "language_info": {
   "codemirror_mode": {
    "name": "ipython",
    "version": 3
   },
   "file_extension": ".py",
   "mimetype": "text/x-python",
   "name": "python",
   "nbconvert_exporter": "python",
   "pygments_lexer": "ipython3",
   "version": "3.9.2"
  }
 },
 "nbformat": 4,
 "nbformat_minor": 5
}
