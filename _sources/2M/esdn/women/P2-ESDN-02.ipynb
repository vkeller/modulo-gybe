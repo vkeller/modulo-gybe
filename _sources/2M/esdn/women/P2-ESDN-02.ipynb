{
 "cells": [
  {
   "cell_type": "markdown",
   "id": "145fed84-2399-4c8a-a899-9cf87a9b9324",
   "metadata": {},
   "source": [
    "![woman](images/womanai.jpeg \"Woman in computing\")\n",
    "\n",
    "# P2-ESDN-02 : Femmes dans l'informatique"
   ]
  },
  {
   "cell_type": "markdown",
   "id": "fb54be60-e508-4fe9-aa98-45b3c1799595",
   "metadata": {},
   "source": [
    "## Objectifs\n",
    "\n",
    "- Liste d'informaticiennes à choix pour les élèves\n",
    "- Les élèves reçoivent une informaticienne  :\n",
    "    - comprendre les enjeux sociaux cachés derrière l'informaticienne\n",
    "    - préparer un exposé sur la personne en suivant le plan proposé"
   ]
  },
  {
   "cell_type": "markdown",
   "id": "4bac7755-4ca7-4452-b547-6961a9e68189",
   "metadata": {},
   "source": [
    "## Format\n",
    "\n",
    "1. Une présentation au format Powerpoint/PDF de 5 slides max + 1 slide avec les sources\n",
    "1. **AUCUNE NOTE N'EST AUTORISÉ PENDANT LA PRÉSENTATION**\n",
    "1. **10 minutes de passage + 5 minutes de questions/réponses**\n",
    "\n",
    "Votre présentation doit se concentrer sur **l'enjeu social** pas sur la **personne**. Elle doit permettre à l'ensemble de la classe de pouvoir se forger un avis éclairé. Chaque élément de votre présentation doit être sourcé.\n",
    "\n",
    "### Ce que ne DOIT PAS être la présentation\n",
    "\n",
    "- une biographie\n",
    "- une liste de faits et/ou de dates en lien avec la personne\n",
    "\n",
    "### Ce que DOIT être la présentation\n",
    "\n",
    "- Identifier l'enjeu social principal en lien avec la personne\n",
    "- Mettre cet enjeu social en perspective avec les développements du numérique\n",
    "- Mobiliser les concepts techniques en jeu (par exemple : réseau, cryptologie, etc...)\n",
    "- Rechercher le ou les références scientifiques de l'enjeu social considéré\n",
    "    - [google scholar](https://scholar.google.com/)\n",
    "    - Bibliothèque du gymnase"
   ]
  },
  {
   "cell_type": "markdown",
   "id": "a3a3a81c-fbbc-4c5d-8353-c7192520bbab",
   "metadata": {},
   "source": [
    "## Liste des informaticiennes, hacktivistes, cybermilitantes et cyberféministes\n",
    "\n",
    "L'**hacktivisme** (*mot-valise* formé de **hacker** et **activisme**) est une forme d'engagement collectif ou individuel dans un but collectif utilisant les compétences en **piratage informatique** dans le but d'influencer certaines politiques ou choix sociétaux. Un ou une **hacktiviste** est une personne qui se revendique de l'hacktivisme et qui agit seule ou en groupe  "
   ]
  },
  {
   "cell_type": "markdown",
   "id": "d4378b0c-d6aa-4b83-9a8b-252ba05d51f2",
   "metadata": {},
   "source": [
    "### Alexandra Elbakyan\n",
    "\n",
    "![elbakyan](../hacktivists/images/elbakyan.png \"Alexandra Elbakyan\")\n",
    "\n",
    "*Scientific knowledge belongs to humanity*\n",
    "\n",
    "(*La connaissance scientifique appartient à l'Humanité*)"
   ]
  },
  {
   "cell_type": "markdown",
   "id": "c9dd57c4-682f-41ea-a698-8c94b2bf60b0",
   "metadata": {},
   "source": [
    "### Jude Milhon\n",
    "\n",
    "![milhon](../hacktivists/images/milhon.jpg \"Jude, protecter of the hackers\")\n",
    "\n",
    "*When you’re in cyberspace no one knows what your sex is*\n",
    "\n",
    "(*Lorsque vous êtes dans le cyber espace, personne ne connaît votre sexe*)"
   ]
  },
  {
   "cell_type": "markdown",
   "id": "27dbf94a-f252-494b-9882-1c63b2aad924",
   "metadata": {},
   "source": [
    "### Sarah Jane Plant (Sadie Plant)\n",
    "\n",
    "![plant](../hacktivists/images/plant.jpg \"Sadie Plant\")\n",
    "\n",
    "*When computers were vast systems of transistors and valves which needed to be coaxed into action, it was women who turned them on. When computers became the miniaturized circuits of silicon chips, it was women who assembled them . . . when computers were virtually real machines, women wrote the software on which they ran. And when computer was a term applied to flesh and blood workers, the bodies which composed them were female.*\n",
    "\n",
    "(*Lorsque les ordinateurs étaient d'immenses systèmes de transistors et de tubes à vide qu'il fallait convaincre à fonctionner, ce sont les femmes qui les ont mis en marche. Quand les ordinateurs sont devenus des circuits miniaturisés de puces de silicium, ce sont les femmes qui les ont assemblés... quand les ordinateurs étaient pratiquement de vraies machines, ce sont les femmes qui ont écrit les logiciels sur lesquels ils fonctionnaient. Et quand l'ordinateur était un terme appliqué aux travailleurs en chair et en os, les corps qui les composaient étaient féminins.*)"
   ]
  },
  {
   "cell_type": "markdown",
   "id": "59628d1c-bb8d-4a96-ad40-52714f4d55bd",
   "metadata": {},
   "source": [
    "### Judy Wajcman\n",
    "\n",
    "![wajcman](../hacktivists/images/wajcman.jpg \"Judy Wajcman\")\n",
    "\n",
    "*Zeros now have a place, and they displace the phallic order of ones.*\n",
    "\n",
    "(*Les zéros on désormais leur place, et ils remplacent l'ordre phallique des uns*)"
   ]
  },
  {
   "cell_type": "markdown",
   "id": "5f396efb-5d00-4234-8900-7849a694a863",
   "metadata": {},
   "source": [
    "### Soeur Mary Kenneth Keller\n",
    "\n",
    "![keller](../hacktivists/images/Keller.png \"Sister Keller\")\n",
    "\n",
    "*We’re having an information explosion, and it’s certainly obvious that information is of no use unless it’s available.*\n",
    "\n",
    "(*Nous sommes en train d'assister à une explosion d'information, et il est évident que l'information n'est d'aucune utilité à moins d'être disponible*)"
   ]
  },
  {
   "cell_type": "markdown",
   "id": "99f4b90a-e62e-48a0-aebb-bb705c2fedf7",
   "metadata": {},
   "source": [
    "### Marie-Christine Sawley\n",
    "\n",
    "![sawley](images/mcs.jpg \"Marie-Christine Sawley\")\n",
    "\n",
    "*As with many careers, mine was not really planned from the beginning. In high school, I had little talent for anything except math, physics, and languages; all the rest was of little interest to me. I had told my parents when I was around 8 that I wanted to be an engineer when grown up—they thought this was unusual but did nothing to change my mind.*\n",
    "\n",
    "source : [Women in HPC](https://womeninhpc.org/women-in-hpc/marie-christine-sawley)\n",
    "\n",
    "(*Comme pour beaucoup de carrières, la mienne n’a pas vraiment été planifiée dès le départ. Au lycée, je n’avais de talent que pour les mathématiques, la physique et les langues ; tout le reste m’intéressait peu. J’avais dit à mes parents, vers l’âge de huit ans, que je voulais devenir ingénieur quand je serais grand — ils ont trouvé cela inhabituel, mais n’ont rien fait pour me faire changer d’avis.*)"
   ]
  },
  {
   "cell_type": "markdown",
   "id": "4fd357ae-f147-4f4d-bd91-c09536de4b1f",
   "metadata": {},
   "source": [
    "### Radia Perlman\n",
    "\n",
    "![perlman](images/perlman.jpg \"Radia Perlman\")\n",
    "\n",
    "*The world would be a better place if more engineers, like me, hated technology. The stuff I design, if I'm successful, nobody will ever notice. Things will just work, and will be self-managing.*\n",
    "\n",
    "(*Le monde serait meilleur si davantage d'ingénieurs, comme moi, détestaient la technologie. Si je réussis, personne ne remarquera ce que je conçois. Tout fonctionnera tout seul et s'autogérera.*)"
   ]
  },
  {
   "cell_type": "markdown",
   "id": "ecfee4a8-b804-4ca3-920d-febfee29d622",
   "metadata": {},
   "source": [
    "### Parisa Tabriz\n",
    "\n",
    "![tabriz](images/tabriz.jpg \"Parisa\")\n",
    "\n",
    "*As an adult, you go to conferences, you rarely have women asking questions. Clearly, there’s some problem that happens between children’s age and my age, and it’s a really complex topic. But just exposing girls or students to programming and cybersecurity and them having a positive experience and not making it seem like this thing only geniuses can do is important to gain confidence and hopefully get just a couple more people consider it as a career.*\n",
    "\n",
    "(*En tant qu'adulte, quand on va à des conférences, on entend rarement des femmes poser des questions. Il y a clairement des problèmes entre l'âge des enfants et le mien, et c'est un sujet très complexe. Mais le simple fait d'exposer des filles ou des étudiants à la programmation et à la cybersécurité et de leur faire vivre une expérience positive, sans donner l'impression que c'est réservé aux génies, est important pour gagner en confiance et, espérons-le, inciter quelques personnes supplémentaires à envisager cette carrière.*)"
   ]
  },
  {
   "cell_type": "markdown",
   "id": "53b6f6bc-37f3-4f58-9427-9074f3cc4e96",
   "metadata": {},
   "source": [
    "### Reshma Saujani\n",
    "\n",
    "![reshma](images/reshma.jpg \"Reshma\")\n",
    "\n",
    "*The culture of tech companies cannot change if women aren't in the room.*\n",
    "\n",
    "(*La culture des entreprises de la technologie ne peut pas changer si les femmes en sont exclues*)"
   ]
  },
  {
   "cell_type": "markdown",
   "id": "0a14679a-e8ed-45e1-a9f8-6da9d274dfe1",
   "metadata": {},
   "source": [
    "### Joy Buolamwini\n",
    "\n",
    "![joy](images/joy.jpg \"Joy Buolamwini\")\n",
    "\n",
    "*When companies require individuals to fit a narrow definition of acceptable behavior encoded into a machine learning model, they will reproduce harmful patterns of exclusion and suspicion.*\n",
    "\n",
    "(*Lorsque les entreprises exigent que les individus correspondent à une définition étroite du comportement acceptable codée dans un modèle d’apprentissage automatique, elles reproduisent des schémas néfastes d’exclusion et de suspicion.*)"
   ]
  },
  {
   "cell_type": "markdown",
   "id": "08947f89-1b90-4e2f-a7fd-50e1eccfd95e",
   "metadata": {},
   "source": [
    "### Kimberly Bryant\n",
    "\n",
    "![bryant](images/bryant.jpg \"Kimberly Bryant\")\n",
    "\n",
    "*You can absolutely be what you can't see! That's what innovators and disruptors do.\"\n",
    "\n",
    "(*Vous pouvez absolument être ce que vous ne voyez pas ! C'est ce que font les innovatrices et les disruptrices.*)"
   ]
  },
  {
   "cell_type": "markdown",
   "id": "b70bb92d-f8a1-44d2-8127-bebf7233bf08",
   "metadata": {},
   "source": [
    "### Safiya Noble\n",
    "\n",
    "![safya](images/safya.jpg \"Safyia Noble\")\n",
    "\n",
    "*Where men shape technology, they shape it to the exclusion of women, especially Black women.\"\n",
    "\n",
    "(*Là où les hommes façonnent la technologie, ils la façonnent pour l'exclusion des femmes, particulièrement des femmes racisées*)"
   ]
  },
  {
   "cell_type": "markdown",
   "id": "77aa0ac4-ef7c-4394-a7a6-a0e78d37b6df",
   "metadata": {},
   "source": [
    "### Nighat Dad\n",
    "\n",
    "![nighat](images/nighat.jpg \"Nighat Dad\")\n",
    "\n",
    "*As a woman, you don’t even realize that you have rights and that your rights are protected by the constitution.*\n",
    "\n",
    "(*En tant que femme, vous ne réalisez même pas que vous avez des droits et que ces droits sont protégés par la constitution*)"
   ]
  },
  {
   "cell_type": "markdown",
   "id": "b10a0a02-7d1b-457d-ba65-1849b4f59477",
   "metadata": {},
   "source": []
  }
 ],
 "metadata": {
  "kernelspec": {
   "display_name": "Python 3 (ipykernel)",
   "language": "python",
   "name": "python3"
  },
  "language_info": {
   "codemirror_mode": {
    "name": "ipython",
    "version": 3
   },
   "file_extension": ".py",
   "mimetype": "text/x-python",
   "name": "python",
   "nbconvert_exporter": "python",
   "pygments_lexer": "ipython3",
   "version": "3.9.2"
  }
 },
 "nbformat": 4,
 "nbformat_minor": 5
}
