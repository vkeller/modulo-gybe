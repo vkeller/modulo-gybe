{
 "cells": [
  {
   "cell_type": "markdown",
   "id": "a2b17a7c-e444-49ab-abde-2eff29e139c4",
   "metadata": {},
   "source": [
    "# La boucle d'apprentissage"
   ]
  },
  {
   "cell_type": "markdown",
   "id": "8d88d1fc-6e37-4150-8ba2-d2ba5b2e824c",
   "metadata": {},
   "source": [
    "## Objectifs pédagogiques\n",
    "\n",
    "- comprendre les étapes de l'algorithme d'apprentissage d'un réseau de neurones artificielles\n",
    "- Appliquer en Python"
   ]
  },
  {
   "cell_type": "markdown",
   "id": "0680a286-09c4-4066-9b8e-7520d6a3aa81",
   "metadata": {},
   "source": [
    "## Les 4 étapes d'apprentissage\n",
    "\n",
    "- **Forward** : on calcule les prédictions.\n",
    "- **Loss** : on mesure l’erreur (ex. cross-entropy).\n",
    "- **Backward** : on remonte l’erreur (backpropagation) pour savoir quoi corriger.\n",
    "- **Optimisation** : on ajuste les poids (souvent Adam/AdamW, variantes de la descente de gradient).\n",
    "\n",
    "On répète sur beaucoup d’exemples."
   ]
  },
  {
   "cell_type": "code",
   "execution_count": null,
   "id": "3a1f6345-8756-41dc-b843-bddc49a791f5",
   "metadata": {},
   "outputs": [],
   "source": []
  }
 ],
 "metadata": {
  "kernelspec": {
   "display_name": "Python 3 (ipykernel)",
   "language": "python",
   "name": "python3"
  },
  "language_info": {
   "codemirror_mode": {
    "name": "ipython",
    "version": 3
   },
   "file_extension": ".py",
   "mimetype": "text/x-python",
   "name": "python",
   "nbconvert_exporter": "python",
   "pygments_lexer": "ipython3",
   "version": "3.11.2"
  }
 },
 "nbformat": 4,
 "nbformat_minor": 5
}
