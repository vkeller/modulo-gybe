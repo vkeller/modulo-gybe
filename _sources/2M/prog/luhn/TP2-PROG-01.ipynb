{
 "cells": [
  {
   "cell_type": "markdown",
   "id": "32aa2d14-fca7-4f34-b9e3-9aa74c283845",
   "metadata": {},
   "source": [
    "![cartebancaire](images/carte.jpg \"Cartes de crédit\")\n",
    "\n",
    "# TP2-PROG-01 : Algorithme de Luhn (carte de crédit)"
   ]
  },
  {
   "cell_type": "markdown",
   "id": "018c8067-8011-4bd0-b94d-12de3ebe6930",
   "metadata": {},
   "source": [
    "## Objectifs pédagogiques\n",
    "\n",
    "- comprendre ce qu'est une somme de contrôle (*checksum*)\n",
    "- connaître le système de codage des numéros de carte de crédit\n",
    "- mettre en oeuvre un système de somme de contrôle à l'aide de l'algorithme de Luhn\n",
    "- implémenter l'algorithme de Luhn en Python\n",
    "- vérifier la validité de sa carte de crédit"
   ]
  },
  {
   "cell_type": "markdown",
   "id": "f5637fc0-a73f-46ae-83db-87745276a772",
   "metadata": {},
   "source": [
    "## Somme de contrôle (checksum)\n",
    "\n",
    "Lorsqu'un émetteur envoie un message à un récepteur, il se peut que la voie de communication ne soit pas entièrement fiable. Cela signifie que le message reçu a pu être **altéré** et qu'il n'est plus exactement identique au message original envoyé. \n",
    "\n",
    "La **somme de contrôle** (*checksum* en anglais) permet de **détecter** une erreur mais pas de la corriger.\n",
    "\n",
    "![check](images/checksum.png \"Exemple de somme de contrôle\")\n",
    "(Source : Wikipedia)\n",
    "\n",
    "Dans l'exemple ci-dessus, on convertit les caractères en hexadécimal en suivant la table ASCII. la somme des éléments est ensuite calculée, c'est ce que l'on appelle le **hachage** et se réduit à une valeur de contrôle : la **somme de contrôle**. Lorsqu'une lettre change (par exemple le `o` final devient `a`), la somme de contrôle change : **une erreur est détectée**.\n",
    "\n",
    "On remarque qu'il n'est pas possible avec la somme de contrôle de réparer l'erreur : le récepteur demande à l'émetteur de lui renvoyer le message. Il existe d'autres algorithmes de contrôle qui permettent de détecter **ET** de corriger l'erreur : ce sont les algorithmes dits de **code cycliques**. Ces algorithmes dépassent le cadre de ce cours."
   ]
  },
  {
   "cell_type": "markdown",
   "id": "0d74a130-6a8e-460f-8bc0-07e316969b76",
   "metadata": {},
   "source": [
    "## Numéro d'une carte de crédit\n",
    "\n",
    "Toute carte de crédit est formée de **16 chiffres** compris entre $0_{10}$ et $9_{10}$ (sauf le premier) :\n",
    "\n",
    "![CC](images/cartecredit.jpg \"Carte de crédit\")\n",
    "\n",
    "| **Chiffre**  | **Signification**  |\n",
    "| --- | --- |\n",
    "| 1  | MII (*Major Industry Identifier*) : **3** : American Express, **4** : Visa, **5** : Mastercard |\n",
    "| de 1 à 6 | IIN (*Issuer Identification Number*)  |\n",
    "| de 7 à 15 | Numéro de compte  |\n",
    "| 16 | **CODE DE CONTRÔLE**  |\n",
    "\n",
    "On note que les chiffres de 7 à 15 qui représentent le numéro de compte permettent de coder $10^9$ comptes différents, soit **un milliard**.\n",
    "\n",
    "Le **CODE DE CONTRÒLE** est le sujet de ce TP"
   ]
  },
  {
   "cell_type": "markdown",
   "id": "139266bf-8b60-4caa-8b98-aed95d3a26ec",
   "metadata": {},
   "source": [
    "## Calcul du code de contrôle\n",
    "\n",
    "L'algorithme pour calculer le dernier chiffre de la carte de crédit se déroule en trois étapes :\n",
    "\n",
    "1. On multiplie par deux un chiffre sur deux en commençant par l'avant-dernier (le 15ème) et en se déplaçant de droite à gauche. Si le double du chiffre dépasse 9 (par exemple $2 \\times 8 = 16$, alors on soustrait 9 au double\n",
    "1. On additionne l'ensemble des 16 chiffres trouvés (ceux qui ont été doublés, et ceux qui n'ont pas été doublés)\n",
    "1. Si le résultat modulo 10 est égal à zéro, alors le numéro de carte de crédit est valide."
   ]
  },
  {
   "cell_type": "markdown",
   "id": "37915e4e-efee-4499-9502-b4e3b3129055",
   "metadata": {},
   "source": [
    "## Exercice 1 (algorigramme)\n",
    "\n",
    "Dessinez l'algorigramme d'un algorithme permettant la vérification de la validité d'un numéro de carte de crédit\n",
    "\n",
    "Vous pouvez vous aider de la [feuille de triche](./CheatSheet.pdf)"
   ]
  },
  {
   "cell_type": "markdown",
   "id": "df99cf10-424e-4d21-936c-adadfa4d9b2e",
   "metadata": {},
   "source": [
    "## Exercice 2 (vérificateur de cartes de crédit)\n",
    "\n",
    "- Ecrire un programme qui implémente l'algorithme de Luhn et vérifie la validité d'un numéro de carte de crédit donné\n",
    "- Traduisez votre algorigramme en Python !\n",
    "- Testez votre programme avec les numéros de carte de crédit suivants :\n",
    "    - code invalide : `[5,6,3,5,4,0,0,2,9,5,6,1,3,4,1,1]`\n",
    "    - code valide : `[4,3,9,6,8,3,7,4,1,2,0,4,2,7,5,5]`\n",
    "    - code invalide : `[4,6,2,4,7,4,8,2,3,3,2,4,9,0,8,0]`"
   ]
  },
  {
   "cell_type": "markdown",
   "id": "c07ec3ba-7d89-4629-aa50-5ca184e44935",
   "metadata": {},
   "source": [
    "## Exercice 3 (générateur de cartes de crédit)\n",
    "\n",
    "Sur la base de ce programme, écrire un nouveau programme qui génère un numéro de carte de crédit valide quelconque. Votre programme devra demander quel MII aura émis la carte: AmEx, Visa ou Master"
   ]
  },
  {
   "cell_type": "markdown",
   "id": "1297651b-cb25-4ace-a7e2-7b45518e3ed2",
   "metadata": {},
   "source": [
    "## Exercice 4 (pour aller plus loin) : AVS\n",
    "\n",
    "Le numéro AVS se compose des éléments suivants :\n",
    "\n",
    "- Positions 1 à 3 : préfixe « 756 », codification du pays émetteur du numéro (Suisse) dans la norme ISO 3166-numeric. Ce préfixe est immuable, tous les numéros AVS émis débutent par « 756 » sans exception.\n",
    "- Positions 4 à 12 : partie identificatrice du numéro : nombre entier sélectionné aléatoirement parmi ceux encore disponibles, dans l'intervalle entre 0 et 999'999'999\n",
    "- Position 13 : chiffre de contrôle calculé sur les 12 premières positions selon la prescription en vigueur dans la norme EAN-13. Pour plus d’information : [Directives concernant le certificat d'assurance et le compte individuel](https://sozialversicherungen.admin.ch/fr/d/6938/download) (D CA/CI), annexe 7 en page 95\n",
    "\n",
    "Implémentez l'algorithme de vérification d'un numéro AVS en Python. Votre numéro AVS se trouve sur votre carte d'assurance maladie"
   ]
  }
 ],
 "metadata": {
  "kernelspec": {
   "display_name": "Python 3 (ipykernel)",
   "language": "python",
   "name": "python3"
  },
  "language_info": {
   "codemirror_mode": {
    "name": "ipython",
    "version": 3
   },
   "file_extension": ".py",
   "mimetype": "text/x-python",
   "name": "python",
   "nbconvert_exporter": "python",
   "pygments_lexer": "ipython3",
   "version": "3.11.2"
  }
 },
 "nbformat": 4,
 "nbformat_minor": 5
}
