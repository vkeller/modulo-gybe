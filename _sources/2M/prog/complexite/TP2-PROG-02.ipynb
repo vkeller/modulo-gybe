{
 "cells": [
  {
   "cell_type": "markdown",
   "id": "fe37631b-0250-4efb-8358-6e5ae96caa6b",
   "metadata": {},
   "source": [
    "![complexite](images/pile_ou_face.png \"Pile Ou Face\")\n",
    "\n",
    "# TP2-PROG-02 : Approche pratique de la complexité : Pile ou face"
   ]
  },
  {
   "cell_type": "markdown",
   "id": "931139ad-243b-4f59-9654-b5fd445314ad",
   "metadata": {},
   "source": [
    "## Objectifs pédagogiques\n",
    "\n",
    "- Découvrir la bibliothèque de fonctions `random` pour les nombres aléatoires\n",
    "- être capable de mesurer le temps d'un bloc d'instructions dans un code informatique\n",
    "- déduire la complexité temporelle d'un algorithme\n"
   ]
  },
  {
   "cell_type": "markdown",
   "id": "e97c5eaf-da04-4828-bef9-7bcfb274d679",
   "metadata": {},
   "source": [
    "## Les nombres aléatoires\n",
    "\n",
    "Un **nombre aléatoire** est un nombre quelconque tiré au hasard entre deux bornes. \n",
    "\n",
    "Il est difficile pour un ordinateur de produire des nombres aléatoires. Il existe toutefois une bibliothèque de fonctions dans Python qui nous permet de le faire. Cette bibliothèque s'appelle `random`. Elle contient notamment une fonction qui permet de tirer un **nombre aléatoire entier** entre deux bornes :\n",
    "\n",
    "```\n",
    "import random\n",
    "borneInf = 0\n",
    "borneSup = 10\n",
    "aleatoire = random.randint(borneInf, borneSup)\n",
    "```\n",
    "\n",
    "Ce programme tirera à chaque exécution un nombre aléatoire compris entre `0` et `10`"
   ]
  },
  {
   "cell_type": "markdown",
   "id": "3f6579a0-e204-46b6-a652-729ca912c73a",
   "metadata": {},
   "source": [
    "## Exercice 1 : Nombres aléatoires\n",
    "\n",
    "Voici un programme qui permet de tirer un nombre aléatoire et de l'afficher:"
   ]
  },
  {
   "cell_type": "code",
   "execution_count": 3,
   "id": "4dbc624d-cedf-4345-94f6-a9d55a94e36f",
   "metadata": {},
   "outputs": [
    {
     "name": "stdout",
     "output_type": "stream",
     "text": [
      "6\n"
     ]
    }
   ],
   "source": [
    "import random\n",
    "borneInf = 2\n",
    "borneSup = 10\n",
    "aleatoire = random.randint(borneInf, borneSup)\n",
    "print(aleatoire)"
   ]
  },
  {
   "cell_type": "markdown",
   "id": "e959703e-9db0-4076-8feb-f8bd018ee54e",
   "metadata": {},
   "source": [
    "- modifiez les bornes `borneInf` et `borneSup`\n",
    "- observez que votre programme donne effectivement un nombre aléatoire compris entre ces bornes"
   ]
  },
  {
   "cell_type": "markdown",
   "id": "de14ee89-4e6b-44c6-a079-08f45907e294",
   "metadata": {},
   "source": [
    "## Exercice 2 : Pile ou face ?\n",
    "\n",
    "Lorsqu'on lance une pièce de monnaie en l'air, elle a une chance sur deux de retomber sur face, une chance sur deux sur pile.\n",
    "\n",
    "Vérifions que la bibliothèque `random` nous donne bien les bonnes valeurs.\n",
    "\n",
    "- Ecrivez un programme qui tire 10000, 100000, 10000000 un nombre aléatoire entier entre 0 (pile) et 1 (face) à l'aide d'une boucle\n",
    "- comptez le nombre de piles et de face (en stockant la valeur intermédiaire dans deux variables `nbrPile` et `nbrFace`\n",
    "- Vérifiez que le résultat est le bon"
   ]
  },
  {
   "cell_type": "markdown",
   "id": "4a086f01-d553-4966-8667-2c6b7632cce9",
   "metadata": {},
   "source": [
    "## Exercice 3 : Mesurer le nombre d'opérations\n",
    "\n",
    "Observez votre code et comptez le nombre d'opérations (instructions) par itération de la boucle. Modifiez ensuite votre code pour que le nombre d'opérations ou d'instructions soit comptabilisés."
   ]
  },
  {
   "cell_type": "markdown",
   "id": "e3103f23-0a42-4717-a15c-ffeeafecde3d",
   "metadata": {},
   "source": [
    "## Mesure du temps dans un code\n",
    "\n",
    "Dans Python, il est possible de mesurer le **nombre de secondes** entre deux lignes d'un programme. Cela se fait en important la bibliothèque `time` et en appelant une fonction de timing (qui retourne le **temps**) : `time.time()`. \n",
    "\n",
    "```\n",
    "import time\n",
    "\n",
    "start = time.time()\n",
    "\n",
    "# block de code à mesurer\n",
    "\n",
    "end = time.time()\n",
    "\n",
    "print(\"Temps passé dans le bloc de code à mesurer : \",(end-start))\n",
    "\n",
    "```"
   ]
  },
  {
   "cell_type": "markdown",
   "id": "cc3453ba-9d67-414e-96f0-580760eeced8",
   "metadata": {},
   "source": [
    "## Exercice 4: Mesurer le temps\n",
    "\n",
    "Modifiez votre code de pile ou face pour qu'il mesure le temps entre le début et la fin du code. Ce temps permettra d'être utilisé pour la mesure de la complexité"
   ]
  },
  {
   "cell_type": "markdown",
   "id": "7d578fb8-7253-4199-9121-f6a2aadba3c8",
   "metadata": {},
   "source": [
    "## Exercice 5 : Complexité de Pile ou Face \n",
    "\n",
    "Dans un tableau Excel, placez les valeurs de $N$ (**nombre de tirs**), le **nombre d'opérations (instructions) mesurées** $NbrOps$ et le **temps** ($f(N)$). Quelle est la classe de complexité de cet algorithme ?\n",
    "\n",
    "La console de Thonny ne permet pas de copier-coller plus de `1000` lignes de sortie (print). Afin de pouvoir créer des graphiques dans Excel, il est nécessaire d'enregistrer les valeurs `N`, `Nbrops` et `temps` dans un fichier de type **CSV**. Voici un code permettant de créer un tel fichier, d'enregistrer des données par ligne (sous la forme d'une liste), et de refermer le fichier. Le fichier final `nom_de_fichier.csv` se trouvera dans le même dossier que le fichier source Python.\n",
    "\n",
    "```\n",
    "import csv\n",
    "f = open(\"nom_de_fichier.csv\", \"w\")\n",
    "writer = csv.writer(f)\n",
    "\n",
    "...\n",
    "data = [n, altitude_max]\n",
    "writer.writerow(data)\n",
    "...\n",
    "\n",
    "f.close()\n",
    "```\n",
    "\n",
    "Dans Excel, vous pouvez importer ensuite les données contenues dans le fichier CSV (*Coma Separated Values*) : `Fichier -> Importer -> CSV` puis préciser que le délimiteur est une **virgule** (un *Coma* en anglais). \n",
    "\n",
    "L'insertion d'un fichier vous permet au final de créer un grpahique à partir des données importées et de **déduire la complexité de l'algorithme**. \n",
    "\n",
    "![time1](images/temps1000.png \"Temps petites valeurs de N\")\n",
    "\n",
    "ou en augmentant la taille d'entrée `N` (attention tout de même au temps d'exécution !!)\n",
    "\n",
    "![time1](images/temps1000000.png \"Temps grandes valeurs de N\")"
   ]
  },
  {
   "cell_type": "code",
   "execution_count": null,
   "id": "282f819c-b77d-4eb6-980d-e831aa1cd823",
   "metadata": {},
   "outputs": [],
   "source": []
  }
 ],
 "metadata": {
  "kernelspec": {
   "display_name": "Python 3 (ipykernel)",
   "language": "python",
   "name": "python3"
  },
  "language_info": {
   "codemirror_mode": {
    "name": "ipython",
    "version": 3
   },
   "file_extension": ".py",
   "mimetype": "text/x-python",
   "name": "python",
   "nbconvert_exporter": "python",
   "pygments_lexer": "ipython3",
   "version": "3.11.2"
  }
 },
 "nbformat": 4,
 "nbformat_minor": 5
}
