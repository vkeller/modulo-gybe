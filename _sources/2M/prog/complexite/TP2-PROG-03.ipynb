{
 "cells": [
  {
   "cell_type": "markdown",
   "id": "076e33f6-edf6-4545-ad54-8b2b702c8fc8",
   "metadata": {},
   "source": [
    "![complexite](images/complexite.jpg \"Complexite\")\n",
    "\n",
    "# TP2-PROG-02 : Approche pratique de la complexité : Recherche"
   ]
  },
  {
   "cell_type": "markdown",
   "id": "61baa787-d7a8-4a99-9fc9-4d05bb218cea",
   "metadata": {},
   "source": [
    "## Objectifs pédagogiques\n",
    "- être capable de comprendre plusieurs algorithmes différents pour le problème de la recherche d’un élément dans une liste triée\n",
    "    - recherche linéaire\n",
    "    - recherche aléatoire sans remise\n",
    "    - recherche aléatoire avec remise\n",
    "    - recherche dichotomique\n",
    "- être capable de comprendre les programmes en Python qui implémentent ces algorithmes\n",
    "- mesurer la performance des algorithmes\n",
    "- déduire le comportement asymptotique et la complexité"
   ]
  },
  {
   "cell_type": "markdown",
   "id": "2ae48406-0808-4d9d-9f8e-a7183ecad517",
   "metadata": {},
   "source": [
    "## Algorithmes de recherche\n",
    "\n",
    "Les quatre algorithmes de recherche étudiés répondent tous au même problème à résoudre : trouver un nombre **aléatoire** dans des nombres triés entre une borne inférieure **borneInf** et une borne supérieure **borneSup**\n",
    "\n",
    "**Afin de les comparer, nous calculons le nombre de comparaisons qu'il faut effectuer**. Cette grandeur est nommée `N` tout au long du TP. C'est ce `N` que nous allons comparer.\n",
    "\n",
    "\n",
    "### Recherche linéaire\n",
    "\n",
    "L'algorithme est le plus simple : \n",
    "\n",
    "1. On choisi un nombre aléatoire qu'il faut rechercher: `atrouve`\n",
    "1. On initialise une variable `nombre = borneInf` :\n",
    "    - si `nombre == atrouve`, alors on arrête\n",
    "    - sinon, on passe au nombre suivant\n",
    "    - tout cela est fait `tant que nombre != borneSup`\n",
    "\n",
    "L'algorigramme est le suivant :\n",
    "\n",
    "![RechercheLineaire](algorigrammes/RechercheLineaire.png \"Algorigramme de la recherche linéaire\")\n"
   ]
  },
  {
   "cell_type": "code",
   "execution_count": 4,
   "id": "fe5ae0cb-373c-4abc-9979-6be160d11376",
   "metadata": {},
   "outputs": [
    {
     "name": "stdout",
     "output_type": "stream",
     "text": [
      "Nombre d'opérations pour trouver 36 : 37\n"
     ]
    }
   ],
   "source": [
    "# Recherche linéaire commentée\n",
    "# Vincent Keller, 2023\n",
    "# Importation de la bibliothèque random (nombres aléatoires)\n",
    "import random\n",
    "# Input borneInf\n",
    "borneInf = 0\n",
    "# Input borneSup\n",
    "borneSup = 100\n",
    "# variable atrouver : nombre aléatoire de type entier compris entre borneInf et borneSup (compris)\n",
    "atrouver = random.randint(borneInf,borneSup)\n",
    "# N est la variable qui contiendra le nombre de comparaisons\n",
    "N = 0\n",
    "# nombre est la variable qui contient l'itérateur entre borneInf et borneSup\n",
    "nombre = 0\n",
    "# trouve est une variable de type booléen.\n",
    "trouve = False\n",
    "# Boucle \"tant que la variable trouve n'est pas égale à True)\n",
    "while (trouve!=True):\n",
    "    # Si le nombre est égal à celui à trouver (atrouver), alors la variable trouve devient True\n",
    "    if (nombre==atrouver):\n",
    "        trouve=True\n",
    "    # on incrémente l'itérateur\n",
    "    nombre = nombre + 1\n",
    "    # On incrémente le nombre de comparaisons\n",
    "    N = N + 1\n",
    "# Output : affichage du nombre à trouver et du nombre de comparaisons\n",
    "print(\"Nombre d'opérations pour trouver \"+str(atrouver)+\" : \"+str(N))"
   ]
  },
  {
   "cell_type": "markdown",
   "id": "93a57eb0-9909-4eaa-ac19-f1e1650a8667",
   "metadata": {},
   "source": [
    "### Recherche aléatoire avec remise\n",
    "\n",
    "L'algorithme est le suivant : \n",
    "\n",
    "1. On choisi un nombre aléatoire qu'il faut rechercher: `atrouve`\n",
    "1. On choisi un nombre aléatoire : `nombre`\n",
    "1. tant que `nombre != atrouve` :\n",
    "    - si `nombre == atrouve`, alors on arrête\n",
    "    - sinon, choisi un nouveau nombre aléatoire : `nombre`\n",
    "\n",
    "On note que cet algorithme peut faire ressortir plusieurs fois le même nombre aléatoire. C'est pourqoi il s'appelle **recherche aléatoire avec remise**.\n",
    "\n",
    "L'algorigramme est le suivant :\n",
    "\n",
    "![RechercheAleatoireAvecRemise](algorigrammes/RechercheAleatoireAvecRemise.png \"Algorigramme de la recherche aleatoire avec remise\")"
   ]
  },
  {
   "cell_type": "code",
   "execution_count": 3,
   "id": "deb0a436-9d29-4789-b005-eb53b8278f07",
   "metadata": {},
   "outputs": [
    {
     "name": "stdout",
     "output_type": "stream",
     "text": [
      "Nombre d'opérations pour trouver 83 : 103\n"
     ]
    }
   ],
   "source": [
    "# Recherche aléatoire avec remise dans une liste triée commentée \n",
    "# Vincent Keller, 2023\n",
    "# Importation de la bibliothèque random (nombres aléatoires)\n",
    "import random\n",
    "# Input borneInf\n",
    "borneInf = 0\n",
    "# Input borneSup\n",
    "borneSup = 100\n",
    "# variable atrouver : nombre aléatoire de type entier compris entre borneInf et borneSup (compris)\n",
    "atrouver = random.randint(borneInf,borneSup)\n",
    "# N est la variable qui contiendra le nombre de comparaisons\n",
    "N = 0\n",
    "# trouve est une variable de type booléen.\n",
    "trouve = False\n",
    "# Boucle \"tant que la variable trouve n'est pas égale à True)\n",
    "while (trouve!=True):\n",
    "    # On tire un nombre que l'on assigne à la variable aleatoire\n",
    "    aleatoire = random.randint(borneInf,borneSup)\n",
    "    # Si le nombre à trouver est égal au nombre aléatoire tiré, alors on sort de la boucle\n",
    "    if (aleatoire == atrouver) :\n",
    "        trouve=True\n",
    "    # On incrémente le nombre de comparaisons\n",
    "    N = N + 1\n",
    "# Output : affichage du nombre à trouver et du nombre de comparaisons\n",
    "print(\"Nombre d'opérations pour trouver \"+str(atrouver)+\" : \"+str(N))"
   ]
  },
  {
   "cell_type": "markdown",
   "id": "9a987392-d82e-4405-89a3-6562b521c2b9",
   "metadata": {},
   "source": [
    "### Recherche aléatoire sans remise\n",
    "\n",
    "L'algorithme est proche du précédent mais l'algorithme ne tire pas deux fois le même nombre"
   ]
  },
  {
   "cell_type": "code",
   "execution_count": 4,
   "id": "5fa7fe00-9c17-4a7f-888a-c78bb3eb8d69",
   "metadata": {},
   "outputs": [
    {
     "name": "stdout",
     "output_type": "stream",
     "text": [
      "Nombre d'opérations pour trouver 66 : 48\n"
     ]
    }
   ],
   "source": [
    "# Recherche aléatoire sans remise commentée\n",
    "# On ne tire jamais le même nombre aléatoire à chaque itération\n",
    "# Vincent Keller, 2023\n",
    "\n",
    "# Importation de la bibliothèque random (nombres aléatoires)\n",
    "import random\n",
    "\n",
    "# Définition d'une fonction qui retourne un nombre aléatoire qui n'a jamais été tiré\n",
    "# Argument 1 : already : liste qui contient tous les nombres aléatoires déjà tirés\n",
    "# Argument 2 : bmin : borne inférieure pour la fonction randint\n",
    "# Argument 3 : bmax : borne supérieure pour la fonction randint\n",
    "# Return     : un nombre aléatoire jamais tiré auparavant\n",
    "# ATTENTION : CETTE FONCTION EST PARTICULIEREMENT COMPLEXE, VOUS N'AVEZ PAS BESOIN D'EN COMPRENDRE\n",
    "# TOUTES LES SUBTILITES\n",
    "def random_non_tire(already,bmin,bmax):\n",
    "    ret = 0\n",
    "    nontire = False\n",
    "    while nontire != True :\n",
    "        aleat = random.randint(bmin,bmax)\n",
    "        tire = False\n",
    "        for i in range(len(already)):\n",
    "            if already[i] == aleat :\n",
    "                tire = True\n",
    "        if tire == False:\n",
    "            nontire = True\n",
    "    return aleat\n",
    "\n",
    "\n",
    "# Input borneInf\n",
    "borneInf = 0\n",
    "# Input borneSup\n",
    "borneSup = 100\n",
    "# variable atrouver : nombre aléatoire de type entier compris entre borneInf et borneSup (compris)\n",
    "atrouver = random.randint(borneInf,borneSup)\n",
    "# N est la variable qui contiendra le nombre de comparaisons\n",
    "N = 0\n",
    "# trouve est une variable de type booléen.\n",
    "trouve = False\n",
    "# deja_tire est une liste qui contient tous les nombres aléatoires déjà tirés\n",
    "# Initialisation à une liste vide\n",
    "deja_tire = []\n",
    "# Boucle \"tant que la variable trouve n'est pas égale à True)\n",
    "while (trouve!=True):    \n",
    "    # On tire un nombre jamais tiré que l'on assigne à la variable aleatoire\n",
    "    aleatoire = random_non_tire(deja_tire,borneInf,borneSup)\n",
    "    # Si le nombre à trouver est égal au nombre aléatoire tiré, alors on sort de la boucle\n",
    "    if (aleatoire == atrouver) :\n",
    "        trouve=True\n",
    "    # On incrémente le nombre de comparaisons\n",
    "    N = N + 1\n",
    "    # on ajoute le nombre à la liste des aléatoires déjà tirés\n",
    "    deja_tire.append(aleatoire)\n",
    "# Output : affichage du nombre à trouver et du nombre de comparaisons\n",
    "print(\"Nombre d'opérations pour trouver \"+str(atrouver)+\" : \"+str(N))"
   ]
  },
  {
   "cell_type": "markdown",
   "id": "71d38d41-db5c-4565-9614-2170bf0a4f7a",
   "metadata": {},
   "source": [
    "### Recherche dichotomique\n",
    "\n",
    "L'algorithme est le suivant :\n",
    "\n",
    "1. On choisi un nombre aléatoire qu'il faut rechercher: `atrouve`\n",
    "1. On initialise une variable booléenne `trouve = False`\n",
    "1. On initialise une variable `bmax = borneSup`\n",
    "1. On initialise une variable `bmin = borneInf`\n",
    "1. Tant que `trouve != True` :\n",
    "    - on calcule la moitié des nombres : `moitie = int((bmax+bmin)/2)`\n",
    "    - si `moitie == atrouve`, alors on arrête : `trouve = True`\n",
    "    - sinon si `moitie > atrouver`, alors `bmax = moitie`\n",
    "    - sinon si `moitie < atrouver`, alors `bmin = moitie`\n",
    "\n",
    "L'algorigramme est le suivant :\n",
    "\n",
    "![RechercheDichotomique](algorigrammes/RechercheDichotomique.png \"Algorigramme de la recherche dichotomique\")"
   ]
  },
  {
   "cell_type": "code",
   "execution_count": 5,
   "id": "82484480-cd52-4047-bc38-01f3d0793fe2",
   "metadata": {},
   "outputs": [
    {
     "name": "stdout",
     "output_type": "stream",
     "text": [
      "Nombre d'opérations pour trouver 19 : 6\n"
     ]
    }
   ],
   "source": [
    "# Recherche dichotomique commentée\n",
    "# Vincent Keller, 2023\n",
    "\n",
    "# Importation de la bibliothèque random (nombres aléatoires)\n",
    "import random\n",
    "# Input borneInf\n",
    "borneInf = 0\n",
    "# Input borneSup\n",
    "borneSup = 100\n",
    "# variable atrouver : nombre aléatoire de type entier compris entre borneInf et borneSup (compris)\n",
    "atrouver = random.randint(borneInf,borneSup)\n",
    "# N est la variable qui contiendra le nombre de comparaisons\n",
    "N = 0\n",
    "# trouve est une variable de type booléen.\n",
    "trouve = False\n",
    "# déclaration de la variable bmax qui contient la borne supérieure temporaire après division par 2\n",
    "# A l'initialisation, elle contient la borne supérieure globale borneSup\n",
    "bmax = borneSup\n",
    "# déclaration de la variable bmin qui contient la borne inférieure temporaire après division par 2\n",
    "# A l'initialisation, elle contient la borne inférieure globale borneInf\n",
    "bmin = borneInf\n",
    "# Boucle \"tant que la variable trouve n'est pas égale à True)\n",
    "while (trouve!=True):\n",
    "    # on calcule l'élément à la moitié des deux bornes temporaires\n",
    "    moitie = int((bmax+bmin)/2)\n",
    "    # si moitie est égal au nombre à trouver, on sort de la boucle\n",
    "    if (moitie == atrouver) :\n",
    "        trouve=True\n",
    "    # sinon, si le nombre à trouver est situé avant de la moitié, alors la borne supérieure\n",
    "    # temporaire devient moitie\n",
    "    elif (moitie > atrouver) :\n",
    "        bmax = moitie\n",
    "    # sinon, si le nombre à trouver est situé au-delà de la moitié, alors la borne inférieure\n",
    "    # temporaire devient moitie\n",
    "    elif (moitie < atrouver) :\n",
    "        bmin = moitie\n",
    "    # On incrémente le nombre de comparaisons\n",
    "    N = N + 1\n",
    "# Output : affichage du nombre à trouver et du nombre de comparaisons\n",
    "print(\"Nombre d'opérations pour trouver \"+str(atrouver)+\" : \"+str(N))"
   ]
  },
  {
   "cell_type": "markdown",
   "id": "519f8224-c395-48f1-a875-c3cf3cea225a",
   "metadata": {},
   "source": [
    "## Exercice 1 \n",
    "\n",
    "- copiez-collez les 4 programmes dans un dossier `TP2` sur votre volume personnel\n",
    "\n",
    "Vous devriez vous retrouver avec 4 fichiers :\n",
    "\n",
    "- `recherche_lineaire.py`\n",
    "- `recherche_aleatoire_sans_remise.py`\n",
    "- `recherche_aleatoire_avec_remise.py`\n",
    "- `recherche_dichotomique.py`"
   ]
  },
  {
   "cell_type": "markdown",
   "id": "ab8703e1-4ed3-4fec-ad95-ff94a52ed248",
   "metadata": {},
   "source": [
    "## Exercice 2 : Complexité d'un algorithme\n",
    "\n",
    "**Rappel :** la complexité d'un algorithme se déduit de l'équation qui décrit le **nombre d'opérations (ou d'instructions** `N` (durnat ce TP, `N` représente le nombre de comparaisons) en fonction de la **taille du problème** `b`. Dans cet exercice nous allons trouver la fonction `f` de l'équation `N = f(b)`\n",
    "\n",
    "- Choisissez un algorithme de recherche parmi les 4 codes\n",
    "- observez la variable qui fait varier la **taille du problème**. Cela sera la variable `b`\n",
    "- Modifiez votre code pour qu'il mesure des valeurs de `N` entre `borneInf = 0` et une borne supérieure variable `b`\n",
    "    - de `100` à `10000`\n",
    "- Dans un classeur Excel, reportez les valeurs de `N` **en fonction** de `b`\n",
    "- Décrivez la complexité de l'algorithme\n",
    "\n",
    "**Attention** : pour pouvoir copier-coller les valeurs dans Excel, vous devriez afficher les valeurs de `Ǹ` en fonction de `b`, utilisez la fonction suivante :\n",
    "\n",
    "```\n",
    "print(b,\"\\t\",N)\n",
    "```"
   ]
  },
  {
   "cell_type": "markdown",
   "id": "d4b3c5df-572e-40c4-9cb3-6175378b0839",
   "metadata": {},
   "source": [
    "## Exercice 3 : Moyenne caractéristique\n",
    "\n",
    "Afin d'obtenir des grandeurs caractéristiques, il est utile d'obtenir différentes valeurs dont on prendra la moyenne.\n",
    "\n",
    "- Pour chaque algorithme, écrivez une boucle qui calcule une moyenne de 10 nombres aléatoires à trouver\n",
    "- Testez pour chacun des 4 algorithmes\n",
    "\n",
    "Par exemple :"
   ]
  },
  {
   "cell_type": "code",
   "execution_count": 7,
   "id": "8bd5f8bb-b35d-4fd8-aa77-cc3adb89ccb8",
   "metadata": {},
   "outputs": [
    {
     "name": "stdout",
     "output_type": "stream",
     "text": [
      "Nombre moyen pour la recherche linéaire : 52.1\n"
     ]
    }
   ],
   "source": [
    "import random\n",
    "borneInf = 0\n",
    "borneSup = 100\n",
    "somme = 0\n",
    "for i in range(10):\n",
    "    atrouver = random.randint(borneInf,borneSup)\n",
    "    N = 0\n",
    "    nombre = 0\n",
    "    trouve = False\n",
    "    while (trouve!=True):\n",
    "        if (nombre==atrouver):\n",
    "            trouve=True\n",
    "        nombre = nombre + 1\n",
    "        N = N + 1\n",
    "    somme = somme + N\n",
    "print(\"Nombre moyen pour la recherche linéaire : \"+str(somme/10))"
   ]
  },
  {
   "cell_type": "markdown",
   "id": "14b0fe10-3dd1-4046-8d9b-dfb6a9288c0a",
   "metadata": {},
   "source": [
    "## Exercice 4 : Comparaison des algorithmes\n",
    "\n",
    "Modifiez les 4 implémentations des algorithmes de recherche. Il est maintenant possible de les comparer avec les mêmes bornes `borneInf`, `borneSup` et le nombre aléatoire à trouver `atrouver`\n",
    "\n",
    "- Modifiez votre code afin de mesurer les valeurs de `N` entre `borneInf = 0` et différentes valeurs de `borneSup` :\n",
    "    - `100` à `100000` avec un pas de 200\n",
    "- Dans un graphique Excel, notez toutes les valeurs sur 5 colonnes : `borneSup`, et les 4 `N` retournés pour chaque algorithme\n",
    "    - `N_lin` est la variable contenant le nombre de comparaisons pour la recherche linéaire\n",
    "    - `N_ala` est la variable contenant le nombre de comparaisons pour la recherche aléatoire avec remise\n",
    "    - `N_als` est la variable contenant le nombre de comparaisons pour la recherche aléatoire sans remise\n",
    "    - `N_dic` est la variable contenant le nombre de comparaisons pour la recherche dichotomique"
   ]
  },
  {
   "cell_type": "markdown",
   "id": "1b9a3cb6-f30c-487f-9996-d02e0e2cf8eb",
   "metadata": {},
   "source": [
    "## Exercice 5 : Comportement asymptotique de la complexité des 4 algorithmes\n",
    "\n",
    "Le **comportement asymptotique** représente le comportement de la fonction mathématique décrivant la complexité d'un algorithme. Dans le pire des cas, c'est celui qui est décrit par la notation *Big O* ou $\\mathcal{O}$. \n",
    "\n",
    "Par exemple : $\\mathcal{O}(n)$ est un comportement linéaire, $\\mathcal{O}(n^2)$ est quadratique, $\\mathcal{O}(n\\log{}n)$ est linéarithmique, etc..\n",
    "\n",
    "- A l'aide de votre graphique Excel, êtes-vous capable d'estimer une fonction qui passerait par les points mesurés ?\n",
    "- Si oui, lesquelles ?\n",
    "- Sinon pourquoi ?\n"
   ]
  },
  {
   "cell_type": "code",
   "execution_count": null,
   "id": "3fc35eaa-e1b6-4507-85a4-591124c35b61",
   "metadata": {},
   "outputs": [],
   "source": []
  }
 ],
 "metadata": {
  "kernelspec": {
   "display_name": "Python 3 (ipykernel)",
   "language": "python",
   "name": "python3"
  },
  "language_info": {
   "codemirror_mode": {
    "name": "ipython",
    "version": 3
   },
   "file_extension": ".py",
   "mimetype": "text/x-python",
   "name": "python",
   "nbconvert_exporter": "python",
   "pygments_lexer": "ipython3",
   "version": "3.9.2"
  }
 },
 "nbformat": 4,
 "nbformat_minor": 5
}
