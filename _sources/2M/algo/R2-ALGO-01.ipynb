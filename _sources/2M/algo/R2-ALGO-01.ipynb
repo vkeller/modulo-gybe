{
 "cells": [
  {
   "cell_type": "markdown",
   "id": "ab5996b1-e83c-4897-9219-d7f8cce20019",
   "metadata": {},
   "source": [
    "![revision algos - progr](images/revision.jpg \"Révision R2\")\n",
    "\n",
    "# R2-ALGO-01 : Révision Algorithmes 1M"
   ]
  },
  {
   "cell_type": "markdown",
   "id": "2a6b7971-6102-468f-a5e8-35f96c88fc12",
   "metadata": {},
   "source": [
    "## Objectifs pédagogiques\n",
    "\n",
    "- consolider les concepts algorithmiques nécessaires à la 2M\n",
    "    - début et fin\n",
    "    - liaison\n",
    "    - instruction\n",
    "    - condition\n",
    "    - sous-programme\n",
    "    - entrées\n",
    "    - sorties"
   ]
  },
  {
   "cell_type": "markdown",
   "id": "ed2fe922-1f64-4fe5-a661-215fa4b96a5b",
   "metadata": {},
   "source": [
    "## Caractéristiques des algorithmes\n",
    "\n",
    "Un algorithme est une succession d’instructions permettant d’aboutir à un résultat souhaité. Il possède les caractéristiques (proriétés) suivantes :\n",
    "\n",
    "1. il doit toujours se terminer après un **nombre fini** d’étapes (finitude)\n",
    "1. chaque étape d’un algorithme doit être définie précisément, les actions à mener doivent être spécifiées rigoureusement et sans ambigüité pour chaque cas\n",
    "1. un algorithme a des entrées, zéro ou plus, quantités qui lui sont données avant ou pendant son exécution\n",
    "1. un algorithme a une ou plusieurs sorties, quantités qui ont une relation spécifiée avec les entrées\n",
    "1. les instructions doivent être suffisament basiques pour pouvoir être en principe exécutées de manière exacte, en **un temps fini** par une personne utilisant un papier et un crayon.\n"
   ]
  },
  {
   "cell_type": "markdown",
   "id": "21ee8cbf-52e6-4875-9ab1-ee0257e18ca2",
   "metadata": {},
   "source": [
    "## Formalisme : algorigrammes\n",
    "\n",
    "Dans ce cours nous utilisons le formalisme des **algorigrammes**.\n",
    "\n",
    "![algorigrammes](images/structures.png \"algorigrammes\")"
   ]
  },
  {
   "cell_type": "markdown",
   "id": "25d6642d-5387-49b9-a593-9e46e28d5843",
   "metadata": {},
   "source": [
    "## Règles de construction\n",
    "\n",
    "- Il faut **centrer** l’algorigramme au centre de la feuille ou du programme informatique pour le créer\n",
    "- Il faut que la lecture de l’algorigramme puisse se faire **verticalement**\n",
    "- Les lignes de **liaisons** entre les symboles **ne doivent pas se couper**.\n",
    "- Une ligne de liaison doit toujours arriver sur le haut et au centre d’un symbole.\n",
    "- Les commentaires sont à placer de préférence à droite et les renvois de branchement à gauche.\n",
    "\n",
    "A cela on ajoute :\n",
    "\n",
    "- aucune liaison **orpheline** (qui part d'un symbole et qui arrive nulle part)"
   ]
  },
  {
   "cell_type": "markdown",
   "id": "c6ec50a8-fa57-4289-9f51-48125d5facd8",
   "metadata": {},
   "source": [
    "## Exercice 1 : Un somme de deux entiers positifs\n",
    "\n",
    "Sur une feuille de papier et avec un crayon, dessinez l'algorigramme correspondant à l'algorithme suivant :\n",
    "\n",
    "**Algorithme** :\n",
    "\n",
    "- demander un entier `A` (entier positif)\n",
    "- demander un entier `B` (entier positif)\n",
    "- calculer la somme `C  = A + B` en calculant:\n",
    "    - tant que `A != 0` faire :\n",
    "        - `A = A - 1`\n",
    "        - `B = B + 1`\n"
   ]
  },
  {
   "cell_type": "markdown",
   "id": "a45fd537-bf47-4501-b667-870f849be8c9",
   "metadata": {},
   "source": [
    "## Exercice 2 : Le PGCD de deux entiers positifs\n",
    "\n",
    "**Objectif** : Calculer le PGCD (Plus Grand Commun Diviseur) de deux entiers positifs non nuls en utilisant l’algorithme des soustractions successives. \n",
    "\n",
    "**Principe** : Tant que les deux nombres sont différents, on remplace le plus grand par la différence entre les deux. \n",
    "\n",
    "```\n",
    "- Demander deux entiers A et B (positifs, non nuls)\n",
    "- Tant que A ≠ B faire :\n",
    "    - Si A > B alors\n",
    "        - A = A - B\n",
    "    - Sinon\n",
    "        - B = B - A\n",
    "- Afficher A (ou B, car A = B)\n",
    "```\n",
    "\n",
    "Dessinez l'algorigramme correspondant"
   ]
  },
  {
   "cell_type": "markdown",
   "id": "679791bd-1eee-4204-a123-711c4cf00625",
   "metadata": {},
   "source": [
    "## Exercice 3 : Le tri des poubelles\n",
    "\n",
    "**Contexte** : Un système automatique trie les objets jetés selon leur type : plastique, verre, papier, ou déchets résiduels. \n",
    "\n",
    "**Objectif** : En fonction du type d’objet saisi, indiquer dans quelle poubelle le diriger. \n",
    "\n",
    "**Algorithme** :\n",
    "\n",
    "```\n",
    "- Demander le type d'objet (choix parmi : \"plastique\", \"verre\", \"papier\", \"autre\")\n",
    "- Selon le type :\n",
    "    - Si \"plastique\" → Afficher \"Mettre dans la poubelle jaune\"\n",
    "    - Si \"verre\" → Afficher \"Mettre dans la poubelle verte\"\n",
    "    - Si \"papier\" → Afficher \"Mettre dans la poubelle bleue\"\n",
    "    - Sinon → Afficher \"Mettre dans la poubelle grise\"\n",
    "```\n",
    "\n",
    "Dessinez l'algorigramme correspondant"
   ]
  },
  {
   "cell_type": "markdown",
   "id": "ec5fc97b-7241-45a9-80a4-d82ba2d52ae6",
   "metadata": {},
   "source": [
    "## Exercice 4 (Si vous avez du temps)\n",
    "\n",
    "Il existe un algorithme simple appelé **méthode de la bissection** qui permet de calculer une **racine carrée** simplement.\n",
    "\n",
    "**Algorithme** :\n",
    "\n",
    "Méthode pour calculer $\\sqrt{x}$:\n",
    "\n",
    "1. Choisir un intervalle entre `1` et `x`\n",
    "1. affecter $b_{inf} = 1$ et $b_{sup} = x$\n",
    "1. Approximer la racine $\\sqrt{x}$ :\n",
    "    1. Calculer la moitié de l'intervalle : $m = \\frac{b_{inf} + b_{sup}}{2}$\n",
    "    1. Calculer $m^2$\n",
    "    1. Si $m^2 > x$ alors $b_{sup} = m$ ($m$ devient la borne supérieure)\n",
    "    1. Sinon $b_{inf} = m$ ($m$ devient la borne inférieure)\n",
    "    1. Recommencer\n",
    "   \n",
    "Dessinez l'algorigramme correspondant"
   ]
  },
  {
   "cell_type": "markdown",
   "id": "574af90b-bb91-4a53-a114-f706f5eead46",
   "metadata": {},
   "source": [
    "## Correction\n",
    "\n",
    "### Exercice 1\n",
    "\n",
    "![addition](graphs/addition.png \"algorigramme addition\")\n",
    "\n",
    "### Exercice 2\n",
    "\n",
    "```\n",
    "A = int(input(\"A (entier positif) : \"))\n",
    "B = int(input(\"B (entier positif) : \"))\n",
    "\n",
    "while A != B :\n",
    "    if A > B :\n",
    "        A = A - B\n",
    "    else:\n",
    "        B = B - A\n",
    "\n",
    "print(\"A\",A,\"B\",B)\n",
    "```\n",
    "\n",
    "### Exercice 3\n",
    "\n",
    "```\n",
    "print(\"Quel type de déchet souhaitez-vous jeter ?\")\n",
    "print(\"  1 : plastique : poubelle jaune\")\n",
    "print(\"  2 : verre     : poubelle verte\")\n",
    "print(\"  3 : papier    : poubelle bleue\")\n",
    "print(\"  4 : autre     : poubelle grise\")\n",
    "\n",
    "dechet = \"-1\"\n",
    "\n",
    "while dechet != 0 :\n",
    "    dechet = int(input(\"Quel type de déchet (0 lorsque tous les déchets sont triés) : \"))\n",
    "    if dechet == 1:\n",
    "        print(\"Poubelle jaune\")\n",
    "    elif dechet == 2:\n",
    "        print(\"Poubelle verte\")\n",
    "    elif dechet == 3:\n",
    "        print(\"Poubelle bleue\")\n",
    "    else :\n",
    "        if dechet != 0:\n",
    "            print(\"Poubelle grise\")\n",
    "\n",
    "print(\"Merci pour votre responsabilité environnementale\")\n",
    "```\n",
    "\n",
    "### Exercice 4\n",
    "\n",
    "Voir le [code Python](./codes/racine.py)"
   ]
  },
  {
   "cell_type": "code",
   "execution_count": null,
   "id": "efb2da56-54ed-4dae-90af-2898415e301f",
   "metadata": {},
   "outputs": [],
   "source": []
  }
 ],
 "metadata": {
  "kernelspec": {
   "display_name": "Python 3 (ipykernel)",
   "language": "python",
   "name": "python3"
  },
  "language_info": {
   "codemirror_mode": {
    "name": "ipython",
    "version": 3
   },
   "file_extension": ".py",
   "mimetype": "text/x-python",
   "name": "python",
   "nbconvert_exporter": "python",
   "pygments_lexer": "ipython3",
   "version": "3.9.2"
  }
 },
 "nbformat": 4,
 "nbformat_minor": 5
}
