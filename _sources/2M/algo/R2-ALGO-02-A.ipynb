{
 "cells": [
  {
   "cell_type": "markdown",
   "id": "6ca33841-2ae1-4984-8369-54ff3ae829d5",
   "metadata": {},
   "source": [
    "![jass](images/jass.jpg \"jeu de jass\")\n",
    "\n",
    "# R2-ALGO-02-A : Révision algorithmes (Recherche)"
   ]
  },
  {
   "cell_type": "markdown",
   "id": "a8807969-3df8-433d-911b-e5d847a8f55d",
   "metadata": {},
   "source": [
    "## Objectifs pédagogiques\n",
    "\n",
    "- mettre en action les différents algorithmes de recherche avec des cartes\n",
    "- formaliser certains algorithmes en algorigrammes\n",
    "- compter le nombre d'étapes pour l'algorithme"
   ]
  },
  {
   "cell_type": "markdown",
   "id": "6b5c428b-c57a-4598-b9a5-9a2f895f6a91",
   "metadata": {},
   "source": [
    "## Le jeu de Jass\n",
    "\n",
    "Un jeu de cartes de jass se compose de :\n",
    "\n",
    "- 36 cartes:\n",
    "    - 9 hauteurs\n",
    "    - 4 couleurs : pique, coeur, carreau, trèfle\n",
    "- les hauteurs sont dans l'ordre :\n",
    "    1. le 6\n",
    "    1. le 7\n",
    "    1. le 8\n",
    "    1. le 9\n",
    "    1. le 10\n",
    "    1. le valet\n",
    "    1. la dame\n",
    "    1. le roi\n",
    "    1. l'as"
   ]
  },
  {
   "cell_type": "markdown",
   "id": "45a3be26-cdff-4c64-bd76-d69549da7317",
   "metadata": {},
   "source": [
    "## Exercice 1\n",
    "\n",
    "- Vous recevez un paquet de cartes\n",
    "- observez toutes les cartes"
   ]
  },
  {
   "cell_type": "markdown",
   "id": "849ef1f8-76fd-4eb7-8ee6-c1ab4b6da32a",
   "metadata": {},
   "source": [
    "## Exercice 2 (recherche d'une carte)\n",
    "\n",
    "Mélangez vos 9 cartes et placez-les sur la table devant vous **face cachée**\n",
    "\n",
    "- trouvez une méthode (un **algorithme**) pour recherchez la **plus haute** carte. *hint 1M : trois méthodes différentes ont été vues en première année* \n",
    "    - **comptez** le nombre **de comparaisons** (combien de cartes retournées) il a fallu pour retrouver la plus haute carte.\n",
    "    - **refaite** l'expérience plusieurs fois pour obtenir une valeur moyenne\n",
    "    - **Notez sur une feuille** le nombre de comparaisons (dans le meilleur des cas, dans le pire des cas et en moyenne) en fonction de la taille des entrées\n",
    "    - recommencez avec un nouveau mélange\n",
    "\n",
    "- dessinez l'algorigramme de votre méthode\n",
    "\n",
    "**ATTENTION : vous ne pouvez avoir qu'UNE ou DEUX cartes retournées SIMULTANÉMENT**\n"
   ]
  },
  {
   "cell_type": "code",
   "execution_count": null,
   "id": "2aa847f0-8352-4581-b2ef-bebc6aea1c16",
   "metadata": {},
   "outputs": [],
   "source": []
  }
 ],
 "metadata": {
  "kernelspec": {
   "display_name": "Python 3 (ipykernel)",
   "language": "python",
   "name": "python3"
  },
  "language_info": {
   "codemirror_mode": {
    "name": "ipython",
    "version": 3
   },
   "file_extension": ".py",
   "mimetype": "text/x-python",
   "name": "python",
   "nbconvert_exporter": "python",
   "pygments_lexer": "ipython3",
   "version": "3.11.2"
  }
 },
 "nbformat": 4,
 "nbformat_minor": 5
}
