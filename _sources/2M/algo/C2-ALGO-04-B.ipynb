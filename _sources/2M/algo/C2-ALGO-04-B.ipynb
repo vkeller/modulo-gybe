{
 "cells": [
  {
   "cell_type": "markdown",
   "id": "f9353a95-829f-4b83-8185-7ea56f973529",
   "metadata": {},
   "source": [
    "# C2-ALGO-04-B : Parcours de graphes"
   ]
  },
  {
   "cell_type": "markdown",
   "id": "22298470-9860-4056-9835-870b3580b4ae",
   "metadata": {},
   "source": [
    "## Introduction \n",
    "\n",
    "Un graphe représente des sommets et des arêtes reliées ou non. Il est facile de représenter un graphe à l'aide d'une matrice d'adjacence. \n",
    "\n",
    "Le **parcours d'un graphe** permet de trouver des **chemins**, c'est-à-dire une suite de sommets reliés entre eux par des arêtes (ou des arcs dans le cas d'un graphe orienté)."
   ]
  },
  {
   "cell_type": "markdown",
   "id": "33f2adf7-6871-4df6-9cba-7daefc209c72",
   "metadata": {},
   "source": [
    "## Exercice introductif : chemin le plus court 1\n",
    "\n",
    "![ex1](images/exercicegraphe1.png \"Exo 1\")\n",
    "\n",
    "Quel est le chemin le plus court entre les sommets `D` et `H` ?"
   ]
  },
  {
   "cell_type": "markdown",
   "id": "654d8dfc-1810-472f-ba41-8b4eda7f0ae3",
   "metadata": {},
   "source": [
    "## Exercice introductif 2 : chemin le plus cours 2 !\n",
    "\n",
    "Pour le trajet Tour Haldimand -> Tour de Sauvabelin, Google Maps propose\n",
    "\n",
    "- Bus 24 jusqu’à Ouchy (3’), M2 jusqu’à Sallaz (14’), puis à pied (16’)\n",
    "- Bus 21 jusqu’à Alpes (6’), bus 8 jusqu’à Bel Air (7’), bus 16 jusqu’à Sauvabelin (13’), puis à pied (5’)\n",
    "- Bus 21 jusqu’à Chauderon (18’), bus 16 jusqu’à Sauvabelin(16’), puis à pied (5’)\n",
    "- 1h15 à pied, ça fait du bien !\n",
    "- Quel trajet mettrait le moins de temps ?\n",
    "\n",
    "Faisons le graphe !\n",
    "\n",
    "![ex3](images/exercicegraphe3.png \"Exo \")"
   ]
  },
  {
   "cell_type": "markdown",
   "id": "709e03b8-16b6-4104-9f50-34de01d8f447",
   "metadata": {},
   "source": [
    "## Algorithme de Dijkstra\n",
    "\n",
    "L'algorithme de Dijkstra consiste à partir d'un point (par exemple A) à trouver le chemin le plus court jusqu'à **couvrir** l'ensemble du graphe. \n",
    "\n",
    "On ne prend pas deux fois un chemin car on construit un **arbre couvrant**.\n",
    "\n",
    "![graphe4](images/exercicegraphe4.png \"Another graphe\")\n",
    "\n",
    "Dans cet exemple, il y a deux chemins qui partent de `A` et finissent à `G` de longueur 17 : `A-B-E-F-G` et `A-B-E-G`"
   ]
  },
  {
   "cell_type": "markdown",
   "id": "3afff5c1-fd47-4459-833b-3d4622f5cc76",
   "metadata": {},
   "source": [
    "## Exercice 1 : Dijkstra\n",
    "\n",
    "Construire l'arbre recouvrant dans le graphe suivant :\n",
    "\n",
    "![graphe5](images/exercicegraphe5.png \"Exo 5\")"
   ]
  },
  {
   "cell_type": "markdown",
   "id": "6f547080-ed5b-4918-bd57-bbbd3d2741b4",
   "metadata": {},
   "source": [
    "## Exercice 2 : Villes suisses\n",
    "\n",
    "Sur ce graphe, on indique les distances entre quelques villes importantes en Suisse.\n",
    "\n",
    "Quel est le chemin le plus court entre Genève et Coire ?\n",
    "\n",
    "![exo5](images/exercicegraphe6.png \"Exo5\")"
   ]
  },
  {
   "cell_type": "code",
   "execution_count": 1,
   "id": "dcd328e2-3a30-4715-b346-2a2c975632b1",
   "metadata": {},
   "outputs": [],
   "source": [
    "## Solution aux exercices"
   ]
  },
  {
   "cell_type": "markdown",
   "id": "f2f6fa83-b800-405a-881f-6a4ba24e0928",
   "metadata": {},
   "source": [
    "### Exercice introductif 1 \n",
    "\n",
    "Voici une solution :\n",
    "\n",
    "![ex2sol](images/exercicegraphe2.png \"Solution exo2\")"
   ]
  },
  {
   "cell_type": "markdown",
   "id": "1ebb69ec-c853-46dc-825d-d9d92803daae",
   "metadata": {},
   "source": [
    "### Exercice 2 (villes suisses)\n",
    "\n",
    "\n",
    "Voici la matrice d'adjacence entre les villes\n",
    "\n",
    "|   | **Lausanne**  | **Genève**  | **Neuchâtel**  | **Fribourg**  | **Berne**  |  **Zürich** | **Lugano**  | **Sion**  | **Bâle**  | **Schaffhouse**  | **St-Gall**  | **Coire**  |\n",
    "|---|---|---|---|---|---|---|---|---|---|---|---|---|\n",
    "| **Lausanne**  |  0 | 67  | 73  | 76  | 111  | 231  | 331  | 96  | 206  | 281  | 311  | 350  |\n",
    "| **Genève**  | 67  |  0 | 121  | 143  | 172  | 292  | 398  | 163  | 263  | 342  | 372  | 411  |\n",
    "| **Neuchâtel**  | 73  | 121  |  0 | 43  | 51  | 171  | 330   | 169  | 142  | 221  | 251  | 290  |\n",
    "| **Fribourg**  | 76 | 143  | 43  |  0 | 35  | 155  | 314 | 128  | 130  | 205  | 235  | 274  |\n",
    "| **Berne**  | 111  | 172  | 51  | 35  | 0  | 120  | 279  | 141  | 95  | 170  | 200  | 239  |\n",
    "| **Zürich**  | 231  | 292  | 171  | 155  | 120  | 0  | 207  | 261  | 87  | 50  | 80  | 119  |\n",
    "| **Lugano**  | 331  | 398 | 330  | 314  | 279  | 207  | 0  | 235  | 294  | 257  | 270  | 176  |\n",
    "| **Sion**  | 96  | 163  | 169  | 128  | 141  | 261  | 235  | 0  | 246  | 311  | 341  | 380  |\n",
    "| **Bâle**  | 206  | 263  | 142  | 130  | 95  | 87  | 294  | 236  | 0  | 99  | 167  | 206  |\n",
    "| **Schaffhouse**  | 281  | 342  | 221  | 205 | 170  | 50  | 257  | 311  | 99  | 0  | 84  | 169  |\n",
    "| **St-Gall**  | 311  | 372  | 251  | 235  | 200  | 80  | 270  | 341  | 167  | 84  | 0  | 94  |\n",
    "| **Coire**  | 350  | 411  | 290  | 274  | 239  | 119  | 176  |  380 | 206  | 169  | 94  | 0  |"
   ]
  },
  {
   "cell_type": "markdown",
   "id": "0e283448-be62-4b4c-b4a0-a0a7f37bdc8b",
   "metadata": {},
   "source": [
    "## Code Python Dijkstra\n",
    "\n",
    "Le code suivant permet de calculer la longueur des chemins en utilisant la matrice d'adjacence et l'algorithme de Dijkstra"
   ]
  },
  {
   "cell_type": "code",
   "execution_count": null,
   "id": "30654b33-6bad-47eb-abee-100920d7beed",
   "metadata": {},
   "outputs": [
    {
     "name": "stdout",
     "output_type": "stream",
     "text": [
      "Distance depuis la source :  D\n",
      "Noeud \t Distance\n",
      "A \t 10\n",
      "B \t 12\n",
      "C \t 17\n",
      "D \t 0\n",
      "E \t 4\n",
      "F \t 6\n",
      "G \t 10\n",
      "H \t 22\n"
     ]
    }
   ],
   "source": [
    "# Code permettant de calculer l'algorithme de Dijkstra\n",
    "# sur le graphe du cours C2_ALGO_04\n",
    "import random\n",
    "\n",
    "INF = 100000\n",
    "nbr = 8\n",
    "\n",
    "A = [ 0, 3, 0,10, 0, 0, 0, 0]\n",
    "B = [ 3, 0,12, 0, 8, 0, 0, 0]\n",
    "C = [ 0,12, 0, 0, 0, 0, 7, 5]\n",
    "D = [10, 0, 0, 0, 4,12, 0, 0]\n",
    "E = [ 0, 8, 0, 4, 0, 2, 6, 0]\n",
    "F = [ 0, 0, 0,12, 2, 0, 4, 0]\n",
    "G = [ 0, 0, 7, 0, 6, 4, 0,15]\n",
    "H = [ 0, 0, 5, 0, 0, 0,15, 0]\n",
    "\n",
    "\n",
    "graph = [A,B,C,D,E,F,G,H]\n",
    "\n",
    "# Nomme le sommet à partir duquel on calcule l'arbre couvrant\n",
    "premier = 3\n",
    "\n",
    "noeuds = [\"A\",\"B\",\"C\",\"D\",\"E\",\"F\",\"G\",\"H\"]\n",
    "\n",
    "nbr = len(graph)\n",
    "visites = [False] * nbr\n",
    "distances = [INF] * nbr\n",
    "distances[premier] = 0\n",
    "\n",
    "for i in range(nbr):\n",
    "    # Recherche des noeuds avec la distance minimum\n",
    "    min_distance = INF\n",
    "    min_index = -1\n",
    "    for v in range(nbr):\n",
    "        if not visites[v] and distances[v] < min_distance:\n",
    "            min_distance = distances[v]\n",
    "            min_index = v\n",
    "\n",
    "    visites[min_index] = True\n",
    "\n",
    "    # Recalcul des distances depuis le noeud\n",
    "    for v in range(nbr):\n",
    "        if graph[min_index][v] > 0 and not visites[v]:\n",
    "            new_distance = distances[min_index] + graph[min_index][v]\n",
    "            if new_distance < distances[v]:\n",
    "                distances[v] = new_distance\n",
    "\n",
    "print(\"Distance depuis la source : \",noeuds[premier])\n",
    "print(\"Noeud\",\"\\t\",\"Distance\")\n",
    "for i in range(nbr):\n",
    "    print(noeuds[i],\"\\t\",distances[i])"
   ]
  },
  {
   "cell_type": "code",
   "execution_count": null,
   "id": "6b43de3f-f5e1-43c1-bcec-8b2ea01a440d",
   "metadata": {},
   "outputs": [],
   "source": []
  }
 ],
 "metadata": {
  "kernelspec": {
   "display_name": "Python 3 (ipykernel)",
   "language": "python",
   "name": "python3"
  },
  "language_info": {
   "codemirror_mode": {
    "name": "ipython",
    "version": 3
   },
   "file_extension": ".py",
   "mimetype": "text/x-python",
   "name": "python",
   "nbconvert_exporter": "python",
   "pygments_lexer": "ipython3",
   "version": "3.9.2"
  }
 },
 "nbformat": 4,
 "nbformat_minor": 5
}
