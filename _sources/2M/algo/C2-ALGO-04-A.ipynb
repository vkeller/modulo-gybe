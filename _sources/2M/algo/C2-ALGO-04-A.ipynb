{
 "cells": [
  {
   "cell_type": "markdown",
   "id": "c05253d8-68a6-4c8c-9026-8ce10268f5bf",
   "metadata": {},
   "source": [
    "\n",
    "\n",
    "# C2-ALGO-04-A : Introduction à la théorie des graphes"
   ]
  },
  {
   "cell_type": "markdown",
   "id": "485a58fe-6b91-45c5-af66-fccaecb61759",
   "metadata": {},
   "source": [
    "## Objectifs pédagogiques\n",
    "\n",
    "- connaître les différentes utilisation des graphes dans l'informatique\n",
    "- connaître la définition d'un graphe\n",
    "- être capable de construire et lire une matrice d'adjacence\n",
    "- appliquer l'algorithme de Dijkstra du plus court chemin sur un graphe"
   ]
  },
  {
   "cell_type": "markdown",
   "id": "00494ff2-bdbc-4a2e-8489-3ca57d157643",
   "metadata": {},
   "source": [
    "## Exemple introductif\n",
    "\n",
    "Il est d'usage d'introduire la théorie des graphes en présentant le célèbre problème dit **des sept ponts de Königsberg**. \n",
    "\n",
    "![konigsberg](images/konigsberg.jpg \"les 7 ponts de Königsberg\")\n",
    "\n",
    "Le problème est le suivant : La ville de Königsberg (aujourd'hui [Kaliningrad](https://fr.wikipedia.org/wiki/K%C3%B6nigsberg)), du temps de [Leonhard Euler](https://fr.wikipedia.org/wiki/Leonhard_Euler) le célèbre mathématicien et physicien suisse qui l'a résolu, est construite dans l'estuaire du fleuve Pregolia sur 5 îles reliées par des ponts. Ces ponts étaient au nombre de 7 du temps d'Euler. Le problème consiste à partir d'un point de départ au choix, de passer **une et une seule fois** sur chacun des sept ponts et à revenir au point de départ.\n",
    "\n",
    "Solution : il n'existe pas de solution à ce problème. La démonstration (faite par Euler) dépasse largement le cadre de ce cours d'informatique"
   ]
  },
  {
   "cell_type": "markdown",
   "id": "daf1a9ea-610e-4732-9af7-77f34f095374",
   "metadata": {},
   "source": [
    "## Utilisation des graphes\n",
    "\n",
    "Les graphes sont utilisés dans divers domaines :\n",
    "\n",
    "1. Les réseaux informatiques\n",
    "1. Les réseaux sociaux\n",
    "1. La cartographie\n",
    "1. Les réseaux de neurones (et donc l'IA)\n"
   ]
  },
  {
   "cell_type": "markdown",
   "id": "4375238e-e644-4277-b8da-1e6490e2bad8",
   "metadata": {},
   "source": [
    "## Quelques exemples\n",
    "\n",
    "### Les réseaux informatiques\n",
    "\n",
    "L'image ci-dessous représente le graphe des requêtes vers les sites tiers ainsi que les cookies déposés par ces derniers avec lesquels l'internaute a interagi. Il s'agit d'une extension libre du navigateur libre Firefox \n",
    "\n",
    "![lightbeam](images/lightbeam.png \"Lightbeam\")\n",
    "\n",
    "### La cartographie\n",
    "\n",
    "L'image ci-dessous représente une solution du célèbre *problème du voyageur de commerce* (Travaling Salesman Problem). L'idée est de trouver le chemin le plus court qui passe une seule fois par chacun des sommets (représentant ici les capitales des états amércains)\n",
    "\n",
    "![TSP](images/TSP.png \"Traveling Salesman Problem\")\n",
    "\n",
    "### Les réseaux de neurones\n",
    "\n",
    "L'image ci-dessous représente un réseau de neurones artificielles, l'un des composants de base vers la créations d'une intelligence artificielle.\n",
    "\n",
    "![RNN](images/RNN.png \"Réseaux de neurones\")\n"
   ]
  },
  {
   "cell_type": "markdown",
   "id": "d38dce0b-425e-44b3-baa5-965223e395a8",
   "metadata": {},
   "source": [
    "## Définition : graphe\n",
    "\n",
    "Un **graphe** est une structure composée de deux objets :\n",
    "\n",
    "1. Une liste de **sommets**. Un sommet peut avoir un **nom**\n",
    "1. Une liste d'**arêtes** qui relient les sommets. \n",
    "\n",
    "La représentation courante est graphique avec des cercles pour les sommets et des lignes pour les arêtes. \n",
    "\n",
    "![graphe](images/graphe1.png \"Un graphe\")\n",
    "\n",
    "## Définition : graphe orienté\n",
    "\n",
    "les arêtes peuvent avoir un sens d'un sommet à un autre. On les représente avec des flèches et une direction. L'arête devient alors un **arc**\n",
    "\n",
    "![graphe2](images/graphe2.png \"Graphe orienté\")\n",
    "\n",
    "On parle alors d'un **graphe orienté**\n",
    "\n",
    "## Définition : graphe pondéré\n",
    "\n",
    "Une arête (ou un arc) peut possèder un **poids** qui représente n'importe quelle grandeur (une longueur, un coût, etc..)\n",
    "\n",
    "On parle alors de **graphe pondéré**\n",
    "\n",
    "## Définition : boucle\n",
    "\n",
    "Lorsqu'une une arête ou un arc relie un sommet à lui-même, on parle d'une **boucle**"
   ]
  },
  {
   "cell_type": "markdown",
   "id": "6d749ba8-2ac9-439d-810b-d598fee811f7",
   "metadata": {},
   "source": [
    "## Exemple : une carte de métro\n",
    "\n",
    "![TL](images/metrolausanne.png \"Carte du métro de Lausanne\")\n",
    "\n",
    "Le plan des deux lignes de métro de Lausanne est un graphe. \n",
    "\n",
    "1. Que sont les sommets ?\n",
    "1. Que sont les arêtes ?\n",
    "1. Le graphe est-il orienté ? Pondéré ? Si non, que faudrait-il ajouter pour l'orienter ? Pour le pondérer ?\n",
    "\n",
    "Peut-on en faire de même avec le plan du métro de Tokyo ?\n",
    "\n",
    "![Tokyo](images/metrotokyo.jpg \"Carte du métro de Tokyo\")"
   ]
  },
  {
   "cell_type": "markdown",
   "id": "422d4d90-b9be-4fef-9fb8-c3174c7a9ae0",
   "metadata": {},
   "source": [
    "## Définition : matrice d'adjacence\n",
    "\n",
    "Lorsque le graphe est trop complexe pour être représenté graphiquement, on utilise un tableau. En mathématique, on parle de **matrice**. \n",
    "\n",
    "Une **matrice d'adjacence** pour un graphe à `n` sommets est un tableau de dimension `n x n` dont chaque élément qui ne se trouve pas sur la diagonale contient le poids de l'arête qui relie les deux sommets à l'intersection de la colonne et de la ligne. Si les arêtes ne possèdent pas de poids, alors on indiquera `1` si une arête existe, `0` sinon. \n",
    "\n",
    "### Exemple\n",
    "\n",
    "![graphe3](images/graphe3.png \"Graphique\")\n",
    "\n",
    "La matrice d'adjacence se présente alors ainsi :\n",
    "\n",
    "|   | **A**  | **B**  | **C**  | **D**  | **E**  |  **F** | **G**  | **H**  |\n",
    "|---|---|---|---|---|---|---|---|---|\n",
    "| **A**  |   | 3  | 0  | 10  | 0  | 0  | 0  | 0  |\n",
    "| **B**  | 3  |   | 8  | 0  | 0  | 0  | 12  | 0  |\n",
    "| **C**  | 0  | 8  |   | 4  | 2  | 3  | 0   | 0  |\n",
    "| **D**  | 10 | 0  | 4  |   | 5  | 0  | 0 | 0  |\n",
    "| **E**  | 0  | 0  | 2  | 5  |   | 4  | 0  | 0  |\n",
    "| **F**  | 0  | 0  | 3  | 0  | 4  |   | 1  | 7  |\n",
    "| **G**  | 0  | 12 | 0  | 0  | 0  | 1  |   | 5  |\n",
    "| **H**  | 0  | 0  | 0  | 0  | 0  | 7  | 5  |   |\n",
    "\n",
    "Mathématiquement on la présente ainsi :\n",
    "\n",
    "$$\\begin{pmatrix} & 3 & 0 & 10 & 0 & 0 & 0 & 0 \\\\ 3 &  & 8 & 0 & 0 & 0 & 12 & 0 \\\\ 0 & 8 &  & 4 & 2 & 3 & 0 & 0 \\\\ 10 & 0 & 4 &  & 5 & 0 & 0 & 0 \\\\ 0 & 0 & 2 & 5 &  & 4 & 0 & 0 \\\\ 0 & 0 & 3 & 0 & 4 &  & 1 & 7 \\\\ 0 & 12 & 0 & 0 & 0 & 1 &  & 5 \\\\ 0 & 0 & 0 & 0 & 0 & 7 & 5 & &  \\end{pmatrix}$$"
   ]
  },
  {
   "cell_type": "markdown",
   "id": "7fae575e-0140-4ba2-922c-9fa5c3371678",
   "metadata": {},
   "source": [
    "## Exercice 1 : matrice d'adjacence\n",
    "\n",
    "Ecrivez la matrice d'adjacence du graphe suivant :\n",
    "\n",
    "![ex1](images/exercicegraphe1.png \"Exo 1\")"
   ]
  },
  {
   "cell_type": "markdown",
   "id": "e18598d3-8d8c-473a-a5c8-0ddd489fc779",
   "metadata": {},
   "source": [
    "## Cas d'usage de la matrice d'adjacence\n",
    "\n",
    "La matrice d'adjacence, contrairement au graphe \"visuel\", permet d'identifier de nombreux éléments très rapidement\n",
    "\n",
    "### Voisins d'un sommet\n",
    "\n",
    "Les réseaux sociaux utilisent ce cas d'usage. Dans un réseau social, chaque personne (profil) est un sommet d'un très grand graphe représenté par une matrice d'adjacence. Une arête relie deux sommet si ces personnes sont *amies*. \n",
    "\n",
    "Ainsi, l'utilité de la matrice d'adjacence permet d'identifier immédiatement avec qui une personne est amie. Une ligne (ou une colonne) représente un profil, il est très rapide de savoir qui est connecté avec qui.\n",
    "\n",
    "```\n",
    "      A  B  C  D\n",
    "   A  0  1  0  1\n",
    "   B  1  0  1  0\n",
    "   C  0  1  0  1\n",
    "   D  1  0  1  0\n",
    "\n",
    "```\n",
    "Ici, **A** est connecté avec **B** et **D**. \n",
    "\n",
    "### Programmation\n",
    "\n",
    "Lorsqu'on programme un réseau social, un système GPS ou n'importe quel algorithme qui demande un graphe, il est très facile de représenter ce graphe en mémoire avec la matrice d'adjacence directement : c'est un simple **tableau 2D**."
   ]
  },
  {
   "cell_type": "code",
   "execution_count": 5,
   "id": "4ee7a3af-12ec-4d7f-8143-07582ccc8498",
   "metadata": {},
   "outputs": [
    {
     "name": "stdout",
     "output_type": "stream",
     "text": [
      "[0, 3, 0, 10, 0, 0, 0, 0]\n",
      "[0, 12, 0, 0, 0, 0, 7, 5]\n",
      "[10, 0, 0, 0, 4, 12, 0, 0]\n",
      "[0, 8, 0, 4, 0, 2, 6, 0]\n",
      "[0, 0, 0, 12, 2, 0, 4, 0]\n",
      "[0, 0, 7, 0, 6, 4, 0, 15]\n",
      "[0, 0, 5, 0, 0, 0, 15, 0]\n"
     ]
    }
   ],
   "source": [
    "A = [0,3,0,10,0,0,0,0]\n",
    "B = [3,0,12,0,8,0,0,0]\n",
    "C = [0,12,0,0,0,0,7,5]\n",
    "D = [10,0,0,0,4,12,0,0]\n",
    "E = [0,8,0,4,0,2,6,0]\n",
    "F = [0,0,0,12,2,0,4,0]\n",
    "G = [0,0,7,0,6,4,0,15]\n",
    "H = [0,0,5,0,0,0,15,0]\n",
    "\n",
    "graphe = [A,C,D,E,F,G,H]\n",
    "\n",
    "i = 0\n",
    "while i < 7 :\n",
    "    print(graphe[i])\n",
    "    i = i + 1"
   ]
  },
  {
   "cell_type": "markdown",
   "id": "5724f798-da70-4b61-b03b-bbcadcd237d3",
   "metadata": {},
   "source": [
    "Avec cette structure de donnée, il est très aisé de programmer des fonctions de réseaux sociaux basiques. \n",
    "\n",
    "Par exemple, quels sont les amis de **Carole**, et de **Mallory** ?"
   ]
  },
  {
   "cell_type": "code",
   "execution_count": 6,
   "id": "6dc50fe5-99a4-4218-8f7c-7083ea30a826",
   "metadata": {},
   "outputs": [
    {
     "name": "stdout",
     "output_type": "stream",
     "text": [
      "Alice est ami avec Bob\n",
      "Alice est ami avec David\n",
      "Bob est ami avec Oscar\n",
      "Carole est ami avec Alice\n",
      "Carole est ami avec Eve\n",
      "Carole est ami avec Mallory\n",
      "David est ami avec Bob\n",
      "David est ami avec Mallory\n",
      "David est ami avec Oscar\n",
      "Eve est ami avec David\n",
      "Eve est ami avec Oscar\n",
      "Mallory est ami avec Carole\n",
      "Mallory est ami avec Eve\n",
      "Oscar est ami avec Carole\n"
     ]
    }
   ],
   "source": [
    "## Exemple d'usage d'une matrice d'adjacence\n",
    "## Si la position i vaut 1, alors il y a un lien\n",
    "\n",
    "utilisateurs = [\"Alice\",\"Bob\",\"Carole\",\"David\",\"Eve\",\"Mallory\",\"Oscar\",\"Trudy\"]\n",
    "\n",
    "Alice   = [0,1,0,1,0,0,0,0]\n",
    "Bob     = [1,0,1,0,1,0,0,0]\n",
    "Carole  = [0,1,0,0,0,0,1,1]\n",
    "David   = [1,0,0,0,1,1,0,0]\n",
    "Eve     = [0,1,0,1,0,1,1,0]\n",
    "Mallory = [0,0,0,1,1,0,1,0]\n",
    "Oscar   = [0,0,1,0,1,1,0,1]\n",
    "Trudy   = [0,0,1,0,0,0,1,0]\n",
    "\n",
    "graphe = [Alice,Carole,David,Eve,Mallory,Oscar,Trudy]\n",
    "\n",
    "for i in range(len(graphe)):\n",
    "    for j in range(len(graphe)):\n",
    "        if graphe[i][j] != 0 and i != j:\n",
    "            print(utilisateurs[i],\"est ami avec\",utilisateurs[j])\n",
    "\n",
    "\n"
   ]
  },
  {
   "cell_type": "markdown",
   "id": "91c79a14-550d-4b65-86e3-3fa61eac544e",
   "metadata": {},
   "source": [
    "## Solution des exercices"
   ]
  },
  {
   "cell_type": "markdown",
   "id": "14bbe4fd-36fa-4010-a3c8-a864cac63050",
   "metadata": {},
   "source": [
    "### Exercice 1\n",
    "\n",
    "La matrice d'ajacence est la suivante :\n",
    "\n",
    "|   | **A**  | **B**  | **C**  | **D**  | **E**  |  **F** | **G**  | **H**  |\n",
    "|---|---|---|---|---|---|---|---|---|\n",
    "| **A**  | 0 | 3  | 0  | 10  | 0  | 0  | 0  | 0  |\n",
    "| **B**  | 3  | 0 | 12  | 0  | 8  | 0  | 0  | 0  |\n",
    "| **C**  | 0  | 12  | 0  | 0  | 0  | 0  | 7   | 5  |\n",
    "| **D**  | 10 | 0  | 0  | 0 | 4  | 12  | 0 | 0  |\n",
    "| **E**  | 0  | 8  | 0  | 4  | 0 | 2  | 6  | 0  |\n",
    "| **F**  | 0  | 0  | 0  | 12  | 2  | 0 | 4  | 0  |\n",
    "| **G**  | 0  | 0 | 7  | 0  | 6  | 4  | 0 | 15  |\n",
    "| **H**  | 0  | 0  | 5  | 0  | 0  | 0  | 15  | 0 |"
   ]
  }
 ],
 "metadata": {
  "kernelspec": {
   "display_name": "Python 3 (ipykernel)",
   "language": "python",
   "name": "python3"
  },
  "language_info": {
   "codemirror_mode": {
    "name": "ipython",
    "version": 3
   },
   "file_extension": ".py",
   "mimetype": "text/x-python",
   "name": "python",
   "nbconvert_exporter": "python",
   "pygments_lexer": "ipython3",
   "version": "3.9.2"
  }
 },
 "nbformat": 4,
 "nbformat_minor": 5
}
