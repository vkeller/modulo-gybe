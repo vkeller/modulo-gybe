{
 "cells": [
  {
   "cell_type": "markdown",
   "id": "25548821-b951-40ca-a201-176d4f378881",
   "metadata": {},
   "source": [
    "![glouton](images/glouton.png \"glouton\")\n",
    "\n",
    "# C1-ALGO-13 : Les algorithmes gloutons"
   ]
  },
  {
   "cell_type": "markdown",
   "id": "6aea2bb0-7307-4bae-a23b-a6306017f489",
   "metadata": {},
   "source": [
    "## Objectifs pédagogiques"
   ]
  },
  {
   "cell_type": "markdown",
   "id": "a79c8478-7921-44c8-acb7-86886c0f6812",
   "metadata": {},
   "source": [
    "## Cadre algorithmique"
   ]
  },
  {
   "cell_type": "markdown",
   "id": "df459657-c681-44de-bfcb-3274b1537bd7",
   "metadata": {},
   "source": [
    "## Définition : algorithme glouton"
   ]
  },
  {
   "cell_type": "markdown",
   "id": "89231c9a-57cb-4583-b11e-fd682b4e7c1c",
   "metadata": {},
   "source": [
    "## Exemples"
   ]
  },
  {
   "cell_type": "markdown",
   "id": "9dfaf5b4-675d-42e3-88d8-ab3385fcadfd",
   "metadata": {},
   "source": [
    "## Exercice 1"
   ]
  },
  {
   "cell_type": "markdown",
   "id": "0b237364-10c0-484d-aa7f-276d3bae7944",
   "metadata": {},
   "source": [
    "## Références"
   ]
  },
  {
   "cell_type": "code",
   "execution_count": null,
   "id": "034576af-d520-4388-ba26-051969db2770",
   "metadata": {},
   "outputs": [],
   "source": []
  }
 ],
 "metadata": {
  "kernelspec": {
   "display_name": "Python 3 (ipykernel)",
   "language": "python",
   "name": "python3"
  },
  "language_info": {
   "codemirror_mode": {
    "name": "ipython",
    "version": 3
   },
   "file_extension": ".py",
   "mimetype": "text/x-python",
   "name": "python",
   "nbconvert_exporter": "python",
   "pygments_lexer": "ipython3",
   "version": "3.9.2"
  }
 },
 "nbformat": 4,
 "nbformat_minor": 5
}
