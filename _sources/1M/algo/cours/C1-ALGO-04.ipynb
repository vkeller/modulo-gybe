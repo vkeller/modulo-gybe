{
 "cells": [
  {
   "cell_type": "markdown",
   "id": "36725258-693b-4dd9-8294-3f0dc4cd2d6c",
   "metadata": {},
   "source": [
    "![complexite](images/complexite.png \"Complexite Big O\")\n",
    "\n",
    "# C1-ALGO-04 : Caractéristiques des algorithmes\n",
    "\n",
    "Dans ce cours, nous utilisons des exemples introductifs des deux grandes classes d'algorithmes classiques : recherche et tri pour dériver les concepts de complexité, de convergence et de condition d'arrêt"
   ]
  },
  {
   "cell_type": "markdown",
   "id": "c0ccf402-0e3e-4604-8c40-20e00d3beda5",
   "metadata": {},
   "source": [
    "## Objectifs\n",
    "\n",
    "- les élèves abordent les principales caractéristiques des algorithmes avec des exemples simples:\n",
    "    - convergence\n",
    "    - condition d'arrêt\n",
    "    - complexité temporelle (et la notation \"Big O\")\n",
    "    - complexité spatiale\n",
    "    - adéquation d'un algorithme avec le problème à résoudre"
   ]
  },
  {
   "cell_type": "markdown",
   "id": "1fd4e337-7ee3-4644-8634-72fd47a414fa",
   "metadata": {},
   "source": [
    "## Exemple introductif (algorithme de recherche) : trouver un nombre entre 1 et 128\n",
    "\n",
    "- liste triée\n",
    "- comment trouver un nombre ?\n",
    "\n",
    "### On joue ?\n",
    "\n"
   ]
  },
  {
   "cell_type": "markdown",
   "id": "13cd7cf8-d042-4a40-8d41-24669548792a",
   "metadata": {},
   "source": [
    "### Dichotomie\n",
    "\n",
    "![dicho](images/dicho.png \"recherche par dichotomie\")"
   ]
  },
  {
   "cell_type": "markdown",
   "id": "144b5c5f-547a-4215-8ac6-ac4246c4a06e",
   "metadata": {},
   "source": [
    "### Heuristique ?\n",
    "\n",
    "Une **heuristique** est un élément qui permet d'aider à la découverte. De manière générale, il s'agit de la partie de la science qui a pour objet les procédures de recherche et de découverte\n",
    "\n",
    "Si on a une connaissance **en amont**, on peut l'utiliser pour accélérer la recherche. Par exemple : \n",
    "\n",
    "- *Le nombre à trouver est le plus grand*\n",
    "- *le nombre à trouver se trouve entre 65 et 78*"
   ]
  },
  {
   "cell_type": "markdown",
   "id": "25b7da3a-637b-4b9b-8a91-1f07bd2c841b",
   "metadata": {},
   "source": [
    "### Remarques\n",
    "\n",
    "- La liste **doit** être triée\n",
    "- Deux algorithmes différents amènent au **même résultat** mais avec des temps pour trouver la solution **différents**\n",
    "- Il s'agit-là d'une première approche de la **complexité d'un algorithme**"
   ]
  },
  {
   "cell_type": "markdown",
   "id": "26aa15eb-21b7-406d-a462-a87461d621de",
   "metadata": {},
   "source": [
    "### Ordres de grandeur\n",
    "\n",
    "| Tri   |  temps |    \n",
    "| :---- | :---- |\n",
    "| Méthode naïve  | linéaire : si on double la taille de la liste, alors on double le temps |   \n",
    "| Dichotomie  | logarithmique : à chaque étape, on divise par deux le nombre d'élèments  |\n"
   ]
  },
  {
   "cell_type": "markdown",
   "id": "a015725b-6ec6-4926-bc13-6e8815bd9eed",
   "metadata": {},
   "source": [
    "## Recherche du plus grand nombre dans une liste non triée\n",
    "\n",
    "Que se passe-t-il si la liste n'est pas triée ?\n",
    "\n",
    "- doit-on la trier ? Comment la trier ?\n",
    "- autre méthode ?"
   ]
  },
  {
   "cell_type": "markdown",
   "id": "81d0f8e8-4a5b-4385-a459-f041e2f47583",
   "metadata": {},
   "source": [
    "## Second exemple introductif : Algorithmes de tri\n",
    "\n",
    "Soit une liste **non triée**, comment la trier pour effectuer dans un second temps une recherche sur celle-ci ?\n",
    "\n",
    "`6609;9449;3597;1345;1349;5898;8298;3427;4014;2967;4167;2244;8035;`\n",
    "`7232;4382;5799;2977;5882;2534;2052;78;7679;1258;8717;3227;5960;315;`\n",
    "`1334;7320;2659;5503;7275;4699;9926;4621;120;8939;3876;4322;3671;611;`\n",
    "`5947;6181;30;7634;5884;2208;7626;5954;5949;2543;5388;457;221;6649;3129;`\n",
    "`8879;8022;3065;1072;8738;9586;9171;4423;3921;1774;2140;9150;5636;1207;`\n",
    "`3082;7159;7897;9707;1758;524;7789;81121;1281;1373;1131;3883;8550;5890;`\n",
    "`3569;3301;9334 ;934;9488;9014;9939;6133`\n",
    "\n",
    "### Plus grand nombre dans la liste non-triée ?\n",
    "\n",
    "Il est obligatoire de parcourir l'ensemble des éléments de la liste et de les comparer. On utilise deux **variables** : l'élément à comparer et le plus grand au moment de la comparaison\n",
    "\n",
    "### Plus grand nombre dans la liste triée ?\n",
    "\n",
    "Il suffit de prendre le dernier, quelque soit la taille de la liste."
   ]
  },
  {
   "cell_type": "markdown",
   "id": "36971cfb-36f2-4e1c-bb09-66595e923a16",
   "metadata": {},
   "source": [
    "## Trade-off : trier ou ne pas trier, telle est la question\n",
    "\n",
    "Est-il possible de trouver un compromis entre la recherche dans une liste non-triée ou le tri puis la recherche dans la liste triée en termes de temps de calcul et de quantité de mémoire nécessaires ?"
   ]
  },
  {
   "cell_type": "markdown",
   "id": "c6e1af64-700f-4a2e-bd1a-ece9799310f6",
   "metadata": {},
   "source": [
    "## Convergence algorithmique\n",
    "\n",
    "Un algorithme devrait toujours arriver à une solution. On dit alors qu'il **converge** lorsqu'une métrique spécifique ne varie plus.\n"
   ]
  },
  {
   "cell_type": "markdown",
   "id": "01776b68-b67d-424e-ab92-54e33562d928",
   "metadata": {},
   "source": [
    "## Définitions : Complexité en temps et en espace d'un algorithme\n",
    "\n",
    "La **complexité** d'un algorithme représente la quantité de **ressources nécessaires** pour exécuter l'ensemble des instructions en fonction de l'entrée fournie (en fonction de la **TAILLE** du problème). Cette **complexité** se donne en **temps** ou en **espace** (quantité de mémoire nécessaire).\n",
    "\n",
    "Par convention, on exprime la taille du problème avec la lettre `n` et on donne l'ordre de grandeur asymptotique de la fonction.\n",
    "\n",
    "### Complexité temporelle\n",
    "\n",
    "La **complexité temporelle** d'un algorithme est une fonction de la taille de l'entrée et qui exprime le temps d'exécution d'un algorithme. Exemple : si on a un élément à rechercher dans une liste de 1000, combien de temps cela prendra pour une liste de 2000.\n",
    "\n",
    "### Complexité spatiale\n",
    "\n",
    "La **complexité spatiale** d'un algorithme est une fonction de la taille de l'entrée et qui exprime la quantité de mémoire nécessaire à l'exécution d'un algorithme. \n",
    "\n",
    "### Meilleur et pire des cas : ordre de grandeur asymptotique\n",
    "\n",
    "Le comportement de la complexité (temporelle et spatiale) peut s'analyser dans le pire des cas. \n",
    "\n",
    "**L'asymptote** est une courbe qui approche une autre sans jamais l'atteindre (du grec `a` exclusif et `symptote` rencontre). \n",
    "\n",
    "![asymptote](images/asymptote.png \"asymptote\")\n",
    "\n",
    "**L'ordre de grandeur asymptotique** de la complexité d'un algorithme est donc le pire des cas et celui qui ne sera jamais atteint."
   ]
  },
  {
   "cell_type": "markdown",
   "id": "ef338c98-91d3-4314-9830-9c3bd803a8d2",
   "metadata": {},
   "source": [
    "## Classe de complexité des algorithmes\n",
    "\n",
    "L'ordre de grandeur asymptotique s'écrit avec la notation dites **Grand O** (**Big O** en anglais). \n",
    "\n",
    "| $\\mathcal{O}{()}$ | classe |\n",
    "| :---: | :---: |\n",
    "| $\\mathcal{O}(1)$  | constante |\n",
    "| $\\mathcal{O}(log(n))$  | logarithmique |\n",
    "| $\\mathcal{O}(n)$  | linéaire |\n",
    "| $\\mathcal{O}(n \\cdot log(n))$  | quasi-linéaire |\n",
    "| $\\mathcal{O}(n^2)$  | quadratique |\n",
    "| $\\mathcal{O}(n^3)$  | cubique |\n",
    "| $\\mathcal{O}(2^n)$  | exponentielle |\n",
    "| $\\mathcal{O}(n!)$  | factorielle |\n",
    "\n"
   ]
  },
  {
   "cell_type": "markdown",
   "id": "44f23dc8-627e-4163-8349-fc2290e11bae",
   "metadata": {},
   "source": [
    "## Ressources supplémentaires"
   ]
  },
  {
   "cell_type": "code",
   "execution_count": 1,
   "id": "96488a63-c8e6-4957-9b03-dcc61506ef81",
   "metadata": {},
   "outputs": [
    {
     "data": {
      "image/jpeg": "[encoded data removed]",
      "text/html": [
       "\n",
       "        <iframe\n",
       "            width=\"960\"\n",
       "            height=\"540\"\n",
       "            src=\"https://www.youtube.com/embed/kPRA0W1kECg\"\n",
       "            frameborder=\"0\"\n",
       "            allowfullscreen\n",
       "            \n",
       "        ></iframe>\n",
       "        "
      ],
      "text/plain": [
       "<IPython.lib.display.YouTubeVideo at 0x7f0b84219dc0>"
      ]
     },
     "execution_count": 1,
     "metadata": {},
     "output_type": "execute_result"
    }
   ],
   "source": [
    "from IPython.display import YouTubeVideo\n",
    "\n",
    "YouTubeVideo('kPRA0W1kECg', width=960, height=540)\n",
    "\n"
   ]
  },
  {
   "cell_type": "code",
   "execution_count": null,
   "id": "681ec9f6-597c-4322-8bde-60137fe0a063",
   "metadata": {},
   "outputs": [],
   "source": []
  }
 ],
 "metadata": {
  "kernelspec": {
   "display_name": "Python 3 (ipykernel)",
   "language": "python",
   "name": "python3"
  },
  "language_info": {
   "codemirror_mode": {
    "name": "ipython",
    "version": 3
   },
   "file_extension": ".py",
   "mimetype": "text/x-python",
   "name": "python",
   "nbconvert_exporter": "python",
   "pygments_lexer": "ipython3",
   "version": "3.9.2"
  }
 },
 "nbformat": 4,
 "nbformat_minor": 5
}
