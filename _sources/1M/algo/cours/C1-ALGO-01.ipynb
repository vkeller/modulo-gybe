{
 "cells": [
  {
   "cell_type": "markdown",
   "id": "8b3a35fa-7585-4740-8fb4-d0fb87b8e5aa",
   "metadata": {},
   "source": [
    "![algos](images/algo-intro.png \"Introduction à l'algorithmique\")\n",
    "\n",
    "# C1-ALGO-01 : Introduction à l'algorithmique"
   ]
  },
  {
   "cell_type": "markdown",
   "id": "f2068bca-0160-48b9-913c-6cd52a6b6b53",
   "metadata": {},
   "source": [
    "## Objectifs pédagogiques\n",
    "\n",
    "- comprendre ce qu'est un algorithme\n",
    "- appréhender les différentes classes d'algorithmes"
   ]
  },
  {
   "cell_type": "markdown",
   "id": "b6187b1b-dc3b-49e9-ab94-c2e991e5852b",
   "metadata": {},
   "source": [
    "## Définition : Algorithme\n",
    "\n",
    "Un **algorithme** est une succession d'instructions permettant d'aboutir à un résultat souhaité (résoudre un problème ou une classe de problèmes). Il possède les caractéristiques suivantes :\n",
    "\n",
    "1. il doit toujours se terminer après un **nombre fini d'étapes**\n",
    "1. chaque étape d'un algorithme doit être définie précisément, les actions à mener doivent être spécifiées rigoureusement et sans ambigüité pour chaque cas\n",
    "1. un algorithme a des entrées, zéro ou plus, quantités qui lui sont données avant ou pendant son exécution\n",
    "1. un algorithme a une ou plusieurs sorties, quantités qui ont une relation spécifiée avec les entrées\n",
    "1. les instructions doivent être suffisament basiques pour pouvoir être en principe exécutées de manière exacte, en **un temps fini** par une personne utilisant un papier et un crayon."
   ]
  },
  {
   "cell_type": "markdown",
   "id": "950afa95-916a-4ec2-af60-ed37fd493c0b",
   "metadata": {},
   "source": [
    "## Exemple introductif : le stylo qui tombe\n",
    "\n",
    "Problème : Un stylo est tombé par terre depuis une table. Quelles sont les étapes pour le ramasser ?\n",
    "\n",
    "**Algorithme :**\n",
    "\n",
    "1. Se baisser\n",
    "1. Ouvrir la main\n",
    "1. Fermer la main sur le stylo\n",
    "1. Se relever\n",
    "1. Déposer le stylo sur la table\n",
    "\n",
    "**Sortie :** le stylo est sur la table "
   ]
  },
  {
   "cell_type": "markdown",
   "id": "ca6d7a89-2877-4388-80b2-7447536424cc",
   "metadata": {},
   "source": [
    "Il est possible de généraliser cet algorithme à l'ensemble des objets de la taille d'un stylo en ajoutant une **Entrée**\n",
    "\n",
    "**Algorithme :**\n",
    "\n",
    "**Entrée :** objet à ramasser\n",
    "\n",
    "1. Se baisser\n",
    "1. Ouvrir la main\n",
    "1. Fermer la main sur l'objet à ramasser\n",
    "1. Se relever\n",
    "1. Déposer l'objet à ramasser sur la table\n",
    "\n",
    "**Sortie :** l'objet à ramasser est sur la table"
   ]
  },
  {
   "cell_type": "markdown",
   "id": "12492fa1-6a7c-4231-9c9d-4a9d285f5c0a",
   "metadata": {},
   "source": [
    "Il est possible de généraliser cet algorithme à l'ensemble des meubles similaires à une table en ajoutant une **Entrée**\n",
    "\n",
    "**Algorithme :**\n",
    "\n",
    "**Entrée 1 :** objet à ramasser\n",
    "\n",
    "**Entrée 3 :** meuble sur lequel déposer l'objet\n",
    "\n",
    "1. Se baisser\n",
    "1. Ouvrir la main\n",
    "1. Fermer la main sur l'objet à ramasser\n",
    "1. Se relever\n",
    "1. Déposer l'objet à ramasser sur le meuble sur lequel déposer l'objet à ramasser\n",
    "\n",
    "**Sortie :** l'objet à ramasser est sur le meuble"
   ]
  },
  {
   "cell_type": "markdown",
   "id": "fe2a95e4-99e7-433b-aff2-5e718f4a2956",
   "metadata": {},
   "source": [
    "## Exemple introductif mathématique : l'algorithme d'Euclide\n",
    "\n",
    "Historiquement, c'est probablement le plus ancien non trivial a avoir été décrit (au IIIème siècle avant JC)\n",
    "\n",
    "L'algorithme d'Euclide est utilisé pour calculer le PGCD (Plus Grand Commun Diviseur) de deux entiers naturels *m* et *n*.\n",
    "\n",
    "- **Entrée** : m, n\n",
    "- **Etape 1** : on divise *m* par *n* et on note *r* le reste (0 <= r < n)\n",
    "- **Etape 2** : si r == 0, c'est terminé. Le PGCD est *n*\n",
    "- **Etape 3** : sinon, on remplace *m* et *n* par *n* et *r* et on recommence à l'étape 1.\n",
    "- **Sortie** : *n* est le PGCD"
   ]
  },
  {
   "cell_type": "markdown",
   "id": "95f1248f-7e1a-4228-ae20-cd9878942965",
   "metadata": {},
   "source": [
    "## Algorigramme\n",
    "\n",
    "Un algorigramme est une **représentation visuelle** d'un algorithme. On parle parfois d'algorigramme. Il montre les enchaînements de décisions et d’opérations à faire pour un algorithme donné. "
   ]
  },
  {
   "cell_type": "markdown",
   "id": "01b9dbf8-61fa-400a-98dd-636f8647c777",
   "metadata": {},
   "source": [
    "### Exemple d'un algorigramme\n",
    "\n",
    "Voici un exemple d'un algorigramme\n",
    "\n",
    "![algo-exemple](images/algo-exemple.png \"Un exemple d'algorithme\")"
   ]
  },
  {
   "cell_type": "markdown",
   "id": "be632bed-9648-4751-8e75-b217e8547614",
   "metadata": {},
   "source": [
    "### Exercice 2 : observation\n",
    "\n",
    "Qu'observez-vous dans l'exemple d'algorigramme ci-dessus ?\n",
    "\n",
    "1. sens de lecture \n",
    "1. flèches, différentes structures\n",
    "1. conditions"
   ]
  },
  {
   "cell_type": "markdown",
   "id": "d1834541-82a1-4d53-bf84-9cd7c7894bad",
   "metadata": {
    "tags": []
   },
   "source": [
    "### Symboles d'un algorigramme\n",
    "\n",
    "Les différentes structures utilisables sont les suivantes :\n",
    "\n",
    "![symboles](images/structures.png \"symboles\")"
   ]
  },
  {
   "cell_type": "markdown",
   "id": "c52d5c57-e313-4cc5-b99d-f21ec01a97dd",
   "metadata": {},
   "source": [
    "### Règles de création d'un algorigramme\n",
    "\n",
    "Il existe différentes règles pour construire un algorigramme :\n",
    "\n",
    "- Il faut centrer l’algorigramme au centre de la feuille ou du programme informatique pour le créer\n",
    "- Il faut que la lecture de l’algorigramme puisse se faire verticalement\n",
    "- Les lignes de liaisons entre les symboles ne doivent pas se couper. \n",
    "- Une ligne de liaison doit toujours arriver sur le haut et au centre d’un symbole. \n",
    "- Les commentaires sont à placer de préférence à droite et les renvois de branchement à gauche. "
   ]
  },
  {
   "cell_type": "markdown",
   "id": "2b5ecb02-cbf9-4055-9fa7-70db684ad503",
   "metadata": {},
   "source": [
    "## Exercice 3 : un premier algorigramme\n",
    "\n",
    "A l'aide des différentes règles et symboles, créer sur une feuille de papier l'algorigramme décrivant l'algorithme en français suivant :\n",
    "\n",
    "![piscine](https://vkeller.github.io/modulo-gybe/_images/piscine.jpg \"piscine\")"
   ]
  },
  {
   "cell_type": "markdown",
   "id": "57ab97be-989e-4a90-a371-2b3bc13f1cc0",
   "metadata": {},
   "source": [
    "## Logiciel pour créer des algorigrammes\n",
    "\n",
    "Il existe beaucoup de logiciels pour créer des algorigramme. L'un des plus populaires est [**diagrams.net**](https://www.diagrams.net/) qui existe sous la forme d'un site web interactif ou d'une application à installer sur son ordinateur : "
   ]
  },
  {
   "cell_type": "code",
   "execution_count": null,
   "id": "a5675f28-79ef-4d44-ae1b-7c9a487bdd00",
   "metadata": {},
   "outputs": [],
   "source": []
  }
 ],
 "metadata": {
  "kernelspec": {
   "display_name": "Python 3 (ipykernel)",
   "language": "python",
   "name": "python3"
  },
  "language_info": {
   "codemirror_mode": {
    "name": "ipython",
    "version": 3
   },
   "file_extension": ".py",
   "mimetype": "text/x-python",
   "name": "python",
   "nbconvert_exporter": "python",
   "pygments_lexer": "ipython3",
   "version": "3.11.2"
  }
 },
 "nbformat": 4,
 "nbformat_minor": 5
}
