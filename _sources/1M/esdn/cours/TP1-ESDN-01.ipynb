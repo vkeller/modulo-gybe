{
 "cells": [
  {
   "cell_type": "markdown",
   "id": "19a1ec52-304e-4688-9117-d4ee47dd411a",
   "metadata": {},
   "source": [
    "![network](images/computer-network.jpg \"Internet\")\n",
    "\n",
    "# TP1-ESDN-01 : Les réseaux informatique"
   ]
  },
  {
   "cell_type": "markdown",
   "id": "c249e4c4-d562-493f-97a5-64f5565c7afc",
   "metadata": {},
   "source": [
    "## Objectifs\n",
    "\n",
    "- acquérir le vocabulaire informatique des réseaux\n",
    "- identifier les différents éléments d'un réseau informatique et les éventuelles faiblesses\n",
    "- distinguer la localisation des données transitant sur un réseau informatique\n",
    "- comprendre un protocole par commutation de paquets"
   ]
  },
  {
   "cell_type": "markdown",
   "id": "b72a7533-6780-4cbf-b783-b2cd21bea049",
   "metadata": {},
   "source": [
    "## Les réseaux informatiques\n",
    "\n",
    "**Derrière l'écran, il y a une infrastructure**\n",
    "\n",
    "Un réseau informatique est une **infrastructure** qui permet à un ensemble de machines de **communiquer** entre elles des données informatiques. Ces données informatiques sont formées, comme nous l'avons vu, de bits. \n",
    "\n",
    "Ces machines peuvent être :\n",
    "\n",
    "- des serveurs web (comme [gymnase de Beaulieu](https://www.gymnasedebeaulieu.ch))\n",
    "- des serveurs mail (comme [Eduvaud](https://outlook.office.com))\n",
    "- des serveurs de fichiers (comme fs10 -> enseignement)\n",
    "- des ordinateurs de bureau comme la machine que vous utilisez actuellement\n",
    "- ou votre smartphone ...\n",
    "\n",
    "Ces machines sont reliées entre elles par toute une infrastructure **active** et **passive**. Un élément actif du réseau est un équipement qui est chargé d'assurer la répartition des signaux alors qu'un élément passif ne l'est pas (comme une antenne ou un câble réseau). \n",
    "\n",
    "### Réseau domestique\n",
    "\n",
    "Voici un réseau que vous connaissez bien, celui de votre maison.\n",
    "\n",
    "![](images/lan.png \"Réseau domestique\")\n",
    "\n"
   ]
  },
  {
   "cell_type": "markdown",
   "id": "6bc3bfbb-6896-4598-b4b3-f32725d188a9",
   "metadata": {},
   "source": [
    "## Exercice 1 : les différents éléments d'un réseau domestique\n",
    "\n",
    "Sur l'image, distinguez les \n",
    "\n",
    "- éléments actifs\n",
    "- éléments passifs\n",
    "\n",
    "avec leur nom et écrivez-les sur une feuille"
   ]
  },
  {
   "cell_type": "markdown",
   "id": "952d30d3-5ed5-4c1e-958a-ca8031ccf536",
   "metadata": {},
   "source": [
    "## Exercice 2 Le réseau du gymnase\n",
    "\n",
    "A l'aide de google, ChatGPT ou n'importe quel outil de recherche que vous jugerez utile, identifiez et nommez les différents éléments physiques actifs et passifs nécessaires au fonctionnement d'un réseau informatique plus grand qu'un réseau domestique tel que celui du gymnase de Beaulieu. \n",
    "\n",
    "Vous devez être capable de répondre aux questions suivantes :\n",
    "\n",
    "1. Qu'est-ce qu'un réseau filaire ?\n",
    "1. Les ordinateurs de la salle B-310 fonctionnent-ils en WIFI. Sinon, comment ?\n",
    "1. Qu'est-ce qu'un switch ? Un hub ? Un routeur ?\n",
    "1. Comment est connectée l'imprimante de la salle ?"
   ]
  },
  {
   "cell_type": "markdown",
   "id": "af8c33bd-7a4d-437f-a8b5-245ed9c2fe31",
   "metadata": {},
   "source": [
    "## Communiquer sur un réseau informatique\n",
    "\n",
    "Pour pouvoir communiquer, il faut se mettre d'accord sur des règles. C'est ce que l'on appelle un **protocole de communication** \n",
    "\n",
    "On peut faire une analogie avec un appel téléphonique qui doit suivre un certain nombre de règles:\n",
    "\n",
    "![tel](images/telephone.jpg \"Appel téléphonique\")"
   ]
  },
  {
   "cell_type": "markdown",
   "id": "661bf5d1-e590-4b04-ac5c-946fd52268d3",
   "metadata": {},
   "source": [
    "## Exercice 3 : protocole de communication téléphonique\n",
    "\n",
    "Sur une feuille, décrivez les différentes règles d'une communication téléphonique. Etablissez le protocole de communication. A chaque étape, il doit y avoir deux participants.\n",
    "\n",
    "- participant1 -> participant2\n",
    "- participant2 -> participant1 \n",
    "\n",
    "etc.."
   ]
  },
  {
   "cell_type": "markdown",
   "id": "9105a6f6-d0ab-40e2-872a-ec4406311e75",
   "metadata": {},
   "source": [
    "## Protocole par commutation de paquets sur un réseau informatique\n",
    "\n",
    "Une donnée (data) transmise sur un réseau informatique peut-être :\n",
    "\n",
    "- une page web\n",
    "- un email\n",
    "- un message sur un réseau social\n",
    "- un son\n",
    "- un fichier texte\n",
    "- etc..\n",
    "\n",
    "Elle est souvent de grande taille. Statistiquement, plus la donnée est grande, plus il y a des risques pour qu'un élément réseau physique soit défaillant ou qu'une partie du message soit perdu durant la transmission. A la réception, la donnée ne sera pas telle qu'elle avait été envoyée.\n",
    "\n",
    "Pour résoudre ce problème, on a recourt à la **commutation de paquets** : une grande donnée (page web, image, email, etc..) est découpée en petits **paquets**. Chaque paquet peut prendre un chemin différent entre une **source** et un **destinataire**. C'est ensuite au destinataire de **recomposer** la donnée initiale.\n",
    "\n",
    "![packets-switching](images/packet-switching.png \"Commutation de paquets\")\n",
    "\n",
    "Chaque paquet est formé de la donnée brute et de **métadonnées** (une métadonnée est une donnée qui fournit de l'information sur une autre donnée) qui permet de :\n",
    "\n",
    "- l'acheminer entre une **source** et un **destinataire**\n",
    "- sa **durée de vie** (c'est-à-dire s'il peut être considéré comme perdu et devrait être renvoyé)\n",
    "- le **type de service**\n",
    "- sa **position** par rapport à la donnée envoyée\n",
    "- et d'autres informations nécessaire\n",
    "\n",
    "L'un des protocoles encore largement utilisé est **Internet Protocol v4** (ou IPv4). Les paquets IPv4 sont formées d'un **en-tête** (ou *header*) qui contient toutes les métadonnées du paquet et des données brutes (**data**) que l'en-tête décrit.\n",
    "\n",
    "![IPv4 Header](images/ipv4.png \"IPv4 header\")"
   ]
  },
  {
   "cell_type": "markdown",
   "id": "cb2073b4-7482-4dc2-94bc-ba290bc31cb1",
   "metadata": {},
   "source": [
    "## Clients et serveurs\n",
    "\n",
    "L'adresse de la source et du destinataire sont les éléments centraux qui permettent de pouvoir acheminer un paquet d'un point A à un point B.  \n",
    "\n",
    "- La source (la machine qui envoie des données) est un **serveur**\n",
    "- Le destinataire (la machine qui reçoit des données) est un **client**\n",
    "\n",
    "![Client serveur](images/cs-model.png \"Architecture client serveur\")\n",
    "\n",
    "### Adresse IP\n",
    "\n",
    "L'adresse d'une machine est décrite sous la forme d'une adresse IP (IP = Internet Protocol). Il s'agit de 4 nombres séparés par des points :\n",
    "\n",
    "`XXX.XXX.XXX.XXX`\n",
    "\n",
    "Cette adresse permet de trouver un ordinateur de façon unique sur le réseau. Une bonne analogie est votre adresse postale : Prénom, Nom, Rue, Ville, Pays."
   ]
  },
  {
   "cell_type": "markdown",
   "id": "b08f2640-9b7f-4328-9cb0-13385e893137",
   "metadata": {},
   "source": [
    "## Exercice 4 (Internet Protocol)\n",
    "\n",
    "Répondez aux questions suivantes en utilisant tous les outils à disposition sur votre machine :\n",
    "\n",
    "- moteurs de recherche\n",
    "- ChatGPT\n",
    "- votre cerveau (surtout)\n",
    "- les préférences du système (menu pomme)\n",
    "\n",
    "1. Qu'est-ce qu'une adresse IP ?\n",
    "    - combien de bits faut-il pour coder une adresse IP ?\n",
    "    - combien d'adresses IP est-il possible de produire ?\n",
    "    - Pourquoi parle-t-on d'IPv4 ? Mobilisez les connaissances vues au cours pour répondre.\n",
    "1. Recherchez l'adresse IP de votre ordinateur. Quelle similitudes avec l'adresse IP de vos voisins\n",
    "1. Quelle est l'adresse IP de votre Smartphone ?\n",
    "\n",
    "Dans un navigateur web de votre préférence, connectez-vous aux adresses écrites sur le tableau.\n",
    "\n",
    "1. A quel service correspondent ces adresses ?\n",
    "1. Où se situent les serveurs physiques ?"
   ]
  },
  {
   "cell_type": "markdown",
   "id": "2c987da8-bda1-4a48-aa4c-c00094a8e748",
   "metadata": {},
   "source": [
    "## Réseau de réseaux (Internet)\n",
    "\n",
    "Le réseau du gymnase est formé de plusieurs réseaux locaux (LAN)\n",
    "\n",
    "![lan](images/lan2.png \"Réseau LAN\").\n",
    "\n",
    "Internet n'est rien d'autre que l'interconnection de réseaux locaux. Cette interconnection se fait au travers d'un élément actif du réseau appelé **passerelle**.\n",
    "\n",
    "La passerelle est un point unique qui permet de **router** les paquets, c'est-à-dire de diriger ceux qui ne sont pas à destination d'une machine du réseau local, vers le réseau global.\n",
    "\n",
    "![routage](images/routage.png \"Routage\")"
   ]
  },
  {
   "cell_type": "markdown",
   "id": "a4ac9d53-43ad-4f7c-ad3e-6443a5f1060a",
   "metadata": {},
   "source": [
    "## Nom de domaine, nom de machine\n",
    "\n",
    "Il est difficile de mémoriser le nom d'une machine avec son adresse IP. Pour faire cela, on utilise un **nom**. Ce nom est basé sur le **Système de Noms de Domaines** (en anglais *Domain Name System*), abbrégé en **DNS**.\n",
    "\n",
    "### DNS\n",
    "\n",
    "Le DNS **associe** un nom à toute adresse IP.\n",
    "\n",
    "Le système de noms de domaine est constitué par une hiérarchie. Le sommet est la **racine DNS** et on la représente par un point `.` .\n",
    "\n",
    "La suite de la hiérachie DNS est formée de :\n",
    "\n",
    "- **Top Level Domain** (TLD) : qui sont les extensions de pays : `.ch`, `.it` ou `.de`, ou des extensions standard : commercial `.com`, organisation `.org`, réseau `.net`. Il existe environ 1800 TLD\n",
    "- un **nom de sous-domaine** comme par exemple `gymnasedebeaulieu`, `google` ou `cff`\n",
    "\n",
    "Ces deux éléments (TLD + nom de sous domaine) représentent un **nom de domaine** et se lit de droite à gauche:\n",
    "\n",
    "- `cff.ch`\n",
    "- `gymnasedebeaulieu.ch`\n",
    "- `google.ch`\n",
    "- `google.com`\n",
    "\n",
    "Ce qui vient à droite avant le nom de domaine représente soit\n",
    "\n",
    "1. Une **machine** : l'adresse `www.google.ch` représente la machine `www` du nom de domaine `google.ch`\n",
    "1. Un **sous-domaine**. Au Royaume Uni par exemple, le choix a été fait de régler les adresses avec un TLD et un SLD (Second Level Domain) : `.uk` est le TLD, suivi d'un SLD (par exemple `.com.uk` pour les sites commerciaux, `.gov.uk` pour ceux du gouvernement, etc..)\n",
    "\n",
    "![DNS](images/dns.png \"DNS\")\n",
    "\n",
    "\n",
    "### ICANN\n",
    "\n",
    "A noter (et à réfléchir), c'est l'[ICANN](https://www.icann.org/fr) (*Internet Corporation Assigned Names and Numbers* qui attribue les Top Level Domain ainsi que les adresses IP au niveau mondial. C'est une société de droit californien à but non lucratif."
   ]
  },
  {
   "cell_type": "markdown",
   "id": "0e38a0d6-31e5-4ea3-9611-dbf65acb24e4",
   "metadata": {},
   "source": [
    "## Exercice 5 (DNS et URL)\n",
    "\n",
    "En utilisant les outils à votre disposition (notamment les \"préfédences du système\" (menu pomme en haut à gauche de votre écran), répondez aux questions suivantes :\n",
    "\n",
    "1. quel est le nom de votre machine ?\n",
    "1. quel est l'adresse IP du serveur [www.gymnasedebeaulieu.ch](https://www.gymnasedebeaulieu.ch)"
   ]
  },
  {
   "cell_type": "markdown",
   "id": "4fd0685b-4674-4cdc-a954-5261dec2acc5",
   "metadata": {},
   "source": [
    "## Exercice 6 : Tout ensemble\n",
    "\n",
    "Dessinez, en groupe, les différents éléments physiques du réseau de la salle B-310 et du gymnase avec les différents éléments vus :\n",
    "\n",
    "- type d'élément du réseau\n",
    "- adresse IP\n",
    "- services"
   ]
  },
  {
   "cell_type": "markdown",
   "id": "e9312b04-1470-44f2-95e0-abcced8f38e1",
   "metadata": {},
   "source": [
    "## Et la vie privée dans tout cela ?\n",
    "\n",
    "On constate que:\n",
    "\n",
    "- tous les protocoles, règles et normes sont **ouverts** *par design* puisque l'écosystème de machines est très disparate.\n",
    "- toutes les communications **ne sont pas cryptées**\n",
    "\n",
    "Des outils comme **wireshark** ou **tcpdump** ont été développés. Ces outils permettent de capturer, lire et analyser les paquets IP qui transitent à travers une ou plusieurs **interface réseau**. \n",
    "\n",
    "![tcpdump](images/tcpdump.png \"Tcpdump example\")\n",
    "\n",
    "tcpdump via un *Terminal*\n",
    "\n",
    "![wireshark](images/wireshark.png \"Wireshark example\")\n",
    "\n",
    "tcpdump via un *Terminal*"
   ]
  },
  {
   "cell_type": "markdown",
   "id": "7b54979b-ad7a-4269-b671-8d4cefae1f67",
   "metadata": {},
   "source": [
    "## Exercice 6 : Protéger la vie privée\n",
    "\n",
    "- Comment protéger les informations qui transitent sur Internet ?\n",
    "    - mobilisez les concepts vus dans le cours de cryptographie\n",
    "- Qu'est-ce qu'un VPN ?"
   ]
  },
  {
   "cell_type": "markdown",
   "id": "fc6349ae-e7cb-416d-8502-cba7fbdadfb7",
   "metadata": {},
   "source": [
    "## Deep et dark nets\n",
    "\n",
    "![Iceberg](images/iceberg.jpg \"Visible, Deep and Dark Web\")\n",
    "\n",
    "- Le **web surfaçique** (en anglais *Surface Web*) représente entre 20% et 25% de l'ensemble des ressources numériques mondiales. \n",
    "- Le **web profond** (en anglais *Deep Web*) représente le reste : entre 75% et 80 %. Il s'agit de serveurs qui ne sont pas **indexés** (qui ne sont pas connus des moteurs de recherche comme google) et qui peuvent être accessibles.\n",
    "- Le **web sombre** (en anglais *Dark Web*) ou **réseau sombre** (en anglais *Darknet*) fait partie du web profond, est un réseau parallèle mais qui a besoin du réseau \"normal\" pour fonctionner.\n",
    "\n",
    "On parle ainsi **des Internets**"
   ]
  },
  {
   "cell_type": "markdown",
   "id": "a9f83700-b6a6-4d60-911c-07f89ba01823",
   "metadata": {},
   "source": [
    "## Pour aller plus loin\n",
    "\n",
    "- [Netblocks](https://netblocks.org/) : l'état en temps réel de l'Internet\n",
    "- [OurWorldInData](https://ourworldindata.org/internet) : des chiffres et ordres de grandeur de l'Internet au niveau mondial\n",
    "- l'outil [tcpdump](https://fr.wikipedia.org/wiki/Tcpdump) qui permet de capturer les paquets transitant sur une interface réseau.\n",
    "- l'outil [wireshark](https://www.wireshark.org/) qui permet de mener plus loin une analyse des paquets réseau\n",
    "- lourtil [traceroute](https://fr.wikipedia.org/wiki/Traceroute) qui permet de suivre le chemin d'un paquet IPv4 de la source à la destination\n",
    "- le [réseau TOR](https://fr.wikipedia.org/wiki/Tor_(r%C3%A9seau)) : un réseau entièrement anonymisé et crypté. Il ne fait pas partie du système DNS du web de surface.\n",
    "- le navigateur [TOR](https://www.torproject.org/fr/download/) qui permet de naviguer sur le réseau TOR (et de visiter des sites web avec l'extension officielle `.onion`)"
   ]
  },
  {
   "cell_type": "code",
   "execution_count": null,
   "id": "f14c2ab8-ca6b-434c-b157-365c190fbbdf",
   "metadata": {},
   "outputs": [],
   "source": []
  }
 ],
 "metadata": {
  "kernelspec": {
   "display_name": "Python 3 (ipykernel)",
   "language": "python",
   "name": "python3"
  },
  "language_info": {
   "codemirror_mode": {
    "name": "ipython",
    "version": 3
   },
   "file_extension": ".py",
   "mimetype": "text/x-python",
   "name": "python",
   "nbconvert_exporter": "python",
   "pygments_lexer": "ipython3",
   "version": "3.9.2"
  }
 },
 "nbformat": 4,
 "nbformat_minor": 5
}
