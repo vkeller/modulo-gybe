{
 "cells": [
  {
   "cell_type": "markdown",
   "id": "909a42fb-e14e-4efd-b524-9004eee68906",
   "metadata": {},
   "source": [
    "![wired](images/wired.jpg \"Cypherpunks\")\n",
    "\n",
    "# C1-ESDN-02 : Le mouvement Cypherpunk"
   ]
  },
  {
   "cell_type": "markdown",
   "id": "d256f4ff-76c3-4da4-9fca-17377ab7b559",
   "metadata": {},
   "source": [
    "## Une (très) brève histoire d'Internet\n",
    "\n",
    "Avant Internet, il n'y avait que des petits réseaux d'ordinateurs locaux. Chacun \"parlant\" un dialecte différent. Il a fallu attendre la fin des années 1960 pour voir arriver la technologie par **commutation de paquets** : chaque donnée informatique transmise sur le réseau est découpé en petits morceaux (des *paquets*). Ces paquets peuvent prendre des chemins différents entre un émetteur A et un récepteur B. L'avantage est que le réseau est ainsi résilient aux pannes et il est utilisé de manière efficace.\n",
    "\n",
    "### ARPANet\n",
    "\n",
    "L'agence **ARPA** (Advanced Research Projects Agency), aujourd'hui **DARPA** (Defense Advanced Research Projects Agency), est une agence gouvernementale des USA chargée des projets de recherche sur les nouvelles technologies destinées à un usage militaire. Parmis lesquelles, il y a l'ancêtre de l'Internet : **ARPANet**\n",
    "\n",
    "![arpanet1973](images/arpanet1973.png \"Etat du réseau en 1973\")\n",
    "\n",
    "- **21 novembre 1969** premier lien entre l'université de Californie à Los Angeles (UCLA) et Stanford\n",
    "- **fin 1969** : L'université de californie à Santa Barbara (UCSB) est ajoutée\n",
    "- **1971** : 18 noeuds dans ARPANET. Premier email envoyé\n",
    "\n",
    "| Date | Nombre de noeuds | Universités | Sous-traitants gouvernementaux | Agences gouvernementales | Entreprises |\n",
    "|---|---|---|---|---|---|\n",
    "|Dec-69 | 4 | 3 | 1 |  |  | \n",
    "|Jun-70 | 9 | 5 | 3 |  | 1 |\n",
    "|Dec-70 | 13 | 8 | 4 |  | 1 |\n",
    "|Sep-71 | 18 | 9 | 5 | 1 | 3 |\n",
    "|Mar-72 | 23 | 10 | 6 | 5 | 2 |\n",
    "|Aug-72 | 29 | 10 | 5 | 12 | 2 |\n",
    "|Sep-73 | 40 | 12 | 6 | 17 | 5 |\n",
    "|Jun-74 | 46 | 14 | 7 | 20 | 5 |\n",
    "\n",
    "### de l'ARPANet à l'Internet\n",
    "\n",
    "Au milieu des années 1980, le réseau ARPANet est séparé en deux entités : NSFNet (National Science Foundation) et MILNet (Military Network). \n",
    "\n",
    "L'arrivée d'un protocole, encore utilisé aujourd'hui, le TCP/IP a permis de relier le réseau NSFNet ainsi que les initiatives similaires Européennes au début des années 1990. \n",
    "\n",
    "![internetinternetinternet](images/internet_hosts.png \"Nombre de noeuds Internet\")\n",
    "\n",
    "Le dernier pays Africain (l'Erythrée) a été connectée à Internet en novembre 2000.\n",
    "\n",
    "### Robustesses et faiblesses d'Internet\n",
    "\n",
    "De part sa construction (presque) totalement distribuée, Internet est un **réseau robuste et résiliant aux pannes**, c'est-à-dire que si l'un ou l'autre noeud tombe en panne, le reste du réseau n'est pas (ou peu) affecté. Avec les progrès technologiques, il n'y a presque plus de limite au nombre de noeuds que l'on peut ajouter au réseau.\n",
    "\n",
    "Au niveau faiblesses, il y en a deux qui nous intéressent dans le cadre de ce cours : \n",
    "\n",
    "- la **fracture numérique** qui empêche une grande partie de l'Humanité d'accéder à l'outil et \n",
    "- le problème de l'anonymat, de la confidentialité, de la vie privée et de la surveillance des communications entre individus, groupes d'individus ou entités connectées."
   ]
  },
  {
   "cell_type": "markdown",
   "id": "b81108ab-89c4-4ac5-bc53-6ce2549eef6b",
   "metadata": {},
   "source": [
    "## Accès à Internet et *fracture numérique*\n",
    "\n",
    "La création d'Internet s'est déroulée dans les deux puissances économiques mondiales du milieu du XXème siècle : les Etats-Unis d'Amérique et l'Europe. Une large partie du monde n'a aujourd'hui encore pas accès au numérique. L'économiste Adel Youssef défini la **fracture numérique** sous 4 angles inégalitaires :\n",
    "\n",
    "1. **Inégalités d'accès et d'usage** des équipements et outils numériques. Cela concerne avoir ou ne pas avoir d'ordinateur, de téléphone portable ou d'accès à Internet. Le niveau de formation initiale et continue  est déterminant dans l'utilisation de l'informatique et d'internet.\n",
    "1. La dynamique d'usage des outils numériques renforce **la culture dominante**. Fracture de langue, modèles génériques qui limitent les modèles alternatifs.\n",
    "1. **Inégalité de performance** liée aux outils numériques. L'adoption et l'usage de biens et services numériques permettent de modifier les performances des individus (et des territoirs)\n",
    "1. **Inégalité face aux modalités d'apprentissage**. L'usage du numérique accroit la disponibilité de l'information. Le tri de l'information par l'utilisateur devient l'élément clef. "
   ]
  },
  {
   "cell_type": "markdown",
   "id": "c15786db-df26-41d3-819e-18c5698a509e",
   "metadata": {},
   "source": [
    "## Vie privée, confidentialité et surveillance\n",
    "\n",
    "L'infrastructure qui soutient Internet est très largement non sécurisée. Les communications sont publiques.\n",
    "\n",
    "### Confidentialité\n",
    "\n",
    "La **confidentialité** c'est ce que l'on souhaite garder secret à tout prix. \n",
    "\n",
    "### Vie privée\n",
    "\n",
    "La **vie privée** c'est les informations qui nous sont personnelles et que l'on souhaite partager qu'à un nombre restreint de personnes choisies. Il ne faut pas confondre vie privée et confidentialité.\n",
    "\n",
    "### Surveillance\n",
    "\n",
    "La **surveillance sur Internet** regroupe un ensemble de pratiques, technologies ou moyens législatifs pour accéder à des informations d'utilisateurs, groupes d'utilisateurs ou émetteurs sur Internet. Cette surveillance peut se faire à l'insu des utilisateurs. Elle peut avoir pour origine une entreprise ou un gouvernement. "
   ]
  },
  {
   "cell_type": "markdown",
   "id": "cb0b7b29-ec5f-4825-af80-41c2e7b0cf44",
   "metadata": {},
   "source": [
    "## Le crypto-anarchisme\n",
    "\n",
    "| ![](images/gilmore.jpg) | ![](images/may.png) | ![](images/hughes.jpg) |\n",
    "| :-------------------------: | :-------------------------: | :-------------------------: |\n",
    "| John Gilmore | Timothy C. May | Eric Hughes |\n",
    "\n",
    "De part sa construction, Internet offre de nombreux **points d'entrée** pour qui souhaite surveiller des communications. Dès lors, il s'agit de trouver des techniques, des méthodes pour **cacher le contenu des communications** au risque d'offrir des outils à des indivdus malintentionnés. C'est l'essor des techniques de **cryptographie** qui le permettront. Encore faut-il posséder les **programmes informatiques** et **le droit de le faire**.\n",
    "\n",
    "Tout mouvement social, idéologique ou politique commence avec une conviction partagée par une ou plusieurs personnes. Le **droit à la vie privée** est ce qui a réuni John Gilmore, Tim May et Eric Hughes un soir de 1992 et qui a donné naissance au **mouvement cypherpunk**, un mouvement libertaire chargé de défendre l'anonymat en ligne, le logiciel libre et les libertés numériques. On est en 1992, bien avant l'ère des réseaux sociaux, des crypto-monnaies et des révélations d'Ed Snowden.\n",
    "\n",
    "La philosophie du mouvement cypherpunk repose sur 3 axes qui sont expliqués dans un manifeste resté célèbre : le Manifeste crypto-anarchiste. \n",
    "\n",
    "1. L'anonymat doit être garanti avec des technologies de cryptographie fortes\n",
    "1. Ni l'Etat, ni les entreprises ne fourniront la confidentialité des communications\n",
    "1. Le logiciel de cryptographie doit être **open source**, c'est-à-dire complètement ouvert pour être vérifié par d'autres cypherpunks. Il doit en outre être gratuit pour être largement diffusé et utilisé\n",
    "\n",
    "### L'anonymat doit être garanti\n",
    "\n",
    "> We must defend our own privacy if we expect to have any. We must come together and create systems which allow anonymous transactions to take place. People have been defending their own privacy for centuries with whispers, darkness, envelopes, closed doors, secret handshakes, and couriers. The technologies of the past did not allow for strong privacy, but electronic technologies do.\n",
    "\n",
    "### L'Etat et les entreprises : ennemi des technologie cryptographiques\n",
    "\n",
    "> The State will of course try to slow or halt the spread of this technology, citing national security concerns, use of the technology by drug dealers and tax evaders, and fears of societal disintegration. Many of these concerns will be valid; crypto anarchy will allow national secrets to be trade freely and will allow illicit and stolen materials to be traded. An anonymous computerized market will even make possible abhorrent markets for assassinations and extortion. Various criminal and foreign elements will be active users of CryptoNet. But this will not halt the spread of crypto anarchy.\n",
    "\n",
    "### Le logiciel doit être ouvert et gratuit\n",
    "\n",
    "> Cypherpunks write code. We know that someone has to write software to defend privacy, and since we can't get privacy unless we all do, we're going to write it. We publish our code so that our fellow Cypherpunks may practice and play with it. Our code is free for all to use, worldwide. We don't much care if you don't approve of the software we write. We know that software can't be destroyed and that a widely dispersed system can't be shut down.\n",
    "\n",
    "### Le mouvement est anarchiste et illégal\n",
    "\n",
    "> Cypherpunks deplore regulations on cryptography, for encryption is fundamentally a private act. The act of encryption, in fact, removes information from the public realm. Even laws against cryptography reach only so far as a nation's border and the arm of its violence. Cryptography will ineluctably spread over the whole globe, and with it the anonymous transactions systems that it makes possible."
   ]
  },
  {
   "cell_type": "markdown",
   "id": "143d3ae3-747e-4d1c-a5c8-59632e7f2bd3",
   "metadata": {},
   "source": [
    "## PGP comme outil de cryptographie universel\n",
    "\n",
    "Les progrès technologiques (ordinateurs personnels de plus en plus puissants, accès à Internet, etc..) ont permis au groupe de cypherpunks de développer, écrire et diffuser un logiciel de **cryptographie assymétrique à clef publique** qui rempli les exigences du groupe de cypherpunks : **PGP** pour Pretty Good Privacy:\n",
    "\n",
    "- cryptographie à clef publique\n",
    "- garanti la confidentialité des communications\n",
    "- est capable d'authentifier un émetteur et un destinataire\n",
    "- ne repose pas sur un \"tiers de confiance\" : il est complètement distribué\n",
    "- il est à sources ouvertes\n",
    "- il est gratuit\n",
    "\n",
    "A noter que lorsqu'il a été diffusé au début des années 1990, son utilisation était **illégale** puisqu'il contrevenait aà une loi américaine : le gouvernement US considérait PGP comme une \"exportation illégale d'armes sans licence\". Les poursuites judiciaires contre le développeur principal (le cypherpunk Phil Zimmermann) ont cessé en 1996 sans que l'on ne sache trop pourquoi."
   ]
  },
  {
   "cell_type": "markdown",
   "id": "b674136d-a1c4-4f7d-89a8-d16322a4e6c8",
   "metadata": {},
   "source": [
    "## Sources pour aller plus loin \n",
    "\n",
    "- [Les quatre dimensions de la fracture numérique, Adel Ben Youssef, Réseaux 2004/5-6 (n° 127-128), pages 181 à 209]¶¶(https://www.cairn.info/revue-reseaux1-2004-5-page-181.htm)\n",
    "- [Cypherpunk's Manifesto, Eric Hughes, 1993](https://www.activism.net/cypherpunk/manifesto.html)\n",
    "- [Crypto-anarchist Manifesto, Timothy C. May s, 1988](https://groups.csail.mit.edu/mac/classes/6.805/articles/crypto/cypherpunks/may-crypto-manifesto.html)\n",
    "- [The Cyphernomicon, Tim May, 1994](https://nakamotoinstitute.org/static/docs/cyphernomicon.txt)"
   ]
  },
  {
   "cell_type": "code",
   "execution_count": null,
   "id": "3fc6b361-203b-4f69-92c8-c08f19d529a0",
   "metadata": {},
   "outputs": [],
   "source": []
  }
 ],
 "metadata": {
  "kernelspec": {
   "display_name": "Python 3 (ipykernel)",
   "language": "python",
   "name": "python3"
  },
  "language_info": {
   "codemirror_mode": {
    "name": "ipython",
    "version": 3
   },
   "file_extension": ".py",
   "mimetype": "text/x-python",
   "name": "python",
   "nbconvert_exporter": "python",
   "pygments_lexer": "ipython3",
   "version": "3.9.2"
  }
 },
 "nbformat": 4,
 "nbformat_minor": 5
}
