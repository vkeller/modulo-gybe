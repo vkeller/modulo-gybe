{
 "cells": [
  {
   "cell_type": "markdown",
   "id": "42f0fada",
   "metadata": {
    "tags": []
   },
   "source": [
    "![pantomime](pantomime.jpg \"Pantomime lumineuse\")\n",
    "\n",
    "# TP1-PROG-06 - Les dessins animés\n",
    "\n",
    "**Objectifs** \n",
    "\n",
    "- Appliquer les connaissances des boucles\n",
    "- Utiliser la tortue pour créer un dessin animé."
   ]
  },
  {
   "cell_type": "markdown",
   "id": "6b9b557d-5a4b-44d5-827c-bfcb374c7ce4",
   "metadata": {},
   "source": [
    "## Définition : dessin animé\n",
    "\n",
    "Film réalisé à partir d’une série de dessins qui décomposent les mouvements des personnages et qui, projetés, donnent l’impression d’un mouvement continu.\n",
    "\n",
    "## Histoire de l'animation et des films\n",
    "\n",
    "- Première photographie : 1827 «Point de vue du Gras» Nicéphore Nièpce, héliographie («écriture par le soleil») prise depuis le premier étage de son atelier.\n",
    "- Premier film («kinétographe») 1895 : «La sortie de l’usine Lumières à Lyon», les Frères Lumières\n",
    "- Format argentique «standard» : 35 millimètres. 24 images par seconde. Sons synchronisés.\n",
    "- Premiers dessins animés : 1892, «Pantomimes lumineuses» d’Emile Reynaud.\n",
    "- Premiers dessins animés informatisés : 1980. Animation vectorielle, images de synthèse, animation 2D, animation 3D. "
   ]
  },
  {
   "cell_type": "markdown",
   "id": "b753afc9",
   "metadata": {},
   "source": [
    "## Python pour les dessins animés\n",
    "\n",
    "Nous allons procéder en deux étapes :\n",
    "\n",
    "1. définition du dessin animé (CE QUE NOUS VOULONS COMME RESULTAT)\n",
    "1. construction des sous-éléments de l’animation"
   ]
  },
  {
   "cell_type": "markdown",
   "id": "ed0c7bc1",
   "metadata": {},
   "source": [
    "## Notre dessin animé\n",
    "\n",
    "Notre dessin animé sera simple. Voici l’algorithme :\n",
    "\n",
    "1. on dessine un carré de 80 pixels de côté,\n",
    "1. on attend un moment\n",
    "1. on l’efface, \n",
    "1. on déplace la tortue à droite de 2 pixels\n",
    "1. on dessine un carré de 80 pixels de côté\n",
    "1. et on recommence...\n",
    "\n",
    "l’impression sera que le carré glisse vers la droite."
   ]
  },
  {
   "cell_type": "markdown",
   "id": "c8347e2c",
   "metadata": {},
   "source": [
    "## Exercice 1\n",
    "\n",
    "Construction des sous-éléments du dessin animé.\n",
    "\n",
    "Définissez deux fonctions :\n",
    "\n",
    "1. `carre()` qui dessine un carré de 80 pixels de côté\n",
    "1. `attendEtAvance()` qui attend 0.5 secondes et avance de 2 pixels\n",
    "\n",
    "Quelques fonctions utiles pour la fonction attendreEtAvancer() :\n",
    "\n",
    "`t.penup()` : pour lever le crayon\n",
    "`t.pendown()` : pour abaisser le crayon\n",
    "`t.clear()` : pour effacer ce qui a été dessiné\n",
    "\n",
    "Une fonction importante pour «dormir» une seconde :\n",
    "\n",
    "```\n",
    "from time import *\n",
    "sleep(1)\n",
    "```"
   ]
  },
  {
   "cell_type": "markdown",
   "id": "1fe5bda5",
   "metadata": {},
   "source": [
    "## Exercice 2\n",
    "\n",
    "Ecrivez un programme qui anime le carré en faisant appel aux diverses fonctions crées plus haut\n",
    "\n",
    "**Remarque:** on peut accélérer la tortue avec la **méthode** (qui est une fonction appliquée à un objet) `t.speed(vitesse)` où l'argument `vitesse` est un chiffre très élevé (par exemple 500). "
   ]
  },
  {
   "cell_type": "markdown",
   "id": "8359ea6c",
   "metadata": {},
   "source": [
    "## Exercice 3 (avancé en utilisant une boucle)\n",
    "\n",
    "Une boucle ce n'est rien d'autre qu'une itération de plusieurs opérations. On la déclare de la façon suivante :\n",
    "\n",
    "```\n",
    "for i in range(10) :\n",
    "   operation 1\n",
    "   operation 2\n",
    "   etc..\n",
    "```\n",
    "\n",
    "est une boucle qui fera les opérations indentées à droite 10 fois. "
   ]
  },
  {
   "cell_type": "code",
   "execution_count": null,
   "id": "f482b255",
   "metadata": {},
   "outputs": [],
   "source": []
  }
 ],
 "metadata": {
  "kernelspec": {
   "display_name": "Python 3 (ipykernel)",
   "language": "python",
   "name": "python3"
  },
  "language_info": {
   "codemirror_mode": {
    "name": "ipython",
    "version": 3
   },
   "file_extension": ".py",
   "mimetype": "text/x-python",
   "name": "python",
   "nbconvert_exporter": "python",
   "pygments_lexer": "ipython3",
   "version": "3.9.2"
  }
 },
 "nbformat": 4,
 "nbformat_minor": 5
}
