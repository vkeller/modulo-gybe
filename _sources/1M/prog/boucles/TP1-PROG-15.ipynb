{
 "cells": [
  {
   "cell_type": "markdown",
   "id": "026cf8cd",
   "metadata": {},
   "source": [
    "![escargot](images/escargot.jpg \"Scheck\")\n",
    "\n",
    "# TP1-PROG-04 - Boucles `for` approfondissement"
   ]
  },
  {
   "cell_type": "markdown",
   "id": "3ce56cc4-e8a8-4f0d-8dc5-8a89da95c088",
   "metadata": {},
   "source": [
    "## Objectif pédagogiques\n",
    "\n",
    "- approfondir le concept de boucles d'instructions"
   ]
  },
  {
   "cell_type": "markdown",
   "id": "3a4fef19-cb6d-4a3c-89c1-5bb7a297a3d1",
   "metadata": {},
   "source": [
    "## Comment dessiner une spirale ?\n",
    "\n",
    "Une spirale est un objet formé de segments dont la longueur augmente à chaque itération. Les premières étapes sont donc (avec un angle de 30°):\n",
    "\n",
    "```\n",
    "t.forward(2)\n",
    "t.left(30)\n",
    "t.forward(3)\n",
    "t.left(30)\n",
    "t.forward(4)\n",
    "...\n",
    "```\n",
    "\n",
    "On observe que le changement dans le dessin est minime : c'est la taille du segment. On peut donc implémenter le programme avec une boucle et utiliser la valeur de la variable **itérateur** comme argument de la fonction `t.forward()`"
   ]
  },
  {
   "cell_type": "markdown",
   "id": "034a95a1-46db-404b-a31b-1c4e6623fe45",
   "metadata": {},
   "source": [
    "## Exercice 1 : une spirale \"carrée\"\n",
    "\n",
    "Ecrivez un programme en utilisant une **boucle** qui dessine une spirale qui commence avec une longueur de segment de 2 et qui augmente chaque fois de 1. L’angle choisi est de 30°"
   ]
  },
  {
   "cell_type": "markdown",
   "id": "a58fa375-0ec1-4bd1-9be4-076c3d0f7b56",
   "metadata": {},
   "source": [
    "## Exercice 2 : dessiner des mandala\n",
    "\n",
    "Un **mandala** est une représentation symbolique bouddhiste de l'univers, de forme géométrique et symétrique par rapport à son centre. Il sert à la méditation. \n",
    "\n",
    "Voici quelques exemples de mandalas produits. Observez-les et reproduisez-le. Quels sont les angles choisis et pourquoi observe-t-on les effets de Moiré ?\n",
    "\n",
    "![mandala1](images/mandala1.png \"mandala1\")\n",
    "\n",
    "![mandala2](images/mandala2.png \"mandala2\")\n",
    "\n",
    "![mandala3](images/mandala3.png \"mandala3\")\n"
   ]
  },
  {
   "cell_type": "markdown",
   "id": "0ab1fa7d-6a69-4121-b70a-53c4600365dc",
   "metadata": {
    "tags": []
   },
   "source": [
    "## Exercice 3 (a step forward)\n",
    "\n",
    "Est-il possible d’améliorer la courbure de la spirale et donc d’affiner le segment en arc de cercle ?\n",
    "\n",
    "**Indications :**\n",
    "\n",
    "On peut utiliser la fonction `circle()` qui prend en paramètre deux nombres : \n",
    "\n",
    "```\n",
    "t.circle(rayon, angle)\n",
    "```"
   ]
  },
  {
   "cell_type": "markdown",
   "id": "e689faf6-a714-474c-b8bb-463f69612999",
   "metadata": {},
   "source": [
    "## Syntaxe complète de la boucle `for`\n",
    "\n",
    "La *fonction* `range()` se généralise avec 3 paramètres : la borne inférieure (`bi`), la borne supérieure (`bs`) ainsi que le pas (`pas`) :\n",
    "\n",
    "```\n",
    "for i in range(bi, bs, pas) :\n",
    "    bloc instructions\n",
    "```\n"
   ]
  },
  {
   "cell_type": "markdown",
   "id": "50db0e0d-fc8e-4155-a8e5-76a9a2fd6d0d",
   "metadata": {},
   "source": [
    "## Exercice 4 : boucle avec bornes et pas\n",
    "\n",
    "Le code suivant permet de dessiner un losange bleu rempli de jaune :"
   ]
  },
  {
   "cell_type": "code",
   "execution_count": 1,
   "id": "65a6c363-da22-46dc-a827-3e9eced09e3e",
   "metadata": {},
   "outputs": [],
   "source": [
    "from turtle import *\n",
    "t = Turtle()\n",
    "\n",
    "t.pencolor(\"blue\")\n",
    "t.pensize(4)\n",
    "t.fillcolor('yellow') \n",
    "t.speed(0)\n",
    "\n",
    "t.begin_fill() \n",
    "t.forward(100)\n",
    "t.left(30)\n",
    "t.forward(100)\n",
    "t.left(150)\n",
    "t.forward(100)\n",
    "t.left(30)\n",
    "t.forward(100)\n",
    "t.left(150)\n",
    "t.end_fill() "
   ]
  },
  {
   "cell_type": "markdown",
   "id": "989a382a-496a-4668-9a9b-1e6380e30c13",
   "metadata": {},
   "source": [
    "Modifiez ce code en utilisant une ou des boucles pour reproduire le dessin suivant :\n",
    "\n",
    "![fleur](images/fleur.png \"Une fleur\")"
   ]
  },
  {
   "cell_type": "markdown",
   "id": "44d1688a-4544-46f5-a8e9-eeed26a890dc",
   "metadata": {},
   "source": [
    "## Exercice 5 : pour aller plus loin\n",
    "\n",
    "Voici un code permettant de dessiner une maison dont la taille est précisée par la **variable** `taille`:\n"
   ]
  },
  {
   "cell_type": "code",
   "execution_count": null,
   "id": "d18e7f21-59b8-4241-a7fe-c7849177a1ee",
   "metadata": {},
   "outputs": [],
   "source": [
    "from turtle import *\n",
    "t = Turtle()\n",
    "\n",
    "t.pencolor(\"black\")\n",
    "t.pensize(2)\n",
    "t.speed(0)\n",
    "\n",
    "taille = 100\n",
    "\n",
    "t.fillcolor('blue') \n",
    "t.begin_fill() \n",
    "for i in range(4):\n",
    "    t.forward(taille)\n",
    "    t.left(90)\n",
    "t.end_fill() \n",
    "t.fillcolor('red')\n",
    "t.penup()\n",
    "t.left(90)\n",
    "t.forward(taille)\n",
    "t.right(90)\n",
    "t.pendown()\n",
    "t.begin_fill() \n",
    "for i in range(3):\n",
    "    t.forward(taille)\n",
    "    t.left(120)\n",
    "t.end_fill() \n",
    "t.penup()\n",
    "t.right(90)\n",
    "t.forward(taille)\n",
    "t.left(90)\n",
    "t.pendown()"
   ]
  },
  {
   "cell_type": "markdown",
   "id": "73348482-e908-4154-ac9e-17551b8cea25",
   "metadata": {},
   "source": [
    "En ajoutant une nouvelle **variable** `nbrMaison` ainsi qu'une nouvelle boucle, reproduisez le dessin ci-dessous :\n",
    "\n",
    "![ville](images/ville.png \"Une ville\")"
   ]
  },
  {
   "cell_type": "code",
   "execution_count": null,
   "id": "2de62f6c-2fdf-4334-affa-bd694cbd80b0",
   "metadata": {},
   "outputs": [],
   "source": []
  }
 ],
 "metadata": {
  "kernelspec": {
   "display_name": "Python 3 (ipykernel)",
   "language": "python",
   "name": "python3"
  },
  "language_info": {
   "codemirror_mode": {
    "name": "ipython",
    "version": 3
   },
   "file_extension": ".py",
   "mimetype": "text/x-python",
   "name": "python",
   "nbconvert_exporter": "python",
   "pygments_lexer": "ipython3",
   "version": "3.9.2"
  }
 },
 "nbformat": 4,
 "nbformat_minor": 5
}
