{
 "cells": [
  {
   "cell_type": "markdown",
   "id": "42653624-35c2-490f-961a-25c01ffe9ac9",
   "metadata": {},
   "source": [
    "# 3C2M-PROG-00 : Introduction"
   ]
  },
  {
   "cell_type": "markdown",
   "id": "979bdc9f-5110-487d-b125-9f528bf02b44",
   "metadata": {},
   "source": [
    "## Objectifs\n",
    "\n",
    "- Mise à niveau pour le cours d'informatique en 2ème année d'école de maturité\n",
    "\n",
    "Le language de programmation pour ce cours sera le `Python3` . L'environnement de développement [Thonny](https://thonny.org/)"
   ]
  },
  {
   "cell_type": "markdown",
   "id": "2196a966-0817-4843-8ee7-8511dabb3a79",
   "metadata": {},
   "source": [
    "## Exercice 1 : Entrées - sorties\n",
    "\n",
    "Ecrivez un programme en qui :\n",
    "\n",
    "- demande le prénom de l'utilisateur\n",
    "- demande l'âge de l'utilisateur\n",
    "- Calcule l'année de naissance (année actuelle - âge)\n",
    "- écrit \"Bonjour Caroline, vous êtes né en 1975\""
   ]
  },
  {
   "cell_type": "markdown",
   "id": "1e4fb817-43f3-4929-9b6b-cb9302d5d2f3",
   "metadata": {},
   "source": [
    "## Exercice 2 : les tests conditionnels\n",
    "\n",
    "Reprendre le code de l'exercice 1 et le modifier en suivant la consigne suivante :\n",
    "\n",
    "- demande le genre de la personne (après le prénom et l'âge)\n",
    "- modifie la sortie en fonction du genre :\n",
    "    - si `f` : \"Bonjour Caroline, vous êtes née en 1975\"\n",
    "    - si `m` : \"Bonjour Frédéric, vous êtes né en 1975\"\n",
    "    - sinon : \"Bonjour Hamed, vous êtes né.e.x.s en 1975\""
   ]
  },
  {
   "cell_type": "markdown",
   "id": "efaf2fde-3826-458e-90fe-49337ef47836",
   "metadata": {},
   "source": [
    "## Exercice 3 : la boucle while\n",
    "\n",
    "Ecrivez le jeu du pendu avec des nombres :\n",
    "\n",
    "- choisir un nombre à trouver\n",
    "- initialiser une variable `trouve = False`\n",
    "- tant que le nombre n'est pas trouvé, demander à l'utilisateur d'en donner un.\n",
    "    - si le nombre est trouvé, afficher \"Bravo, vous avez trouvé !\" et changer la valeur de la variable `trouve = True`\n",
    "    - sinon, recommencer"
   ]
  },
  {
   "cell_type": "markdown",
   "id": "d5ca247a-3647-4228-a47e-62c2c36c4c2d",
   "metadata": {},
   "source": [
    "## Exercice 4 : le boucle for\n",
    "\n",
    "Reproduire l'image suivante à l'aide de la tortue. \n",
    "\n",
    "![fleur](images/fleur.png)\n",
    "\n",
    "Chacune des 40 pétales de la fleur est un parallèlogramme dont les angles sont 30° et 150°\n",
    "\n",
    "![parallelogramme](images/parallelogramme.png)\n",
    "\n",
    "Le stylo est de couleur verte et l'épaisseur vaut `3`"
   ]
  },
  {
   "cell_type": "markdown",
   "id": "81f4cfbd-f3f6-4dc5-b5b6-7443d1ed6143",
   "metadata": {},
   "source": [
    "## Exercice 5 : les fonctions\n",
    "\n",
    "Reprenez le programme de l'exercice 1 (ou son corrigé). Modifiez-le en suivant la consigne suivante :\n",
    "\n",
    "- définir une fonction `afficher(prenom, age)` où les arguments `prenom` et `age` sont ceux qui ont été donné par l'utilisateur\n",
    "- définir une fonction `calculeAnnee(age)` où l'argument `age` est l'âge de l'utilisateur. Cette fonction doit retourner l'année de naissance\n",
    "\n",
    "```\n",
    "prenom = input(\"Quel est votre prénom : \")\n",
    "age = int(input(\"Quel est votre âge : \"))\n",
    "naissance = 2024 - age\n",
    "print(\"Bonjour\",prenom,\"vous êtes née en\",naissance)\n",
    "```"
   ]
  },
  {
   "cell_type": "markdown",
   "id": "00272043-6f0d-4bf7-9066-8bb197a0e465",
   "metadata": {},
   "source": [
    "## Corrections"
   ]
  },
  {
   "cell_type": "markdown",
   "id": "dcdc8f3e-5f43-4c60-af6e-92774f556bed",
   "metadata": {},
   "source": [
    "### Exercice 1"
   ]
  },
  {
   "cell_type": "code",
   "execution_count": 1,
   "id": "dfd0c451-4e0b-4458-9d25-6cb24816a050",
   "metadata": {},
   "outputs": [
    {
     "name": "stdin",
     "output_type": "stream",
     "text": [
      "Quel est votre prénom :  Caroline\n",
      "Quel est votre âge :  17\n"
     ]
    },
    {
     "name": "stdout",
     "output_type": "stream",
     "text": [
      "Bonjour Caroline vous êtes né en 2008\n"
     ]
    }
   ],
   "source": [
    "# ---------------------------------------------------\n",
    "# Passerelle 3C->2M\n",
    "# Correction exercice 1\n",
    "#\n",
    "# Vincent Keller, Gymnase de Beaulieu, Lausanne, 2025\n",
    "# ---------------------------------------------------\n",
    "\n",
    "prenom = input(\"Quel est votre prénom : \")\n",
    "age = input(\"Quel est votre âge : \")\n",
    "age = int(age)\n",
    "annee = 2025 - age\n",
    "print(\"Bonjour\",prenom,\"vous êtes né en\",annee)"
   ]
  },
  {
   "cell_type": "markdown",
   "id": "9ddb8206-f870-4327-932d-186d8fee2e62",
   "metadata": {},
   "source": [
    "### Exercice 2"
   ]
  },
  {
   "cell_type": "code",
   "execution_count": 2,
   "id": "62d426aa-213a-412e-903f-ceeb6aef7442",
   "metadata": {},
   "outputs": [
    {
     "name": "stdin",
     "output_type": "stream",
     "text": [
      "Quel est votre prénom :  Caroline\n",
      "Quel est votre âge :  18\n",
      "Quel est votre genre (f/m) :  x\n"
     ]
    },
    {
     "name": "stdout",
     "output_type": "stream",
     "text": [
      "Bonjour Caroline vous êtes né.e.x en 2007\n"
     ]
    }
   ],
   "source": [
    "# ---------------------------------------------------\n",
    "# Passerelle 3C->2M\n",
    "# Correction exercice 2\n",
    "#\n",
    "# Vincent Keller, Gymnase de Beaulieu, Lausanne, 2025\n",
    "# ---------------------------------------------------\n",
    "\n",
    "prenom = input(\"Quel est votre prénom : \")\n",
    "age = input(\"Quel est votre âge : \")\n",
    "genre = input(\"Quel est votre genre (f/m) : \")\n",
    "age = int(age)\n",
    "annee = 2025 - age\n",
    "ne = \"né\"\n",
    "if genre == \"f\":\n",
    "    ne = ne+\"e\"\n",
    "elif genre == \"m\" :\n",
    "    ne = ne\n",
    "else:\n",
    "    ne = ne+\".e.x\"\n",
    "print(\"Bonjour\",prenom,\"vous êtes\",ne,\"en\",annee)\n",
    "\n"
   ]
  },
  {
   "cell_type": "markdown",
   "id": "cc5e6d60-dfae-480c-8f20-1da0043a2e8d",
   "metadata": {},
   "source": [
    "### Exercice 3"
   ]
  },
  {
   "cell_type": "code",
   "execution_count": 4,
   "id": "eced382e-5aee-4d32-ac4d-c121861d488e",
   "metadata": {},
   "outputs": [
    {
     "name": "stdin",
     "output_type": "stream",
     "text": [
      "Entrez un nombre :  34\n"
     ]
    },
    {
     "name": "stdout",
     "output_type": "stream",
     "text": [
      "Non... recommencez !\n"
     ]
    },
    {
     "name": "stdin",
     "output_type": "stream",
     "text": [
      "Entrez un nombre :  23\n"
     ]
    },
    {
     "name": "stdout",
     "output_type": "stream",
     "text": [
      "Non... recommencez !\n"
     ]
    },
    {
     "name": "stdin",
     "output_type": "stream",
     "text": [
      "Entrez un nombre :  10\n"
     ]
    },
    {
     "name": "stdout",
     "output_type": "stream",
     "text": [
      "Bravo ! Vous avez trouvé 10\n"
     ]
    }
   ],
   "source": [
    "# ---------------------------------------------------\n",
    "# Passerelle 3C->2M\n",
    "# Correction exercice 3\n",
    "#\n",
    "# Vincent Keller, Gymnase de Beaulieu, Lausanne, 2025\n",
    "# ---------------------------------------------------\n",
    "\n",
    "nombre = 10\n",
    "trouve = False\n",
    "while trouve != True:\n",
    "    tentative = int(input(\"Entrez un nombre : \"))\n",
    "    if tentative == nombre:\n",
    "        print(\"Bravo ! Vous avez trouvé\",nombre)\n",
    "        trouve = True\n",
    "    else:\n",
    "        print(\"Non... recommencez !\")"
   ]
  },
  {
   "cell_type": "markdown",
   "id": "5015f460-217a-414a-8834-02670068c9ab",
   "metadata": {},
   "source": [
    "### Exercice 4"
   ]
  },
  {
   "cell_type": "code",
   "execution_count": 5,
   "id": "ab6ea6e9-7be2-4318-acf9-9aab7c0ebd8e",
   "metadata": {},
   "outputs": [],
   "source": [
    "# ---------------------------------------------------\n",
    "# Passerelle 3C->2M\n",
    "# Correction exercice 4\n",
    "#\n",
    "# Vincent Keller, Gymnase de Beaulieu, Lausanne, 2025\n",
    "# ---------------------------------------------------\n",
    "from turtle import *\n",
    "t = Turtle()\n",
    "t.pencolor('green')\n",
    "t.pensize(3)\n",
    "t.speed(40)\n",
    "nbr = 30\n",
    "for i in range(nbr):\n",
    "    t.forward(100)\n",
    "    t.left(30)\n",
    "    t.forward(100)\n",
    "    t.left(150)\n",
    "    t.forward(100)\n",
    "    t.left(30)\n",
    "    t.forward(100)\n",
    "    t.left(150)\n",
    "    t.right(360/nbr)\n",
    "\n"
   ]
  },
  {
   "cell_type": "markdown",
   "id": "8a405982-8d9b-437f-9ae8-1afb6c2e7a86",
   "metadata": {},
   "source": [
    "### Exercice 5"
   ]
  },
  {
   "cell_type": "code",
   "execution_count": 6,
   "id": "15bbde76-a337-4082-a50b-05cc6c4c7f1e",
   "metadata": {},
   "outputs": [
    {
     "name": "stdin",
     "output_type": "stream",
     "text": [
      "Quel est votre prénom :  Jean-Pierre\n",
      "Quel est votre âge :  19\n"
     ]
    },
    {
     "name": "stdout",
     "output_type": "stream",
     "text": [
      "Bonjour Jean-Pierre vous êtes né en 2006\n"
     ]
    }
   ],
   "source": [
    "# ---------------------------------------------------\n",
    "# Passerelle 3C->2M\n",
    "# Correction exercice 5\n",
    "#\n",
    "# Vincent Keller, Gymnase de Beaulieu, Lausanne, 2025\n",
    "# ---------------------------------------------------\n",
    "\n",
    "# Fonction qui affiche la phrase \"Bonjour prénom, vous êtes né en année\"\n",
    "def afficher(prenom, annee) :\n",
    "    print(\"Bonjour\",prenom,\"vous êtes né en\",annee)    \n",
    "\n",
    "# Fonction qui calcule l'année de naissance en fonction de l'âge\n",
    "# retourne l'année de naissance depuis l'année 2025\n",
    "def calculeAnnee(age):\n",
    "    annee = 2025 - age\n",
    "    return annee\n",
    "\n",
    "prenom = input(\"Quel est votre prénom : \")\n",
    "age = input(\"Quel est votre âge : \")\n",
    "age = int(age)\n",
    "afficher(prenom,calculeAnnee(age))\n",
    "\n"
   ]
  },
  {
   "cell_type": "code",
   "execution_count": null,
   "id": "6bd1b028-d1a5-4dc1-b310-4c3b7f4342c6",
   "metadata": {},
   "outputs": [],
   "source": []
  }
 ],
 "metadata": {
  "kernelspec": {
   "display_name": "Python 3 (ipykernel)",
   "language": "python",
   "name": "python3"
  },
  "language_info": {
   "codemirror_mode": {
    "name": "ipython",
    "version": 3
   },
   "file_extension": ".py",
   "mimetype": "text/x-python",
   "name": "python",
   "nbconvert_exporter": "python",
   "pygments_lexer": "ipython3",
   "version": "3.11.2"
  }
 },
 "nbformat": 4,
 "nbformat_minor": 5
}
