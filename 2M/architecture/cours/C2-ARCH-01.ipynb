{
 "cells": [
  {
   "cell_type": "markdown",
   "id": "6f3e9660-4620-41d8-8cc7-0386fe200050",
   "metadata": {},
   "source": [
    "![magics](images/magics.png \"Un peu de magie\")\n",
    "\n",
    "# C2-ARCH-01 : Compilation : du Python au langage machine"
   ]
  },
  {
   "cell_type": "markdown",
   "id": "ac6ad47b-0d65-4425-b3ee-a1149e699d1b",
   "metadata": {},
   "source": [
    "## Objectifs pédagogiques\n",
    "\n",
    "- savoir nommer les différentes étapes pour passer d'un code source écrit par un humain à un code binaire compris par un micro-processeur\n",
    "- appliquer sur des codes sources Python au papier et avec un crayon"
   ]
  },
  {
   "cell_type": "markdown",
   "id": "a0fea274-f5d4-4b44-b98e-7f9a40f4278a",
   "metadata": {},
   "source": [
    "## PROPOS LIMINAIRES\n",
    "\n",
    "Le monde des langages de programmation est vaste. La manière dont s'exécutent les programmes varient en fonction du langage.\n",
    "\n",
    "Le langage Python **n'est pas compilé directement en langage machine**, il est **interprété**. Pour la suite de ce cours, nous supposerons qu'il est compilé comme le sont des langages comme `C` ou `C++`."
   ]
  },
  {
   "cell_type": "markdown",
   "id": "c6d352cb-20ed-45d8-b907-ca884df6cb23",
   "metadata": {},
   "source": [
    "## Compilation, kézako ?\n",
    "\n",
    "Lorsqu'on écrit un programme, on choisit un **langage de programmation**. Dans l'introduction de ce cours, nous avons vu qu'il en existait des centaines (voir des milliers) :\n",
    "\n",
    "- Python\n",
    "- Fortran\n",
    "- C\n",
    "- C++\n",
    "- etc..\n",
    "\n",
    "La grande question est de comprendre comment on passe de :"
   ]
  },
  {
   "cell_type": "code",
   "execution_count": 3,
   "id": "1e840a1e-b34a-43d6-947f-9df6170c449a",
   "metadata": {},
   "outputs": [
    {
     "name": "stdout",
     "output_type": "stream",
     "text": [
      "7\n"
     ]
    }
   ],
   "source": [
    "a = 3\n",
    "b = 4\n",
    "c = a + b\n",
    "print(c)"
   ]
  },
  {
   "cell_type": "markdown",
   "id": "5ea8b4f7-e819-4bea-8308-7c11e6dbb8f4",
   "metadata": {},
   "source": [
    "à une suite de `1` (du courant) et de `0` (pas de courant) compréhensible par **l'électronique** de l'ordinateur (la **mémoire**, le **processeur** et tous les autres **composants**) :\n",
    "\n",
    "```\n",
    "01101001 01101110 01110100 00100000\n",
    "01101101 01100001 01101001 01101110\n",
    "00101000 00101001 01111011 00001101\n",
    "00001010 00100000 00100000 00100000\n",
    "\n",
    "00100000 01110000 01110010 01101001\n",
    "01101110 01110100 01100110 00101000\n",
    "00100010 01001000 01100101 01101100\n",
    "01101100 01101111 00100000 01010111\n",
    "\n",
    "01101111 01110010 01101100 01100100\n",
    "00100010 00101001 00111011 00001101\n",
    "00001010 00100000 00100000 00100000\n",
    "00100000 01110010 01100101 01110100\n",
    "\n",
    "01110101 01110010 01101110 00100000\n",
    "00110000 00111011 00001101 00001010\n",
    "01111101\n",
    "```\n",
    "\n",
    "Ce processus est appelé **compilation**. Il est exécuté par un programme spécial appelé **compilateur**. \n",
    "\n",
    "![compiler](images/compiler.png \"Compilateur\")"
   ]
  },
  {
   "cell_type": "markdown",
   "id": "7e35b330-9614-456c-a242-2907bd84143c",
   "metadata": {},
   "source": [
    "## Observations\n",
    "\n",
    "Nous pouvons faire trois observations initiales.\n",
    "\n",
    "### L'ordinateur comprend une langue formée de `0` et de `1` : **le langage machine**\n",
    "\n",
    "Le **langage machine** est une suite de bits qui est interprété par le processeur. C'est le seul qu'il puisse traiter. Cette suite de bits est une représentation binaire d'une **instruction** de très bas niveau que le processeur comprend. \n",
    "\n",
    "Les tous premiers ordinateurs construits dans les années 1940 étaient programmables uniquement en langage machine. C'est la raison pour laquelle on dit que le langage machine est un langage de programmation de **première génération** (ou **L1G**). \n",
    "\n",
    "Aujourd'hui, il est **impossible** de programmer en langage machine : les instructions des processeurs modernes sont beaucoup trop nombreuses et complexes pour être programmées à la main. \n",
    "\n",
    "### L'utilisateur (le programmeur) comprend une autre langue : **le langage de programmation**\n",
    "\n",
    "Un langage de programmation tel que **Python** est compréhensible par un humain. Il est assez éloigné de l'électronique du processeur. On le dit de **troisième génération** (ou **L3G**) ou de **haut niveau**. \n",
    "\n",
    "Un programme écrit dans un langage de programmation de haut niveau est **indépendant** du processeur. Il peut aussi bien être exécuté sur une architecture Intel x86 qu'une architecture ARM par exemple. \n",
    "\n",
    "### Un compilateur permet de traduire un langage L3G vers L1G\n",
    "\n",
    "Le compilateur est un **traducteur**. Le processus de compilation est une **traduction** d'un langage de haut niveau L3G de haut niveau vers un langage de bas niveau (machine) L1G. \n",
    "\n",
    "Si on a deux ordinateurs avec des processeurs différents `Processeur_A` et `Processeur_B`, alors le résultat de cette traduction sera **différente** selon que l'on traduit pour l'un ou pour l'autre processeur. Ce qui fait la différence entre les deux processeurs est **le jeu d'instructions** (en anglais *instruction set*) qu'il est capable d'exécuter."
   ]
  },
  {
   "cell_type": "markdown",
   "id": "bb24e4f4-19b6-4b1c-be54-8b6f4dc2d365",
   "metadata": {},
   "source": [
    "## Analogie : traduire du français vers l'anglais\n",
    "\n",
    "Pour comprendre les différentes phases de la compilation, on peut faire une analogie avec la traduction d'une phrase écrite en français vers la langue anglaise.\n",
    "\n",
    "Imaginons que nous souhaitions traduire la phrase suivante :\n",
    "\n",
    "> Pour vous rendre à Milan depuis Lausanne, vous devez aller jusqu'à Martigny, puis par le col du Grand Saint-Bernard à Aoste et enfin l'autoroute A26 depuis Ivrea.\n",
    "\n",
    "Quelles sont les étapes que vous allez suivre ?\n",
    "\n",
    "1. Reconnaître les lettres\n",
    "1. Reconnaître les mots\n",
    "1. Reconnaître le sens des phrases\n",
    "\n",
    "### Reconnaître les lettres\n",
    "\n",
    "Si la phrase est écrite ainsi :\n",
    "\n",
    "> ローザンヌからミラノに行くには、まずマルティニーへ行き、次にグレートセントベルナール峠をアオスタへと抜け、最後にイヴレアからA26号線を通る必要があります。\n",
    "\n",
    "il est possible de déduire que la phrase \n",
    "\n",
    "- n'est pas écrite dans une langue basée sur un **alphabet latin moderne**. \n",
    "\n",
    "On appelle cette étape **l'analyse lexicale** : de quoi sont faits les mots qui composent la phrase ?\n",
    "\n",
    "### Reconnaître les mots\n",
    "\n",
    "Si la phrase avait été écrite ainsi :\n",
    "\n",
    "> For å komme deg til Milano fra Lausanne, må du dra til Martigny, deretter gjennom St. Bernhardspasset til Aosta, og til slutt ta motorvei A26 fra Ivrea.\n",
    "\n",
    "il est possible de déduire que la phrase :\n",
    "\n",
    "- est écrite dans une langue basée sur **l'alphabet latin moderne**\n",
    "- que les mots ne semblent pas écrits dans une langue enseignée au gymnase (français, allemand, italien, anglais, espagnol, latin, grec)\n",
    "\n",
    "On appelle cette étape **l'analyse syntaxique** : les mots composés par des lettres sont ils justes dans la phrase ?\n",
    "\n",
    "### Reconnaître le sens des phrases\n",
    "\n",
    "Si la phrase est écrite ainsi :\n",
    "\n",
    "> Pour vous aller à Ivrea par Lausanne, vous devez aller A26 enfin Martigny, puis autoroute le Grand du col Saint-Bernard enfin Aoste et à  A26 depuis Milan.\n",
    "\n",
    "il est possible de déduire que la phrase :\n",
    "\n",
    "- est écrite dans une langue basée sur **l'alphabet latin moderne**\n",
    "- que les mots sont écrits **en français**\n",
    "- qu'il n'y a pas de sens dans la phrase\n",
    "\n",
    "On appelle cette étape **l'analyse sémantique** : les mots mis ensembles donnent-ils un sens à la phrase ?\n",
    "\n",
    "### Version British English\n",
    "\n",
    "Voici une version en *British English*\n",
    "\n",
    "> To get to Milan from Lausanne, you need to go to Martigny, then through the Great St. Bernard Pass to Aosta, and finally take the A26 motorway from Ivrea.\n",
    "\n",
    "Il existe des locuteurs qui écrivent et comprennent la phrase avec des mots comme *to go* et *motorway*\n",
    "\n",
    "### Version American English\n",
    "\n",
    "Voici une version en *American English*\n",
    "\n",
    "> To get to Milan from Lausanne, you need to drive to Martigny, then through the Great St. Bernard Pass to Aosta, and finally take the A26 highway from Ivrea.\n",
    "\n",
    "Il existe des locuteurs qui écrivent et comprennent la phrase avec des mots comme *to drive* et *highway*\n",
    "\n",
    "### Version Australian English\n",
    "\n",
    "Voici une version en *Australian English*\n",
    "\n",
    "> To get to Milan from Lausanne, you need to head to Martigny, then through the Great St. Bernard Pass to Aosta, and finally take the A26 motorway from Ivrea.\n",
    "\n",
    "Il existe des locuteurs qui écrivent et comprennent la phrase avec des mots comme *to head* et *motorway*\n",
    "\n",
    "Les trois versions sont correctes, mais pour un locuteur différent !"
   ]
  },
  {
   "cell_type": "markdown",
   "id": "af21b199-463f-4f76-8f24-8841e72c61a5",
   "metadata": {},
   "source": [
    "## Etapes de compilation\n",
    "\n",
    "Les trois étapes du passage d'un langage L3G à L1G sont identiques !\n",
    "\n",
    "1. Analyse lexicale\n",
    "1. Analyse syntaxique\n",
    "1. Analyse sémantique\n"
   ]
  },
  {
   "cell_type": "markdown",
   "id": "a8e2fe14-97aa-4f63-81c3-c1487f150147",
   "metadata": {},
   "source": [
    "## Les intructions logiques du processeur\n",
    "\n",
    "Les **instructions** du processeurs sont des opérations qui sont **codées** sous la forme de **circuits logiques**. \n",
    "\n",
    "### Un exemple : demi-additionneur \n",
    "\n",
    "Un demi-additionneur à deux bits permet de calculer la **somme** de deux bits sans tenir compte de la **retenue** ($1_2 + 1_2 = 10_2$ donc il faudrait un troisième bit pour le coder).\n",
    "\n",
    "Le demi-additionneur se construit en un circuit logique dont la table de vérité est :\n",
    "\n",
    "| $A$ | $B$| $R$ | $S$ |\n",
    "|:---|:---|:---|:---|\n",
    "| 0 | 0 | 0 | 0 |\n",
    "| 0 | 1 | 0 | 1 |\n",
    "| 1 | 0 | 0 | 1 |\n",
    "| 1 | 1 | 1 | 0 |\n",
    "\n",
    "où $A$ et $B$ sont les bits d'entrée, $R$ la retenue et $S$ le résultat de la somme (attention en binaire !!)\n",
    "\n",
    "se [construit](gates/demi-additionneur.json) avec deux portes logiques `XOR` et `AND` :\n",
    "\n",
    "![demi-additionneur](images/demi.png \"demi-additionneur\")\n",
    "\n",
    "### Un second exemple : une mémoire de 1 bit\n",
    "\n",
    "On observe dans le circuit du demi-additionneur que l'on ne peut pas conserver la valeur des deux opérandes (les deux bits). On a donc besoin d'une mémoire.\n",
    "\n",
    "Une mémoire (ou **bascule D** ou *D latch* en anglais) est un dispositif permettant de conserver la valeur d'un bit d'entrée ($D$) même si l'on fait ensuite varier les entrées pour autant qu'un loquet $E$ soit vrai. C'est une mémoire ou **registre** dans le cas des processeurs.\n",
    "\n",
    "La table est la suivante :\n",
    "\n",
    "| $E$ | $D$| $Q$ | $\\bar{Q}$ | remarque |\n",
    "|:---|:---|:---|:---|:---|\n",
    "| 0 | 0 | $q_{prev}$ | $\\bar{q}_{prev}$ | pas de changement |\n",
    "| 0 | 1 | $q_{prev}$ | $\\bar{q}_{prev}$ | pas de changement |\n",
    "| 1 | 0 | 0 | 1 | Reset |\n",
    "| 1 | 1 | 1 | 0 | Set |\n",
    "\n",
    "- lorsque $E = 0$ (Disabled), la sortie $Q$ et $\\bar{Q}$ conservent son leur état quelque soit la valeur de $D$\n",
    "- lorsque $E = 1$ (Enabled), la sortie $Q$ recopie l'état de l'entrée $D$\n",
    "\n",
    "et on peut [la construire](gates/basculed.json) avec deux portes logiques `NOR` (au-dessus) ou avec une bascule flip-flap (au-dessous):\n",
    "\n",
    "![latch](images/basculeD.png \"bascule D\")\n",
    "\n",
    "\n",
    "### Ensemble des instructions d'un processeur\n",
    "\n",
    "L'**ensemble des instructions d'un processeur** (en anglais *instruction set*) est l'ensemble des instructions **codées dans un processeur à l'aide de portes logiques**. "
   ]
  },
  {
   "cell_type": "markdown",
   "id": "2c37c2b0-76d8-40dc-98cd-28ffae3432ba",
   "metadata": {},
   "source": [
    "## Besoin d'un langage `NOT L3G AND NOT L1G` L2G : l'assembleur\n",
    "\n",
    "On pourrait programmer complètement un processeur à l'aide des instructions codées en binaire comme les héroïques ancêtres des années 1940 et 1950, mais disposer d'un langage de programmation **aussi proche de l'électronique** mais **humainement lisisble**. En quelque sorte, c'est un langage intermédiaire entre le langage L3G de haut niveau et le langage machine binaire. \n",
    "\n",
    "C'est le langage **ASSEMBLEUR**.\n",
    "\n",
    "On dit qu'il est un langage de **deuxième génération** (ou **L2G**). \n",
    "\n",
    "### Instruction *addition* du processeur en assembleur\n",
    "\n",
    "On a vu qu'on peut construire un circuit logique pour additionner deux bits. Les entrées de l'additionneur sont les deux bits. On dit qu'ils sont **stockés en mémoire**. La mémoire du processeur s'appelle **registre**. \n",
    "\n",
    "En mettant plusieurs demi-additionneurs en série, on peut calculer la somme de deux nombre de plusieurs bits. \n",
    "\n",
    "Appelons cette instruction `ADD`. Cette instruction a besoin de deux **arguments** : les adresses où se trouvent les deux nombres à additionner (un registre ou une adresse mémoire).  Appelons les `dest` et `source` où :\n",
    "\n",
    "- `dest` est la valeur du premier opérande stocké à l'emplacement `dest`\n",
    "- `source` est la valeur du second opérande stocké à l'emplacement `source`\n",
    "\n",
    "Notre première instruction s'écrit donc :\n",
    "\n",
    "`ADD dest source`\n",
    "\n",
    "Le **résultat** se trouvera stocké dans l'emplacement mémoire du premier opérande : `dest` et donc, la **valeur initiale** stockée dans `dest` aura disparu (elle a été écrasée par la somme). Il y a donc un besoin de comprendre comment transférer une donnée d'un emplacement à un autre.\n",
    "\n",
    "### instruction pour transférer une valeur d'un emplacement à l'autre\n",
    "\n",
    "Il est possible de construire une mémoire (bascule D) pour l'état d'un seul bit. Il est tout à fait possible d'en placer plusieurs en parallèle pour conserver en mémoire l'état d'un octet (ou même de plusieurs octets). \n",
    "\n",
    "Appelons l'instruction permettant de transférer une valeur vers une mémoire ou un registre : `MOV`. Cette instruction a besoin de deux **arguments** : la **destination** et la **source** \n",
    "\n",
    "- `dest` est la destination (un registre : `R1` ou une adresse en mémoire : `@addr`) \n",
    "- `source` est l'endroit d'où la valeur sera lue (un registre : `R1` ou une adresse en mémoire : `@addr`)\n",
    "\n",
    "L'instruction devient donc :\n",
    "\n",
    "`MOV dest source`"
   ]
  },
  {
   "cell_type": "markdown",
   "id": "0cdd5120-b309-4951-9d76-67e36663da88",
   "metadata": {},
   "source": [
    "## Design du processeur VK 1020\n",
    "\n",
    "On peut maintenant imaginer **designer** un processeur extrêmement simple. Il contiendra **5 instructions** :\n",
    "\n",
    "A chaque instruction on associe un **code binaire unique** : **l'Opcode** (*Operation code*). C'est ce code binaire qui est lu par le processeur. Le processeur ensuite décode la valeur binaire pour diriger le calcul vers les circuits logiques correspondants. \n",
    "\n",
    "Pour 5 instructions, il sera nécessaire de coder sur **3 bits** ($5 < 2^3$)\n",
    "\n",
    "| **instruction** | **Opérande 1** | **Opérande 2** | **Remarque** | **Opcode** |\n",
    "|:---|:---|:---|:---|:---|\n",
    "| `ADD` | `dest` | `source` | Addition de `dest` et de `source` stocké dans `dest`  | $0 0 0$ |\n",
    "| `SUB` | `dest` | `source` | Soustraction de `dest` et de `source` stocké dans `dest`  | $0 0 1$ |\n",
    "| `MOV` | `dest` | `source` | Chargement dans `dest` de la valeur stockée à l'endroit `source`  | $0 1 0$ |\n",
    "| `JMP` | `dest` |  | Saut conditionnel à la position stockée dans `dest`  | $0 1 1$ |\n",
    "| `HALT` |   |   |  Arrêt de l'exécution | $1 0 0$ |\n",
    "\n",
    "Les capacités du processeur VK 1020 se résument donc à additionner et soustraire. Il est en outre capable de coder des tests conditionnels.\n",
    "\n",
    "En outre, le processeur VK 1020 aura besoin d'un certain nombre de **registres**, c'est-à-dire des mémoires les plus proches des circuits logiques et arithmétiques.\n",
    "\n",
    "Il en existe 4 :\n",
    "\n",
    "- `R0`\n",
    "- `R1`\n",
    "- `R2`\n",
    "- `R3`\n",
    "\n",
    "Finalement, le processeur VK 1020 est connecté à une mémoire haute *suffisamment grande*, accessible par son adresse."
   ]
  },
  {
   "cell_type": "markdown",
   "id": "e9c9f1df-f0a6-4bbe-ac64-484b0cbc2eaa",
   "metadata": {},
   "source": [
    "## Compilons !\n",
    "\n",
    "Admettons que nous n'avons pas de compilateur de Python vers l'architecture VK 1020. Il nous faut donc \"compiler\" à la main. Par simplification, nous passerons par l'assembleur du processeur VK 1020.\n",
    "\n",
    "Le code à \"compiler\" (traduire) est donc le suivant :"
   ]
  },
  {
   "cell_type": "code",
   "execution_count": 4,
   "id": "37112497-af37-4406-b3cf-834177dcc961",
   "metadata": {},
   "outputs": [
    {
     "name": "stdout",
     "output_type": "stream",
     "text": [
      "7\n"
     ]
    }
   ],
   "source": [
    "a = 3\n",
    "b = 4\n",
    "c = a + b\n",
    "print(c)"
   ]
  },
  {
   "cell_type": "markdown",
   "id": "bb09a531-2ef9-473c-8709-50b2af8db301",
   "metadata": {},
   "source": [
    "La première ligne est :"
   ]
  },
  {
   "cell_type": "code",
   "execution_count": 5,
   "id": "7732a322-2cc2-4eab-b442-c57055632ec9",
   "metadata": {},
   "outputs": [],
   "source": [
    "a = 3"
   ]
  },
  {
   "cell_type": "markdown",
   "id": "e66ae57e-85b7-446b-af36-0e6e230480d7",
   "metadata": {},
   "source": [
    "il s'agit donc de charger la valeur `3` dans un registre :\n",
    "\n",
    "`MOV R0 3`\n",
    "\n",
    "La seconde ligne est :"
   ]
  },
  {
   "cell_type": "code",
   "execution_count": 6,
   "id": "e8ea8662-2099-4014-b619-25ced62c708f",
   "metadata": {},
   "outputs": [],
   "source": [
    "b = 4"
   ]
  },
  {
   "cell_type": "markdown",
   "id": "add4af36-fa60-44ad-ae9e-5ac93dbfba8d",
   "metadata": {},
   "source": [
    "il s'agit de charger la valeur 4 dans un (autre) registre :\n",
    "\n",
    "`MOV R1 4`\n",
    "\n",
    "La troisième ligne est :"
   ]
  },
  {
   "cell_type": "code",
   "execution_count": 7,
   "id": "977d0300-891e-4d6a-9a34-1539b45951df",
   "metadata": {},
   "outputs": [],
   "source": [
    "c = a + b"
   ]
  },
  {
   "cell_type": "markdown",
   "id": "8104fb7a-ef24-4a2b-b038-38a5f8e96437",
   "metadata": {},
   "source": [
    "Dans un premier temps, on va transférer la valeur de `R0` dans `R2` et la valeur de `R1` dans `R3` :\n",
    "\n",
    "`MOV R2 R0`\n",
    "\n",
    "`MOV R3 R1`\n",
    "\n",
    "La raison est qu'on souhaite conserver les valeurs de `a` et `b` une fois l'addition faite. Il est ensuite possible d'additionner les deux opérandes :\n",
    "\n",
    "`ADD R2 R3`\n",
    "\n",
    "Finalement la fonction de sortie `print()` n'est pas implémentable avec le *set d'instructions* du VK 1020. Il faut terminer le code par :\n",
    "\n",
    "`HALT`"
   ]
  },
  {
   "cell_type": "markdown",
   "id": "a07acda6-7eea-44f7-b17f-44e654cc421c",
   "metadata": {},
   "source": [
    "Le code complet en assembleur VK 1020 est donc le suivant :\n",
    "\n",
    "`MOV R0 3`\n",
    "\n",
    "`MOV R1 4`\n",
    "\n",
    "`MOV R2 R0`\n",
    "\n",
    "`MOV R3 R1`\n",
    "\n",
    "`ADD R2 R3`\n",
    "\n",
    "`HALT`\n",
    "\n",
    "Le résultat final se trouve stocké dans `R2`"
   ]
  },
  {
   "cell_type": "markdown",
   "id": "de37e7f6-28f9-487a-9a6a-5b8387586231",
   "metadata": {},
   "source": [
    "## De l'assembleur au langage machine \n",
    "\n",
    "On sait comment coder l'instruction du VK 1020 en utilisant l'Opcode. Il ne manque plus qu'à savoir traduire les arguments du `MOV` ou du `ADD` puisqu'ils sont de nature différentes : un **registre** ou une **valeur**. \n",
    "\n",
    "Admettons que les arguments sont codés sur 8 bits (un octet). On admet encore que le ***bit de poids le plus fort** indique s'il s'agit d'un registre ou d'une valeur :\n",
    "\n",
    "- `10000000` indique qu'il s'agit d'un registre (ici le registre `R0`)\n",
    "- `00000000` indique qu'il s'agit d'une valeur (ici la valeur `0`)\n",
    "\n",
    "On peut donc donner le code en langage machine L1G complet (avec commentaire) :\n",
    "\n",
    "```\n",
    "010 10000000 00000011 # MOV R0 3\n",
    "010 10000001 00000100 # MOV R1 4\n",
    "010 10000010 10000000 # MOV R2 R0\n",
    "010 10000011 10000001 # MOV R3 R1\n",
    "000 10000010 10000011 # ADD R2 R3\n",
    "100                   # HALT\n",
    "```\n",
    "\n",
    "Et donc sans commentaires :\n",
    "\n",
    "```\n",
    "010 10000000 00000011\n",
    "010 10000001 00000100\n",
    "010 10000010 10000000\n",
    "010 10000011 10000001\n",
    "000 10000010 10000011\n",
    "100                  \n",
    "```\n"
   ]
  },
  {
   "cell_type": "markdown",
   "id": "61793c3b-9d91-46ba-a069-bf899ea92d98",
   "metadata": {},
   "source": [
    "## Exercice 1\n",
    "\n",
    "Ecrivez le programme Python suivant en langage machine sur l'architecture VK 1020 :"
   ]
  },
  {
   "cell_type": "code",
   "execution_count": 8,
   "id": "3509cf2b-456d-45b5-ad12-5d1fb7244f6e",
   "metadata": {},
   "outputs": [],
   "source": [
    "m = 10\n",
    "n = 3\n",
    "a = m - n"
   ]
  },
  {
   "cell_type": "markdown",
   "id": "9dd51f2c-893a-4934-9996-fb179198d914",
   "metadata": {},
   "source": [
    "## Exercice 2\n",
    "\n",
    "Ajoutez l'instruction (ets son Opcode) à l'architecture VK 1020 ayant les caractéristiques suivantes :\n",
    "\n",
    "`MUL dest source` \n",
    "\n",
    "qui permet de multiplier la valeur stockée en `dest` avec la valeur stockée en `source`. Le résultat est stocké en `dest` et la valeur précédente est perdue"
   ]
  },
  {
   "cell_type": "markdown",
   "id": "57277909-02dc-4bb2-9eb6-76a63a58c996",
   "metadata": {},
   "source": [
    "## Exercice 3\n",
    "\n",
    "Avec le nouveau *instruction set* étendu du VK 1020, écrivez le code assembleur et le code en langage machine du code Python suivant :"
   ]
  },
  {
   "cell_type": "code",
   "execution_count": 9,
   "id": "e10a0e0c-b9e3-4703-9c3e-ab5a8ecf6a84",
   "metadata": {},
   "outputs": [],
   "source": [
    "a = 3\n",
    "b = 5\n",
    "c = a * b\n",
    "a = b - c"
   ]
  }
 ],
 "metadata": {
  "kernelspec": {
   "display_name": "Python 3 (ipykernel)",
   "language": "python",
   "name": "python3"
  },
  "language_info": {
   "codemirror_mode": {
    "name": "ipython",
    "version": 3
   },
   "file_extension": ".py",
   "mimetype": "text/x-python",
   "name": "python",
   "nbconvert_exporter": "python",
   "pygments_lexer": "ipython3",
   "version": "3.9.2"
  }
 },
 "nbformat": 4,
 "nbformat_minor": 5
}
