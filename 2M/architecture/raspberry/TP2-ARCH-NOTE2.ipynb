{
 "cells": [
  {
   "cell_type": "markdown",
   "id": "b1825124-9a2f-4acf-9e83-cc66bc9de3ae",
   "metadata": {},
   "source": [
    "# TP2-ARCH-NOTE : Journal de bord"
   ]
  },
  {
   "cell_type": "markdown",
   "id": "84528150-cdb7-482f-b4a5-c13f726596ad",
   "metadata": {},
   "source": [
    "## Objectifs \n",
    "\n",
    "- Monter et installer Linux Raspbian sur un nano-ordinateur RPi. \n",
    "- Monter, configurer et tester un réseau local (LAN) filaire en IPv4 en utilisant des RPi \n",
    "- Configurer un point d’accès WIFI sur RPi. Tester sur son téléphone portable. \n",
    "- Travailler en groupe "
   ]
  },
  {
   "cell_type": "markdown",
   "id": "3cde775e-b378-42dd-a9e5-4f4ef4b297eb",
   "metadata": {},
   "source": [
    "## Organisation\n",
    "\n",
    "- Le TP se déroule en 3 séances. Chaque séance reprend les étapes précédentes.  "
   ]
  },
  {
   "cell_type": "markdown",
   "id": "ea255d67-7c9e-4594-b90e-7dcc931f98b6",
   "metadata": {},
   "source": [
    "## Séquence\n",
    "\n",
    "### 1ère séance [TP2-ARCH-02](TP2-ARCH-02)\n",
    "\n",
    "- Prise en main du RPi \n",
    "- Branchement de tous les composants permettant d’utiliser le RPi (écran, clavier, souris) \n",
    "- Téléchargement et installation du système d’exploitation Linux Raspbian \n",
    "- Configuration du système d’exploitation \n",
    "- Premiers pas avec des commandes BASH \n",
    "\n",
    "### 2ème séance [TP2-ARCH-03](TP2-ARCH-03) \n",
    "\n",
    "- Configuration du réseau IPv4 du LAN \n",
    "- Tests du réseau  \n",
    "\n",
    "### 3ème séance [TP2-ARCH-04](TP2-ARCH-04) \n",
    "\n",
    "- Configuration d’un point d’accès WIFI \n",
    "- Tests de l’accès WIFI avec un téléphone portable "
   ]
  },
  {
   "cell_type": "markdown",
   "id": "a0fedee7-e118-44a8-b73e-b9119312d9a0",
   "metadata": {},
   "source": [
    "## Matériel à disposition \n",
    "\n",
    "- RPi 4 \n",
    "- Ecran \n",
    "- Clavier, souris USB \n",
    "- Switch \n",
    "- Routeur Prof \n",
    "- Câbles HDMI – microHDMI \n",
    "- Câbles Ethernet de différentes longueurs\n",
    "- Câbles d'alimentation\n",
    "- Multi-prises 220v "
   ]
  },
  {
   "cell_type": "markdown",
   "id": "636e5a87-2f87-4976-b30b-ac077eb7c929",
   "metadata": {},
   "source": [
    "## Journal de bord \n",
    "\n",
    "Le journal de bord (de 3 à 5 pages, figures incluses) doit être rédigé sur ordinateur en format Word et partagé avec l'enseignant dès la première séance. Il devra contenir les éléments suivants : \n",
    "\n",
    "### Introduction \n",
    "\n",
    "- Contexte \n",
    "- Srchitecture d’un RPi (composants électroniques, ports, système d’exploitation, etc..) \n",
    "- Principes du réseau LAN utilisé. Composants actifs et passifs du réseau. Serveurs requis (DHCP, DNS, Routage, etc..) \n",
    "- Liens avec la théorie \n",
    "- But du TP \n",
    "\n",
    "### Matériel et Méthode \n",
    "\n",
    "- Description du matériel utilisé et des diverses connections (avec images !) \n",
    "- Description des étapes de configuration du système d’exploitation \n",
    "- Informations sur les différents paramètres de configuration filaire \n",
    "- Procédure de création d’un point d’accès WIFI \n",
    "\n",
    "### Résultats \n",
    "\n",
    "- Schémas avec précisions des différents niveaux de réseaux \n",
    "- Mise en évidence des différents réseaux et configurations associées (routeurs, plages d’adresses IPv4, routes). \n",
    "\n",
    "### Discussion \n",
    "\n",
    "- Utilisation des notions théoriques (adressage IP, masque de sous-réseau, routage, etc..) permettant d’expliquer les résultats obtenus. \n",
    "- Présentation des conséquences d’une panne du RPi, du RPi du prof (routeur, DHCP, DNS) sur le fonctionnement du réseau. \n",
    "\n",
    "### Conclusion"
   ]
  },
  {
   "cell_type": "markdown",
   "id": "0fb42241-22b4-434a-9102-d82dd8081cb6",
   "metadata": {},
   "source": [
    "## Plan pour la rédaction du journal\n",
    "\n",
    "Attention au plagiat et à l’utilisation d’une IA générative (du type ChatGPT). Votre document sera analysé par un outil anti-plagiat et détecteur de texte généré par intelligence artificielle. \n",
    "\n",
    "Avant de soumettre votre document final, il est conseillé de relire l’entier du texte afin d’écarter d’éventuels passages incompréhensibles ou mal écrits.  \n",
    "\n",
    "Faites bien attention à utiliser les mots corrects pour décrire les différents éléments que vous manipulez. Exemple : on préférera : “Le RPi est connecté au switch via un câble ethernet” à : “Le truc blanc est branché au machin avec des lumières” \n",
    "\n",
    "### Introduction \n",
    "\n",
    "L’introduction permet, en partant de la théorie (cours) de présenter les branchements et configurations réalisés.  \n",
    "\n",
    "Le but de l’introduction est d’amener un lecteur qui ne connait pas le sujet de pouvoir comprendre la suite. \n",
    "\n",
    "### Matériel et Méthode  \n",
    "\n",
    "Cette section doit contenir une présentation détaillée du matériel mis à disposition complété par un schéma légendé de l’installation finale. Prenez notamment garde à décrire chaque appareil de l’installation en partant de votre RPi jusqu’à l’Internet. Le nombre de RPi branchés au switch n’a pas d’importance (RPis de vos camarades). \n",
    "\n",
    "### Résultats \n",
    "\n",
    "Il s’agit de décrire le résultat obtenu à l’aide d’un schéma avec légende qui décrit chaque réseau, sous-réseau, les plages IP et masques de sous-réseau associés, etc.. Lorsqu’un routeur est décrit, on doit pouvoir bien distinguer chaque interface et son réseau associé. Expliquez et donnez un exemple d’un chemin (d’une route) emprunté par un paquet IP partant de votre téléphone portable vers une adresse située à l’extérieur du gymnase (sur Internet), par exemple la machine 172.217.168.3 . \n",
    "\n",
    "### Discussion \n",
    "\n",
    "Cette section permet de discuter des résultats obtenus en fonction de la compréhension théorique.  \n",
    "\n",
    "C’est aussi dans cette section qu’on explique les conséquences d’une panne logicielle ou matérielle d’un composant du réseau (un routeur, un câble réseau, une interface WIFI) sur le fonctionnement du réseau. Exemple : si le serveur DNS du routeur de sortie du LAN filaire (RPi du prof) tombe, est-il encore possible d’accéder à https://www.google.ch, et si oui, comment ? Si le routeur installé sur le RPi de l’élève ne fonctionne plus, est-ce que le téléphone portable de l’élève pourra accéder au RPi du prof ? \n",
    "\n",
    "### Conclusion \n",
    "\n",
    "Cette section permet de résumer les principaux résultats obtenus."
   ]
  }
 ],
 "metadata": {
  "kernelspec": {
   "display_name": "Python 3 (ipykernel)",
   "language": "python",
   "name": "python3"
  },
  "language_info": {
   "codemirror_mode": {
    "name": "ipython",
    "version": 3
   },
   "file_extension": ".py",
   "mimetype": "text/x-python",
   "name": "python",
   "nbconvert_exporter": "python",
   "pygments_lexer": "ipython3",
   "version": "3.9.2"
  }
 },
 "nbformat": 4,
 "nbformat_minor": 5
}
