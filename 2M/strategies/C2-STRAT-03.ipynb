{
 "cells": [
  {
   "cell_type": "markdown",
   "id": "3cba3bae-ad9a-46e7-9b16-d26137756517",
   "metadata": {},
   "source": [
    "![aboCFF](images/abo_cff.png \"Abonnement CFF\")\n",
    "\n",
    "# C2-STRAT-03 : Du langage naturel à l'algorithme"
   ]
  },
  {
   "cell_type": "markdown",
   "id": "5f35b0a7-f31c-4fc9-a850-2d88971a63c5",
   "metadata": {},
   "source": [
    "## Objectifs pédagogiques\n",
    "\n",
    "- passer d'un problème énoncé dans un langage naturel (le français) à un algorithme complet formalisé par un algorigramme\n",
    "- identifier clairement les entreés/sorties, les traitements (instructions, opérations et affectations), les boucles, les tests"
   ]
  },
  {
   "cell_type": "markdown",
   "id": "378c661b-56c3-49fb-b6be-60cfd113719e",
   "metadata": {},
   "source": [
    "## Mise en contexte\n",
    "\n"
   ]
  },
  {
   "cell_type": "markdown",
   "id": "f61abb59-fafc-4588-8b3b-98f766255a06",
   "metadata": {},
   "source": [
    "Imaginez-vous la scène suivante : Vous êtes à la gare de Lausanne au guichet international. Devant vous, se trouve un groupe composé d'adultes et d'enfants, certains majeurs d'autres mineurs, certains des voyageurs ont un abonnement demi-tarif, d'autres n'en ont pas. Vous entendez qu'ils veulent acheter des billets de train pour toute la famille à destination de Venise en Italie.\n",
    "\n",
    "Le guichetier demande l'âge de chaque personne. **Pourquoi ?** \n",
    "\n",
    "Imaginez-vous maintenant la même scène mais devant [le site web des CFF](https://www.cff.ch) (l'application ne permet pas encore d'acheter des billets internationaux)\n",
    "\n",
    "- Quelle **information(s)** le site web doit-il connaître ?\n",
    "- Quelle **décision(s)** le site doit-il prendre ?\n",
    "- Question subsidiaire : quelle **information** le site connaît-il et qui est indépendant du nombre de voyageurs ?\n",
    "\n",
    "Comment programmer ce site web ? Quel est son algorithme ?"
   ]
  },
  {
   "cell_type": "markdown",
   "id": "c7e11aa3-1e45-4ab3-a850-016515027d11",
   "metadata": {},
   "source": [
    "### Prix du billet (en 2025)\n",
    "\n",
    "| Destination   | Voyageur | Prix en 2ème classe | Prix en 1ère classe |\n",
    "| -------- | ------- | ------- | ------- |\n",
    "| Venezia Santa Lucia  |  demi-tarif  |  CHF 112 .--  |  CHF 153 .--  |\n",
    "| Venezia Santa Lucia  |  -  |  CHF 130 .--  |  CHF 186 .--  |\n",
    "| Venezia Santa Lucia  |  moins de 16 ans  |  CHF 38 .--  |  CHF 81 .--  |\n",
    "| Roma Termini  |  demi-tarif  | CHF 151.30 .--   |  CHF 217 .--  |\n",
    "| Roma Termini  |  -  | CHF 174.50  .-- |  CHF 257.90 .--  |\n",
    "| Roma Termini  |  moins de 16 ans  |  CHF 60 .--  |  CHF 86 .--  |"
   ]
  },
  {
   "cell_type": "markdown",
   "id": "124a63f0-4d47-4023-8530-b499b6000ed6",
   "metadata": {},
   "source": [
    "### Résumé\n",
    "\n",
    "| Concept algorithmique    | Dans cette situation |\n",
    "| -------- | ------- |\n",
    "| Entrée  |  *le site a besoin de connaître la destination des voyageurs*   |\n",
    "| Entrée  |  *le site a besoin de connaître l'âge de chacun des voyageurs (majeurs ou mineurs)*  |\n",
    "| Entrée  |  *le site a besoin de savoir si les voyageurs ont des réductions (demi-tarif)* |\n",
    "| Test/condition  | *le prix du billet change en fonction de l'âge* **ET/OU** *des réductions* **ET** de la destination  |\n",
    "| Boucle  |  *le site traite chaque voyageur indépendemment*   |\n",
    "| Instruction  |  *la machine additionne le prix de chaque billet et l'accumule dans une variable prix TOTAL*  |\n",
    "| Sortie  |  *le site affiche le prix TOTAL à payer*  |\n"
   ]
  },
  {
   "cell_type": "markdown",
   "id": "2f76e238-c704-4497-851d-c1ba362b7aca",
   "metadata": {},
   "source": [
    "## Rappel : les symboles d'un algorigramme\n",
    "\n",
    "![structures](../../../1M/algo/cours/images/structures.png \"algorigrammes\")"
   ]
  },
  {
   "cell_type": "markdown",
   "id": "8a1da9c5-bbe1-4cd2-8e67-1fc63887c447",
   "metadata": {},
   "source": [
    "## Méthodologie\n",
    "\n",
    "- **Lire** un énoncé en français,\n",
    "- **Identifier** les données d’entrée, les résultats attendus (sorties),\n",
    "- **Repérer** les opérations de traitement, les conditions (tests) et les répétitions (boucles),\n",
    "- **Traduire** ces éléments en un algorigramme (organigramme algorithmique) correct."
   ]
  },
  {
   "cell_type": "markdown",
   "id": "3a252582-8734-4c62-bd81-700270dc9c3d",
   "metadata": {},
   "source": [
    "## Exemple complet\n",
    "\n",
    "Suivons cette méthodologie sur un exemple complet"
   ]
  },
  {
   "cell_type": "markdown",
   "id": "579d1036-0b19-45e2-b40f-d0cb5419eb6d",
   "metadata": {},
   "source": [
    "### Problème\n",
    "\n",
    "En Suisse, la consommation moyenne d’eau par personne et par jour est d’environ 140 litres. On estime qu'une personne a une consommation : **économe** (notée **E**) si celle-ci est réduite au minimum de 20% par rapport aux `140` litres, **standard** (notée **S**) si comprise entre plus ou moins 20% des `140` litres et **grande consommatrice** (notée **G**) si elle dépasse de 20% les `140` litres par jour.\n",
    "\n",
    "Une famille veut estimer sa consommation mensuelle et déterminer si elle est écoresponsable ou pas."
   ]
  },
  {
   "cell_type": "markdown",
   "id": "2ad0bbf3-e86d-4626-beb2-94baf68441fb",
   "metadata": {},
   "source": [
    "### Identification des entrées et sorties\n",
    "\n",
    "| concept algorithmique    | dans le contexte |\n",
    "| -------- | ------- |\n",
    "| **Entrées**  |  *nombre de personnes* `nbrpersonnes` puis pour chaque personne son type d'usage (E/M/G) `profile`   |\n",
    "| **Sortie**  |  *total mensuel*   |\n",
    "| **Sortie**  |  *message personnalisé (si écoresponsable ou pas)*   |"
   ]
  },
  {
   "cell_type": "markdown",
   "id": "422b89c1-657c-47f5-b32e-14f5e30a18ee",
   "metadata": {},
   "source": [
    "### Repérage des opérations, des boucles, des tests\n",
    "\n",
    "| concept algorithmique    | dans le contexte |\n",
    "| -------- | ------- |\n",
    "| **Boucle**  |  *pour chaque personne du ménage*   |\n",
    "| **Test**  |  *selon le type, appliquer un coefficient* (0.8, 1.0 et 1.2)  |\n",
    "| **Traitement**  |  *calcul de la consommation par personne*   |\n",
    "| **Traitement**  |  *calcul de la consommation totale par jour* : `consototalejour`   |\n",
    "| **Traitement**  |  *calcul de la consommation mensuelle* : `consomensuelle`   |\n",
    "| **Traitement**  |  *calcul de la consommation moyenne par personne et par jour* : `moyenneparpersonne`   |\n"
   ]
  },
  {
   "cell_type": "markdown",
   "id": "28ede72c-f1aa-4fa8-a638-4290571228a9",
   "metadata": {},
   "source": [
    "### Algorithme\n",
    "\n",
    "1. Entrées\n",
    "    - Demander à l’utilisateur le nombre de personnes dans le ménage : `nbrpersonnes`.     \n",
    "2. Initialisations \n",
    "    - Mettre la consommation totale journalière à 0: `consototalejour = 0`\n",
    "    - Préparer un itérateur `i = 0` pour parcourir chaque personne.\n",
    "3. Boucle : traitement de chaque personne \n",
    "    - Tant que `i <= nbrpersonnes` faire :\n",
    "        - Demander le `profile` de la personne numéro `i` (saisir « E », « M » ou « G »).\n",
    "        - Si le profil est « E » (économe) alors :\n",
    "            - Ajouter 112 à `consototalejour`. (car 140 × 0.8 = 112 litres/jour) \n",
    "        - Sinon, si le profil est « S » (standard) alors :\n",
    "            - Ajouter 140 à `consototalejour` \n",
    "        - Sinon, si le profil est « G » (grand consommateur) alors :\n",
    "            - Ajouter 168 à `consototalejour`. (car 140 × 1.2 = 182 litres/jour)             \n",
    "        - Incrémenter l'itérateur : `i = i + 1`.\n",
    "4. Calculs finaux \n",
    "    - Calculer la consommation mensuelle (sur 30 jours) :`consomensuelle = consototalejour * 30`\n",
    "    - Calculer la consommation moyenne par personne et par jour : `moyenneparpersonne = consototalejour / nbrpersonnes`\n",
    "5. Test final et sortie \n",
    "    - Si `moyenneparpersonne < 120` alors :\n",
    "        - Afficher `\"Écoresponsable ! \"`\n",
    "    - Sinon :\n",
    "        -Afficher `\"Consommation élevée\"`\n",
    "    - Afficher : `\"Consommation mensuelle totale :\", consomensuelle,\" litres\"`\n",
    "7. Fin de l’algorithme "
   ]
  },
  {
   "cell_type": "markdown",
   "id": "a040dc9b-0242-4629-b4a0-d693359a1fb4",
   "metadata": {},
   "source": [
    "### Algorigramme\n",
    "\n",
    "![consommation](graphs/consommation.png \"Consommation algorithme\")"
   ]
  },
  {
   "cell_type": "markdown",
   "id": "beea866b-294c-4c18-a8bf-defdeb774f9d",
   "metadata": {},
   "source": [
    "## Exercice 1 : Problème de l'alpiniste (simple)\n",
    "\n",
    "Problème : En montagne, la température diminue d’environ 0,65°C tous les 100 mètres de dénivelé.\n",
    "\n",
    "Une randonneuse connaît la température du départ et la température mesurée au sommet.        \n",
    "\n",
    "Elle veut estimer l’altitude du sommet."
   ]
  },
  {
   "cell_type": "markdown",
   "id": "eb7c1031-3755-4e03-aef7-ee6c090c9fdd",
   "metadata": {},
   "source": [
    "## Exercice 2 : La boulangerie numérique (plus compliqué)\n",
    "\n",
    "Une boulangerie online propose :   \n",
    "\n",
    "- Pain : 3,50 CHF (3,00 CHF à partir de 5 unités, 2,50 CHF à partir de 10)  \n",
    "- Croissant : 2,00 CHF  \n",
    "- Pain au chocolat : 2,20 CHF\n",
    "\n",
    "Le client compose son panier en saisissant un article à la fois :   \n",
    "\n",
    "- Tape 1 pour ajouter un pain,  \n",
    "- Tape 2 pour un croissant,  \n",
    "- Tape 3 pour un pain au chocolat,  \n",
    "- Tape 0 pour terminer.\n",
    "\n",
    "À la fin, le programme affiche :   \n",
    "\n",
    "- le nombre de pains, croissants, pains au chocolat,  \n",
    "- le prix total, avec la remise sur les pains appliquée correctement. »*\n",
    "\n",
    "**Attention :** la remise sur les pains ne s’applique qu’au moment du calcul final, pas à chaque achat. "
   ]
  },
  {
   "cell_type": "code",
   "execution_count": null,
   "id": "5c1b2672-b9ea-43ee-8d54-4cc6fc9ac6fe",
   "metadata": {},
   "outputs": [],
   "source": []
  }
 ],
 "metadata": {
  "kernelspec": {
   "display_name": "Python 3 (ipykernel)",
   "language": "python",
   "name": "python3"
  },
  "language_info": {
   "codemirror_mode": {
    "name": "ipython",
    "version": 3
   },
   "file_extension": ".py",
   "mimetype": "text/x-python",
   "name": "python",
   "nbconvert_exporter": "python",
   "pygments_lexer": "ipython3",
   "version": "3.11.2"
  }
 },
 "nbformat": 4,
 "nbformat_minor": 5
}
