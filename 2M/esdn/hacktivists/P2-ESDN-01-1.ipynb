{
 "cells": [
  {
   "cell_type": "markdown",
   "id": "145fed84-2399-4c8a-a899-9cf87a9b9324",
   "metadata": {},
   "source": [
    "![hacktivist](images/hacktivist.png \"An hacktivist\")\n",
    "\n",
    "# P2-ESDN-01 : Cybermilitantisme"
   ]
  },
  {
   "cell_type": "markdown",
   "id": "fb54be60-e508-4fe9-aa98-45b3c1799595",
   "metadata": {},
   "source": [
    "## Objectifs\n",
    "\n",
    "- Liste des hacktivistes à choix pour les élèves\n",
    "- Les élèves reçoivent un.e hacktiviste qu'il doivent :\n",
    "    - comprendre les enjeux sociaux cachés derrière l'hacktiviste\n",
    "    - préparer un exposé sur la personne en suivant le plan proposé"
   ]
  },
  {
   "cell_type": "markdown",
   "id": "4bac7755-4ca7-4452-b547-6961a9e68189",
   "metadata": {},
   "source": [
    "## Format\n",
    "\n",
    "1. Une présentation au format Powerpoint/PDF de 5 slides max + 1 slide avec les sources\n",
    "1. **AUCUNE NOTE N'EST AUTORISÉ PENDANT lA PRÉSENTATION**\n",
    "1. **10 minutes de passage + 5 minutes de questions/réponses**\n",
    "\n",
    "Votre présentation doit se concentrer sur **l'enjeu social** pas sur la **personne**. Elle doit permettre à l'ensemble de la classe de pouvoir se forger un avis éclairé. Chaque élément de votre présentation doit être sourcé.\n",
    "\n",
    "### Ce que ne DOIT PAS être la présentation\n",
    "\n",
    "- une biographie\n",
    "- une liste de faits et/ou de dates en lien avec la personne\n",
    "\n",
    "### Ce que DOIT être la présentation\n",
    "\n",
    "- Identifier l'enjeu social principal en lien avec la personne\n",
    "- Mettre cet enjeu social en perspective avec les développements du numérique\n",
    "- Mobiliser les concepts techniques en jeu (par exemple : réseau, cryptologie, etc...)\n",
    "- Rechercher le ou les références scientifiques de l'enjeu social considéré\n",
    "    - [google scholar](https://scholar.google.com/)\n",
    "    - Bibliothèque du gymnase\n",
    "\n",
    "### A rendre sur Moodle\n",
    "\n",
    "- Présentation powerpoint/PDF"
   ]
  },
  {
   "cell_type": "markdown",
   "id": "a3a3a81c-fbbc-4c5d-8353-c7192520bbab",
   "metadata": {},
   "source": [
    "## Liste des Hacktivistes, cybermilitants, cybermilitantes et cyberféministes\n",
    "\n",
    "L'**hacktivisme** (*mot-valise* formé de **hacker** et **activisme**) est une forme d'engagement collectif ou individuel dans un but collectif utilisant les compétences en **piratage informatique** dans le but d'influencer certaines politiques ou choix sociétaux. Un ou une **hacktiviste** est une personne qui se revendique de l'hacktivisme et qui agit seule ou en groupe  "
   ]
  },
  {
   "cell_type": "markdown",
   "id": "d4378b0c-d6aa-4b83-9a8b-252ba05d51f2",
   "metadata": {},
   "source": [
    "### Alexandra Elbakyan\n",
    "\n",
    "![elbakyan](images/elbakyan.png \"Alexandra Elbakyan\")\n",
    "\n",
    "*Scientific knowledge belongs to humanity*\n",
    "\n",
    "(*La connaissance scientifique appartient à l'Humanité*)"
   ]
  },
  {
   "cell_type": "markdown",
   "id": "c9dd57c4-682f-41ea-a698-8c94b2bf60b0",
   "metadata": {},
   "source": [
    "### Jude Milhon\n",
    "\n",
    "![milhon](images/milhon.jpg \"Jude, protecter of the hackers\")\n",
    "\n",
    "*When you’re in cyberspace no one knows what your sex is*\n",
    "\n",
    "(*Lorsque vous êtes dans le cyber espace, personne ne connaît votre sexe*)"
   ]
  },
  {
   "cell_type": "markdown",
   "id": "27dbf94a-f252-494b-9882-1c63b2aad924",
   "metadata": {},
   "source": [
    "### Sarah Jane Plant (Sadie Plant)\n",
    "\n",
    "![plant](images/plant.jpg \"Sadie Plant\")\n",
    "\n",
    "*When computers were vast systems of transistors and valves which needed to be coaxed into action, it was women who turned them on. When computers became the miniaturized circuits of silicon chips, it was women who assembled them . . . when computers were virtually real machines, women wrote the software on which they ran. And when computer was a term applied to flesh and blood workers, the bodies which composed them were female.*\n",
    "\n",
    "(*Lorsque les ordinateurs étaient d'immenses systèmes de transistors et de tubes à vide qu'il fallait convaincre à fonctionner, ce sont les femmes qui les ont mis en marche. Quand les ordinateurs sont devenus des circuits miniaturisés de puces de silicium, ce sont les femmes qui les ont assemblés... quand les ordinateurs étaient pratiquement de vraies machines, ce sont les femmes qui ont écrit les logiciels sur lesquels ils fonctionnaient. Et quand l'ordinateur était un terme appliqué aux travailleurs en chair et en os, les corps qui les composaient étaient féminins.*)"
   ]
  },
  {
   "cell_type": "markdown",
   "id": "59628d1c-bb8d-4a96-ad40-52714f4d55bd",
   "metadata": {},
   "source": [
    "### Judy Wajcman\n",
    "\n",
    "![wajcman](images/wajcman.jpg \"Judy Wajcman\")\n",
    "\n",
    "*Zeros now have a place, and they displace the phallic order of ones.*\n",
    "\n",
    "(*Les zéros on désormais leur place, et ils remplacent l'ordre phallique des uns*)"
   ]
  },
  {
   "cell_type": "markdown",
   "id": "5f396efb-5d00-4234-8900-7849a694a863",
   "metadata": {},
   "source": [
    "### Soeur Mary Kenneth Keller\n",
    "\n",
    "![keller](images/Keller.png \"Sister Keller\")\n",
    "\n",
    "*We’re having an information explosion, and it’s certainly obvious that information is of no use unless it’s available.*\n",
    "\n",
    "(*Nous sommes en train d'assister à une explosion d'information, et il est évident que l'information n'est d'aucune utilité à moins d'être disponible*)"
   ]
  },
  {
   "cell_type": "markdown",
   "id": "cc042d2e-3df6-4468-bdc6-7a9f447681d2",
   "metadata": {},
   "source": [
    "### Richard Matthew Stallman\n",
    "\n",
    "![rms](images/rms2.jpg \"Richard M. Stallman\")\n",
    "\n",
    "*If a computational activity is truly important to you, never depend on being able to continue it by means of nonfree software controlled by someone else! That is asking to lose.*\n",
    "\n",
    "(*Si une activité informatique est vraiment importante pour vous, ne comptez jamais sur le fait de pouvoir la poursuivre en utilisant un logiciel non libre contrôlé par quelqu'un d'autre ! C'est demander à perdre.*)"
   ]
  },
  {
   "cell_type": "markdown",
   "id": "2dbf7fe0-8950-48f0-8b83-19bd16e2b1a4",
   "metadata": {},
   "source": [
    "### Lawrence Lessig\n",
    "\n",
    "![lessig](images/lessig.jpg \"lawrence Lessig\")\n",
    "\n",
    "*If the Internet teaches us anything, it is that great value comes from leaving core resources in a commons, where they're free for people to build upon as they see fit*\n",
    "\n",
    "(*Si Internet nous enseigne quelque chose, c'est que de grandes valeurs proviennent du fait de laisser les ressources essentielles pour le bien commun, où elles sont libres pour que les gens puissent les utiliser et les développer comme ils le souhaitent.*)"
   ]
  },
  {
   "cell_type": "markdown",
   "id": "cb4aafd1-b12a-4444-82c9-2899956a6c5b",
   "metadata": {},
   "source": [
    "### Aaron Swartz\n",
    "\n",
    "![swartz](images/swartz.jpg \"Aaron Swartz\")\n",
    "\n",
    "*The World's entier scientific and cultural heritage, published over centuries in books and journals, is increasingly being digitized and locked up by a handful of private corporations*\n",
    "\n",
    "(*L'entier du patrimoine scientifique et culturel du monde, publié au fil des siècles dans des livres et des revues, est de plus en plus numérisé et verrouillé par une poignée de sociétés privées.*)"
   ]
  },
  {
   "cell_type": "markdown",
   "id": "91717b61-07cc-4a3d-b7e0-fdd030f4c672",
   "metadata": {},
   "source": [
    "### John Perry Barlow\n",
    "\n",
    "![barlow](images/barlow.jpg \"John Perry Barlow\")\n",
    "\n",
    "*The Internet is the most liberating tool for humanity ever invented, and also the best for surveillance. It's not one or the other. It's both.*\n",
    "\n",
    "(*Internet est l'outil le plus libérateur jamais inventé pour l'humanité, et aussi le meilleur pour la surveillance. Ce n'est pas l'un ou l'autre. C'est les deux.*)"
   ]
  },
  {
   "cell_type": "markdown",
   "id": "822d7dc3-4ac1-46cd-95b0-99783db77924",
   "metadata": {},
   "source": [
    "### Linus Torvalds\n",
    "\n",
    "![torvalds](images/torvalds.jpg \"Linus Torvalds\")\n",
    "\n",
    "*If Microsoft ever does applications for Linux it means I've won.*\n",
    "\n",
    "(*Si Microsoft dévelope une fois des applications pour Linux, cela signifie que j'ai gagné*)"
   ]
  },
  {
   "cell_type": "markdown",
   "id": "844c50a3-cb72-4b49-840a-4fc9777b9047",
   "metadata": {},
   "source": [
    "### Philip Zimmermann\n",
    "\n",
    "![zimmermann](images/zimmermann.jpg \"Philip Zimmermann\")\n",
    "\n",
    "*If privacy is outlawed, only outlaws will have privacy*\n",
    "\n",
    "(*Si la vie privée est interdite, cela veut dire que seuls les hors-la-loi auront une vie privée*)"
   ]
  },
  {
   "cell_type": "markdown",
   "id": "3d7e1661-fd44-4dba-a4a0-c0d80ec058d0",
   "metadata": {},
   "source": [
    "### David Chaum\n",
    "\n",
    "![chaum](images/chaum.jpg \"David Chaum\")\n",
    "\n",
    "*If Satoshi is the father of Bitcoin, David Chaum is most definitely its grandfather*\n",
    "\n",
    "(*Si Satoshi est le père du Bitcoin, alors David Chaum est très certainement son grand-père*)"
   ]
  },
  {
   "cell_type": "markdown",
   "id": "b452e479-00f8-412d-ad29-c7283493955d",
   "metadata": {},
   "source": [
    "## Jimmy Wales (et Larry Sanger)\n",
    "\n",
    "![wales](images/wales.jpg \"Jimmy Wales\")\n",
    "\n",
    "*Imagine a world in which every single person on the planet is given free access to the sum of all human knowledge. That's what we're doing.*\n",
    "\n",
    "(*Imaginez un monde dans lequel chaque personne sur la planète a un accès gratuit à la somme de toute la connaissance humaine. C'est ce que nous faisons*)"
   ]
  },
  {
   "cell_type": "markdown",
   "id": "189cdf3e-bf0d-465a-85ba-24f5abbc6423",
   "metadata": {},
   "source": [
    "### The cypherpunks : Eric Hughes, Tim May et John Gilmore\n",
    "\n",
    "![gilmore](images/cypherpunks.jpg \"John Gilmore\")\n",
    "\n",
    "*We cannot expect governments, corporations, or other large, faceless organizations to grant us privacy out of their beneficence. It is to their advantage to speak of us, and we should expect that they will speak. To try to prevent their speech is to fight against the realities of information. Information does not just want to be free, it longs to be free. Information expands to fill the available storage space. Information is Rumor's younger, stronger cousin; Information is fleeter of foot, has more eyes, knows more, and understands less than Rumor.*\n",
    "\n",
    "(*Nous ne pouvons pas nous attendre à ce que les gouvernements, les entreprises ou d'autres grandes organisations sans visage nous accordent la vie privée par bienveillance. C'est à leur avantage de parler de nous, et nous devrions nous attendre à ce qu'ils parlent. Essayer d'empêcher leur discours, c'est lutter contre les réalités de l'information. L'information ne veut pas seulement être libre, elle aspire à être libre. L'information s'étend pour remplir l'espace de stockage disponible. L'information est le cousin plus jeune et plus fort de la rumeur ; l'information est plus rapide, a plus d'yeux, sait plus de choses et comprend moins que la rumeur.*)"
   ]
  },
  {
   "cell_type": "markdown",
   "id": "cc2efbb5-ad15-4b17-9bfe-9e4457efeb49",
   "metadata": {},
   "source": [
    "### The Pirate Bay : Gottfrid Svartholm, Fredrik Neij et Peter Sunde\n",
    "\n",
    "![pirate](images/pirate.png \"The Pirate Bay\")\n",
    "\n",
    "*All communication on today's networks are being monitored by government agencies and private companies.*\n",
    "\n",
    "(*Toutes les communications sur les réseaux d'aujourd'hui sont surveillées par des agences gouvernementales et des entreprises privées.*)"
   ]
  },
  {
   "cell_type": "markdown",
   "id": "77d2865e-3ca8-48b9-90d3-16ffe6706468",
   "metadata": {},
   "source": [
    "### The cult of the Dead Cow : Grandmaster Ratte' , Franken Gibe et Sid Vicious\n",
    "\n",
    "![cdc](images/cdc.jpg \"Cult of the dead cow\")\n",
    "\n",
    "*It wasn’t just that politicians needed to think more about technology and its unique multidisciplinary role in the world. Those in technology needed to think a lot more about politics.*\n",
    "\n",
    "(*Ce n'était pas seulement que les politiciens devaient réfléchir davantage à la technologie et à son rôle multidisciplinaire unique dans le monde. Ceux qui travaillent dans la technologie devaient aussi beaucoup plus réfléchir à la politique.*)"
   ]
  },
  {
   "cell_type": "markdown",
   "id": "4da8a1da-6d72-456c-b5f9-bffecadd64a7",
   "metadata": {},
   "source": [
    "## CCC : Wau Holland (et Steffen Wernéry)\n",
    "\n",
    "![holland](images/holland.jpg \"Wau Holland\")\n",
    "\n",
    "*Technologie muß man nicht bekämpfen, sondern beherrschen.*\n",
    "\n",
    "(*La technologie ne doit pas être combattue, mais maîtrisée.*)"
   ]
  },
  {
   "cell_type": "code",
   "execution_count": null,
   "id": "89f2cf0f-69a7-4ffc-9123-af43dcefd073",
   "metadata": {},
   "outputs": [],
   "source": []
  }
 ],
 "metadata": {
  "kernelspec": {
   "display_name": "Python 3 (ipykernel)",
   "language": "python",
   "name": "python3"
  },
  "language_info": {
   "codemirror_mode": {
    "name": "ipython",
    "version": 3
   },
   "file_extension": ".py",
   "mimetype": "text/x-python",
   "name": "python",
   "nbconvert_exporter": "python",
   "pygments_lexer": "ipython3",
   "version": "3.9.2"
  }
 },
 "nbformat": 4,
 "nbformat_minor": 5
}
