{
 "cells": [
  {
   "cell_type": "markdown",
   "id": "a2f829af-0bfc-4fbb-b2bd-693e70c1eb57",
   "metadata": {},
   "source": [
    "![budget](images/budget.png \"Budget\")\n",
    "\n",
    "# R2-PROG-02 : Rappels 1M - mini-projet"
   ]
  },
  {
   "cell_type": "markdown",
   "id": "d66e46de-289a-4b5e-949d-688ba50618af",
   "metadata": {},
   "source": [
    "## Objectifs pédagogiques\n",
    "\n",
    "- Révision des concepts de programmation vus en première année\n",
    "    - entrées, sorties, variables, types, boucles, tests conditionnels\n",
    "- Durée : 2 séances de 45 minutes  \n",
    "- Langage : Python  "
   ]
  },
  {
   "cell_type": "markdown",
   "id": "e1d81d32-f33b-47d4-94fd-6eeac4bc8fec",
   "metadata": {},
   "source": [
    "## Objectif du projet : Suivi des dépenses hebdomadaires\n",
    "\n",
    "Créer un programme en Python qui permet de suivre les **dépenses hebdomadaires** d’un élève.  \n",
    "\n",
    "Le programme demandera :\n",
    "\n",
    "- Le **budget disponible**,\n",
    "- Puis les **montants des dépenses** une par une,\n",
    "- Et pour chaque dépense, son **type** (snack, transport, jeux, autre).\n",
    "\n",
    "À la fin, le programme affichera un **bilan complet** : total des dépenses, comparaison avec le budget, répartition par catégorie, et la dépense la plus élevée."
   ]
  },
  {
   "cell_type": "markdown",
   "id": "0570500c-8e54-4692-9c94-9b901bdb9525",
   "metadata": {},
   "source": [
    "## Partie 1 – Création d'un budget hebdomadaire\n",
    "\n",
    "Ecrire un programme qui aide à suivre les **dépenses hebdomadaires** d'une personne. Ce programme devra :\n",
    "\n",
    "- Stocker tous les montants des dépenses,\n",
    "- Afficher un historique complet à la fin.\n",
    "\n",
    "À la fin, le programme affichera :\n",
    "\n",
    "- Le total, la moyenne, la plus grosse dépense,\n",
    "- Et un récapitulatif détaillé de chaque achat.\n",
    "\n",
    "Les étapes du programme sont les suivantes :\n",
    "\n",
    "1. Demander le **budget hebdomadaire**.\n",
    "2. Permettre de saisir des **dépenses** une par une (terminer par `0`).\n",
    "3. Stocker chaque montant dans une **liste**.\n",
    "4. Calculer le **total** des dépenses.\n",
    "5. Afficher un message si le **budget est dépassé**.\n",
    "6. Afficher un **résumé** : total, budget, reste ou dépassement.\n",
    "\n",
    "\n",
    "### Exemple d’exécution\n",
    "\n",
    "```\n",
    "Quel est ton budget hebdomadaire (en CHF) ? 30\n",
    "Saisis tes dépenses une par une. Tape 0 pour terminer.\n",
    "Montant de la dépense (0 pour finir) : 2.50\n",
    "Montant de la dépense (0 pour finir) : 8\n",
    "Montant de la dépense (0 pour finir) : 15\n",
    "Montant de la dépense (0 pour finir) : 0 \n",
    "\n",
    "--- Résumé ---\n",
    "Budget : 30.00 CHF\n",
    "Dépenses totales : 25.50 CHF\n",
    "Bien joué ! Il te reste 4.50 CHF.\n",
    "```\n",
    "\n",
    "**hints** utililser une boucle while pour entrer les différentes dépenses ainsi qu'une variable `total_depenses` à augmenter. Crée une liste vide au départ : `depenses = []` "
   ]
  },
  {
   "cell_type": "markdown",
   "id": "d192bff3-10d3-46e1-914b-24545be71cb9",
   "metadata": {},
   "source": [
    "## Partie 2 – Améliorations avec catégories\n",
    "\n",
    "Nous allons étendre les possibilités de notre programme de gestion de budget hebdomadaire :\n",
    "\n",
    "- Stocker les catégories associées (snack, transport, etc..)\n",
    "- Afficher à la fin le nombre de dépenses par catégorie,\n",
    "\n",
    "Pour ce faire, déclarer :\n",
    "\n",
    "- Une **deuxième liste** pour les **catégories** de dépenses,\n",
    "- Le **calcul de la moyenne** des dépenses,\n",
    "- La **recherche de la dépense la plus élevée** (sans utiliser la fonction `max()`),\n",
    "- Un **comptage par catégorie**,\n",
    "- Un **affichage détaillé** de chaque dépense avec sa catégorie.\n",
    "\n",
    "### Fonctionnalités à ajouter :\n",
    "\n",
    "- Après chaque montant, demander la **catégorie** (1 à 4) :\n",
    "  - `1` = snack\n",
    "  - `2` = transport\n",
    "  - `3` = jeux\n",
    "  - `4` = autre\n",
    "- Stocker les catégories dans une liste `categories = []`.\n",
    "- À la fin, afficher chaque dépense avec son type.\n",
    "- Calculer la **moyenne** des dépenses.\n",
    "- Trouver **manuellement** la dépense la plus élevée (boucle + condition).\n",
    "- Afficher un bilan complet.\n",
    "\n",
    "\n",
    "### Exemple d’exécution\n",
    "\n",
    "Voici un exemple d'exécution du programme avec les catégories :\n",
    "\n",
    "```\n",
    "Montant : 10.00 CHF pour Jeux\n",
    "Montant : 2.50 € pour Snack\n",
    "Montant : 15.00 € pour Transport \n",
    "\n",
    "--- Bilan final ---\n",
    "Budget : 30.00 CHF\n",
    "Total des dépenses : 27.50 CHF\n",
    "Moyenne par dépense : 9.17 CHF\n",
    "Dépense la plus élevée : 15.00 CHF (Transport)\n",
    "Nombre de snacks : 1\n",
    "Nombre de jeux : 1\n",
    "Nombre de transports : 1\n",
    "Nombre d'autres : 0 \n",
    "```\n"
   ]
  },
  {
   "cell_type": "markdown",
   "id": "721f5d0e-1154-4eea-b04b-122dea49b8a0",
   "metadata": {},
   "source": [
    "---\n",
    "\n",
    "## Règles techniques\n",
    "\n",
    "- Le code doit être **séquentiel**.\n",
    "- Utiliser **deux listes** :\n",
    "  - `depenses` : pour les montants,\n",
    "  - `categories` : pour les numéros de catégorie.\n",
    "- Gèrer les erreurs de saisie (montant invalide, catégorie invalide).\n",
    "- Utiliser des **variables bien nommées** : `budget`, `total`, `nb_snack`, etc.\n",
    "- **Ne pas utiliser** de fonctions `max()`, `min()`, `sum()`, `sort()` : faire les calculs à la main avec des boucles."
   ]
  },
  {
   "cell_type": "code",
   "execution_count": null,
   "id": "308b1d87-a949-451a-9f1d-88c31eb0b12d",
   "metadata": {},
   "outputs": [],
   "source": []
  }
 ],
 "metadata": {
  "kernelspec": {
   "display_name": "Python 3 (ipykernel)",
   "language": "python",
   "name": "python3"
  },
  "language_info": {
   "codemirror_mode": {
    "name": "ipython",
    "version": 3
   },
   "file_extension": ".py",
   "mimetype": "text/x-python",
   "name": "python",
   "nbconvert_exporter": "python",
   "pygments_lexer": "ipython3",
   "version": "3.9.2"
  }
 },
 "nbformat": 4,
 "nbformat_minor": 5
}
