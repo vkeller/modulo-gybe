{
 "cells": [
  {
   "cell_type": "markdown",
   "id": "a84f6b30-2f7c-438c-9347-66b683b2fa18",
   "metadata": {},
   "source": [
    "![important](images/important.jpg \"Important sign\")"
   ]
  },
  {
   "cell_type": "markdown",
   "id": "906307d5-2f8b-4bbe-8312-3c5b096c5f37",
   "metadata": {},
   "source": [
    "# R2-PROG-01 : Rappels programmation 1M"
   ]
  },
  {
   "cell_type": "markdown",
   "id": "3fa5979d-df5c-4bdf-81f0-b00a5d72e497",
   "metadata": {},
   "source": [
    "## Objectifs\n",
    "\n",
    "- réviser les éléments importants du thème **programmation** de 1M pour bien aborder la programmation en 2M\n",
    "    - créer, enregistrer, sauvegarder, envoyer un fichier source Python\n",
    "    - connaître les principaux types de variables\n",
    "    - être capable de faire test conditionnel\n",
    "    - connaître les différents types de boucles\n",
    "    - construire une structure de données avec une liste\n",
    "    - construire des fonctions simples"
   ]
  },
  {
   "cell_type": "markdown",
   "id": "1f019a15-f1a2-4915-9dc1-51f4eaa4430e",
   "metadata": {},
   "source": [
    "## L'IDE Thonny, les entrées et les sorties\n",
    "\n",
    "L'environnement de développement intégré (IDE) utilisé est **Thonny**"
   ]
  },
  {
   "cell_type": "markdown",
   "id": "f1ede5e5-53ea-4931-bb2c-903ab7665dbd",
   "metadata": {},
   "source": [
    "### Exercice 1 (sortie)\n",
    "\n",
    "- ouvrir thonny\n",
    "- créer un nouveau fichier code source Python `sortie.py`\n",
    "- enregistrer sur fs10\n",
    "- créer un programme qui écrit `Hello World !` (*Hint : utiliser la fonction `print()`*)\n",
    "- enregistrer le fichier sur son volume du réseau pédagogique\n",
    "- envoyer le fichier sur le [Moodle](https://moodle.gymnasedebeaulieu.ch)"
   ]
  },
  {
   "cell_type": "markdown",
   "id": "0a9fffee-b840-4938-a631-1abc3fe7e179",
   "metadata": {},
   "source": [
    "### Exercice 2 (entrées)\n",
    "\n",
    "- créez un nouveau fichier code source Python `entree.py`\n",
    "- écrivez un programme qui demande un prénom (*hint : utilisez la fonction `input()`*) et l'affiche (*hint : utilisez la fonction `print()`*)\n",
    "- modifiez votre programme pour qu'il affiche `Bonjour ` et le prénom choisi par l'utilisateur"
   ]
  },
  {
   "cell_type": "markdown",
   "id": "85848bfe-dd1a-41ff-8ff3-36ca956119d0",
   "metadata": {},
   "source": [
    "## Variables et types\n",
    "\n",
    "Les variables sont utilisées pour stocker de l'information dans un code informatique. Elles sont décrites par :\n",
    "\n",
    "1. leur nom\n",
    "1. leur type \n",
    "1. leur contenu (leur valeur)\n",
    "1. leur adresse\n",
    "\n",
    "Vous pouvez consulter [le TP sur les notions de types de 1M](../../../1M/prog/types/Types.ipynb)"
   ]
  },
  {
   "cell_type": "markdown",
   "id": "d7dc0074-7fed-47f1-8649-5a64d3da48a3",
   "metadata": {},
   "source": [
    "### Exercice 3\n",
    "\n",
    "- sous thonny, créer un nouveau fichier source Python `variables.py`\n",
    "- écrire un programme qui déclare :\n",
    "   - en entier (`int`)\n",
    "   - une chaîne de caractères (`str`)\n",
    "   - un booléen (`bool`)\n",
    "- modifiez les valeurs assignées \n",
    "- Observer les modifications dans l'**explorateur de variables** et l'**inspecteur d'objets** "
   ]
  },
  {
   "cell_type": "code",
   "execution_count": null,
   "id": "6fa9e5db-8d2d-41f0-b03c-60b4601a8772",
   "metadata": {
    "tags": []
   },
   "outputs": [],
   "source": [
    "a = 4\n",
    "b = \"4\"\n",
    "c = True\n",
    "d = 4.0\n",
    "print(a,b,c,d)"
   ]
  },
  {
   "cell_type": "markdown",
   "id": "b6a21269-f8d6-4984-8b15-4b708b32d11e",
   "metadata": {},
   "source": [
    "Modifiez le code pour que les types des variables `a,b,c,d` soient : \n",
    "\n",
    "```\n",
    "a de type chaîne de caractères\n",
    "b de type flottant\n",
    "c de type chaîne de caractières\n",
    "d de type entier\n",
    "```"
   ]
  },
  {
   "cell_type": "markdown",
   "id": "543895b1-e901-4b8c-9894-e630e9be0250",
   "metadata": {},
   "source": [
    "## Les tests conditionnels\n",
    "\n",
    "La **structure conditionnelle** s'écrit avec le mot-clef `if` :\n",
    "\n",
    "```\n",
    "if condition :\n",
    "    instruction1\n",
    "```\n",
    "\n",
    "la condition est toujours une **comparaison** entre deux valeurs (variables ou valeurs fixes) **de même type** avec les opérateurs conditionnels usuels (qui se lisent de gauche à droite):\n",
    "\n",
    "| **Opérateur conditionnel**  | **Signification**  |\n",
    "|---|---|\n",
    "| `==`  | *est égal à*  |\n",
    "| `!=`  | *n'est pas égal à*  |\n",
    "| `>`  | *est strictement plus grand que*  |\n",
    "| `>=`  | *est plus grand ou égal à*  |\n",
    "| `<`  | *est strictement plus petit que à*  |\n",
    "| `<=`  | *est plus petit ou égal à*  |\n",
    "\n",
    "Il est possible d'ajouter une condition opposée avec le mot-clef `else` :\n",
    "\n",
    "```\n",
    "if condition :\n",
    "    instruction1\n",
    "else:\n",
    "    instruction2\n",
    "```\n",
    "\n",
    "en français : *si la `condition` est remplie, alors le programme exécute l'instruction1, sinon il exécute l'instruction2*\n",
    "\n",
    "\n",
    "Vous pouvez consulter [le TP sur les tests conditionnels de 1M](../../../1M/prog/conditions/Introduction.ipynb)"
   ]
  },
  {
   "cell_type": "markdown",
   "id": "ba1edb16-58fe-4312-96cb-5ce1be5e7ebb",
   "metadata": {},
   "source": [
    "### Exercice 4\n",
    "\n",
    "- dans thonny, créez un nouveau fichier python nommé `conditions1.py`\n",
    "- écrivez un programme qui :\n",
    "    - demande un entier `x` à l'utilisateur\n",
    "    - écrit si cet entier est plus petit ou égal à 5\n",
    "    - sinon qu'il est plus grand\n",
    "- testez votre programme avec différentes entrées\n",
    "- enregistrez votre programme"
   ]
  },
  {
   "cell_type": "markdown",
   "id": "39175859-58b1-4f51-b2ae-738eef568e16",
   "metadata": {},
   "source": [
    "### Exercice 5\n",
    "\n",
    "- dans thonny, créez un nouveau fichier python nommé `conditions2.py`\n",
    "- écrivez un programme qui :\n",
    "    - demande le prénom de l'utilisateur et le stocke dans la variable `prenom`\n",
    "    - demande l'âge de l'utilisateur et le stocke dans la variable `age`\n",
    "    - répond à l'utilisateur une phrase du type : `Bonjour Caroline, votre âge est de 16 ans donc vous êtes mineure` ou `Bonjour Stéphane, votre âge est de 30 ans, donc vous êtes majeure`\n",
    "    - (facultatif) vous pouvez encore demander le genre de l'utilisateur et accorder l'adjectif *majeur* à celui-ci\n",
    "- testez votre programme avec différentes entrées\n",
    "- enregistrez votre programme"
   ]
  },
  {
   "cell_type": "markdown",
   "id": "15bcac78-eff8-4cc9-9a78-8fb7571ade51",
   "metadata": {},
   "source": [
    "## Les boucles\n",
    "\n",
    "Une boucle permet de répéter plusieurs fois un **bloc d'instructions**. On utilise le mot-clef `for`, un **itérateur** qui est une variable (généralement `i`) et d'un **périmètre** appelé `range()`:\n",
    "\n",
    "Rappel : la *signature* de la fonction `range()` est `range(borneInf, borneSup, pas)` ou `borneInf` (facultatif) est la borne inférieure, `borneSup` est la borne supérieure, et `pas` (facultatif) est le pas à chacune des itérations. Dans l'exemple suivant :\n",
    "\n",
    "```\n",
    "for i in range(1,100,2):\n",
    "    instruction1\n",
    "    instruction2\n",
    "```\n",
    "\n",
    "le programme va **itérer** (répéter) les instructions `instruction1` et `instruction2` entre 1 et 100 avec un pas de 2. La variable `i` va donc prendre les valeurs successive : `1,3,5,7,...`\n",
    "\n",
    "Vous pouvez consulter [le TP sur les boucles de 1M](../../../1M/prog/boucles/boucles1.ipynb)"
   ]
  },
  {
   "cell_type": "markdown",
   "id": "88d2d35a-1068-46d6-9201-c353785ecef1",
   "metadata": {},
   "source": [
    "### Exercice 6 (boucles)\n",
    "\n",
    "- dans thonny, créez un nouveau fichier python appelé `boucles1.py`\n",
    "- écrivez un programme qui affiche tous les nombres multiples de 5 entre 1 et 100\n",
    "- enregistrez votre programme"
   ]
  },
  {
   "cell_type": "markdown",
   "id": "d2fd0213-6eb9-442c-8167-6006280d1e3f",
   "metadata": {},
   "source": [
    "### Exercice 7 (boucles + conditions)\n",
    "\n",
    "- dans thonny, créez un nouveau fichier python appelé `boucles2.py`\n",
    "- écrivez un programme qui :\n",
    "    1. Commence à 0\n",
    "    1. demande à l'utilisateur une borne supérieure appelée `borneSup`\n",
    "    1. affiche tous les nombres impairs entre 0 et cette borne supérieure\n",
    "- testez votre programme avec différentes entrées\n",
    "- enregistrez votre programme\n",
    "\n",
    "**Rappel** : pour vérifier qu'un nombre `A` est impair, on test le modulo de ce nombre avec `2`. Le modulo est le *reste de la division entière*. Ainsi, `3%2 = 1` alors que `4%2 = 0`. Si le modulo vaut `A%2 == 1`, alors `A` est pair.  "
   ]
  },
  {
   "cell_type": "markdown",
   "id": "270eddd5-9ae2-40cc-9a82-3e978303e83b",
   "metadata": {},
   "source": [
    "### Exercice 8 (boucles + double conditions)\n",
    "\n",
    "- dans thonny, créez un nouveau fichier python appelé `boucles3.py`\n",
    "- écrivez un programme qui :\n",
    "    1. demande à l'utilisateur s'il souhaite afficher les nombres pairs ou les nombres impairs (variable `pair` de type `bool`)\n",
    "    1. demande à l'utilisateur entre quelles bornes il les souhaite (variables `borneInf` et `borneSup`)\n",
    "    1. affiche les nombres demandés\n",
    "- testez votre programme avec différentes entrées qui vérifient toutes les possibilités conditionnelles\n",
    "- enregistrez votre programme"
   ]
  },
  {
   "cell_type": "markdown",
   "id": "9636b842-c6bc-426d-a9b7-e2eeabc4c5a8",
   "metadata": {},
   "source": [
    "## Exercice 9 (boucle while)\n",
    "\n",
    "Développer un jeu de devinettes\n",
    "\n",
    "- dans thonny, créez un nouveau fichier python appelé `boucles4.py`\n",
    "- écrivez un programme qui :\n",
    "    1. choisir un nombre à deviner `nombre`  entre `binf`et `bsup`\n",
    "    1. initialiser la tentative du joueur`tentative`\n",
    "    1. demander au joueur un nombre `tentative` compris entre `binf`et `bsup`\n",
    "        1. Le programme précise si la `tentative` proposée est plus grande ou plus petite que le nombre à devier\n",
    "        1. sortir de la boucle lorsque le joueur a trouvé le `nombre`\n",
    "\n",
    "*Facultatif :* implémentez une sortie de la boucle si le joueur écrit `-1` comme entrée de la tentative"
   ]
  },
  {
   "cell_type": "markdown",
   "id": "d4300953-310f-4ccc-a0e5-4826ded6e8b2",
   "metadata": {},
   "source": [
    "## Les listes\n",
    "\n",
    "Les **listes** sont des structures de données en Python qui permettent de stocker plusieurs variables de même type ou de types différents. Chaque élément d'une **liste** est accessible par son **index** : sa position dans le tableau de la première variable à la dernière en commençant par `0`. \n",
    "\n",
    "Plusieurs fonctions permettent de manipuler la liste. On peut :\n",
    "\n",
    "- connaître la taille d'une liste avec la fonction `len()`\n",
    "- créer une liste vide nommée `maliste` en la définissant par `maliste = []`\n",
    "- ajouter un élément à la dernière position avec la fonction `maliste.append(élément)`\n",
    "- ajouter un élément à l'index `i` avec la fonction `maliste.insert(i,élément)`\n",
    "- modifier un élément d'une liste à l'index `i` : `maliste[i] = 4`\n",
    "- supprimer le dernier élément avec la fonction `maliste.pop()`\n",
    "- supprimer l'élément `x` (s'il existe avec la fonction `maliste.remove(x)`\n",
    "- vider la liste avec la fonction `maliste.clear()`\n",
    "\n",
    "Vous pouvez consulter [le TP sur les tableaux de 1M](../../../1M/prog/tableaux/Tableaux.ipynb)"
   ]
  },
  {
   "cell_type": "markdown",
   "id": "fa14cb5d-7326-474e-9134-e69715630231",
   "metadata": {},
   "source": [
    "### Exercice 10 (listes)\n",
    "\n",
    "- dans thonny, créez un nouveau fichier python nommé `listes1.py`\n",
    "- écrivez un programme qui :\n",
    "    - définit une liste vide nommée `eleve`\n",
    "    - demande à l'utilisateur son prénom (variable `prenom`) et l'ajoute à la position `0` dans la liste `eleve`\n",
    "    - demande à l'utilisateur son nom (variable `nom`) et l'ajoute à la position `1` dans la liste `eleve`\n",
    "    - demande à l'utilisateur le nom de sa classe (variable `classe`) et l'ajoute à la position `2` dans la liste `eleve`\n",
    "    - demande à l'utilisateur son âge (variable `age`) et l'ajoute à la position `3` dans la liste `eleve`\n",
    "    - affiche tous les éléments de la liste\n",
    "- testez votre programme avec différentes entrées\n",
    "- enregistrez votre programme"
   ]
  },
  {
   "cell_type": "markdown",
   "id": "269a35a6-1837-49b4-ae7d-dc5fda9964cf",
   "metadata": {},
   "source": [
    "### Exercice 11 (listes + boucles)\n",
    "\n",
    "- dans thonny, créez un nouveau fichier python nommé `listes2.py`\n",
    "- copiez-collez **toutes les instructions** de votre programme `listes1.py`\n",
    "- modifiez le programme pour qu'il :\n",
    "    - définisse une nouvelle liste vide nommée `gymnase`\n",
    "    - demande à l'utilisateur combien il veut enregisrter d'élèves (variable `nbr`)\n",
    "    - utilise une boucle (instruction `for i in range(nbr)` pour répèter toutes les instructions du programme `listes1.py` sauf la définition de la liste vide et l'affichage des éléments de la liste\n",
    "    - affiche tous les éléments de la liste `gymnase` (aussi avec une boucle)\n",
    "- testez votre programme avec des valeurs pas trop élevées de la variable `nbr`\n",
    "- enregistrez votre programme"
   ]
  },
  {
   "cell_type": "markdown",
   "id": "6f8e789b-4b92-4ced-abe3-c946cbe1529e",
   "metadata": {},
   "source": [
    "### Exercice 12 (listes + boucles + conditions) : facultatif\n",
    "\n",
    "- dans thonny, créez un nouveau fichier python nommé `listes3.py`\n",
    "- copiez-collez **toutes les instructions** de votre programme `listes2.py`\n",
    "- modifiez le programme pour qu'il :\n",
    "    - n'affiche que les élèves de la liste `gymnase` qui :\n",
    "        1. sont mineurs\n",
    "        1. s'appellent `Caroline`\n",
    "        1. sont dans la classe `1C1`\n",
    "- testez votre programme (notamment en ajoutant des élèves qui remplissent certaines des conditions)\n",
    "- enregistrez votre programme"
   ]
  },
  {
   "cell_type": "markdown",
   "id": "ad988d7a-d575-43c5-b70a-c312941cd3e3",
   "metadata": {},
   "source": [
    "## Les fonctions\n",
    "\n",
    "Les fonctions permettent de simplifier la lecture d'un programme en regroupant les instructions et opérations répétées. On définit une fonction avec le mot-clef `def` suivi du **nom de la fonction** avec ses éventuels **arguments** (facultatifs):\n",
    "\n",
    "```\n",
    "def maFonction(age):\n",
    "    print('mon âge est de '+str(age)+ ' ans')\n",
    "```\n",
    "\n",
    "est une fonction qui s'appelle au sein du programme par :\n",
    "\n",
    "```\n",
    "maFonction(15)\n",
    "```\n",
    "et va afficher :\n",
    "\n",
    "```\n",
    "mon âge est de 15 ans\n",
    "```\n",
    "\n",
    "Vous pouvez consulter [le TP sur les fonctions de 1M](../../../1M/prog/intro2/intro2.ipynb)"
   ]
  },
  {
   "cell_type": "markdown",
   "id": "5abc439d-9d99-4838-8f15-63e731f45899",
   "metadata": {},
   "source": [
    "### Exercice 13 (fonctions)\n",
    "\n",
    "- dans thonny, créez un nouveau fichier nommé `fonctions1.py`\n",
    "- écrivez un programme qui :\n",
    "    - comporte une fonction nommée `temp()` avec 1 argument (variable `temp`)\n",
    "    - demande à l'utilisateur la température extérieure (variable `temperature`)\n",
    "    - affiche la température extérieure sous la forme `Aujourd'hui, il fait temperature °C`\n",
    "- testez votre programme avec différentes valeurs\n",
    "- enregisrez votre programme"
   ]
  },
  {
   "cell_type": "markdown",
   "id": "0c6b7245-dda6-4b4c-9a1a-f629600c20ea",
   "metadata": {},
   "source": [
    "### Exercice 14 (fonctions + conditions)\n",
    "\n",
    "- dans thonny, créez un nouveau fichier nommé `fonctions2.py`\n",
    "- copiez-collez toutes les instructions de votre programme `fonctions1.py`\n",
    "- modifiez votre programme en ajoutant une nouvelle fonction nommée `canicule()` avec 1 argument `temp` :\n",
    "    - demande à l'utilisateur la température extérieure (variable `temperature`)\n",
    "    - affiche un message sous la forme `Aujourd'hui est une journée caniculaire` si la température est supérieure à `30` degrés. Affiche la température telle quelle si au-dessous.\n",
    "- testez votre programme avec différentes valeurs\n",
    "- enregistrez votre programme"
   ]
  }
 ],
 "metadata": {
  "kernelspec": {
   "display_name": "Python 3 (ipykernel)",
   "language": "python",
   "name": "python3"
  },
  "language_info": {
   "codemirror_mode": {
    "name": "ipython",
    "version": 3
   },
   "file_extension": ".py",
   "mimetype": "text/x-python",
   "name": "python",
   "nbconvert_exporter": "python",
   "pygments_lexer": "ipython3",
   "version": "3.9.2"
  }
 },
 "nbformat": 4,
 "nbformat_minor": 5
}
