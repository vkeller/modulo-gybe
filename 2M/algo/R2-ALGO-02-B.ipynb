{
 "cells": [
  {
   "cell_type": "markdown",
   "id": "6f39db16-e274-44a2-b5a2-63c5f7b9d20d",
   "metadata": {},
   "source": [
    "![jass](images/jass.jpg \"jeu de jass\")\n",
    "\n",
    "# R2-ALGO-02-B : Révision (Tri)"
   ]
  },
  {
   "cell_type": "markdown",
   "id": "2fde5713-0ecb-4a8f-b53b-618c0e9971a6",
   "metadata": {},
   "source": [
    "## Objectifs pédagogiques\n",
    "\n",
    "- mettre en action les différents algorithmes de tri avec des cartes\n",
    "- formaliser certains algorithmes en algorigrammes\n",
    "- reconnaître le nombre d'étapes nécessaires"
   ]
  },
  {
   "cell_type": "markdown",
   "id": "a3ce5003-ce89-4fe3-beff-0e9a8fb2182e",
   "metadata": {},
   "source": [
    "## Exercice 1 (trier les cartes)\n",
    "\n",
    "- mélangez vos 9 cartes\n",
    "- placez-les sur la table devant vous **face cachée**\n",
    "- trouvez une méthode (un algorithme) pour trier les cartes de la **plus petite** à la **plus grande**\n",
    "- comptez le nombre d'étapes (d'instructions) pour y arriver\n",
    "- **ATTENTION : vous ne pouvez avoir plus de DEUX cartes retournées SIMULTANÉMENT**\n",
    "- dessinez l'algorigramme correspondant à votre algorithme\n",
    "\n",
    "La méthode doit être régulière, c'est-à-dire que les *coups* (les instructions) possibles sont :\n",
    "   - échanger deux cartes\n",
    "   - déplacer une carte\n",
    "   - comparer deux cartes"
   ]
  },
  {
   "cell_type": "markdown",
   "id": "aa1096d1-f9ba-4c61-b44a-1fc61151d34c",
   "metadata": {},
   "source": [
    "## Exercice 2 (recherche dans une liste triée)\n",
    "\n",
    "- Une fois que la liste est triée, trouvez une méthode (un algorithme) qui recherche (et trouve) la **plus haute** carte."
   ]
  },
  {
   "cell_type": "markdown",
   "id": "f95c5b2f-29c3-4687-9ce5-97e75cf38dbc",
   "metadata": {},
   "source": [
    "## Tri à bulles\n",
    "\n",
    "L'algorithme parcourt le tableau et compare les éléments consécutifs. Lorsque deux éléments consécutifs ne sont pas dans l'ordre, ils sont permutés.\n",
    "\n",
    "Après un premier parcours complet du tableau, le plus grand élément est forcément en fin de tableau, à sa position définitive. En effet, aussitôt que le plus grand élément est rencontré durant le parcours, il est mal trié par rapport à tous les éléments suivants, donc permuté avec le suivant jusqu'à arriver à la fin du parcours.\n",
    "\n",
    "Après le premier parcours, le plus grand élément étant à sa position définitive, il n'a plus à être traité. Le reste du tableau est en revanche encore en désordre. Il faut donc le parcourir à nouveau, en s'arrêtant à l'avant-dernier élément. Après ce deuxième parcours, les deux plus grands éléments sont à leur position définitive. \n",
    "\n",
    "Il faut donc répéter les parcours du tableau, jusqu'à ce que les deux plus petits éléments soient placés à leur position définitive.\n",
    "\n",
    "[Lien sur une vidéo youtube](www.youtube.com/watch?v=ROalU379l3U)"
   ]
  },
  {
   "cell_type": "markdown",
   "id": "a8be416e-f291-44f5-b1c9-1fca1783c6c8",
   "metadata": {},
   "source": [
    "## Tri sélection\n",
    "\n",
    "Le principe du tri par sélection est le suivant : \n",
    "\n",
    "- Rechercher le plus petit élément de la liste, et l'échanger avec l'élément d'indice 0 (le premier) ; \n",
    "- Rechercher le second plus petit élément du reste de la liste, et l'échanger avec l'élément d'indice 1 (le second) ; \n",
    "- Continuer de cette façon jusqu'à ce que le tableau soit entièrement trié. \n",
    "\n",
    "À tout moment, la liste d’éléments déjà parcourus (jusqu’à l’élément que l’on considère à un moment donné) est toujours bien triée. \n",
    "\n",
    "[Lien sur une vidéo](www.youtube.com/watch?v=ROalU379l3U)"
   ]
  },
  {
   "cell_type": "markdown",
   "id": "40ad7a6a-3e71-44dd-8ef8-8c0f58e155fa",
   "metadata": {},
   "source": [
    "## Tri insertion\n",
    "\n",
    "Le principe du tri par insertion est le suivant : \n",
    " \n",
    "On parcourt la liste d’éléments à trier du deuxième au dernier élément.\n",
    "Pour chaque nouvel élément considéré:\n",
    "\n",
    "- On l’insère à l’emplacement correct dans la liste \n",
    "- Et on décale tous les nombres plus grands d'une case vers la droite.\n",
    "\n",
    "À tout moment, la liste d’éléments déjà parcourus (jusqu’à l’élément que l’on considère à un moment donné) est toujours bien triée. \n",
    "\n",
    "[Lien sur une vidéo youtube](www.youtube.com/watch?v=ROalU379l3U)"
   ]
  },
  {
   "cell_type": "markdown",
   "id": "da96271f-daea-463d-a1bf-b06c9b51677a",
   "metadata": {},
   "source": [
    "## Tri fusion\n",
    "\n",
    "Ce tri est basé sur la technique algorithmique diviser pour régner. On commence par subdiviser la liste en listes de plus en plus petites. On obtient des listes de taille 1 (un seul élément dans chaque liste)\n",
    "\n",
    "- On fusionne les listes, ce qui consiste à réunir deux listes triées en une seule.\n",
    "- On continue jusqu'à ce qu'on obtienne une seule liste.\n",
    "\n",
    "L'efficacité de l'algorithme vient du fait que deux listes triées peuvent être fusionnées en temps linéaire (c’est-à-dire un temps proportionnel à la taille des deux listes)\n",
    "\n",
    "[Lien sur une vidéo youtube](www.youtube.com/watch?v=ROalU379l3U)"
   ]
  },
  {
   "cell_type": "markdown",
   "id": "e06fca67-d9aa-4324-9d85-36afb10883e6",
   "metadata": {
    "tags": []
   },
   "source": [
    "## Définition : mesure\n",
    "\n",
    "une **mesure** est l'action d'évaluer une grandeur d'après son rapport avec une grandeur de même espèce, prise comme unité et comme référence.\n",
    "\n",
    "[source](https://www.larousse.fr/dictionnaires/francais/mesure/50791)"
   ]
  },
  {
   "cell_type": "markdown",
   "id": "03892e74-c0a4-4116-b3c4-7266abc73110",
   "metadata": {},
   "source": [
    "## Exercice 3 (comparaison des méthodes)\n",
    "\n",
    "Pour pouvoir comparer les méthodes (les algorithmes), il faut une **mesure**. Dans le cas des différents algorithmes de tri, nous choisissons le **nombre de comparaisons** entre deux cartes entre l'état `0` (lorsque les cartes sont mélangées jusqu'à l'état `1` (lorsque les cartes sont totalement triées).\n",
    "\n",
    "**Par groupes** remplissez le tableau suivant :\n",
    "\n",
    "| algorithme  | Nbr de comparaisons  |\n",
    "|---|---|\n",
    "| Tri à bulles  |   |\n",
    "| Tri sélection  |   |\n",
    "| Tri insertion  |   |\n",
    "| Tri fusion  |   |\n",
    "\n",
    "- un élève compte le nombre de comparaisons\n",
    "- l'autre élève compatiblise à chaque étape et note la somme finale dans le tableau"
   ]
  },
  {
   "cell_type": "markdown",
   "id": "89360338-2575-4892-a9bb-c8d429c9c364",
   "metadata": {},
   "source": [
    "## Simulateur en ligne\n",
    "\n",
    "[Lien vers la simulation visuelle de l'efficacité des algorithmes de tri](https://www.toptal.com/developers/sorting-algorithms)"
   ]
  },
  {
   "cell_type": "code",
   "execution_count": null,
   "id": "ea093ff8-1f94-460d-b5e0-b4edcc301a2c",
   "metadata": {},
   "outputs": [],
   "source": []
  }
 ],
 "metadata": {
  "kernelspec": {
   "display_name": "Python 3 (ipykernel)",
   "language": "python",
   "name": "python3"
  },
  "language_info": {
   "codemirror_mode": {
    "name": "ipython",
    "version": 3
   },
   "file_extension": ".py",
   "mimetype": "text/x-python",
   "name": "python",
   "nbconvert_exporter": "python",
   "pygments_lexer": "ipython3",
   "version": "3.11.2"
  }
 },
 "nbformat": 4,
 "nbformat_minor": 5
}
