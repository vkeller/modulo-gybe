{
 "cells": [
  {
   "cell_type": "markdown",
   "id": "d76859b6-1052-4741-85e1-0465a1a2ddef",
   "metadata": {},
   "source": [
    "![complexity-algos](images/complexity.png \"Complexité\")\n",
    "\n",
    "# C2-ALGO-02 : Complexité des algorithmes"
   ]
  },
  {
   "cell_type": "markdown",
   "id": "3641c6d6-d15c-4e4f-a7f7-9871a41f24ce",
   "metadata": {},
   "source": [
    "## Objectifs pédagogiques\n",
    "\n",
    "- Aborder les concepts de *meilleur des cas*, *pire des cas* et *cas moyen* lorsqu'on parle de complexité des algorithmes\n",
    "- mettre en évidence la complexité de certains algorithmes classiques"
   ]
  },
  {
   "cell_type": "markdown",
   "id": "f1fef176-dd14-4fba-b692-da335d407c92",
   "metadata": {},
   "source": [
    "## Définition : Complexité en temps\n",
    "\n",
    "La **complexité en temps** est une mesure du temps que prend un algorithme pour exécuter un certain **nombre d'opérations** en fonction de la **taille de l'entrée** de l'algorithme. \n",
    "\n",
    "La complexité en temps de l'algorithme est donc :\n",
    "\n",
    "- indépendante du langage de programmation dans lequel l'algorithme est écrit\n",
    "- indépendante de la plateforme sur laquelle le programme est exécuté\n",
    "\n",
    "**Par souci de simplicité** nous assumerons dans la suite de ce cours que chaque opération *coûte* le même temps. Ainsi une addition, une multiplication, une affectation, un test conditionnel, etc... coûtent toutes et tous $1$\n",
    "\n",
    "Cette complexité s'exprime par son **comportement asymptotique** et on utilise pour se faire la **notation Grand O** notée $\\mathcal O$"
   ]
  },
  {
   "cell_type": "markdown",
   "id": "734eb39c-071c-4ad8-acd9-70546e4cf0d4",
   "metadata": {},
   "source": [
    "## Défintion : Comportement asymptotique\n",
    "\n",
    "En **mathématiques**, la **comparaison asymptotique** est une méthode qui étudie la vitesse de croissance (ou de décroissance) d'une fonction $f(n)$. \n",
    "\n",
    "Une **asymptote** est une **droite** dont une **courbe** s'approche sans jamais l'atteindre. \n",
    "\n",
    "L'analyse du **comportement asymptotique** consiste donc à trouver une fonction $g(n)$ qui exprimerait le comportement de la fonction $f(n)$ lorsque **n tend vers l'infini**. On dit alors que la fonction $f(n)$ est **bornée asymptotiquement** par la fonction $g(n)$ à un facteur près.\n",
    "\n",
    "La notation devient : $f(n) = \\mathcal O (g(n))$"
   ]
  },
  {
   "cell_type": "markdown",
   "id": "ef2a1ec8-2272-4953-84e8-c7e9bc3e581e",
   "metadata": {},
   "source": [
    "### Définition exacte mathématique\n",
    "\n",
    "La définition rigoreuse mathématique sera explicitée dans un cours de mathématiques. Dans le cadre du cours d'informatique, la recherche du comportement asymptotique se résumera à la recherche - empirique ou non - de la fonction $g(n)$ qui permet de décrire le comportement de l'algorithme **dans le pire des cas**"
   ]
  },
  {
   "cell_type": "markdown",
   "id": "36c79261-5009-49c9-ab96-53de4bcbdbe2",
   "metadata": {},
   "source": [
    "### Exemple\n",
    "\n",
    "Le graphique suivant décrit la fonction $f(x) = 1 + \\frac{4 (x^2 -1)}{x^4}$ (courbe rouge) et la droite asymptotique $g(x) = 1$ (droite verte). On peut montrer avec l'analyse mathématique que lorsque $n \\to \\infty$ alors la fonction $f(x)$ tend vers $1$, On l'écrit par la formule : $\\lim_{x \\to \\infty} f(x) = 1$\n",
    "\n",
    "![asymptote](images/asymptote.png \"asymptote\")"
   ]
  },
  {
   "cell_type": "markdown",
   "id": "91face2d-1e56-4c6a-89e4-c933a255ee14",
   "metadata": {},
   "source": [
    "## Approches classiques \n",
    "\n",
    "Pour trouver la complexité asymptotique des algorithmes, nous nous baserons sur trois approches classiques :\n",
    "\n",
    "1. Le meilleur des cas\n",
    "1. Le pire des cas\n",
    "1. Le cas moyen\n",
    "\n"
   ]
  },
  {
   "cell_type": "markdown",
   "id": "bd885024-6882-422c-8ce3-1712698da77d",
   "metadata": {},
   "source": [
    "### Le meilleur des cas\n",
    "\n",
    "L'approche de la complexité **dans le meilleur des cas** (ou **le cas le plus favorable**) mesure le temps passé par un algorithme lorsque les données d'entrées sont dans le meilleur cas possible.\n",
    "\n",
    "**Exemple :** Dans le cas de la recherche linéaire dans une liste triée, le meilleur des cas se rencontre lorsque l'élément à trouver est localisé à la première position."
   ]
  },
  {
   "cell_type": "markdown",
   "id": "d9b0290e-81ca-4a42-bc91-15623d5b8875",
   "metadata": {},
   "source": [
    "### Le pire des cas\n",
    "\n",
    "L'approche de la complexité **dans le pire des cas** (ou le **cas le plus défavorable**) mesure le temps passé par un algorithme lorsque les données d'entrées se trouvent dans le pire des cas possibles.\n",
    "\n",
    "**Exemple :** Dans le cas de la recherche linéaire dans une liste triée, le pire des cas se rencontre lorsque l'élément à trouver est localisé à la dernière position."
   ]
  },
  {
   "cell_type": "markdown",
   "id": "28e16763-6616-439b-b126-c676130c8c74",
   "metadata": {},
   "source": [
    "### Le cas moyen\n",
    "\n",
    "L'approche de la complexité **dans le cas moyen** mesure le temps passé par un algorithme lorsque les données d'entrées suivent une **distribution** donnée (généralement une distribution uniforme). \n",
    "\n",
    "L'objet mathématique **distribution** et son analyse dépassent largement le cadre de ce cours d'informatique. Une approche empirique consiste à exprimer les données d'entrée de l'algorithme comme une prise en compte de tous les cas possibles selon leur probabilité. Par exemple, on sait que si on tire 6000 fois un dé équilibré, la chance de tomber sur un $1$ avoisine les $\\frac{1}{6}$ et donc que sur les 6000 tirs, environ 1000 montreront un 1.\n",
    "\n",
    "**Exemple :** Dans le cas de la recherche linéaire dans une liste triée, le cas moyen sera celui où l'élément recherché se trouvera à la moitié de la liste."
   ]
  },
  {
   "cell_type": "markdown",
   "id": "b70643b0-040d-43ef-b40d-667cdc624381",
   "metadata": {},
   "source": [
    "## Complexité\n",
    "\n",
    "| Complexité $\\mathcal O$  | Type  |\n",
    "| :---: | :---: |\n",
    "| $\\mathcal O(1)$  | constante  |\n",
    "| $\\mathcal O(log(n))$  | logarithmique  |\n",
    "| $\\mathcal O(n)$  | linéaire  |\n",
    "| $\\mathcal O(n log_2(n))$  | linéarithmique  |\n",
    "| $\\mathcal O(n^2)$  | quadratique  |\n",
    "| $\\mathcal O(n^3)$  | cubique  |\n",
    "| $\\mathcal O(2^n)$  | exponentiel  |\n",
    "| $\\mathcal O(n!)$  | factoriel  |\n"
   ]
  },
  {
   "cell_type": "markdown",
   "id": "6bf82883-8d90-4667-b545-740db2511366",
   "metadata": {},
   "source": [
    "## Exemples de complexité pour certains algorithmes\n",
    "\n",
    "| Algorithme  | meilleur des cas  | pire des cas  | cas moyen  |\n",
    "| :------- | :-------: | :-------: | :-------: |\n",
    "| Recherche linéaire | $\\mathcal O(1)$  | $\\mathcal O(n)$ | $\\mathcal O(n)$ |\n",
    "| Recherche dichotomique | $\\mathcal O(1)$ | $\\mathcal O(log_2(n))$ | $\\mathcal O(log_2(n))$ |\n",
    "| Tri à bulles  | $\\mathcal O(n)$ | $\\mathcal O(n^2)$ | $\\mathcal O(n^2)$ |\n",
    "| Tri sélection  | $\\mathcal O(n^2)$ | $\\mathcal O(n^2)$ | $\\mathcal O(n^2)$ |\n",
    "| Tri fusion  | $\\mathcal O(n~log_2(n))$ | $\\mathcal O(n~log_2(n))$ | $\\mathcal O(n~log_2(n))$ |"
   ]
  },
  {
   "cell_type": "markdown",
   "id": "f95c305a-678c-4a94-bec9-df46f9e8e602",
   "metadata": {},
   "source": [
    "## Classes de complexité\n",
    "\n",
    "Une **classe de complexité** est un ensemble qui regroupe tous les programmes de même complexité. Les plus connues sont les classes `P` et `NP`\n",
    "\n",
    "La grande différence réside dans la dualité : **résolution** (résoudre le problème avec l'algorithme) et **vérification** (vérifier qu'une solution est correcte).\n",
    "\n",
    "### Classe `P`\n",
    "\n",
    "Un problème se trouve dans la classe `P` s'il existe un algorithme de complexité *polynomial* par rapport à la taille de l'entrée `N` et qu'il est facile de vérifier qu'une solution en est une. \n",
    "\n",
    "### Classe `NP`\n",
    "\n",
    "Un problème se trouve dans la classe `NP` s'il existe un algorithme de complexité *polynomial* par rapport à la taille de l'entrée `N` et qu'il est difficile de vérifier qu'une solution en est une. \n"
   ]
  },
  {
   "cell_type": "markdown",
   "id": "7caa14f9-1411-4655-a305-bf7089581741",
   "metadata": {},
   "source": [
    "## Exercices\n",
    "\n",
    "Pour chacun des algorithmes suivants, calculez la complexité temporelle dans le meilleur des cas, dans le pire des cas et dans le cas moyen.\n",
    "\n",
    "On commence par des programmes en Python"
   ]
  },
  {
   "cell_type": "code",
   "execution_count": 4,
   "id": "893231ea-72de-41b4-8955-949744a320fc",
   "metadata": {},
   "outputs": [],
   "source": [
    "def sommeEntiers(n):\n",
    "    somme = 0\n",
    "    for i in range(n+1):\n",
    "        somme += i\n",
    "    return somme\n",
    "p = sommeEntiers(10)"
   ]
  },
  {
   "cell_type": "code",
   "execution_count": 5,
   "id": "3669fa85-b347-494f-9a6c-ccd9634bba45",
   "metadata": {},
   "outputs": [],
   "source": [
    "n = 100\n",
    "s = 0\n",
    "for i in range(n):\n",
    "   a = i\n",
    "   while a > 1:\n",
    "      a = a/2\n",
    "   s = s + 1"
   ]
  },
  {
   "cell_type": "markdown",
   "id": "6c857f6f-12df-4f88-91e8-1cd8d1866815",
   "metadata": {},
   "source": [
    "Voici un algorigramme représentant un algorithme de recherche:\n",
    "\n",
    "![linear](../prog/complexite/algorigrammes/RechercheLineaire.png \"Recherche linéaire\")"
   ]
  },
  {
   "cell_type": "markdown",
   "id": "e38df455-cb0b-4bf2-8cee-4fa16d045dd0",
   "metadata": {},
   "source": [
    "## Correction des exercices"
   ]
  },
  {
   "cell_type": "markdown",
   "id": "5b9cb57c-796c-48f9-8e5a-5c75eabf44f4",
   "metadata": {},
   "source": [
    "Le programme \n",
    "\n",
    "```\n",
    "def sommeEntiers(n):\n",
    "    somme = 0\n",
    "    for i in range(n+1):\n",
    "        somme += i\n",
    "    return somme\n",
    "p = sommeEntiers(10)\n",
    "```\n",
    "calcule la somme de tous les entiers entre `0` et `n`. Il s'agit d'une boucle simple. La classe de complexité de cet algorithme est $\\mathcal O (N)$"
   ]
  },
  {
   "cell_type": "markdown",
   "id": "6b5ae2e4-e3a5-4fb7-a049-bdbb42f1c5e2",
   "metadata": {},
   "source": [
    "Le programme \n",
    "\n",
    "```\n",
    "n = 100\n",
    "s = 0\n",
    "for i in range(n):\n",
    "   a = i\n",
    "   while a > 1:\n",
    "      a = a/2\n",
    "   s = s + 1\n",
    "```\n",
    "se compose de deux boucles imbriquées : une boucle `for` sur l'itérateur `i` et une boucle `while` sur l'itérateur `a`. La classe de complexité de cet algorithme est $\\mathcal O (N^2)$"
   ]
  },
  {
   "cell_type": "markdown",
   "id": "52e6735b-137f-402c-b4d1-3da89b615e9b",
   "metadata": {},
   "source": [
    "L'algorigramme de recherche présente une **recherche linéaire dans une liste triée**. Il n'y a qu'une boucle (sur les éléments triés). La classe de complexité de cet algorithme est donc $\\mathcal O (N^2)$"
   ]
  },
  {
   "cell_type": "code",
   "execution_count": null,
   "id": "906a64c7-b84c-4181-af77-0144a3b2c4e5",
   "metadata": {},
   "outputs": [],
   "source": []
  }
 ],
 "metadata": {
  "kernelspec": {
   "display_name": "Python 3 (ipykernel)",
   "language": "python",
   "name": "python3"
  },
  "language_info": {
   "codemirror_mode": {
    "name": "ipython",
    "version": 3
   },
   "file_extension": ".py",
   "mimetype": "text/x-python",
   "name": "python",
   "nbconvert_exporter": "python",
   "pygments_lexer": "ipython3",
   "version": "3.11.2"
  }
 },
 "nbformat": 4,
 "nbformat_minor": 5
}
