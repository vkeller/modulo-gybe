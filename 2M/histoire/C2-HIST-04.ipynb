{
 "cells": [
  {
   "cell_type": "markdown",
   "id": "07d32c1b-16de-489a-aa85-6fbf8b63f0c8",
   "metadata": {},
   "source": [
    "![applications](images/application.png \"Applications\")\n",
    "\n",
    "# C2-HIST-04 : Histoire des logiciels (la couche applicative)"
   ]
  },
  {
   "cell_type": "markdown",
   "id": "69a8c46a-5d6b-4d8d-b9db-bed005cb514d",
   "metadata": {},
   "source": [
    "## Objectifs pédagogiques\n",
    "\n",
    "- connaitre les différents langages de programmation majeurs \n",
    "- mettre en perspective l'histoire du matériel et son adoption par le grand public\n",
    "    - avec les logiciels à disposition\n",
    "    - avec les deux grands types de licences (libres et privatives)\n",
    "- connaître la sous-culture hacker et ses origines"
   ]
  },
  {
   "cell_type": "markdown",
   "id": "33c9c8b8-7b74-4fce-9680-8f7ad0898d3d",
   "metadata": {},
   "source": [
    "## La couche applicative\n",
    "\n",
    "Au-dessus du système d'exploitation se trouve la (ou les) couche applicative. Dans le cadre de ce cours, nous nous concentrerons sur l'application elle-même."
   ]
  },
  {
   "cell_type": "markdown",
   "id": "d53770c3-7b74-46f5-a7c5-0c571fddc22f",
   "metadata": {},
   "source": [
    "## Avant les langages de programmation\n",
    "\n",
    "Avant les langages de programmation, les programmes étaient mis en oeuvre dans les ordinateurs par câblage sur la console. Aucun des premiers systèmes n'était capable de programmer de façon *générique*.\n",
    "\n",
    "Il est difficile de dire quel a été le premier programme de tous les temps comme il est difficile de dire quel est le premier ordinateur. Plusieurs équipes dans le monde ont travaillé en parallèle pour résoudre des problèmes différents.\n",
    "\n",
    "### Manchester Baby\n",
    "\n",
    "Le premier programme historiquement (en terme de date) a été écrit sur le [Manchester baby](https://en.wikipedia.org/wiki/Manchester_Baby) en 1948, un ordinateur expérimental qui possédait un processeur à 7 instructions. \n",
    "\n",
    "Le programme faisait 17 lignes :\n",
    "\n",
    "![man-baby-prog](images/manchester-baby-program.jpg \"premier programme baby manchester\")\n",
    "\n",
    "dont l'algorigramme est le suivant :\n",
    "\n",
    "![man-baby-algo](images/manchester-baby-program-algorigramme.png \"algorigramme du premier programme\")\n",
    "\n",
    "Ce programme ne servait à pas grand chose. Il lui a fallu 52 minutes pour calculer la plus grande valeur de $2^18$, [un résultat connu de tous](https://computerhistory.org/blog/programming-the-eniac-an-example-of-why-computer-history-is-hard/).\n",
    "\n",
    "### ENIAC\n",
    "\n",
    "Quelques mois après le premier programme sur le Manchester Baby, les programmeuses (et programmeurs) de l'ENIAC on réussi à écrire un programme sur l'ENIAC. Ce programme a permis d'obtenir un résultat jusque là inconnu : une simultation de désintégration de neutrons lors d'une fission nucléaire. "
   ]
  },
  {
   "cell_type": "markdown",
   "id": "ff8e882c-3bd0-4bd4-8664-9e1302feaf82",
   "metadata": {},
   "source": [
    "## Les langages de programmation\n",
    "\n",
    "Dès l'apparition des premiers **système d'exploitation** aux premiers **logiciels** en passant par les diverses **bibliothèques de fonctions** (**modules** sous Python) il y a un (ou des) langage de programmation.\n",
    "\n",
    "Quelques dates et langages :\n",
    "\n",
    "- Avant 1950 : aucun langage (à l'exception de [short code](https://en.wikipedia.org/wiki/Short_Code_(computer_language)), un langage plus évolué que le langage machine en 1949)\n",
    "- 1954 : **FORTRAN** inventé par **John Backus**. Ce langage (*FORmula TRANslator*) est encore largement utilisé aujourd'hui dans les applications scientifiques\n",
    "- 1970 : **C** inventé par **Ken Thompson** et **Dennis Ritchie** pour programmer **UNIX**\n",
    "- 1975 : **SmallTalk** est le premier langage **orienté objet**\n",
    "- 1978 : **SQL** qui n'est pas un langage de programmation à proprement parler mais fondamental pour accéder aux bases de données relationnelles\n",
    "- 1983 : **C++** : un langage proche de C dans sa syntaxe mais totalement orienté objets. \n",
    "- 1991 : **Python**\n",
    "- 1995 : **Java**\n",
    "- 1995 : **PHP** qui est le principal langage de programmation pour les sites internet\n",
    "\n"
   ]
  },
  {
   "cell_type": "markdown",
   "id": "8c825772-d3dc-4fe1-ba10-50ef5b2a0e9f",
   "metadata": {},
   "source": [
    "## Programmes sur cartes perforées\n",
    "\n",
    "Le langage de programmation permet d'écrire un programme complet et de le charger dans l'ordinateur qui se chargera de transformer les instructions du langages en instructions machines (bits) compréhensibles par les composants électroniques de l'ordinateur.\n",
    "\n",
    "Pour le passage du programme écrit dans un langage de programmation vers l'ordinateur, on a tout d'abord utilisé des **cartes perforées** à l'image du métier Jaccard. \n",
    "\n",
    "![punched-card](images/punched-card.jpg \"une carte perforée\")\n",
    "\n",
    "Le principe est extrêmement simple : chaque ligne du programme est écrite par une opératrice ou un opérateur sur une machine appelée **perforatrice** qui traduit l'instruction du langage en *trous* dans la carte. La position du trou correspond à un bit à 1. \n",
    "\n",
    "![perforatrice](images/IBM_029.jpg \"perforatrice IBM 029\")\n",
    "\n",
    "Un programme complet était donc un paquet de cartes appelé **batch**\n",
    "\n",
    "![batch](images/batch-punched-cards.jpg \"batch cartes perforées\")\n",
    "\n",
    "La carte était ensuite lue par un appareil connecté à l'ordinateur afin de stocker le programme dans la mémoire. Le système de cartes perforées est resté en fonction jusque dans les années 1980 lorsque des systèmes de stockage plus performants (cassettes, disquettes et disques durs) sont arrivés sur le marché"
   ]
  },
  {
   "cell_type": "markdown",
   "id": "0cc58019-00bf-40ae-b1f4-a1f69557d198",
   "metadata": {},
   "source": [
    "## Les premiers programmes vendus\n",
    "\n",
    "Les années 1970 voient l'arrivée des **micro-ordinateurs** (à l'opposé des **mainframes** gigantesques) que le grand public a pu acquérir pour plusieurs dizaines de milliers de dollars. Ils n'étaient pas dotés de lecteurs de cartes perforées mais de lecteurs de cassettes pour le stockage de masse. \n",
    "\n",
    "Parmis les premiers programmes vendus, on peut citer [Microchess](https://benlo.com/microchess/index.html), développé par Peter Jennings en 1976. Le programme était envoyé sous la forme du **code source** que l'acheteur devait intégralement réécrire. \n",
    "\n",
    "C'est aussi à cette époque que les premières grandes entreprises de développement logiciel sont apparues. Notamment [Microsoft](https://www.microsoft.com)"
   ]
  },
  {
   "cell_type": "markdown",
   "id": "37f78a42-f394-4d27-be10-2ada6a1ab162",
   "metadata": {},
   "source": [
    "## La culture hacker\n",
    "\n",
    "Pour bien comprendre la naissance des logiciels libres, il faut comprendre la culture hacker des années 60 à la fin des années 1980 (voir Levy). \n",
    "\n",
    "La culture hacker est née en 1961 au **club de modélisme ferroviaire** du [Massachusett's Institude of Technology (MIT)](https://tmrc.mit.edu/) dont le noyau dur des membres ont été à l'origine de la création du laboratoire leader mondial de l'intelligence artificielle au début des années 1980 : le [MIT's Artificial Intelligence Laboratory](https://www.csail.mit.edu/).\n",
    "\n",
    "La **culture hacker** peut être définie comme une sous-culture (culture d'un groupe social déterminé et fini, par opposé à la définition de la *culture*) regrouppant des personnes **qui se délectent de comprendre de façon approfondie le fonctionnement interne d'un système, en particulier un système informatique** (wikipedia). \n",
    "\n",
    "### Ethique hacker\n",
    "\n",
    "- toute information est par nature libre ;\n",
    "- ne pas se fier à l'autorité, promouvoir la décentralisation ;\n",
    "- les hackers peuvent se juger par leurs prouesses, non par d'autres hiérarchies sociales (ce qui permettra à un jeune prodige d'une dizaine d'années de rejoindre le groupe) ;\n",
    "- art et beauté peuvent être créés avec un ordinateur ;\n",
    "- les ordinateurs peuvent changer et améliorer la vie.\n",
    "\n",
    "(librement traduit par [wikipedia](https://fr.wikipedia.org/wiki/Hacker_(sous-culture)) de l'article original de Steven Levy\n",
    "\n",
    "### Richard Stallman\n",
    "\n",
    "Richard Stallman, pape de la culture hacker a cette jolie phrase :\n",
    "\n",
    "> What they had in common was mainly love of excellence and programming. They wanted to make their programs that they used be as good as they could. They also wanted to make them do neat things. They wanted to be able to do something in a more exciting way than anyone believed possible and show \"Look how wonderful this is. I bet you didn't believe this could be done.\n",
    "\n",
    "C'est dans ce monde que sont né les premiers logiciels libres. Parmi eux, on peut citer :\n",
    "\n",
    "- EMACS (éditeur de code informatique comme Thonny)\n",
    "- LISP (un langage de programmation permettant de fiare de l'IA)\n",
    "- Le [projet GNU](https://www.gnu.org/gnu/thegnuproject.fr.html) et la [Free Software Foundation](https://www.fsf.org/)\n",
    "- Linux (dans ses premières versions) ainsi que tous les **logiciels système** qui sont toujours utilisés aujourd'hui"
   ]
  },
  {
   "cell_type": "markdown",
   "id": "96a4cc5d-49ae-4a00-9aa6-8a8ddd4ab66e",
   "metadata": {},
   "source": [
    "## Les logiciels libres (OSS)\n",
    "\n",
    "![gnu](images/GNU.png \"Le GNU\")\n",
    "\n",
    "Les premiers programmes étaient en sources ouvertes. Ils étaient mêmes propres au **domaine public** (sans licences). Ils n'étaient pas encore des logiciels libres\n",
    "\n",
    "Parmi les logiciels **vendus**, Il y avait plusieurs raisons à cela :\n",
    "\n",
    "1. la diversité des architectures matérielles forçaient à avoir un logiciel générique qui pouvait être **modifié par l'utilisateur final**\n",
    "1. aucune norme sur un média générique pour transmettre le logiciel\n",
    "\n",
    "### Caractéristiques des logiciels libres\n",
    "\n",
    "Il existe plusieurs définitions des logiciels libres. Dans le cadre de ce cours, nous prendrons celle de la Free Software Foundation:\n",
    "\n",
    "1. la liberté d'exécuter le programme, pour tous les usages ;\n",
    "1. la liberté d'étudier le fonctionnement du programme et de l'adapter à ses besoins ;\n",
    "1. la liberté de redistribuer des copies du programme (ce qui implique la possibilité aussi bien de donner que de vendre des copies) ;\n",
    "1. la liberté d'améliorer le programme et de distribuer ces améliorations au public, pour en faire profiter toute la communauté.\n",
    "\n",
    "La connaissance et la distribution du code source est **une condition sine qua non**.\n",
    "\n",
    "### Le *copyleft* et les licences libres\n",
    "\n",
    "Evidemment, on peut imaginer que disposant du code source dans le domaine public, il est aisé pour des industriels de s'emparer de la technologie dont ils ne sont pas les **auteurs**. \n",
    "\n",
    "De ce constat a émergé l'idée de **copyleft** (opposé à l'idée de **copyright** dont le logo est toujours utilisé aujourd'hui :\n",
    "\n",
    "![copyleft](images/copyleft.png \"Copyleft\")\n",
    "\n",
    "Sont donc apparues des licences dites *libres* qui protègent le logiciel lbre en tant que tel. Il existe évidemment des nuances dans chacune de ces licences. Parmi elles, citons :\n",
    "\n",
    "1. La GPL (GNU *General Public Licence*)\n",
    "1. BSD licence\n",
    "\n",
    "il existe une [liste complète liée à une comparaison des éléments protégés](https://en.wikipedia.org/wiki/Comparison_of_free_and_open-source_software_licenses) sur Wikipedia."
   ]
  },
  {
   "cell_type": "markdown",
   "id": "0a0a2d49-c740-4e9c-83ec-9150741574ec",
   "metadata": {},
   "source": [
    "## Les programmes propriétaires (privatifs)\n",
    "\n",
    "Paul Allen et Bill Gates, fondateur de Microsoft sont parmi les premiers à s'inquiéter du modèle trop ouvert et non adapté - selon eux - à une exploitation commerciale. Le second, Bill Gates, part d'un constat :\n",
    "\n",
    "> The feedback we have gotten from the hundreds of people who say they are using BASIC has all been positive. Two surprising things are apparent, however, 1) Most of these \"users\" never bought BASIC (less thank 10% of all Altair owners have bought BASIC), and 2) The amount of royalties we have received from sales to hobbyists makes the time spent on Altair BASIC worth less than $2 an hour.\n",
    "\n",
    "En **1976**, Bill Gates s'est fendu d'une lettre ouverte restée célèbre : [an open letter to hobbyists](https://archive.nytimes.com/www.nytimes.com/library/cyber/surf/072397mind-letter.html) envoyée à tous les *hackerspaces* qu'il appelle **hobbyists**. Dans cette lettre, il décrit plusieurs éléments qui seront par la suite fondamentaux dans l'histoire du développement logiciel :\n",
    "\n",
    "1. Le développement du logiciel prend du temps, \n",
    "1. Le hardware coûte quelque chose, le logiciel devrait aussi être payant. \n",
    "1. Partager du logiciel avec du hradware sans le payer est du vol.\n",
    "\n",
    "Et il termine par :\n",
    "\n",
    "> Now I ask you--does a musician have the right to collect the royalty on the sale of his records or does a writer have the right to collect the royalty on the sale of his books? Are people who copy software any different than those who copy records and books?\n",
    "\n",
    "Parmi les destinataires de cette lettre, il y avait le club de hackers [Homebrew Computer Club](https://en.wikipedia.org/wiki/Homebrew_Computer_Club). Deux membres de ce club sont restés connus : **Steve Jobs** et **Steve Wosniak**, fondateurs de **Apple Computers**.\n",
    "\n",
    "Lorsqu'on observe la politique logicielle d'Apple aujourd'hui, peut-on dire que les deux fondateurs ont bien compris ce que disaient Paul Allen et Bill Gates ?"
   ]
  },
  {
   "cell_type": "markdown",
   "id": "f691b6ed-e47e-4908-9bbe-c90de2a3a575",
   "metadata": {
    "tags": []
   },
   "source": [
    "### Exemple d'une pile technologique : un serveur Web sous Linux\n",
    "\n",
    "![linux web app](images/Linux_app_stack_wikipedia.png \"app stack\")"
   ]
  },
  {
   "cell_type": "markdown",
   "id": "f33785ae-0886-4ff6-b221-46529c9638ad",
   "metadata": {},
   "source": [
    "## Sources\n",
    "\n",
    "1. **Levy**, Steven; *Hackers*, Anchor/Doubleday 1984, ISBN 0-385-19195-2.\n",
    "1. **The Jargon File**, 2003, ver 4.4.7 [online](http://www.catb.org/jargon/html/online-preface.html)"
   ]
  },
  {
   "cell_type": "code",
   "execution_count": null,
   "id": "67f33256-0654-44d7-9d0a-20ef9cd9b0aa",
   "metadata": {},
   "outputs": [],
   "source": []
  }
 ],
 "metadata": {
  "kernelspec": {
   "display_name": "Python 3 (ipykernel)",
   "language": "python",
   "name": "python3"
  },
  "language_info": {
   "codemirror_mode": {
    "name": "ipython",
    "version": 3
   },
   "file_extension": ".py",
   "mimetype": "text/x-python",
   "name": "python",
   "nbconvert_exporter": "python",
   "pygments_lexer": "ipython3",
   "version": "3.9.2"
  }
 },
 "nbformat": 4,
 "nbformat_minor": 5
}
