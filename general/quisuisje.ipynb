{
 "cells": [
  {
   "cell_type": "markdown",
   "id": "438f17f9-b225-4ac7-9e29-0fb96b32e91c",
   "metadata": {},
   "source": [
    "![vince](images/vincentkeller.jpg \"Vincent Keller\")"
   ]
  },
  {
   "cell_type": "markdown",
   "id": "ca212f1c-46e1-403c-ad95-0bdc50c09e96",
   "metadata": {},
   "source": [
    "# Qui suis-je ?\n",
    "\n",
    "Bonjour à toutes et à tous !  \n",
    "\n",
    "Je m'appelle **Vincent Keller**, et je suis votre enseignant en informatique au Gymnase de Beaulieu.  \n",
    "\n",
    "L'enseignement est pour moi bien plus qu'un métier : c'est l'occasion de **partager ma passion** pour **l'informatique** et d'accompagner chacun de mes élèves dans sa progression."
   ]
  },
  {
   "cell_type": "markdown",
   "id": "e190ceec-624d-4255-8032-96c2c28198c9",
   "metadata": {},
   "source": [
    "---\n",
    "\n",
    "## Mon parcours en quelques mots\n",
    "\n",
    "Avant de devenir enseignant au gymnase de Beaulieu, j'ai eu la chance de travailler dans le monde professionnel, en tant que **ingénieur applicatif** dans **le calcul scientifique** à l'EPFL. Particulièrement dans le domaine des simulations numériques.  \n",
    "\n",
    "Cette expérience me permet aujourd'hui de **relier les notions vues en classe au monde réel** et de montrer à quel point ce que nous apprenons peut être utile dans la vie quotidienne et dans le futur métier de chacun."
   ]
  },
  {
   "cell_type": "markdown",
   "id": "963efa98-e831-4c7a-91cb-f41209bdcddf",
   "metadata": {},
   "source": [
    "---\n",
    "\n",
    "## Ma vision de l’enseignement\n",
    "\n",
    "J’aime voir la classe comme un lieu d’**échanges**, de **créativité** et de **bienveillance**.  \n",
    "Chacun a son rythme et ses points forts : **mon objectif est d’aider chaque élève à progresser**, à se sentir confiant et capable d'apprendre, quel que soit son niveau de départ.  \n",
    "\n",
    "J’encourage :  \n",
    "- la **curiosité** : poser des questions, chercher à comprendre pourquoi ;  \n",
    "- la **coopération** : travailler ensemble et s'entraider ;  \n",
    "- la **persévérance** : ne pas avoir peur de se tromper, car c'est comme ça qu'on avance. **SURTOUT EN INFORMATIQUE**"
   ]
  },
  {
   "cell_type": "markdown",
   "id": "da10b4ea-2c3c-4983-9f2d-04b75606e509",
   "metadata": {},
   "source": [
    "---\n",
    "\n",
    "## Contact\n",
    "\n",
    "Pour toute question, n’hésitez pas à me contacter :  \n",
    "- **Email** : [Vincent.Keller@eduvaud.ch]  \n",
    "\n",
    "Au plaisir de passer une **année riche en découvertes et en apprentissages** ensemble !\n"
   ]
  },
  {
   "cell_type": "code",
   "execution_count": null,
   "id": "a746eafb-0495-4ac7-9957-863ca369ee75",
   "metadata": {},
   "outputs": [],
   "source": []
  }
 ],
 "metadata": {
  "kernelspec": {
   "display_name": "Python 3 (ipykernel)",
   "language": "python",
   "name": "python3"
  },
  "language_info": {
   "codemirror_mode": {
    "name": "ipython",
    "version": 3
   },
   "file_extension": ".py",
   "mimetype": "text/x-python",
   "name": "python",
   "nbconvert_exporter": "python",
   "pygments_lexer": "ipython3",
   "version": "3.9.2"
  }
 },
 "nbformat": 4,
 "nbformat_minor": 5
}
